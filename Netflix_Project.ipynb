{
  "cells": [
    {
      "cell_type": "code",
      "execution_count": 447,
      "metadata": {},
      "outputs": [],
      "source": [
        "# %pip install pandas_profiling"
      ]
    },
    {
      "cell_type": "code",
      "execution_count": 448,
      "metadata": {},
      "outputs": [],
      "source": [
        "# %pip install ydata-profiling"
      ]
    },
    {
      "cell_type": "code",
      "execution_count": 449,
      "metadata": {
        "colab": {
          "base_uri": "https://localhost:8080/",
          "height": 156
        },
        "id": "GkMoaw021coH",
        "outputId": "c01d77ec-9b36-4209-8710-7b9c2e957b09"
      },
      "outputs": [],
      "source": [
        "import pandas as pd\n",
        "import numpy as np\n",
        "import plotly.express as px\n",
        "import plotly.graph_objs as go\n",
        "import plotly.figure_factory as ff\n",
        "import pandas_profiling"
      ]
    },
    {
      "cell_type": "code",
      "execution_count": 450,
      "metadata": {
        "colab": {
          "base_uri": "https://localhost:8080/",
          "height": 687
        },
        "id": "1C1seBB53YG5",
        "outputId": "57d3afba-f88b-4141-daf4-d4185cda60ad"
      },
      "outputs": [
        {
          "data": {
            "text/html": [
              "<div>\n",
              "<style scoped>\n",
              "    .dataframe tbody tr th:only-of-type {\n",
              "        vertical-align: middle;\n",
              "    }\n",
              "\n",
              "    .dataframe tbody tr th {\n",
              "        vertical-align: top;\n",
              "    }\n",
              "\n",
              "    .dataframe thead th {\n",
              "        text-align: right;\n",
              "    }\n",
              "</style>\n",
              "<table border=\"1\" class=\"dataframe\">\n",
              "  <thead>\n",
              "    <tr style=\"text-align: right;\">\n",
              "      <th></th>\n",
              "      <th>show_id</th>\n",
              "      <th>type</th>\n",
              "      <th>title</th>\n",
              "      <th>director</th>\n",
              "      <th>cast</th>\n",
              "      <th>country</th>\n",
              "      <th>date_added</th>\n",
              "      <th>release_year</th>\n",
              "      <th>rating</th>\n",
              "      <th>duration</th>\n",
              "      <th>listed_in</th>\n",
              "      <th>description</th>\n",
              "    </tr>\n",
              "  </thead>\n",
              "  <tbody>\n",
              "    <tr>\n",
              "      <th>0</th>\n",
              "      <td>s1</td>\n",
              "      <td>Movie</td>\n",
              "      <td>Dick Johnson Is Dead</td>\n",
              "      <td>Kirsten Johnson</td>\n",
              "      <td>NaN</td>\n",
              "      <td>United States</td>\n",
              "      <td>September 25, 2021</td>\n",
              "      <td>2020</td>\n",
              "      <td>PG-13</td>\n",
              "      <td>90 min</td>\n",
              "      <td>Documentaries</td>\n",
              "      <td>As her father nears the end of his life, filmm...</td>\n",
              "    </tr>\n",
              "    <tr>\n",
              "      <th>1</th>\n",
              "      <td>s2</td>\n",
              "      <td>TV Show</td>\n",
              "      <td>Blood &amp; Water</td>\n",
              "      <td>NaN</td>\n",
              "      <td>Ama Qamata, Khosi Ngema, Gail Mabalane, Thaban...</td>\n",
              "      <td>South Africa</td>\n",
              "      <td>September 24, 2021</td>\n",
              "      <td>2021</td>\n",
              "      <td>TV-MA</td>\n",
              "      <td>2 Seasons</td>\n",
              "      <td>International TV Shows, TV Dramas, TV Mysteries</td>\n",
              "      <td>After crossing paths at a party, a Cape Town t...</td>\n",
              "    </tr>\n",
              "    <tr>\n",
              "      <th>2</th>\n",
              "      <td>s3</td>\n",
              "      <td>TV Show</td>\n",
              "      <td>Ganglands</td>\n",
              "      <td>Julien Leclercq</td>\n",
              "      <td>Sami Bouajila, Tracy Gotoas, Samuel Jouy, Nabi...</td>\n",
              "      <td>NaN</td>\n",
              "      <td>September 24, 2021</td>\n",
              "      <td>2021</td>\n",
              "      <td>TV-MA</td>\n",
              "      <td>1 Season</td>\n",
              "      <td>Crime TV Shows, International TV Shows, TV Act...</td>\n",
              "      <td>To protect his family from a powerful drug lor...</td>\n",
              "    </tr>\n",
              "    <tr>\n",
              "      <th>3</th>\n",
              "      <td>s4</td>\n",
              "      <td>TV Show</td>\n",
              "      <td>Jailbirds New Orleans</td>\n",
              "      <td>NaN</td>\n",
              "      <td>NaN</td>\n",
              "      <td>NaN</td>\n",
              "      <td>September 24, 2021</td>\n",
              "      <td>2021</td>\n",
              "      <td>TV-MA</td>\n",
              "      <td>1 Season</td>\n",
              "      <td>Docuseries, Reality TV</td>\n",
              "      <td>Feuds, flirtations and toilet talk go down amo...</td>\n",
              "    </tr>\n",
              "    <tr>\n",
              "      <th>4</th>\n",
              "      <td>s5</td>\n",
              "      <td>TV Show</td>\n",
              "      <td>Kota Factory</td>\n",
              "      <td>NaN</td>\n",
              "      <td>Mayur More, Jitendra Kumar, Ranjan Raj, Alam K...</td>\n",
              "      <td>India</td>\n",
              "      <td>September 24, 2021</td>\n",
              "      <td>2021</td>\n",
              "      <td>TV-MA</td>\n",
              "      <td>2 Seasons</td>\n",
              "      <td>International TV Shows, Romantic TV Shows, TV ...</td>\n",
              "      <td>In a city of coaching centers known to train I...</td>\n",
              "    </tr>\n",
              "  </tbody>\n",
              "</table>\n",
              "</div>"
            ],
            "text/plain": [
              "  show_id     type                  title         director  \\\n",
              "0      s1    Movie   Dick Johnson Is Dead  Kirsten Johnson   \n",
              "1      s2  TV Show          Blood & Water              NaN   \n",
              "2      s3  TV Show              Ganglands  Julien Leclercq   \n",
              "3      s4  TV Show  Jailbirds New Orleans              NaN   \n",
              "4      s5  TV Show           Kota Factory              NaN   \n",
              "\n",
              "                                                cast        country  \\\n",
              "0                                                NaN  United States   \n",
              "1  Ama Qamata, Khosi Ngema, Gail Mabalane, Thaban...   South Africa   \n",
              "2  Sami Bouajila, Tracy Gotoas, Samuel Jouy, Nabi...            NaN   \n",
              "3                                                NaN            NaN   \n",
              "4  Mayur More, Jitendra Kumar, Ranjan Raj, Alam K...          India   \n",
              "\n",
              "           date_added  release_year rating   duration  \\\n",
              "0  September 25, 2021          2020  PG-13     90 min   \n",
              "1  September 24, 2021          2021  TV-MA  2 Seasons   \n",
              "2  September 24, 2021          2021  TV-MA   1 Season   \n",
              "3  September 24, 2021          2021  TV-MA   1 Season   \n",
              "4  September 24, 2021          2021  TV-MA  2 Seasons   \n",
              "\n",
              "                                           listed_in  \\\n",
              "0                                      Documentaries   \n",
              "1    International TV Shows, TV Dramas, TV Mysteries   \n",
              "2  Crime TV Shows, International TV Shows, TV Act...   \n",
              "3                             Docuseries, Reality TV   \n",
              "4  International TV Shows, Romantic TV Shows, TV ...   \n",
              "\n",
              "                                         description  \n",
              "0  As her father nears the end of his life, filmm...  \n",
              "1  After crossing paths at a party, a Cape Town t...  \n",
              "2  To protect his family from a powerful drug lor...  \n",
              "3  Feuds, flirtations and toilet talk go down amo...  \n",
              "4  In a city of coaching centers known to train I...  "
            ]
          },
          "execution_count": 450,
          "metadata": {},
          "output_type": "execute_result"
        }
      ],
      "source": [
        "import pandas as pd\n",
        "import ydata_profiling\n",
        "\n",
        "df = pd.read_csv('netflix_titles.csv')\n",
        "df.head(5)"
      ]
    },
    {
      "cell_type": "code",
      "execution_count": 451,
      "metadata": {},
      "outputs": [
        {
          "name": "stdout",
          "output_type": "stream",
          "text": [
            "As her father nears the end of his life, filmmaker Kirsten Johnson stages his death in inventive and comical ways to help them both face the inevitable.\n"
          ]
        }
      ],
      "source": [
        "print(df.iloc[0]['description'])"
      ]
    },
    {
      "cell_type": "code",
      "execution_count": 452,
      "metadata": {},
      "outputs": [],
      "source": [
        "# profile = ydata_profiling.ProfileReport(df)\n",
        "# profile"
      ]
    },
    {
      "cell_type": "code",
      "execution_count": 453,
      "metadata": {},
      "outputs": [],
      "source": [
        "# profile.to_file(\"Netflix_Profile.html\")"
      ]
    },
    {
      "cell_type": "code",
      "execution_count": 454,
      "metadata": {},
      "outputs": [
        {
          "data": {
            "text/plain": [
              "4307"
            ]
          },
          "execution_count": 454,
          "metadata": {},
          "output_type": "execute_result"
        }
      ],
      "source": [
        "df.isna().sum().sum()"
      ]
    },
    {
      "cell_type": "code",
      "execution_count": 455,
      "metadata": {
        "colab": {
          "base_uri": "https://localhost:8080/"
        },
        "id": "1xEp65au5MBc",
        "outputId": "5f092b8e-2d7c-4d7f-994f-cd29eba784ec"
      },
      "outputs": [
        {
          "name": "stdout",
          "output_type": "stream",
          "text": [
            "<class 'pandas.core.frame.DataFrame'>\n",
            "RangeIndex: 8807 entries, 0 to 8806\n",
            "Data columns (total 12 columns):\n",
            " #   Column        Non-Null Count  Dtype \n",
            "---  ------        --------------  ----- \n",
            " 0   show_id       8807 non-null   object\n",
            " 1   type          8807 non-null   object\n",
            " 2   title         8807 non-null   object\n",
            " 3   director      6173 non-null   object\n",
            " 4   cast          7982 non-null   object\n",
            " 5   country       7976 non-null   object\n",
            " 6   date_added    8797 non-null   object\n",
            " 7   release_year  8807 non-null   int64 \n",
            " 8   rating        8803 non-null   object\n",
            " 9   duration      8804 non-null   object\n",
            " 10  listed_in     8807 non-null   object\n",
            " 11  description   8807 non-null   object\n",
            "dtypes: int64(1), object(11)\n",
            "memory usage: 825.8+ KB\n"
          ]
        }
      ],
      "source": [
        "# general information about the data\n",
        "df.info()"
      ]
    },
    {
      "cell_type": "code",
      "execution_count": 456,
      "metadata": {},
      "outputs": [],
      "source": [
        "df.drop(['show_id', 'description'], axis=1, inplace=True)"
      ]
    },
    {
      "cell_type": "code",
      "execution_count": 457,
      "metadata": {},
      "outputs": [
        {
          "data": {
            "text/plain": [
              "0"
            ]
          },
          "execution_count": 457,
          "metadata": {},
          "output_type": "execute_result"
        }
      ],
      "source": [
        "df.duplicated().sum()"
      ]
    },
    {
      "cell_type": "code",
      "execution_count": 446,
      "metadata": {},
      "outputs": [
        {
          "data": {
            "text/plain": [
              "0"
            ]
          },
          "execution_count": 446,
          "metadata": {},
          "output_type": "execute_result"
        }
      ],
      "source": [
        "df.duplicated(subset=['title']).sum()"
      ]
    },
    {
      "cell_type": "code",
      "execution_count": 458,
      "metadata": {
        "colab": {
          "base_uri": "https://localhost:8080/"
        },
        "id": "FEqYR7LQ6gMd",
        "outputId": "f845b966-b79c-41a7-e91e-04976568b235"
      },
      "outputs": [
        {
          "data": {
            "text/plain": [
              "type             0.00\n",
              "title            0.00\n",
              "director        29.91\n",
              "cast             9.37\n",
              "country          9.44\n",
              "date_added       0.11\n",
              "release_year     0.00\n",
              "rating           0.05\n",
              "duration         0.03\n",
              "listed_in        0.00\n",
              "dtype: float64"
            ]
          },
          "execution_count": 458,
          "metadata": {},
          "output_type": "execute_result"
        }
      ],
      "source": [
        "# Null values in each column\n",
        "round(df.isnull().mean() *100, 2)"
      ]
    },
    {
      "cell_type": "code",
      "execution_count": 459,
      "metadata": {
        "colab": {
          "base_uri": "https://localhost:8080/",
          "height": 426
        },
        "id": "Zo0txqTmK-aH",
        "outputId": "63095403-fd4b-4c1e-e0c3-6482c4837161"
      },
      "outputs": [],
      "source": [
        "# the percentage of null values for each column\n",
        "def missing_values(df):\n",
        "    df1=pd.DataFrame()\n",
        "    df1[\"missing_values, %\"]=round(df.isnull().mean()*100, 2)\n",
        "    df1[\"missing_values, sum\"]=df.isnull().sum()\n",
        "    return df1[df1[\"missing_values, sum\"] != 0].sort_values(by=\"missing_values, %\", ascending=False)"
      ]
    },
    {
      "cell_type": "code",
      "execution_count": 460,
      "metadata": {},
      "outputs": [
        {
          "data": {
            "text/html": [
              "<div>\n",
              "<style scoped>\n",
              "    .dataframe tbody tr th:only-of-type {\n",
              "        vertical-align: middle;\n",
              "    }\n",
              "\n",
              "    .dataframe tbody tr th {\n",
              "        vertical-align: top;\n",
              "    }\n",
              "\n",
              "    .dataframe thead th {\n",
              "        text-align: right;\n",
              "    }\n",
              "</style>\n",
              "<table border=\"1\" class=\"dataframe\">\n",
              "  <thead>\n",
              "    <tr style=\"text-align: right;\">\n",
              "      <th></th>\n",
              "      <th>missing_values, %</th>\n",
              "      <th>missing_values, sum</th>\n",
              "    </tr>\n",
              "  </thead>\n",
              "  <tbody>\n",
              "    <tr>\n",
              "      <th>director</th>\n",
              "      <td>29.91</td>\n",
              "      <td>2634</td>\n",
              "    </tr>\n",
              "    <tr>\n",
              "      <th>country</th>\n",
              "      <td>9.44</td>\n",
              "      <td>831</td>\n",
              "    </tr>\n",
              "    <tr>\n",
              "      <th>cast</th>\n",
              "      <td>9.37</td>\n",
              "      <td>825</td>\n",
              "    </tr>\n",
              "    <tr>\n",
              "      <th>date_added</th>\n",
              "      <td>0.11</td>\n",
              "      <td>10</td>\n",
              "    </tr>\n",
              "    <tr>\n",
              "      <th>rating</th>\n",
              "      <td>0.05</td>\n",
              "      <td>4</td>\n",
              "    </tr>\n",
              "    <tr>\n",
              "      <th>duration</th>\n",
              "      <td>0.03</td>\n",
              "      <td>3</td>\n",
              "    </tr>\n",
              "  </tbody>\n",
              "</table>\n",
              "</div>"
            ],
            "text/plain": [
              "            missing_values, %  missing_values, sum\n",
              "director                29.91                 2634\n",
              "country                  9.44                  831\n",
              "cast                     9.37                  825\n",
              "date_added               0.11                   10\n",
              "rating                   0.05                    4\n",
              "duration                 0.03                    3"
            ]
          },
          "execution_count": 460,
          "metadata": {},
          "output_type": "execute_result"
        }
      ],
      "source": [
        "missing_values(df)"
      ]
    },
    {
      "cell_type": "code",
      "execution_count": 461,
      "metadata": {},
      "outputs": [],
      "source": [
        "df.dropna(subset=['date_added', 'rating', 'duration'], inplace=True)"
      ]
    },
    {
      "cell_type": "code",
      "execution_count": 462,
      "metadata": {},
      "outputs": [
        {
          "data": {
            "text/html": [
              "<div>\n",
              "<style scoped>\n",
              "    .dataframe tbody tr th:only-of-type {\n",
              "        vertical-align: middle;\n",
              "    }\n",
              "\n",
              "    .dataframe tbody tr th {\n",
              "        vertical-align: top;\n",
              "    }\n",
              "\n",
              "    .dataframe thead th {\n",
              "        text-align: right;\n",
              "    }\n",
              "</style>\n",
              "<table border=\"1\" class=\"dataframe\">\n",
              "  <thead>\n",
              "    <tr style=\"text-align: right;\">\n",
              "      <th></th>\n",
              "      <th>missing_values, %</th>\n",
              "      <th>missing_values, sum</th>\n",
              "    </tr>\n",
              "  </thead>\n",
              "  <tbody>\n",
              "    <tr>\n",
              "      <th>director</th>\n",
              "      <td>29.82</td>\n",
              "      <td>2621</td>\n",
              "    </tr>\n",
              "    <tr>\n",
              "      <th>country</th>\n",
              "      <td>9.43</td>\n",
              "      <td>829</td>\n",
              "    </tr>\n",
              "    <tr>\n",
              "      <th>cast</th>\n",
              "      <td>9.39</td>\n",
              "      <td>825</td>\n",
              "    </tr>\n",
              "  </tbody>\n",
              "</table>\n",
              "</div>"
            ],
            "text/plain": [
              "          missing_values, %  missing_values, sum\n",
              "director              29.82                 2621\n",
              "country                9.43                  829\n",
              "cast                   9.39                  825"
            ]
          },
          "execution_count": 462,
          "metadata": {},
          "output_type": "execute_result"
        }
      ],
      "source": [
        "missing_values(df)"
      ]
    },
    {
      "cell_type": "code",
      "execution_count": 463,
      "metadata": {},
      "outputs": [
        {
          "data": {
            "text/html": [
              "<div>\n",
              "<style scoped>\n",
              "    .dataframe tbody tr th:only-of-type {\n",
              "        vertical-align: middle;\n",
              "    }\n",
              "\n",
              "    .dataframe tbody tr th {\n",
              "        vertical-align: top;\n",
              "    }\n",
              "\n",
              "    .dataframe thead th {\n",
              "        text-align: right;\n",
              "    }\n",
              "</style>\n",
              "<table border=\"1\" class=\"dataframe\">\n",
              "  <thead>\n",
              "    <tr style=\"text-align: right;\">\n",
              "      <th></th>\n",
              "      <th>type</th>\n",
              "      <th>title</th>\n",
              "      <th>director</th>\n",
              "      <th>cast</th>\n",
              "      <th>country</th>\n",
              "      <th>date_added</th>\n",
              "      <th>rating</th>\n",
              "      <th>duration</th>\n",
              "      <th>listed_in</th>\n",
              "    </tr>\n",
              "  </thead>\n",
              "  <tbody>\n",
              "    <tr>\n",
              "      <th>count</th>\n",
              "      <td>8790</td>\n",
              "      <td>8790</td>\n",
              "      <td>6169</td>\n",
              "      <td>7965</td>\n",
              "      <td>7961</td>\n",
              "      <td>8790</td>\n",
              "      <td>8790</td>\n",
              "      <td>8790</td>\n",
              "      <td>8790</td>\n",
              "    </tr>\n",
              "    <tr>\n",
              "      <th>unique</th>\n",
              "      <td>2</td>\n",
              "      <td>8790</td>\n",
              "      <td>4526</td>\n",
              "      <td>7678</td>\n",
              "      <td>748</td>\n",
              "      <td>1765</td>\n",
              "      <td>14</td>\n",
              "      <td>220</td>\n",
              "      <td>513</td>\n",
              "    </tr>\n",
              "    <tr>\n",
              "      <th>top</th>\n",
              "      <td>Movie</td>\n",
              "      <td>Dick Johnson Is Dead</td>\n",
              "      <td>Rajiv Chilaka</td>\n",
              "      <td>David Attenborough</td>\n",
              "      <td>United States</td>\n",
              "      <td>January 1, 2020</td>\n",
              "      <td>TV-MA</td>\n",
              "      <td>1 Season</td>\n",
              "      <td>Dramas, International Movies</td>\n",
              "    </tr>\n",
              "    <tr>\n",
              "      <th>freq</th>\n",
              "      <td>6126</td>\n",
              "      <td>1</td>\n",
              "      <td>19</td>\n",
              "      <td>19</td>\n",
              "      <td>2809</td>\n",
              "      <td>109</td>\n",
              "      <td>3205</td>\n",
              "      <td>1791</td>\n",
              "      <td>362</td>\n",
              "    </tr>\n",
              "  </tbody>\n",
              "</table>\n",
              "</div>"
            ],
            "text/plain": [
              "         type                 title       director                cast  \\\n",
              "count    8790                  8790           6169                7965   \n",
              "unique      2                  8790           4526                7678   \n",
              "top     Movie  Dick Johnson Is Dead  Rajiv Chilaka  David Attenborough   \n",
              "freq     6126                     1             19                  19   \n",
              "\n",
              "              country       date_added rating  duration  \\\n",
              "count            7961             8790   8790      8790   \n",
              "unique            748             1765     14       220   \n",
              "top     United States  January 1, 2020  TV-MA  1 Season   \n",
              "freq             2809              109   3205      1791   \n",
              "\n",
              "                           listed_in  \n",
              "count                           8790  \n",
              "unique                           513  \n",
              "top     Dramas, International Movies  \n",
              "freq                             362  "
            ]
          },
          "execution_count": 463,
          "metadata": {},
          "output_type": "execute_result"
        }
      ],
      "source": [
        "df.describe(include='O')"
      ]
    },
    {
      "cell_type": "code",
      "execution_count": 464,
      "metadata": {},
      "outputs": [
        {
          "data": {
            "text/plain": [
              "array(['Kirsten Johnson', nan, 'Julien Leclercq', ..., 'Majid Al Ansari',\n",
              "       'Peter Hewitt', 'Mozez Singh'], dtype=object)"
            ]
          },
          "execution_count": 464,
          "metadata": {},
          "output_type": "execute_result"
        }
      ],
      "source": [
        "df.director.unique()"
      ]
    },
    {
      "cell_type": "code",
      "execution_count": 465,
      "metadata": {},
      "outputs": [
        {
          "data": {
            "text/html": [
              "<div>\n",
              "<style scoped>\n",
              "    .dataframe tbody tr th:only-of-type {\n",
              "        vertical-align: middle;\n",
              "    }\n",
              "\n",
              "    .dataframe tbody tr th {\n",
              "        vertical-align: top;\n",
              "    }\n",
              "\n",
              "    .dataframe thead th {\n",
              "        text-align: right;\n",
              "    }\n",
              "</style>\n",
              "<table border=\"1\" class=\"dataframe\">\n",
              "  <thead>\n",
              "    <tr style=\"text-align: right;\">\n",
              "      <th></th>\n",
              "      <th>type</th>\n",
              "      <th>title</th>\n",
              "      <th>director</th>\n",
              "      <th>cast</th>\n",
              "      <th>country</th>\n",
              "      <th>date_added</th>\n",
              "      <th>release_year</th>\n",
              "      <th>rating</th>\n",
              "      <th>duration</th>\n",
              "      <th>listed_in</th>\n",
              "    </tr>\n",
              "  </thead>\n",
              "  <tbody>\n",
              "    <tr>\n",
              "      <th>1</th>\n",
              "      <td>TV Show</td>\n",
              "      <td>Blood &amp; Water</td>\n",
              "      <td>NaN</td>\n",
              "      <td>Ama Qamata, Khosi Ngema, Gail Mabalane, Thaban...</td>\n",
              "      <td>South Africa</td>\n",
              "      <td>September 24, 2021</td>\n",
              "      <td>2021</td>\n",
              "      <td>TV-MA</td>\n",
              "      <td>2 Seasons</td>\n",
              "      <td>International TV Shows, TV Dramas, TV Mysteries</td>\n",
              "    </tr>\n",
              "    <tr>\n",
              "      <th>3</th>\n",
              "      <td>TV Show</td>\n",
              "      <td>Jailbirds New Orleans</td>\n",
              "      <td>NaN</td>\n",
              "      <td>NaN</td>\n",
              "      <td>NaN</td>\n",
              "      <td>September 24, 2021</td>\n",
              "      <td>2021</td>\n",
              "      <td>TV-MA</td>\n",
              "      <td>1 Season</td>\n",
              "      <td>Docuseries, Reality TV</td>\n",
              "    </tr>\n",
              "    <tr>\n",
              "      <th>4</th>\n",
              "      <td>TV Show</td>\n",
              "      <td>Kota Factory</td>\n",
              "      <td>NaN</td>\n",
              "      <td>Mayur More, Jitendra Kumar, Ranjan Raj, Alam K...</td>\n",
              "      <td>India</td>\n",
              "      <td>September 24, 2021</td>\n",
              "      <td>2021</td>\n",
              "      <td>TV-MA</td>\n",
              "      <td>2 Seasons</td>\n",
              "      <td>International TV Shows, Romantic TV Shows, TV ...</td>\n",
              "    </tr>\n",
              "    <tr>\n",
              "      <th>10</th>\n",
              "      <td>TV Show</td>\n",
              "      <td>Vendetta: Truth, Lies and The Mafia</td>\n",
              "      <td>NaN</td>\n",
              "      <td>NaN</td>\n",
              "      <td>NaN</td>\n",
              "      <td>September 24, 2021</td>\n",
              "      <td>2021</td>\n",
              "      <td>TV-MA</td>\n",
              "      <td>1 Season</td>\n",
              "      <td>Crime TV Shows, Docuseries, International TV S...</td>\n",
              "    </tr>\n",
              "    <tr>\n",
              "      <th>14</th>\n",
              "      <td>TV Show</td>\n",
              "      <td>Crime Stories: India Detectives</td>\n",
              "      <td>NaN</td>\n",
              "      <td>NaN</td>\n",
              "      <td>NaN</td>\n",
              "      <td>September 22, 2021</td>\n",
              "      <td>2021</td>\n",
              "      <td>TV-MA</td>\n",
              "      <td>1 Season</td>\n",
              "      <td>British TV Shows, Crime TV Shows, Docuseries</td>\n",
              "    </tr>\n",
              "    <tr>\n",
              "      <th>...</th>\n",
              "      <td>...</td>\n",
              "      <td>...</td>\n",
              "      <td>...</td>\n",
              "      <td>...</td>\n",
              "      <td>...</td>\n",
              "      <td>...</td>\n",
              "      <td>...</td>\n",
              "      <td>...</td>\n",
              "      <td>...</td>\n",
              "      <td>...</td>\n",
              "    </tr>\n",
              "    <tr>\n",
              "      <th>8795</th>\n",
              "      <td>TV Show</td>\n",
              "      <td>Yu-Gi-Oh! Arc-V</td>\n",
              "      <td>NaN</td>\n",
              "      <td>Mike Liscio, Emily Bauer, Billy Bob Thompson, ...</td>\n",
              "      <td>Japan, Canada</td>\n",
              "      <td>May 1, 2018</td>\n",
              "      <td>2015</td>\n",
              "      <td>TV-Y7</td>\n",
              "      <td>2 Seasons</td>\n",
              "      <td>Anime Series, Kids' TV</td>\n",
              "    </tr>\n",
              "    <tr>\n",
              "      <th>8796</th>\n",
              "      <td>TV Show</td>\n",
              "      <td>Yunus Emre</td>\n",
              "      <td>NaN</td>\n",
              "      <td>Gökhan Atalay, Payidar Tüfekçioglu, Baran Akbu...</td>\n",
              "      <td>Turkey</td>\n",
              "      <td>January 17, 2017</td>\n",
              "      <td>2016</td>\n",
              "      <td>TV-PG</td>\n",
              "      <td>2 Seasons</td>\n",
              "      <td>International TV Shows, TV Dramas</td>\n",
              "    </tr>\n",
              "    <tr>\n",
              "      <th>8797</th>\n",
              "      <td>TV Show</td>\n",
              "      <td>Zak Storm</td>\n",
              "      <td>NaN</td>\n",
              "      <td>Michael Johnston, Jessica Gee-George, Christin...</td>\n",
              "      <td>United States, France, South Korea, Indonesia</td>\n",
              "      <td>September 13, 2018</td>\n",
              "      <td>2016</td>\n",
              "      <td>TV-Y7</td>\n",
              "      <td>3 Seasons</td>\n",
              "      <td>Kids' TV</td>\n",
              "    </tr>\n",
              "    <tr>\n",
              "      <th>8800</th>\n",
              "      <td>TV Show</td>\n",
              "      <td>Zindagi Gulzar Hai</td>\n",
              "      <td>NaN</td>\n",
              "      <td>Sanam Saeed, Fawad Khan, Ayesha Omer, Mehreen ...</td>\n",
              "      <td>Pakistan</td>\n",
              "      <td>December 15, 2016</td>\n",
              "      <td>2012</td>\n",
              "      <td>TV-PG</td>\n",
              "      <td>1 Season</td>\n",
              "      <td>International TV Shows, Romantic TV Shows, TV ...</td>\n",
              "    </tr>\n",
              "    <tr>\n",
              "      <th>8803</th>\n",
              "      <td>TV Show</td>\n",
              "      <td>Zombie Dumb</td>\n",
              "      <td>NaN</td>\n",
              "      <td>NaN</td>\n",
              "      <td>NaN</td>\n",
              "      <td>July 1, 2019</td>\n",
              "      <td>2018</td>\n",
              "      <td>TV-Y7</td>\n",
              "      <td>2 Seasons</td>\n",
              "      <td>Kids' TV, Korean TV Shows, TV Comedies</td>\n",
              "    </tr>\n",
              "  </tbody>\n",
              "</table>\n",
              "<p>2621 rows × 10 columns</p>\n",
              "</div>"
            ],
            "text/plain": [
              "         type                                title director  \\\n",
              "1     TV Show                        Blood & Water      NaN   \n",
              "3     TV Show                Jailbirds New Orleans      NaN   \n",
              "4     TV Show                         Kota Factory      NaN   \n",
              "10    TV Show  Vendetta: Truth, Lies and The Mafia      NaN   \n",
              "14    TV Show      Crime Stories: India Detectives      NaN   \n",
              "...       ...                                  ...      ...   \n",
              "8795  TV Show                      Yu-Gi-Oh! Arc-V      NaN   \n",
              "8796  TV Show                           Yunus Emre      NaN   \n",
              "8797  TV Show                            Zak Storm      NaN   \n",
              "8800  TV Show                   Zindagi Gulzar Hai      NaN   \n",
              "8803  TV Show                          Zombie Dumb      NaN   \n",
              "\n",
              "                                                   cast  \\\n",
              "1     Ama Qamata, Khosi Ngema, Gail Mabalane, Thaban...   \n",
              "3                                                   NaN   \n",
              "4     Mayur More, Jitendra Kumar, Ranjan Raj, Alam K...   \n",
              "10                                                  NaN   \n",
              "14                                                  NaN   \n",
              "...                                                 ...   \n",
              "8795  Mike Liscio, Emily Bauer, Billy Bob Thompson, ...   \n",
              "8796  Gökhan Atalay, Payidar Tüfekçioglu, Baran Akbu...   \n",
              "8797  Michael Johnston, Jessica Gee-George, Christin...   \n",
              "8800  Sanam Saeed, Fawad Khan, Ayesha Omer, Mehreen ...   \n",
              "8803                                                NaN   \n",
              "\n",
              "                                            country          date_added  \\\n",
              "1                                      South Africa  September 24, 2021   \n",
              "3                                               NaN  September 24, 2021   \n",
              "4                                             India  September 24, 2021   \n",
              "10                                              NaN  September 24, 2021   \n",
              "14                                              NaN  September 22, 2021   \n",
              "...                                             ...                 ...   \n",
              "8795                                  Japan, Canada         May 1, 2018   \n",
              "8796                                         Turkey    January 17, 2017   \n",
              "8797  United States, France, South Korea, Indonesia  September 13, 2018   \n",
              "8800                                       Pakistan   December 15, 2016   \n",
              "8803                                            NaN        July 1, 2019   \n",
              "\n",
              "      release_year rating   duration  \\\n",
              "1             2021  TV-MA  2 Seasons   \n",
              "3             2021  TV-MA   1 Season   \n",
              "4             2021  TV-MA  2 Seasons   \n",
              "10            2021  TV-MA   1 Season   \n",
              "14            2021  TV-MA   1 Season   \n",
              "...            ...    ...        ...   \n",
              "8795          2015  TV-Y7  2 Seasons   \n",
              "8796          2016  TV-PG  2 Seasons   \n",
              "8797          2016  TV-Y7  3 Seasons   \n",
              "8800          2012  TV-PG   1 Season   \n",
              "8803          2018  TV-Y7  2 Seasons   \n",
              "\n",
              "                                              listed_in  \n",
              "1       International TV Shows, TV Dramas, TV Mysteries  \n",
              "3                                Docuseries, Reality TV  \n",
              "4     International TV Shows, Romantic TV Shows, TV ...  \n",
              "10    Crime TV Shows, Docuseries, International TV S...  \n",
              "14         British TV Shows, Crime TV Shows, Docuseries  \n",
              "...                                                 ...  \n",
              "8795                             Anime Series, Kids' TV  \n",
              "8796                  International TV Shows, TV Dramas  \n",
              "8797                                           Kids' TV  \n",
              "8800  International TV Shows, Romantic TV Shows, TV ...  \n",
              "8803             Kids' TV, Korean TV Shows, TV Comedies  \n",
              "\n",
              "[2621 rows x 10 columns]"
            ]
          },
          "execution_count": 465,
          "metadata": {},
          "output_type": "execute_result"
        }
      ],
      "source": [
        "df[df.director.isnull()]"
      ]
    },
    {
      "cell_type": "code",
      "execution_count": 466,
      "metadata": {},
      "outputs": [],
      "source": [
        "df[\"director\"]=df[\"director\"].fillna(\"Unknown\")\n",
        "df[\"cast\"]=df[\"cast\"].fillna(\"Unknown\")\n",
        "df[\"country\"]=df[\"country\"].fillna(\"Unknown\")"
      ]
    },
    {
      "cell_type": "code",
      "execution_count": 467,
      "metadata": {
        "id": "jJ5dDuZUEm8F"
      },
      "outputs": [],
      "source": [
        "# convert date_added to pandas datetime type \n",
        "df['date_added'] = pd.to_datetime(df['date_added'])"
      ]
    },
    {
      "cell_type": "code",
      "execution_count": 468,
      "metadata": {},
      "outputs": [
        {
          "data": {
            "text/html": [
              "<div>\n",
              "<style scoped>\n",
              "    .dataframe tbody tr th:only-of-type {\n",
              "        vertical-align: middle;\n",
              "    }\n",
              "\n",
              "    .dataframe tbody tr th {\n",
              "        vertical-align: top;\n",
              "    }\n",
              "\n",
              "    .dataframe thead th {\n",
              "        text-align: right;\n",
              "    }\n",
              "</style>\n",
              "<table border=\"1\" class=\"dataframe\">\n",
              "  <thead>\n",
              "    <tr style=\"text-align: right;\">\n",
              "      <th></th>\n",
              "      <th>missing_values, %</th>\n",
              "      <th>missing_values, sum</th>\n",
              "    </tr>\n",
              "  </thead>\n",
              "  <tbody>\n",
              "  </tbody>\n",
              "</table>\n",
              "</div>"
            ],
            "text/plain": [
              "Empty DataFrame\n",
              "Columns: [missing_values, %, missing_values, sum]\n",
              "Index: []"
            ]
          },
          "execution_count": 468,
          "metadata": {},
          "output_type": "execute_result"
        }
      ],
      "source": [
        "missing_values(df)"
      ]
    },
    {
      "cell_type": "code",
      "execution_count": 469,
      "metadata": {},
      "outputs": [],
      "source": [
        "df['year_added'] = df['date_added'].dt.year\n",
        "df['month_added'] = df['date_added'].dt.month\n",
        "df['month_name'] = df['date_added'].dt.month_name()"
      ]
    },
    {
      "cell_type": "code",
      "execution_count": 381,
      "metadata": {
        "colab": {
          "base_uri": "https://localhost:8080/"
        },
        "id": "MjFEtcT18u2A",
        "outputId": "7876f6be-9384-4275-b55e-128c86834551"
      },
      "outputs": [
        {
          "data": {
            "text/plain": [
              "type            0\n",
              "title           0\n",
              "director        0\n",
              "cast            0\n",
              "country         0\n",
              "date_added      0\n",
              "release_year    0\n",
              "rating          0\n",
              "duration        0\n",
              "listed_in       0\n",
              "year_added      0\n",
              "month_added     0\n",
              "month_name      0\n",
              "dtype: int64"
            ]
          },
          "execution_count": 381,
          "metadata": {},
          "output_type": "execute_result"
        }
      ],
      "source": [
        "# check if your data still has null values\n",
        "df.isnull().sum()"
      ]
    },
    {
      "cell_type": "code",
      "execution_count": 382,
      "metadata": {},
      "outputs": [
        {
          "data": {
            "text/plain": [
              "Movie      6126\n",
              "TV Show    2664\n",
              "Name: type, dtype: int64"
            ]
          },
          "execution_count": 382,
          "metadata": {},
          "output_type": "execute_result"
        }
      ],
      "source": [
        "df.type.value_counts()"
      ]
    },
    {
      "cell_type": "code",
      "execution_count": 383,
      "metadata": {},
      "outputs": [],
      "source": [
        "df_movies = df[df['type'] == 'Movie'].copy()\n",
        "df_shows = df[df['type'] == 'TV Show'].copy()\n"
      ]
    },
    {
      "cell_type": "code",
      "execution_count": 384,
      "metadata": {},
      "outputs": [
        {
          "data": {
            "text/html": [
              "<div>\n",
              "<style scoped>\n",
              "    .dataframe tbody tr th:only-of-type {\n",
              "        vertical-align: middle;\n",
              "    }\n",
              "\n",
              "    .dataframe tbody tr th {\n",
              "        vertical-align: top;\n",
              "    }\n",
              "\n",
              "    .dataframe thead th {\n",
              "        text-align: right;\n",
              "    }\n",
              "</style>\n",
              "<table border=\"1\" class=\"dataframe\">\n",
              "  <thead>\n",
              "    <tr style=\"text-align: right;\">\n",
              "      <th></th>\n",
              "      <th>type</th>\n",
              "      <th>title</th>\n",
              "      <th>director</th>\n",
              "      <th>cast</th>\n",
              "      <th>country</th>\n",
              "      <th>date_added</th>\n",
              "      <th>release_year</th>\n",
              "      <th>rating</th>\n",
              "      <th>duration</th>\n",
              "      <th>listed_in</th>\n",
              "      <th>year_added</th>\n",
              "      <th>month_added</th>\n",
              "      <th>month_name</th>\n",
              "    </tr>\n",
              "  </thead>\n",
              "  <tbody>\n",
              "    <tr>\n",
              "      <th>1</th>\n",
              "      <td>TV Show</td>\n",
              "      <td>Blood &amp; Water</td>\n",
              "      <td>Unknown</td>\n",
              "      <td>Ama Qamata, Khosi Ngema, Gail Mabalane, Thaban...</td>\n",
              "      <td>South Africa</td>\n",
              "      <td>2021-09-24</td>\n",
              "      <td>2021</td>\n",
              "      <td>TV-MA</td>\n",
              "      <td>2 Seasons</td>\n",
              "      <td>International TV Shows, TV Dramas, TV Mysteries</td>\n",
              "      <td>2021</td>\n",
              "      <td>9</td>\n",
              "      <td>September</td>\n",
              "    </tr>\n",
              "    <tr>\n",
              "      <th>2</th>\n",
              "      <td>TV Show</td>\n",
              "      <td>Ganglands</td>\n",
              "      <td>Julien Leclercq</td>\n",
              "      <td>Sami Bouajila, Tracy Gotoas, Samuel Jouy, Nabi...</td>\n",
              "      <td>Unknown</td>\n",
              "      <td>2021-09-24</td>\n",
              "      <td>2021</td>\n",
              "      <td>TV-MA</td>\n",
              "      <td>1 Season</td>\n",
              "      <td>Crime TV Shows, International TV Shows, TV Act...</td>\n",
              "      <td>2021</td>\n",
              "      <td>9</td>\n",
              "      <td>September</td>\n",
              "    </tr>\n",
              "    <tr>\n",
              "      <th>3</th>\n",
              "      <td>TV Show</td>\n",
              "      <td>Jailbirds New Orleans</td>\n",
              "      <td>Unknown</td>\n",
              "      <td>Unknown</td>\n",
              "      <td>Unknown</td>\n",
              "      <td>2021-09-24</td>\n",
              "      <td>2021</td>\n",
              "      <td>TV-MA</td>\n",
              "      <td>1 Season</td>\n",
              "      <td>Docuseries, Reality TV</td>\n",
              "      <td>2021</td>\n",
              "      <td>9</td>\n",
              "      <td>September</td>\n",
              "    </tr>\n",
              "    <tr>\n",
              "      <th>4</th>\n",
              "      <td>TV Show</td>\n",
              "      <td>Kota Factory</td>\n",
              "      <td>Unknown</td>\n",
              "      <td>Mayur More, Jitendra Kumar, Ranjan Raj, Alam K...</td>\n",
              "      <td>India</td>\n",
              "      <td>2021-09-24</td>\n",
              "      <td>2021</td>\n",
              "      <td>TV-MA</td>\n",
              "      <td>2 Seasons</td>\n",
              "      <td>International TV Shows, Romantic TV Shows, TV ...</td>\n",
              "      <td>2021</td>\n",
              "      <td>9</td>\n",
              "      <td>September</td>\n",
              "    </tr>\n",
              "    <tr>\n",
              "      <th>5</th>\n",
              "      <td>TV Show</td>\n",
              "      <td>Midnight Mass</td>\n",
              "      <td>Mike Flanagan</td>\n",
              "      <td>Kate Siegel, Zach Gilford, Hamish Linklater, H...</td>\n",
              "      <td>Unknown</td>\n",
              "      <td>2021-09-24</td>\n",
              "      <td>2021</td>\n",
              "      <td>TV-MA</td>\n",
              "      <td>1 Season</td>\n",
              "      <td>TV Dramas, TV Horror, TV Mysteries</td>\n",
              "      <td>2021</td>\n",
              "      <td>9</td>\n",
              "      <td>September</td>\n",
              "    </tr>\n",
              "    <tr>\n",
              "      <th>...</th>\n",
              "      <td>...</td>\n",
              "      <td>...</td>\n",
              "      <td>...</td>\n",
              "      <td>...</td>\n",
              "      <td>...</td>\n",
              "      <td>...</td>\n",
              "      <td>...</td>\n",
              "      <td>...</td>\n",
              "      <td>...</td>\n",
              "      <td>...</td>\n",
              "      <td>...</td>\n",
              "      <td>...</td>\n",
              "      <td>...</td>\n",
              "    </tr>\n",
              "    <tr>\n",
              "      <th>8795</th>\n",
              "      <td>TV Show</td>\n",
              "      <td>Yu-Gi-Oh! Arc-V</td>\n",
              "      <td>Unknown</td>\n",
              "      <td>Mike Liscio, Emily Bauer, Billy Bob Thompson, ...</td>\n",
              "      <td>Japan, Canada</td>\n",
              "      <td>2018-05-01</td>\n",
              "      <td>2015</td>\n",
              "      <td>TV-Y7</td>\n",
              "      <td>2 Seasons</td>\n",
              "      <td>Anime Series, Kids' TV</td>\n",
              "      <td>2018</td>\n",
              "      <td>5</td>\n",
              "      <td>May</td>\n",
              "    </tr>\n",
              "    <tr>\n",
              "      <th>8796</th>\n",
              "      <td>TV Show</td>\n",
              "      <td>Yunus Emre</td>\n",
              "      <td>Unknown</td>\n",
              "      <td>Gökhan Atalay, Payidar Tüfekçioglu, Baran Akbu...</td>\n",
              "      <td>Turkey</td>\n",
              "      <td>2017-01-17</td>\n",
              "      <td>2016</td>\n",
              "      <td>TV-PG</td>\n",
              "      <td>2 Seasons</td>\n",
              "      <td>International TV Shows, TV Dramas</td>\n",
              "      <td>2017</td>\n",
              "      <td>1</td>\n",
              "      <td>January</td>\n",
              "    </tr>\n",
              "    <tr>\n",
              "      <th>8797</th>\n",
              "      <td>TV Show</td>\n",
              "      <td>Zak Storm</td>\n",
              "      <td>Unknown</td>\n",
              "      <td>Michael Johnston, Jessica Gee-George, Christin...</td>\n",
              "      <td>United States, France, South Korea, Indonesia</td>\n",
              "      <td>2018-09-13</td>\n",
              "      <td>2016</td>\n",
              "      <td>TV-Y7</td>\n",
              "      <td>3 Seasons</td>\n",
              "      <td>Kids' TV</td>\n",
              "      <td>2018</td>\n",
              "      <td>9</td>\n",
              "      <td>September</td>\n",
              "    </tr>\n",
              "    <tr>\n",
              "      <th>8800</th>\n",
              "      <td>TV Show</td>\n",
              "      <td>Zindagi Gulzar Hai</td>\n",
              "      <td>Unknown</td>\n",
              "      <td>Sanam Saeed, Fawad Khan, Ayesha Omer, Mehreen ...</td>\n",
              "      <td>Pakistan</td>\n",
              "      <td>2016-12-15</td>\n",
              "      <td>2012</td>\n",
              "      <td>TV-PG</td>\n",
              "      <td>1 Season</td>\n",
              "      <td>International TV Shows, Romantic TV Shows, TV ...</td>\n",
              "      <td>2016</td>\n",
              "      <td>12</td>\n",
              "      <td>December</td>\n",
              "    </tr>\n",
              "    <tr>\n",
              "      <th>8803</th>\n",
              "      <td>TV Show</td>\n",
              "      <td>Zombie Dumb</td>\n",
              "      <td>Unknown</td>\n",
              "      <td>Unknown</td>\n",
              "      <td>Unknown</td>\n",
              "      <td>2019-07-01</td>\n",
              "      <td>2018</td>\n",
              "      <td>TV-Y7</td>\n",
              "      <td>2 Seasons</td>\n",
              "      <td>Kids' TV, Korean TV Shows, TV Comedies</td>\n",
              "      <td>2019</td>\n",
              "      <td>7</td>\n",
              "      <td>July</td>\n",
              "    </tr>\n",
              "  </tbody>\n",
              "</table>\n",
              "<p>2664 rows × 13 columns</p>\n",
              "</div>"
            ],
            "text/plain": [
              "         type                  title         director  \\\n",
              "1     TV Show          Blood & Water          Unknown   \n",
              "2     TV Show              Ganglands  Julien Leclercq   \n",
              "3     TV Show  Jailbirds New Orleans          Unknown   \n",
              "4     TV Show           Kota Factory          Unknown   \n",
              "5     TV Show          Midnight Mass    Mike Flanagan   \n",
              "...       ...                    ...              ...   \n",
              "8795  TV Show        Yu-Gi-Oh! Arc-V          Unknown   \n",
              "8796  TV Show             Yunus Emre          Unknown   \n",
              "8797  TV Show              Zak Storm          Unknown   \n",
              "8800  TV Show     Zindagi Gulzar Hai          Unknown   \n",
              "8803  TV Show            Zombie Dumb          Unknown   \n",
              "\n",
              "                                                   cast  \\\n",
              "1     Ama Qamata, Khosi Ngema, Gail Mabalane, Thaban...   \n",
              "2     Sami Bouajila, Tracy Gotoas, Samuel Jouy, Nabi...   \n",
              "3                                               Unknown   \n",
              "4     Mayur More, Jitendra Kumar, Ranjan Raj, Alam K...   \n",
              "5     Kate Siegel, Zach Gilford, Hamish Linklater, H...   \n",
              "...                                                 ...   \n",
              "8795  Mike Liscio, Emily Bauer, Billy Bob Thompson, ...   \n",
              "8796  Gökhan Atalay, Payidar Tüfekçioglu, Baran Akbu...   \n",
              "8797  Michael Johnston, Jessica Gee-George, Christin...   \n",
              "8800  Sanam Saeed, Fawad Khan, Ayesha Omer, Mehreen ...   \n",
              "8803                                            Unknown   \n",
              "\n",
              "                                            country date_added  release_year  \\\n",
              "1                                      South Africa 2021-09-24          2021   \n",
              "2                                           Unknown 2021-09-24          2021   \n",
              "3                                           Unknown 2021-09-24          2021   \n",
              "4                                             India 2021-09-24          2021   \n",
              "5                                           Unknown 2021-09-24          2021   \n",
              "...                                             ...        ...           ...   \n",
              "8795                                  Japan, Canada 2018-05-01          2015   \n",
              "8796                                         Turkey 2017-01-17          2016   \n",
              "8797  United States, France, South Korea, Indonesia 2018-09-13          2016   \n",
              "8800                                       Pakistan 2016-12-15          2012   \n",
              "8803                                        Unknown 2019-07-01          2018   \n",
              "\n",
              "     rating   duration                                          listed_in  \\\n",
              "1     TV-MA  2 Seasons    International TV Shows, TV Dramas, TV Mysteries   \n",
              "2     TV-MA   1 Season  Crime TV Shows, International TV Shows, TV Act...   \n",
              "3     TV-MA   1 Season                             Docuseries, Reality TV   \n",
              "4     TV-MA  2 Seasons  International TV Shows, Romantic TV Shows, TV ...   \n",
              "5     TV-MA   1 Season                 TV Dramas, TV Horror, TV Mysteries   \n",
              "...     ...        ...                                                ...   \n",
              "8795  TV-Y7  2 Seasons                             Anime Series, Kids' TV   \n",
              "8796  TV-PG  2 Seasons                  International TV Shows, TV Dramas   \n",
              "8797  TV-Y7  3 Seasons                                           Kids' TV   \n",
              "8800  TV-PG   1 Season  International TV Shows, Romantic TV Shows, TV ...   \n",
              "8803  TV-Y7  2 Seasons             Kids' TV, Korean TV Shows, TV Comedies   \n",
              "\n",
              "      year_added  month_added month_name  \n",
              "1           2021            9  September  \n",
              "2           2021            9  September  \n",
              "3           2021            9  September  \n",
              "4           2021            9  September  \n",
              "5           2021            9  September  \n",
              "...          ...          ...        ...  \n",
              "8795        2018            5        May  \n",
              "8796        2017            1    January  \n",
              "8797        2018            9  September  \n",
              "8800        2016           12   December  \n",
              "8803        2019            7       July  \n",
              "\n",
              "[2664 rows x 13 columns]"
            ]
          },
          "execution_count": 384,
          "metadata": {},
          "output_type": "execute_result"
        }
      ],
      "source": [
        "df_shows"
      ]
    },
    {
      "cell_type": "code",
      "execution_count": 385,
      "metadata": {},
      "outputs": [
        {
          "data": {
            "text/html": [
              "<div>\n",
              "<style scoped>\n",
              "    .dataframe tbody tr th:only-of-type {\n",
              "        vertical-align: middle;\n",
              "    }\n",
              "\n",
              "    .dataframe tbody tr th {\n",
              "        vertical-align: top;\n",
              "    }\n",
              "\n",
              "    .dataframe thead th {\n",
              "        text-align: right;\n",
              "    }\n",
              "</style>\n",
              "<table border=\"1\" class=\"dataframe\">\n",
              "  <thead>\n",
              "    <tr style=\"text-align: right;\">\n",
              "      <th></th>\n",
              "      <th>type</th>\n",
              "      <th>title</th>\n",
              "      <th>director</th>\n",
              "      <th>cast</th>\n",
              "      <th>country</th>\n",
              "      <th>date_added</th>\n",
              "      <th>release_year</th>\n",
              "      <th>rating</th>\n",
              "      <th>duration</th>\n",
              "      <th>listed_in</th>\n",
              "      <th>year_added</th>\n",
              "      <th>month_added</th>\n",
              "      <th>month_name</th>\n",
              "    </tr>\n",
              "  </thead>\n",
              "  <tbody>\n",
              "    <tr>\n",
              "      <th>0</th>\n",
              "      <td>Movie</td>\n",
              "      <td>Dick Johnson Is Dead</td>\n",
              "      <td>Kirsten Johnson</td>\n",
              "      <td>Unknown</td>\n",
              "      <td>United States</td>\n",
              "      <td>2021-09-25</td>\n",
              "      <td>2020</td>\n",
              "      <td>PG-13</td>\n",
              "      <td>90 min</td>\n",
              "      <td>Documentaries</td>\n",
              "      <td>2021</td>\n",
              "      <td>9</td>\n",
              "      <td>September</td>\n",
              "    </tr>\n",
              "    <tr>\n",
              "      <th>6</th>\n",
              "      <td>Movie</td>\n",
              "      <td>My Little Pony: A New Generation</td>\n",
              "      <td>Robert Cullen, José Luis Ucha</td>\n",
              "      <td>Vanessa Hudgens, Kimiko Glenn, James Marsden, ...</td>\n",
              "      <td>Unknown</td>\n",
              "      <td>2021-09-24</td>\n",
              "      <td>2021</td>\n",
              "      <td>PG</td>\n",
              "      <td>91 min</td>\n",
              "      <td>Children &amp; Family Movies</td>\n",
              "      <td>2021</td>\n",
              "      <td>9</td>\n",
              "      <td>September</td>\n",
              "    </tr>\n",
              "    <tr>\n",
              "      <th>7</th>\n",
              "      <td>Movie</td>\n",
              "      <td>Sankofa</td>\n",
              "      <td>Haile Gerima</td>\n",
              "      <td>Kofi Ghanaba, Oyafunmike Ogunlano, Alexandra D...</td>\n",
              "      <td>United States, Ghana, Burkina Faso, United Kin...</td>\n",
              "      <td>2021-09-24</td>\n",
              "      <td>1993</td>\n",
              "      <td>TV-MA</td>\n",
              "      <td>125 min</td>\n",
              "      <td>Dramas, Independent Movies, International Movies</td>\n",
              "      <td>2021</td>\n",
              "      <td>9</td>\n",
              "      <td>September</td>\n",
              "    </tr>\n",
              "    <tr>\n",
              "      <th>9</th>\n",
              "      <td>Movie</td>\n",
              "      <td>The Starling</td>\n",
              "      <td>Theodore Melfi</td>\n",
              "      <td>Melissa McCarthy, Chris O'Dowd, Kevin Kline, T...</td>\n",
              "      <td>United States</td>\n",
              "      <td>2021-09-24</td>\n",
              "      <td>2021</td>\n",
              "      <td>PG-13</td>\n",
              "      <td>104 min</td>\n",
              "      <td>Comedies, Dramas</td>\n",
              "      <td>2021</td>\n",
              "      <td>9</td>\n",
              "      <td>September</td>\n",
              "    </tr>\n",
              "    <tr>\n",
              "      <th>12</th>\n",
              "      <td>Movie</td>\n",
              "      <td>Je Suis Karl</td>\n",
              "      <td>Christian Schwochow</td>\n",
              "      <td>Luna Wedler, Jannis Niewöhner, Milan Peschel, ...</td>\n",
              "      <td>Germany, Czech Republic</td>\n",
              "      <td>2021-09-23</td>\n",
              "      <td>2021</td>\n",
              "      <td>TV-MA</td>\n",
              "      <td>127 min</td>\n",
              "      <td>Dramas, International Movies</td>\n",
              "      <td>2021</td>\n",
              "      <td>9</td>\n",
              "      <td>September</td>\n",
              "    </tr>\n",
              "    <tr>\n",
              "      <th>...</th>\n",
              "      <td>...</td>\n",
              "      <td>...</td>\n",
              "      <td>...</td>\n",
              "      <td>...</td>\n",
              "      <td>...</td>\n",
              "      <td>...</td>\n",
              "      <td>...</td>\n",
              "      <td>...</td>\n",
              "      <td>...</td>\n",
              "      <td>...</td>\n",
              "      <td>...</td>\n",
              "      <td>...</td>\n",
              "      <td>...</td>\n",
              "    </tr>\n",
              "    <tr>\n",
              "      <th>8801</th>\n",
              "      <td>Movie</td>\n",
              "      <td>Zinzana</td>\n",
              "      <td>Majid Al Ansari</td>\n",
              "      <td>Ali Suliman, Saleh Bakri, Yasa, Ali Al-Jabri, ...</td>\n",
              "      <td>United Arab Emirates, Jordan</td>\n",
              "      <td>2016-03-09</td>\n",
              "      <td>2015</td>\n",
              "      <td>TV-MA</td>\n",
              "      <td>96 min</td>\n",
              "      <td>Dramas, International Movies, Thrillers</td>\n",
              "      <td>2016</td>\n",
              "      <td>3</td>\n",
              "      <td>March</td>\n",
              "    </tr>\n",
              "    <tr>\n",
              "      <th>8802</th>\n",
              "      <td>Movie</td>\n",
              "      <td>Zodiac</td>\n",
              "      <td>David Fincher</td>\n",
              "      <td>Mark Ruffalo, Jake Gyllenhaal, Robert Downey J...</td>\n",
              "      <td>United States</td>\n",
              "      <td>2019-11-20</td>\n",
              "      <td>2007</td>\n",
              "      <td>R</td>\n",
              "      <td>158 min</td>\n",
              "      <td>Cult Movies, Dramas, Thrillers</td>\n",
              "      <td>2019</td>\n",
              "      <td>11</td>\n",
              "      <td>November</td>\n",
              "    </tr>\n",
              "    <tr>\n",
              "      <th>8804</th>\n",
              "      <td>Movie</td>\n",
              "      <td>Zombieland</td>\n",
              "      <td>Ruben Fleischer</td>\n",
              "      <td>Jesse Eisenberg, Woody Harrelson, Emma Stone, ...</td>\n",
              "      <td>United States</td>\n",
              "      <td>2019-11-01</td>\n",
              "      <td>2009</td>\n",
              "      <td>R</td>\n",
              "      <td>88 min</td>\n",
              "      <td>Comedies, Horror Movies</td>\n",
              "      <td>2019</td>\n",
              "      <td>11</td>\n",
              "      <td>November</td>\n",
              "    </tr>\n",
              "    <tr>\n",
              "      <th>8805</th>\n",
              "      <td>Movie</td>\n",
              "      <td>Zoom</td>\n",
              "      <td>Peter Hewitt</td>\n",
              "      <td>Tim Allen, Courteney Cox, Chevy Chase, Kate Ma...</td>\n",
              "      <td>United States</td>\n",
              "      <td>2020-01-11</td>\n",
              "      <td>2006</td>\n",
              "      <td>PG</td>\n",
              "      <td>88 min</td>\n",
              "      <td>Children &amp; Family Movies, Comedies</td>\n",
              "      <td>2020</td>\n",
              "      <td>1</td>\n",
              "      <td>January</td>\n",
              "    </tr>\n",
              "    <tr>\n",
              "      <th>8806</th>\n",
              "      <td>Movie</td>\n",
              "      <td>Zubaan</td>\n",
              "      <td>Mozez Singh</td>\n",
              "      <td>Vicky Kaushal, Sarah-Jane Dias, Raaghav Chanan...</td>\n",
              "      <td>India</td>\n",
              "      <td>2019-03-02</td>\n",
              "      <td>2015</td>\n",
              "      <td>TV-14</td>\n",
              "      <td>111 min</td>\n",
              "      <td>Dramas, International Movies, Music &amp; Musicals</td>\n",
              "      <td>2019</td>\n",
              "      <td>3</td>\n",
              "      <td>March</td>\n",
              "    </tr>\n",
              "  </tbody>\n",
              "</table>\n",
              "<p>6126 rows × 13 columns</p>\n",
              "</div>"
            ],
            "text/plain": [
              "       type                             title                       director  \\\n",
              "0     Movie              Dick Johnson Is Dead                Kirsten Johnson   \n",
              "6     Movie  My Little Pony: A New Generation  Robert Cullen, José Luis Ucha   \n",
              "7     Movie                           Sankofa                   Haile Gerima   \n",
              "9     Movie                      The Starling                 Theodore Melfi   \n",
              "12    Movie                      Je Suis Karl            Christian Schwochow   \n",
              "...     ...                               ...                            ...   \n",
              "8801  Movie                           Zinzana                Majid Al Ansari   \n",
              "8802  Movie                            Zodiac                  David Fincher   \n",
              "8804  Movie                        Zombieland                Ruben Fleischer   \n",
              "8805  Movie                              Zoom                   Peter Hewitt   \n",
              "8806  Movie                            Zubaan                    Mozez Singh   \n",
              "\n",
              "                                                   cast  \\\n",
              "0                                               Unknown   \n",
              "6     Vanessa Hudgens, Kimiko Glenn, James Marsden, ...   \n",
              "7     Kofi Ghanaba, Oyafunmike Ogunlano, Alexandra D...   \n",
              "9     Melissa McCarthy, Chris O'Dowd, Kevin Kline, T...   \n",
              "12    Luna Wedler, Jannis Niewöhner, Milan Peschel, ...   \n",
              "...                                                 ...   \n",
              "8801  Ali Suliman, Saleh Bakri, Yasa, Ali Al-Jabri, ...   \n",
              "8802  Mark Ruffalo, Jake Gyllenhaal, Robert Downey J...   \n",
              "8804  Jesse Eisenberg, Woody Harrelson, Emma Stone, ...   \n",
              "8805  Tim Allen, Courteney Cox, Chevy Chase, Kate Ma...   \n",
              "8806  Vicky Kaushal, Sarah-Jane Dias, Raaghav Chanan...   \n",
              "\n",
              "                                                country date_added  \\\n",
              "0                                         United States 2021-09-25   \n",
              "6                                               Unknown 2021-09-24   \n",
              "7     United States, Ghana, Burkina Faso, United Kin... 2021-09-24   \n",
              "9                                         United States 2021-09-24   \n",
              "12                              Germany, Czech Republic 2021-09-23   \n",
              "...                                                 ...        ...   \n",
              "8801                       United Arab Emirates, Jordan 2016-03-09   \n",
              "8802                                      United States 2019-11-20   \n",
              "8804                                      United States 2019-11-01   \n",
              "8805                                      United States 2020-01-11   \n",
              "8806                                              India 2019-03-02   \n",
              "\n",
              "      release_year rating duration  \\\n",
              "0             2020  PG-13   90 min   \n",
              "6             2021     PG   91 min   \n",
              "7             1993  TV-MA  125 min   \n",
              "9             2021  PG-13  104 min   \n",
              "12            2021  TV-MA  127 min   \n",
              "...            ...    ...      ...   \n",
              "8801          2015  TV-MA   96 min   \n",
              "8802          2007      R  158 min   \n",
              "8804          2009      R   88 min   \n",
              "8805          2006     PG   88 min   \n",
              "8806          2015  TV-14  111 min   \n",
              "\n",
              "                                             listed_in  year_added  \\\n",
              "0                                        Documentaries        2021   \n",
              "6                             Children & Family Movies        2021   \n",
              "7     Dramas, Independent Movies, International Movies        2021   \n",
              "9                                     Comedies, Dramas        2021   \n",
              "12                        Dramas, International Movies        2021   \n",
              "...                                                ...         ...   \n",
              "8801           Dramas, International Movies, Thrillers        2016   \n",
              "8802                    Cult Movies, Dramas, Thrillers        2019   \n",
              "8804                           Comedies, Horror Movies        2019   \n",
              "8805                Children & Family Movies, Comedies        2020   \n",
              "8806    Dramas, International Movies, Music & Musicals        2019   \n",
              "\n",
              "      month_added month_name  \n",
              "0               9  September  \n",
              "6               9  September  \n",
              "7               9  September  \n",
              "9               9  September  \n",
              "12              9  September  \n",
              "...           ...        ...  \n",
              "8801            3      March  \n",
              "8802           11   November  \n",
              "8804           11   November  \n",
              "8805            1    January  \n",
              "8806            3      March  \n",
              "\n",
              "[6126 rows x 13 columns]"
            ]
          },
          "execution_count": 385,
          "metadata": {},
          "output_type": "execute_result"
        }
      ],
      "source": [
        "df_movies"
      ]
    },
    {
      "cell_type": "markdown",
      "metadata": {
        "id": "FtvDNTHYKK9M"
      },
      "source": [
        "## Feature Engineering"
      ]
    },
    {
      "cell_type": "code",
      "execution_count": 386,
      "metadata": {
        "id": "TwaJSFPkKLUR"
      },
      "outputs": [],
      "source": [
        "# Create features year_added, month_added, month_name, duration: the value in duration column that doesn't contain the word season\n",
        "# season_count: in duration column values that contain the word season\n",
        "df['year_added'] = df['date_added'].dt.year.astype(int)\n",
        "df['month_added'] = df['date_added'].dt.month\n",
        "df['month_name'] = df['date_added'].dt.month_name()\n",
        "df['season_count'] = df.apply(lambda x : x['duration'].split(\" \")[0] if \"Season\" in str(x['duration']) else \"\", axis = 1)\n",
        "df['duration'] = df.apply(lambda x : str(x['duration']).split(\" \")[0] if \"Season\" not in str(x['duration']) else \"\", axis = 1)"
      ]
    },
    {
      "cell_type": "code",
      "execution_count": 387,
      "metadata": {},
      "outputs": [
        {
          "name": "stdout",
          "output_type": "stream",
          "text": [
            "<class 'pandas.core.frame.DataFrame'>\n",
            "Int64Index: 8790 entries, 0 to 8806\n",
            "Data columns (total 14 columns):\n",
            " #   Column        Non-Null Count  Dtype         \n",
            "---  ------        --------------  -----         \n",
            " 0   type          8790 non-null   object        \n",
            " 1   title         8790 non-null   object        \n",
            " 2   director      8790 non-null   object        \n",
            " 3   cast          8790 non-null   object        \n",
            " 4   country       8790 non-null   object        \n",
            " 5   date_added    8790 non-null   datetime64[ns]\n",
            " 6   release_year  8790 non-null   int64         \n",
            " 7   rating        8790 non-null   object        \n",
            " 8   duration      8790 non-null   object        \n",
            " 9   listed_in     8790 non-null   object        \n",
            " 10  year_added    8790 non-null   int32         \n",
            " 11  month_added   8790 non-null   int64         \n",
            " 12  month_name    8790 non-null   object        \n",
            " 13  season_count  8790 non-null   object        \n",
            "dtypes: datetime64[ns](1), int32(1), int64(2), object(10)\n",
            "memory usage: 995.7+ KB\n"
          ]
        }
      ],
      "source": [
        "df.info()"
      ]
    },
    {
      "cell_type": "code",
      "execution_count": 388,
      "metadata": {},
      "outputs": [
        {
          "data": {
            "text/plain": [
              "      6126\n",
              "1     1791\n",
              "2      421\n",
              "3      198\n",
              "4       94\n",
              "5       64\n",
              "6       33\n",
              "7       23\n",
              "8       17\n",
              "9        9\n",
              "10       6\n",
              "13       2\n",
              "15       2\n",
              "12       2\n",
              "17       1\n",
              "11       1\n",
              "Name: season_count, dtype: int64"
            ]
          },
          "execution_count": 388,
          "metadata": {},
          "output_type": "execute_result"
        }
      ],
      "source": [
        "df.season_count.value_counts()"
      ]
    },
    {
      "cell_type": "code",
      "execution_count": 389,
      "metadata": {},
      "outputs": [
        {
          "data": {
            "text/plain": [
              "1     1791\n",
              "2      421\n",
              "3      198\n",
              "4       94\n",
              "5       64\n",
              "6       33\n",
              "7       23\n",
              "8       17\n",
              "9        9\n",
              "10       6\n",
              "13       2\n",
              "15       2\n",
              "12       2\n",
              "17       1\n",
              "11       1\n",
              "Name: season_count, dtype: int64"
            ]
          },
          "execution_count": 389,
          "metadata": {},
          "output_type": "execute_result"
        }
      ],
      "source": [
        "df[df['type'] == 'TV Show'].season_count.value_counts()"
      ]
    },
    {
      "cell_type": "code",
      "execution_count": 390,
      "metadata": {},
      "outputs": [
        {
          "data": {
            "text/plain": [
              "       2664\n",
              "90      152\n",
              "97      146\n",
              "94      146\n",
              "93      146\n",
              "       ... \n",
              "212       1\n",
              "8         1\n",
              "186       1\n",
              "193       1\n",
              "191       1\n",
              "Name: duration, Length: 206, dtype: int64"
            ]
          },
          "execution_count": 390,
          "metadata": {},
          "output_type": "execute_result"
        }
      ],
      "source": [
        "df.duration.value_counts()"
      ]
    },
    {
      "cell_type": "code",
      "execution_count": 391,
      "metadata": {},
      "outputs": [
        {
          "data": {
            "text/plain": [
              "90     152\n",
              "94     146\n",
              "93     146\n",
              "97     146\n",
              "91     144\n",
              "      ... \n",
              "212      1\n",
              "8        1\n",
              "186      1\n",
              "193      1\n",
              "191      1\n",
              "Name: duration, Length: 205, dtype: int64"
            ]
          },
          "execution_count": 391,
          "metadata": {},
          "output_type": "execute_result"
        }
      ],
      "source": [
        "df[df['type'] == 'Movie'].duration.value_counts()"
      ]
    },
    {
      "cell_type": "code",
      "execution_count": 392,
      "metadata": {
        "id": "JkITXSj-RMjl"
      },
      "outputs": [],
      "source": [
        "# convert all columns to its correct format (e.g.: numeric columns saved as object to float)\n",
        "cols = ['duration', 'season_count']\n",
        "df[cols] = df[cols].apply(pd.to_numeric, errors='coerce')"
      ]
    },
    {
      "cell_type": "code",
      "execution_count": 393,
      "metadata": {},
      "outputs": [
        {
          "data": {
            "text/plain": [
              "2664"
            ]
          },
          "execution_count": 393,
          "metadata": {},
          "output_type": "execute_result"
        }
      ],
      "source": [
        "df.duration.isnull().sum()"
      ]
    },
    {
      "cell_type": "code",
      "execution_count": 394,
      "metadata": {},
      "outputs": [
        {
          "data": {
            "text/plain": [
              "6126"
            ]
          },
          "execution_count": 394,
          "metadata": {},
          "output_type": "execute_result"
        }
      ],
      "source": [
        "df.season_count.isnull().sum()"
      ]
    },
    {
      "cell_type": "markdown",
      "metadata": {
        "id": "SSXDNJcqL6Ek"
      },
      "source": [
        "# Data Analysis"
      ]
    },
    {
      "cell_type": "code",
      "execution_count": 395,
      "metadata": {
        "colab": {
          "base_uri": "https://localhost:8080/"
        },
        "id": "SmpWoSymL9Yn",
        "outputId": "686ef18d-a1fb-4f42-9cd4-4dc7857e16ca"
      },
      "outputs": [
        {
          "data": {
            "text/plain": [
              "Movie      6126\n",
              "TV Show    2664\n",
              "Name: type, dtype: int64"
            ]
          },
          "execution_count": 395,
          "metadata": {},
          "output_type": "execute_result"
        }
      ],
      "source": [
        "# How many TV-Shows and Movies in this data?\n",
        "df[\"type\"].value_counts()"
      ]
    },
    {
      "cell_type": "code",
      "execution_count": 396,
      "metadata": {},
      "outputs": [
        {
          "data": {
            "text/plain": [
              "['Documentaries',\n",
              " 'International TV Shows, TV Dramas, TV Mysteries',\n",
              " 'Crime TV Shows, International TV Shows, TV Action & Adventure',\n",
              " 'Docuseries, Reality TV',\n",
              " 'International TV Shows, Romantic TV Shows, TV Comedies',\n",
              " 'TV Dramas, TV Horror, TV Mysteries',\n",
              " 'Children & Family Movies',\n",
              " 'Dramas, Independent Movies, International Movies',\n",
              " 'British TV Shows, Reality TV',\n",
              " 'Comedies, Dramas',\n",
              " 'Crime TV Shows, Docuseries, International TV Shows',\n",
              " 'Dramas, International Movies',\n",
              " 'Children & Family Movies, Comedies',\n",
              " 'British TV Shows, Crime TV Shows, Docuseries',\n",
              " 'TV Comedies, TV Dramas',\n",
              " 'Documentaries, International Movies',\n",
              " 'Crime TV Shows, Spanish-Language TV Shows, TV Dramas',\n",
              " 'Thrillers',\n",
              " 'International TV Shows, Spanish-Language TV Shows, TV Action & Adventure',\n",
              " 'International TV Shows, TV Action & Adventure, TV Dramas',\n",
              " 'Comedies, International Movies',\n",
              " 'Comedies, International Movies, Romantic Movies',\n",
              " 'Docuseries, International TV Shows, Reality TV',\n",
              " 'Comedies, International Movies, Music & Musicals',\n",
              " 'Comedies',\n",
              " 'Horror Movies, Sci-Fi & Fantasy',\n",
              " 'TV Comedies',\n",
              " 'British TV Shows, International TV Shows, TV Comedies',\n",
              " 'International TV Shows, TV Dramas, TV Thrillers',\n",
              " \"Kids' TV\",\n",
              " 'Dramas, International Movies, Thrillers',\n",
              " 'Action & Adventure, Dramas, International Movies',\n",
              " \"Kids' TV, TV Comedies\",\n",
              " 'Action & Adventure, Dramas',\n",
              " \"Kids' TV, TV Sci-Fi & Fantasy\",\n",
              " 'Action & Adventure, Classic Movies, Dramas',\n",
              " 'Dramas, Horror Movies, Thrillers',\n",
              " 'Action & Adventure, Horror Movies, Thrillers',\n",
              " 'Action & Adventure',\n",
              " 'Dramas, Thrillers',\n",
              " 'International TV Shows, TV Dramas',\n",
              " 'International TV Shows, TV Dramas, TV Sci-Fi & Fantasy',\n",
              " 'Action & Adventure, Anime Features, International Movies',\n",
              " 'Reality TV',\n",
              " 'Docuseries, International TV Shows',\n",
              " 'Documentaries, International Movies, Sports Movies',\n",
              " 'International TV Shows, Reality TV, Romantic TV Shows',\n",
              " 'British TV Shows, Docuseries, International TV Shows',\n",
              " 'Anime Series, International TV Shows',\n",
              " 'Comedies, Dramas, International Movies',\n",
              " 'Crime TV Shows, TV Comedies, TV Dramas',\n",
              " 'Action & Adventure, Comedies, Dramas',\n",
              " \"Anime Series, Kids' TV\",\n",
              " 'International Movies, Thrillers',\n",
              " \"Kids' TV, Korean TV Shows\",\n",
              " 'Documentaries, Sports Movies',\n",
              " 'Sci-Fi & Fantasy, Thrillers',\n",
              " 'Dramas, International Movies, Romantic Movies',\n",
              " 'Documentaries, Music & Musicals',\n",
              " \"Kids' TV, TV Comedies, TV Sci-Fi & Fantasy\",\n",
              " \"British TV Shows, Kids' TV\",\n",
              " 'Docuseries, Science & Nature TV',\n",
              " 'Children & Family Movies, Dramas',\n",
              " \"Kids' TV, TV Dramas, Teen TV Shows\",\n",
              " 'Crime TV Shows, International TV Shows, Spanish-Language TV Shows',\n",
              " 'Docuseries, International TV Shows, Spanish-Language TV Shows',\n",
              " 'Dramas',\n",
              " 'Comedies, Romantic Movies',\n",
              " 'Dramas, Romantic Movies',\n",
              " 'Comedies, Dramas, Independent Movies',\n",
              " 'Crime TV Shows, TV Action & Adventure, TV Comedies',\n",
              " 'Children & Family Movies, Music & Musicals',\n",
              " 'Action & Adventure, Classic Movies, Cult Movies',\n",
              " 'International TV Shows, TV Action & Adventure, TV Comedies',\n",
              " 'Action & Adventure, Sci-Fi & Fantasy',\n",
              " 'Action & Adventure, Comedies',\n",
              " 'Classic Movies, Comedies, Dramas',\n",
              " 'Comedies, Cult Movies',\n",
              " 'Comedies, Cult Movies, Music & Musicals',\n",
              " 'Comedies, Music & Musicals',\n",
              " 'TV Shows',\n",
              " 'Action & Adventure, International Movies',\n",
              " 'Anime Series, International TV Shows, Teen TV Shows',\n",
              " 'Action & Adventure, Children & Family Movies, Cult Movies',\n",
              " 'Comedies, Dramas, Romantic Movies',\n",
              " 'Comedies, Cult Movies, Sci-Fi & Fantasy',\n",
              " 'Classic Movies, Dramas',\n",
              " 'Action & Adventure, Children & Family Movies, Comedies',\n",
              " 'Dramas, Faith & Spirituality',\n",
              " 'Documentaries, LGBTQ Movies',\n",
              " 'Action & Adventure, Classic Movies',\n",
              " 'Docuseries',\n",
              " 'International TV Shows, TV Comedies',\n",
              " 'Dramas, Independent Movies',\n",
              " 'Action & Adventure, Comedies, International Movies',\n",
              " 'International TV Shows, Spanish-Language TV Shows, TV Dramas',\n",
              " 'Crime TV Shows, International TV Shows, TV Dramas',\n",
              " 'Action & Adventure, Horror Movies, International Movies',\n",
              " 'Comedies, International Movies, Sci-Fi & Fantasy',\n",
              " 'Action & Adventure, International Movies, Music & Musicals',\n",
              " 'Dramas, International Movies, Music & Musicals',\n",
              " 'Horror Movies, International Movies',\n",
              " 'Reality TV, Teen TV Shows',\n",
              " 'Crime TV Shows, TV Dramas, TV Mysteries',\n",
              " 'International TV Shows, Reality TV',\n",
              " 'International TV Shows, TV Comedies, TV Dramas',\n",
              " 'Dramas, Independent Movies, Romantic Movies',\n",
              " 'Horror Movies',\n",
              " 'Documentaries, LGBTQ Movies, Sports Movies',\n",
              " 'Horror Movies, International Movies, Thrillers',\n",
              " 'Action & Adventure, Anime Features',\n",
              " 'TV Dramas, TV Mysteries, TV Sci-Fi & Fantasy',\n",
              " 'International TV Shows, Spanish-Language TV Shows, TV Comedies',\n",
              " 'Children & Family Movies, Comedies, Music & Musicals',\n",
              " 'Comedies, Independent Movies',\n",
              " 'Anime Series, International TV Shows, Romantic TV Shows',\n",
              " 'Classic Movies, Dramas, Independent Movies',\n",
              " 'International TV Shows, Romantic TV Shows, Spanish-Language TV Shows',\n",
              " 'International TV Shows, TV Dramas, Teen TV Shows',\n",
              " 'Stand-Up Comedy',\n",
              " 'Action & Adventure, Anime Features, Children & Family Movies',\n",
              " 'International TV Shows, Romantic TV Shows, TV Dramas',\n",
              " 'International Movies, Music & Musicals',\n",
              " 'TV Action & Adventure, TV Dramas, TV Mysteries',\n",
              " 'Horror Movies, Independent Movies, International Movies',\n",
              " 'Comedies, Cult Movies, International Movies',\n",
              " 'Classic Movies, Dramas, International Movies',\n",
              " 'Movies',\n",
              " 'Crime TV Shows, Docuseries',\n",
              " 'Children & Family Movies, Comedies, Sci-Fi & Fantasy',\n",
              " 'Anime Series, International TV Shows, TV Thrillers',\n",
              " 'Action & Adventure, Horror Movies, Sci-Fi & Fantasy',\n",
              " 'Classic Movies, Comedies, Cult Movies',\n",
              " 'TV Dramas, Teen TV Shows',\n",
              " 'Action & Adventure, Sci-Fi & Fantasy, Thrillers',\n",
              " 'Children & Family Movies, Comedies, Dramas',\n",
              " 'Dramas, Sports Movies',\n",
              " 'Action & Adventure, Dramas, Sci-Fi & Fantasy',\n",
              " 'Action & Adventure, Comedies, Cult Movies',\n",
              " 'Dramas, Independent Movies, Thrillers',\n",
              " 'TV Dramas, TV Sci-Fi & Fantasy',\n",
              " 'Action & Adventure, International Movies, Thrillers',\n",
              " 'British TV Shows, International TV Shows, Reality TV',\n",
              " 'TV Action & Adventure, TV Dramas, Teen TV Shows',\n",
              " 'Anime Series',\n",
              " 'Crime TV Shows, TV Action & Adventure, TV Sci-Fi & Fantasy',\n",
              " 'Crime TV Shows, International TV Shows, TV Comedies',\n",
              " 'Stand-Up Comedy & Talk Shows, TV Comedies',\n",
              " 'Classic & Cult TV, TV Action & Adventure, TV Dramas',\n",
              " 'Children & Family Movies, Sports Movies',\n",
              " 'TV Action & Adventure, TV Sci-Fi & Fantasy',\n",
              " 'Anime Series, Stand-Up Comedy & Talk Shows',\n",
              " 'TV Dramas',\n",
              " 'Anime Features, Children & Family Movies, International Movies',\n",
              " 'Classic & Cult TV, Crime TV Shows, International TV Shows',\n",
              " 'Crime TV Shows, International TV Shows, Romantic TV Shows',\n",
              " 'Horror Movies, LGBTQ Movies',\n",
              " 'Action & Adventure, Dramas, Romantic Movies',\n",
              " 'Documentaries, International Movies, Music & Musicals',\n",
              " 'TV Comedies, TV Dramas, Teen TV Shows',\n",
              " 'Children & Family Movies, Comedies, Sports Movies',\n",
              " 'Children & Family Movies, Dramas, International Movies',\n",
              " 'Comedies, Documentaries, International Movies',\n",
              " 'Romantic TV Shows, TV Dramas',\n",
              " 'Anime Series, TV Horror, TV Thrillers',\n",
              " 'International Movies, Romantic Movies',\n",
              " 'TV Action & Adventure, TV Dramas, TV Sci-Fi & Fantasy',\n",
              " \"Kids' TV, Korean TV Shows, TV Comedies\",\n",
              " 'British TV Shows, Crime TV Shows, International TV Shows',\n",
              " 'Crime TV Shows, TV Horror, TV Mysteries',\n",
              " 'Docuseries, International TV Shows, Science & Nature TV',\n",
              " 'British TV Shows, International TV Shows, TV Dramas',\n",
              " \"Kids' TV, TV Action & Adventure, TV Sci-Fi & Fantasy\",\n",
              " 'International Movies, Romantic Movies, Thrillers',\n",
              " 'Action & Adventure, Cult Movies, International Movies',\n",
              " 'Action & Adventure, Comedies, Sci-Fi & Fantasy',\n",
              " \"International TV Shows, Kids' TV, TV Mysteries\",\n",
              " 'Action & Adventure, Thrillers',\n",
              " 'Dramas, Faith & Spirituality, International Movies',\n",
              " 'Action & Adventure, Classic Movies, Comedies',\n",
              " 'Action & Adventure, Comedies, Sports Movies',\n",
              " 'Action & Adventure, Children & Family Movies, Classic Movies',\n",
              " 'Action & Adventure, Children & Family Movies, Dramas',\n",
              " 'Horror Movies, Thrillers',\n",
              " 'Action & Adventure, Romantic Movies',\n",
              " 'Dramas, Romantic Movies, Sci-Fi & Fantasy',\n",
              " 'Dramas, Music & Musicals, Romantic Movies',\n",
              " 'Anime Series, Crime TV Shows, International TV Shows',\n",
              " 'Reality TV, Romantic TV Shows',\n",
              " 'International Movies, Music & Musicals, Romantic Movies',\n",
              " 'Reality TV, TV Action & Adventure, TV Mysteries',\n",
              " 'Crime TV Shows, TV Dramas',\n",
              " 'International TV Shows, Reality TV, Spanish-Language TV Shows',\n",
              " 'Crime TV Shows, TV Dramas, TV Thrillers',\n",
              " 'British TV Shows, Docuseries',\n",
              " 'International TV Shows, Korean TV Shows, TV Comedies',\n",
              " 'Action & Adventure, Anime Features, Classic Movies',\n",
              " 'TV Action & Adventure, TV Dramas, TV Horror',\n",
              " 'Crime TV Shows, International TV Shows, TV Thrillers',\n",
              " 'Anime Series, Crime TV Shows, TV Horror',\n",
              " 'Anime Features, Documentaries',\n",
              " 'Comedies, Horror Movies',\n",
              " 'International TV Shows, Spanish-Language TV Shows, Stand-Up Comedy & Talk Shows',\n",
              " 'Children & Family Movies, Documentaries, International Movies',\n",
              " 'Romantic TV Shows, TV Comedies, TV Dramas',\n",
              " 'Dramas, Faith & Spirituality, Romantic Movies',\n",
              " 'Dramas, Independent Movies, LGBTQ Movies',\n",
              " 'Comedies, Independent Movies, LGBTQ Movies',\n",
              " 'Action & Adventure, Cult Movies, Sci-Fi & Fantasy',\n",
              " 'Cult Movies, Horror Movies',\n",
              " 'Action & Adventure, Dramas, Sports Movies',\n",
              " 'Anime Series, Romantic TV Shows, Teen TV Shows',\n",
              " 'Dramas, International Movies, LGBTQ Movies',\n",
              " 'Dramas, Romantic Movies, Thrillers',\n",
              " 'Children & Family Movies, Dramas, Faith & Spirituality',\n",
              " 'Dramas, International Movies, Sports Movies',\n",
              " 'Action & Adventure, Horror Movies',\n",
              " 'Documentaries, International Movies, LGBTQ Movies',\n",
              " 'Dramas, Independent Movies, Sci-Fi & Fantasy',\n",
              " 'Comedies, Independent Movies, International Movies',\n",
              " 'Reality TV, TV Horror, TV Thrillers',\n",
              " 'TV Action & Adventure, TV Horror, TV Sci-Fi & Fantasy',\n",
              " 'International TV Shows, TV Horror, TV Sci-Fi & Fantasy',\n",
              " 'Independent Movies, International Movies, Thrillers',\n",
              " 'Independent Movies, Thrillers',\n",
              " 'Documentaries, Dramas',\n",
              " 'Action & Adventure, Sports Movies',\n",
              " 'Dramas, International Movies, Sci-Fi & Fantasy',\n",
              " 'Comedies, Independent Movies, Romantic Movies',\n",
              " 'Horror Movies, Romantic Movies, Sci-Fi & Fantasy',\n",
              " 'International TV Shows, Stand-Up Comedy & Talk Shows',\n",
              " 'Action & Adventure, Anime Features, Horror Movies',\n",
              " 'Cult Movies, Dramas, Music & Musicals',\n",
              " 'TV Dramas, TV Thrillers',\n",
              " 'Crime TV Shows, International TV Shows, Korean TV Shows',\n",
              " 'TV Horror, TV Mysteries, TV Thrillers',\n",
              " 'Comedies, Horror Movies, International Movies',\n",
              " 'Crime TV Shows, Docuseries, TV Mysteries',\n",
              " 'Comedies, International Movies, Sports Movies',\n",
              " 'Classic Movies, Music & Musicals',\n",
              " 'Reality TV, TV Comedies, TV Horror',\n",
              " 'Children & Family Movies, Faith & Spirituality, Music & Musicals',\n",
              " 'International TV Shows, Korean TV Shows, Stand-Up Comedy & Talk Shows',\n",
              " 'Dramas, Music & Musicals',\n",
              " 'Docuseries, Science & Nature TV, TV Action & Adventure',\n",
              " \"British TV Shows, Kids' TV, TV Dramas\",\n",
              " 'International TV Shows, Korean TV Shows, Romantic TV Shows',\n",
              " 'Horror Movies, Independent Movies',\n",
              " \"Anime Series, Kids' TV, TV Action & Adventure\",\n",
              " 'Comedies, Dramas, Music & Musicals',\n",
              " 'TV Horror, Teen TV Shows',\n",
              " 'Comedies, LGBTQ Movies, Thrillers',\n",
              " 'Docuseries, Reality TV, Science & Nature TV',\n",
              " 'Crime TV Shows, Spanish-Language TV Shows, TV Action & Adventure',\n",
              " 'Romantic TV Shows, Teen TV Shows',\n",
              " 'TV Comedies, Teen TV Shows',\n",
              " 'Romantic TV Shows, TV Dramas, Teen TV Shows',\n",
              " 'Children & Family Movies, Sci-Fi & Fantasy',\n",
              " 'Romantic TV Shows, TV Action & Adventure, TV Dramas',\n",
              " 'Comedies, International Movies, LGBTQ Movies',\n",
              " 'Dramas, Sci-Fi & Fantasy',\n",
              " \"Kids' TV, TV Thrillers\",\n",
              " 'TV Action & Adventure, TV Comedies, TV Sci-Fi & Fantasy',\n",
              " 'British TV Shows, Romantic TV Shows, TV Dramas',\n",
              " 'Anime Series, International TV Shows, Spanish-Language TV Shows',\n",
              " 'Docuseries, TV Comedies',\n",
              " 'Comedies, Romantic Movies, Sports Movies',\n",
              " 'TV Action & Adventure, TV Comedies, TV Dramas',\n",
              " 'Children & Family Movies, Dramas, Sports Movies',\n",
              " 'Action & Adventure, Dramas, Independent Movies',\n",
              " 'Spanish-Language TV Shows, TV Dramas',\n",
              " 'Dramas, LGBTQ Movies',\n",
              " 'TV Horror, TV Mysteries, TV Sci-Fi & Fantasy',\n",
              " 'Action & Adventure, Dramas, Faith & Spirituality',\n",
              " 'International TV Shows, TV Mysteries, TV Thrillers',\n",
              " 'British TV Shows, Classic & Cult TV, International TV Shows',\n",
              " 'Action & Adventure, Comedies, Independent Movies',\n",
              " 'Music & Musicals',\n",
              " \"British TV Shows, Kids' TV, TV Comedies\",\n",
              " 'Docuseries, Spanish-Language TV Shows',\n",
              " 'Dramas, Independent Movies, Sports Movies',\n",
              " 'TV Dramas, TV Mysteries, TV Thrillers',\n",
              " 'Comedies, LGBTQ Movies, Music & Musicals',\n",
              " 'International TV Shows, TV Action & Adventure, TV Mysteries',\n",
              " \"Kids' TV, TV Comedies, Teen TV Shows\",\n",
              " 'International TV Shows, TV Dramas, TV Horror',\n",
              " 'Comedies, International Movies, Thrillers',\n",
              " 'Classic & Cult TV, TV Action & Adventure, TV Sci-Fi & Fantasy',\n",
              " 'International TV Shows, TV Horror, TV Mysteries',\n",
              " 'Children & Family Movies, Documentaries',\n",
              " 'Music & Musicals, Romantic Movies',\n",
              " 'Romantic Movies',\n",
              " 'Children & Family Movies, Classic Movies, Comedies',\n",
              " 'TV Action & Adventure, TV Dramas',\n",
              " 'Dramas, LGBTQ Movies, Romantic Movies',\n",
              " 'Children & Family Movies, Comedies, Romantic Movies',\n",
              " 'Comedies, Sports Movies',\n",
              " 'International Movies',\n",
              " 'International TV Shows, Romantic TV Shows, TV Mysteries',\n",
              " 'Stand-Up Comedy & Talk Shows',\n",
              " 'Action & Adventure, International Movies, Romantic Movies',\n",
              " 'Reality TV, TV Comedies',\n",
              " 'Cult Movies, Dramas, International Movies',\n",
              " \"Kids' TV, TV Dramas\",\n",
              " 'Crime TV Shows, International TV Shows, TV Mysteries',\n",
              " 'Action & Adventure, Sci-Fi & Fantasy, Sports Movies',\n",
              " 'TV Dramas, TV Sci-Fi & Fantasy, TV Thrillers',\n",
              " 'Romantic TV Shows, TV Dramas, TV Sci-Fi & Fantasy',\n",
              " 'Docuseries, TV Sci-Fi & Fantasy',\n",
              " 'Anime Features, International Movies',\n",
              " \"British TV Shows, Classic & Cult TV, Kids' TV\",\n",
              " 'British TV Shows, Reality TV, Romantic TV Shows',\n",
              " 'Documentaries, Faith & Spirituality, International Movies',\n",
              " \"Kids' TV, Reality TV, TV Dramas\",\n",
              " 'LGBTQ Movies, Thrillers',\n",
              " 'TV Action & Adventure, TV Mysteries, TV Sci-Fi & Fantasy',\n",
              " 'Reality TV, Science & Nature TV',\n",
              " \"Kids' TV, TV Action & Adventure, TV Comedies\",\n",
              " 'International TV Shows, Romantic TV Shows, TV Action & Adventure',\n",
              " 'Children & Family Movies, Dramas, Independent Movies',\n",
              " 'Comedies, Music & Musicals, Romantic Movies',\n",
              " 'International TV Shows, Korean TV Shows, Reality TV',\n",
              " 'Classic & Cult TV, TV Dramas, TV Sci-Fi & Fantasy',\n",
              " 'Anime Features, Children & Family Movies',\n",
              " 'Action & Adventure, International Movies, Sci-Fi & Fantasy',\n",
              " 'Crime TV Shows, TV Action & Adventure, TV Dramas',\n",
              " 'Classic & Cult TV, TV Action & Adventure, TV Horror',\n",
              " 'International TV Shows, Korean TV Shows, TV Dramas',\n",
              " 'International TV Shows, TV Action & Adventure, TV Horror',\n",
              " 'Action & Adventure, Comedies, Romantic Movies',\n",
              " 'International TV Shows, Korean TV Shows, TV Action & Adventure',\n",
              " \"Classic & Cult TV, Kids' TV, TV Action & Adventure\",\n",
              " 'Anime Series, International TV Shows, TV Horror',\n",
              " 'International TV Shows, Korean TV Shows, TV Horror',\n",
              " 'Children & Family Movies, Comedies, International Movies',\n",
              " 'International Movies, Sci-Fi & Fantasy',\n",
              " 'International Movies, Sci-Fi & Fantasy, Thrillers',\n",
              " 'Children & Family Movies, Dramas, Romantic Movies',\n",
              " 'Anime Series, Romantic TV Shows',\n",
              " 'Comedies, Dramas, LGBTQ Movies',\n",
              " 'British TV Shows, International TV Shows, TV Action & Adventure',\n",
              " 'Docuseries, Science & Nature TV, TV Comedies',\n",
              " 'International TV Shows, Stand-Up Comedy & Talk Shows, TV Comedies',\n",
              " 'Children & Family Movies, Dramas, Music & Musicals',\n",
              " 'Action & Adventure, Independent Movies, International Movies',\n",
              " 'Action & Adventure, Children & Family Movies, Sci-Fi & Fantasy',\n",
              " 'Horror Movies, Independent Movies, Sci-Fi & Fantasy',\n",
              " 'TV Dramas, TV Sci-Fi & Fantasy, Teen TV Shows',\n",
              " 'Anime Features, International Movies, Sci-Fi & Fantasy',\n",
              " 'Dramas, Independent Movies, Music & Musicals',\n",
              " \"Kids' TV, TV Comedies, TV Dramas\",\n",
              " 'Children & Family Movies, Documentaries, Sports Movies',\n",
              " 'Independent Movies, Sci-Fi & Fantasy, Thrillers',\n",
              " 'Anime Features, Music & Musicals, Sci-Fi & Fantasy',\n",
              " 'TV Comedies, TV Dramas, TV Sci-Fi & Fantasy',\n",
              " 'Crime TV Shows, TV Action & Adventure',\n",
              " 'Comedies, Faith & Spirituality, Romantic Movies',\n",
              " \"Kids' TV, TV Action & Adventure\",\n",
              " 'Action & Adventure, Independent Movies',\n",
              " 'International TV Shows, Reality TV, TV Comedies',\n",
              " 'Docuseries, Reality TV, Teen TV Shows',\n",
              " 'Crime TV Shows, International TV Shows, Reality TV',\n",
              " 'Anime Series, Teen TV Shows',\n",
              " 'Crime TV Shows, Romantic TV Shows, TV Dramas',\n",
              " 'Anime Features, Romantic Movies',\n",
              " 'Horror Movies, Sci-Fi & Fantasy, Thrillers',\n",
              " 'International TV Shows, TV Comedies, TV Sci-Fi & Fantasy',\n",
              " 'International TV Shows, Romantic TV Shows',\n",
              " 'Anime Features, Music & Musicals',\n",
              " 'Anime Features, International Movies, Romantic Movies',\n",
              " 'International TV Shows, Romantic TV Shows, Teen TV Shows',\n",
              " 'Docuseries, Stand-Up Comedy & Talk Shows',\n",
              " 'Horror Movies, Independent Movies, Thrillers',\n",
              " 'TV Action & Adventure, TV Comedies, TV Horror',\n",
              " 'Documentaries, Stand-Up Comedy',\n",
              " \"Kids' TV, Spanish-Language TV Shows\",\n",
              " \"British TV Shows, Kids' TV, TV Thrillers\",\n",
              " \"Kids' TV, TV Action & Adventure, TV Dramas\",\n",
              " 'Anime Series, Crime TV Shows',\n",
              " 'Dramas, Sci-Fi & Fantasy, Thrillers',\n",
              " 'TV Comedies, TV Dramas, TV Horror',\n",
              " 'Children & Family Movies, Comedies, LGBTQ Movies',\n",
              " 'International TV Shows, TV Action & Adventure, TV Sci-Fi & Fantasy',\n",
              " 'Docuseries, TV Dramas',\n",
              " 'Horror Movies, International Movies, Romantic Movies',\n",
              " 'Crime TV Shows, Docuseries, Science & Nature TV',\n",
              " 'International Movies, Music & Musicals, Thrillers',\n",
              " \"Kids' TV, Spanish-Language TV Shows, Teen TV Shows\",\n",
              " 'Comedies, Horror Movies, Independent Movies',\n",
              " 'Action & Adventure, International Movies, Sports Movies',\n",
              " 'Action & Adventure, Independent Movies, Sci-Fi & Fantasy',\n",
              " 'Horror Movies, LGBTQ Movies, Music & Musicals',\n",
              " 'Comedies, Music & Musicals, Sports Movies',\n",
              " 'TV Horror, TV Mysteries, Teen TV Shows',\n",
              " 'Romantic TV Shows, TV Comedies',\n",
              " \"Kids' TV, Reality TV, Science & Nature TV\",\n",
              " 'International Movies, Romantic Movies, Sci-Fi & Fantasy',\n",
              " 'TV Comedies, TV Horror, TV Thrillers',\n",
              " 'TV Action & Adventure',\n",
              " 'International TV Shows, Spanish-Language TV Shows, TV Horror',\n",
              " 'Crime TV Shows, TV Action & Adventure, TV Thrillers',\n",
              " 'Music & Musicals, Stand-Up Comedy',\n",
              " 'British TV Shows, TV Comedies',\n",
              " 'TV Comedies, TV Sci-Fi & Fantasy, Teen TV Shows',\n",
              " 'TV Comedies, TV Sci-Fi & Fantasy',\n",
              " 'Romantic TV Shows, Spanish-Language TV Shows, TV Comedies',\n",
              " 'Crime TV Shows, International TV Shows, TV Sci-Fi & Fantasy',\n",
              " 'British TV Shows, International TV Shows, Romantic TV Shows',\n",
              " \"Crime TV Shows, Kids' TV\",\n",
              " 'Horror Movies, International Movies, Sci-Fi & Fantasy',\n",
              " 'TV Comedies, TV Mysteries',\n",
              " 'Cult Movies, Horror Movies, Independent Movies',\n",
              " 'British TV Shows, Docuseries, TV Comedies',\n",
              " 'Comedies, Documentaries',\n",
              " 'Reality TV, Science & Nature TV, TV Action & Adventure',\n",
              " 'TV Comedies, TV Dramas, TV Mysteries',\n",
              " 'Crime TV Shows, TV Comedies, Teen TV Shows',\n",
              " \"Docuseries, Kids' TV, Science & Nature TV\",\n",
              " 'Reality TV, Spanish-Language TV Shows',\n",
              " 'Action & Adventure, Anime Features, Sci-Fi & Fantasy',\n",
              " \"Crime TV Shows, Kids' TV, TV Comedies\",\n",
              " 'Dramas, Faith & Spirituality, Independent Movies',\n",
              " 'Documentaries, Faith & Spirituality',\n",
              " 'British TV Shows, International TV Shows, Stand-Up Comedy & Talk Shows',\n",
              " 'Comedies, Dramas, Faith & Spirituality',\n",
              " 'Classic & Cult TV, TV Comedies',\n",
              " 'Dramas, Romantic Movies, Sports Movies',\n",
              " 'Stand-Up Comedy & Talk Shows, TV Mysteries, TV Sci-Fi & Fantasy',\n",
              " 'TV Sci-Fi & Fantasy, TV Thrillers',\n",
              " 'Comedies, Independent Movies, Music & Musicals',\n",
              " 'Comedies, Cult Movies, Independent Movies',\n",
              " 'Documentaries, Dramas, International Movies',\n",
              " 'British TV Shows, TV Horror, TV Thrillers',\n",
              " 'British TV Shows, Docuseries, Science & Nature TV',\n",
              " 'Children & Family Movies, Comedies, Cult Movies',\n",
              " 'Sports Movies',\n",
              " 'Sci-Fi & Fantasy',\n",
              " 'Comedies, LGBTQ Movies',\n",
              " 'Comedies, Independent Movies, Thrillers',\n",
              " 'Classic Movies, Cult Movies, Dramas',\n",
              " 'Action & Adventure, Children & Family Movies, Independent Movies',\n",
              " 'Action & Adventure, Documentaries, International Movies',\n",
              " 'Children & Family Movies, Independent Movies',\n",
              " 'Comedies, Cult Movies, Dramas',\n",
              " 'International TV Shows, TV Horror, TV Thrillers',\n",
              " 'Classic Movies, Thrillers',\n",
              " 'Crime TV Shows, TV Dramas, TV Horror',\n",
              " 'British TV Shows, Docuseries, Reality TV',\n",
              " 'Documentaries, LGBTQ Movies, Music & Musicals',\n",
              " 'Classic Movies, Dramas, Romantic Movies',\n",
              " 'Crime TV Shows, Romantic TV Shows, Spanish-Language TV Shows',\n",
              " 'Classic Movies, Cult Movies, Horror Movies',\n",
              " 'Anime Series, Crime TV Shows, TV Thrillers',\n",
              " 'Children & Family Movies, Classic Movies',\n",
              " 'Classic Movies, Comedies, International Movies',\n",
              " 'Comedies, Sci-Fi & Fantasy',\n",
              " 'Action & Adventure, Cult Movies, Dramas',\n",
              " 'Documentaries, Faith & Spirituality, Music & Musicals',\n",
              " 'British TV Shows, Classic & Cult TV, TV Comedies',\n",
              " 'International Movies, Sports Movies',\n",
              " 'International TV Shows',\n",
              " \"Classic & Cult TV, Kids' TV, Spanish-Language TV Shows\",\n",
              " 'Romantic TV Shows, Spanish-Language TV Shows, TV Dramas',\n",
              " 'Children & Family Movies, Comedies, Faith & Spirituality',\n",
              " 'British TV Shows, Crime TV Shows, TV Dramas',\n",
              " 'Classic Movies, Dramas, Music & Musicals',\n",
              " 'Cult Movies, Horror Movies, Thrillers',\n",
              " 'Action & Adventure, Classic Movies, Sci-Fi & Fantasy',\n",
              " 'TV Action & Adventure, TV Comedies',\n",
              " 'Classic Movies, Comedies, Music & Musicals',\n",
              " 'Independent Movies',\n",
              " 'Documentaries, Horror Movies',\n",
              " 'Classic & Cult TV, TV Horror, TV Mysteries',\n",
              " 'Comedies, Faith & Spirituality, International Movies',\n",
              " 'Dramas, Horror Movies, Sci-Fi & Fantasy',\n",
              " 'British TV Shows, TV Dramas, TV Sci-Fi & Fantasy',\n",
              " 'Comedies, Cult Movies, Horror Movies',\n",
              " 'Comedies, Cult Movies, Sports Movies',\n",
              " 'Classic Movies, Documentaries',\n",
              " 'Action & Adventure, Faith & Spirituality, Sci-Fi & Fantasy',\n",
              " 'Action & Adventure, Children & Family Movies',\n",
              " 'International TV Shows, Reality TV, TV Action & Adventure',\n",
              " 'Docuseries, Science & Nature TV, TV Dramas',\n",
              " 'Anime Features',\n",
              " 'Action & Adventure, Horror Movies, Independent Movies',\n",
              " 'Action & Adventure, Classic Movies, International Movies',\n",
              " 'Cult Movies, Independent Movies, Thrillers',\n",
              " 'Crime TV Shows, TV Comedies',\n",
              " 'Classic Movies, Cult Movies, Documentaries',\n",
              " \"Classic & Cult TV, Kids' TV, TV Comedies\",\n",
              " 'Classic Movies, Dramas, LGBTQ Movies',\n",
              " 'Classic Movies, Dramas, Sports Movies',\n",
              " 'Action & Adventure, Cult Movies',\n",
              " 'Action & Adventure, Comedies, Music & Musicals',\n",
              " 'Classic Movies, Horror Movies, Thrillers',\n",
              " 'Classic Movies, Comedies, Independent Movies',\n",
              " 'Children & Family Movies, Classic Movies, Dramas',\n",
              " 'Dramas, Faith & Spirituality, Sports Movies',\n",
              " 'Classic Movies, Comedies, Romantic Movies',\n",
              " 'Dramas, Horror Movies, Music & Musicals',\n",
              " 'Classic Movies, Independent Movies, Thrillers',\n",
              " 'Children & Family Movies, Faith & Spirituality',\n",
              " 'Classic Movies, Comedies, Sports Movies',\n",
              " 'Comedies, Dramas, Sports Movies',\n",
              " 'Action & Adventure, Romantic Movies, Sci-Fi & Fantasy',\n",
              " 'Classic & Cult TV, TV Sci-Fi & Fantasy',\n",
              " 'Comedies, Cult Movies, LGBTQ Movies',\n",
              " 'Comedies, Horror Movies, Sci-Fi & Fantasy',\n",
              " 'Action & Adventure, Comedies, Horror Movies',\n",
              " 'Classic & Cult TV, Crime TV Shows, TV Dramas',\n",
              " 'Action & Adventure, Documentaries, Sports Movies',\n",
              " 'International Movies, LGBTQ Movies, Romantic Movies',\n",
              " 'Cult Movies, Dramas, Thrillers']"
            ]
          },
          "execution_count": 396,
          "metadata": {},
          "output_type": "execute_result"
        }
      ],
      "source": [
        "df.listed_in.unique().tolist()"
      ]
    },
    {
      "cell_type": "code",
      "execution_count": 486,
      "metadata": {},
      "outputs": [
        {
          "data": {
            "text/plain": [
              "\"Documentaries, International TV Shows, TV Dramas, TV Mysteries, Crime TV Shows, International TV Shows, TV Action & Adventure, Docuseries, Reality TV, International TV Shows, Romantic TV Shows, TV Comedies, TV Dramas, TV Horror, TV Mysteries, Children & Family Movies, Dramas, Independent Movies, International Movies, British TV Shows, Reality TV, Comedies, Dramas, Crime TV Shows, Docuseries, International TV Shows, Dramas, International Movies, Children & Family Movies, Comedies, British TV Shows, Crime TV Shows, Docuseries, TV Comedies, TV Dramas, Documentaries, International Movies, Crime TV Shows, Spanish-Language TV Shows, TV Dramas, Thrillers, International TV Shows, Spanish-Language TV Shows, TV Action & Adventure, International TV Shows, TV Action & Adventure, TV Dramas, Comedies, International Movies, Comedies, International Movies, Romantic Movies, Docuseries, International TV Shows, Reality TV, Comedies, International Movies, Music & Musicals, Comedies, Horror Movies, Sci-Fi & Fantasy, TV Comedies, British TV Shows, International TV Shows, TV Comedies, International TV Shows, TV Dramas, TV Thrillers, Kids' TV, Dramas, International Movies, Thrillers, Action & Adventure, Dramas, International Movies, Kids' TV, TV Comedies, Action & Adventure, Dramas, Kids' TV, TV Sci-Fi & Fantasy, Action & Adventure, Classic Movies, Dramas, Dramas, Horror Movies, Thrillers, Action & Adventure, Horror Movies, Thrillers, Action & Adventure, Dramas, Thrillers, International TV Shows, TV Dramas, International TV Shows, TV Dramas, TV Sci-Fi & Fantasy, Action & Adventure, Anime Features, International Movies, Reality TV, Docuseries, International TV Shows, Documentaries, International Movies, Sports Movies, International TV Shows, Reality TV, Romantic TV Shows, British TV Shows, Docuseries, International TV Shows, Anime Series, International TV Shows, Comedies, Dramas, International Movies, Crime TV Shows, TV Comedies, TV Dramas, Action & Adventure, Comedies, Dramas, Anime Series, Kids' TV, International Movies, Thrillers, Kids' TV, Korean TV Shows, Documentaries, Sports Movies, Sci-Fi & Fantasy, Thrillers, Dramas, International Movies, Romantic Movies, Documentaries, Music & Musicals, Kids' TV, TV Comedies, TV Sci-Fi & Fantasy, British TV Shows, Kids' TV, Docuseries, Science & Nature TV, Children & Family Movies, Dramas, Kids' TV, TV Dramas, Teen TV Shows, Crime TV Shows, International TV Shows, Spanish-Language TV Shows, Docuseries, International TV Shows, Spanish-Language TV Shows, Dramas, Comedies, Romantic Movies, Dramas, Romantic Movies, Comedies, Dramas, Independent Movies, Crime TV Shows, TV Action & Adventure, TV Comedies, Children & Family Movies, Music & Musicals, Action & Adventure, Classic Movies, Cult Movies, International TV Shows, TV Action & Adventure, TV Comedies, Action & Adventure, Sci-Fi & Fantasy, Action & Adventure, Comedies, Classic Movies, Comedies, Dramas, Comedies, Cult Movies, Comedies, Cult Movies, Music & Musicals, Comedies, Music & Musicals, TV Shows, Action & Adventure, International Movies, Anime Series, International TV Shows, Teen TV Shows, Action & Adventure, Children & Family Movies, Cult Movies, Comedies, Dramas, Romantic Movies, Comedies, Cult Movies, Sci-Fi & Fantasy, Classic Movies, Dramas, Action & Adventure, Children & Family Movies, Comedies, Dramas, Faith & Spirituality, Documentaries, LGBTQ Movies, Action & Adventure, Classic Movies, Docuseries, International TV Shows, TV Comedies, Dramas, Independent Movies, Action & Adventure, Comedies, International Movies, International TV Shows, Spanish-Language TV Shows, TV Dramas, Crime TV Shows, International TV Shows, TV Dramas, Action & Adventure, Horror Movies, International Movies, Comedies, International Movies, Sci-Fi & Fantasy, Action & Adventure, International Movies, Music & Musicals, Dramas, International Movies, Music & Musicals, Horror Movies, International Movies, Reality TV, Teen TV Shows, Crime TV Shows, TV Dramas, TV Mysteries, International TV Shows, Reality TV, International TV Shows, TV Comedies, TV Dramas, Dramas, Independent Movies, Romantic Movies, Horror Movies, Documentaries, LGBTQ Movies, Sports Movies, Horror Movies, International Movies, Thrillers, Action & Adventure, Anime Features, TV Dramas, TV Mysteries, TV Sci-Fi & Fantasy, International TV Shows, Spanish-Language TV Shows, TV Comedies, Children & Family Movies, Comedies, Music & Musicals, Comedies, Independent Movies, Anime Series, International TV Shows, Romantic TV Shows, Classic Movies, Dramas, Independent Movies, International TV Shows, Romantic TV Shows, Spanish-Language TV Shows, International TV Shows, TV Dramas, Teen TV Shows, Stand-Up Comedy, Action & Adventure, Anime Features, Children & Family Movies, International TV Shows, Romantic TV Shows, TV Dramas, International Movies, Music & Musicals, TV Action & Adventure, TV Dramas, TV Mysteries, Horror Movies, Independent Movies, International Movies, Comedies, Cult Movies, International Movies, Classic Movies, Dramas, International Movies, Movies, Crime TV Shows, Docuseries, Children & Family Movies, Comedies, Sci-Fi & Fantasy, Anime Series, International TV Shows, TV Thrillers, Action & Adventure, Horror Movies, Sci-Fi & Fantasy, Classic Movies, Comedies, Cult Movies, TV Dramas, Teen TV Shows, Action & Adventure, Sci-Fi & Fantasy, Thrillers, Children & Family Movies, Comedies, Dramas, Dramas, Sports Movies, Action & Adventure, Dramas, Sci-Fi & Fantasy, Action & Adventure, Comedies, Cult Movies, Dramas, Independent Movies, Thrillers, TV Dramas, TV Sci-Fi & Fantasy, Action & Adventure, International Movies, Thrillers, British TV Shows, International TV Shows, Reality TV, TV Action & Adventure, TV Dramas, Teen TV Shows, Anime Series, Crime TV Shows, TV Action & Adventure, TV Sci-Fi & Fantasy, Crime TV Shows, International TV Shows, TV Comedies, Stand-Up Comedy & Talk Shows, TV Comedies, Classic & Cult TV, TV Action & Adventure, TV Dramas, Children & Family Movies, Sports Movies, TV Action & Adventure, TV Sci-Fi & Fantasy, Anime Series, Stand-Up Comedy & Talk Shows, TV Dramas, Anime Features, Children & Family Movies, International Movies, Classic & Cult TV, Crime TV Shows, International TV Shows, Crime TV Shows, International TV Shows, Romantic TV Shows, Horror Movies, LGBTQ Movies, Action & Adventure, Dramas, Romantic Movies, Documentaries, International Movies, Music & Musicals, TV Comedies, TV Dramas, Teen TV Shows, Children & Family Movies, Comedies, Sports Movies, Children & Family Movies, Dramas, International Movies, Comedies, Documentaries, International Movies, Romantic TV Shows, TV Dramas, Anime Series, TV Horror, TV Thrillers, International Movies, Romantic Movies, TV Action & Adventure, TV Dramas, TV Sci-Fi & Fantasy, Kids' TV, Korean TV Shows, TV Comedies, British TV Shows, Crime TV Shows, International TV Shows, Crime TV Shows, TV Horror, TV Mysteries, Docuseries, International TV Shows, Science & Nature TV, British TV Shows, International TV Shows, TV Dramas, Kids' TV, TV Action & Adventure, TV Sci-Fi & Fantasy, International Movies, Romantic Movies, Thrillers, Action & Adventure, Cult Movies, International Movies, Action & Adventure, Comedies, Sci-Fi & Fantasy, International TV Shows, Kids' TV, TV Mysteries, Action & Adventure, Thrillers, Dramas, Faith & Spirituality, International Movies, Action & Adventure, Classic Movies, Comedies, Action & Adventure, Comedies, Sports Movies, Action & Adventure, Children & Family Movies, Classic Movies, Action & Adventure, Children & Family Movies, Dramas, Horror Movies, Thrillers, Action & Adventure, Romantic Movies, Dramas, Romantic Movies, Sci-Fi & Fantasy, Dramas, Music & Musicals, Romantic Movies, Anime Series, Crime TV Shows, International TV Shows, Reality TV, Romantic TV Shows, International Movies, Music & Musicals, Romantic Movies, Reality TV, TV Action & Adventure, TV Mysteries, Crime TV Shows, TV Dramas, International TV Shows, Reality TV, Spanish-Language TV Shows, Crime TV Shows, TV Dramas, TV Thrillers, British TV Shows, Docuseries, International TV Shows, Korean TV Shows, TV Comedies, Action & Adventure, Anime Features, Classic Movies, TV Action & Adventure, TV Dramas, TV Horror, Crime TV Shows, International TV Shows, TV Thrillers, Anime Series, Crime TV Shows, TV Horror, Anime Features, Documentaries, Comedies, Horror Movies, International TV Shows, Spanish-Language TV Shows, Stand-Up Comedy & Talk Shows, Children & Family Movies, Documentaries, International Movies, Romantic TV Shows, TV Comedies, TV Dramas, Dramas, Faith & Spirituality, Romantic Movies, Dramas, Independent Movies, LGBTQ Movies, Comedies, Independent Movies, LGBTQ Movies, Action & Adventure, Cult Movies, Sci-Fi & Fantasy, Cult Movies, Horror Movies, Action & Adventure, Dramas, Sports Movies, Anime Series, Romantic TV Shows, Teen TV Shows, Dramas, International Movies, LGBTQ Movies, Dramas, Romantic Movies, Thrillers, Children & Family Movies, Dramas, Faith & Spirituality, Dramas, International Movies, Sports Movies, Action & Adventure, Horror Movies, Documentaries, International Movies, LGBTQ Movies, Dramas, Independent Movies, Sci-Fi & Fantasy, Comedies, Independent Movies, International Movies, Reality TV, TV Horror, TV Thrillers, TV Action & Adventure, TV Horror, TV Sci-Fi & Fantasy, International TV Shows, TV Horror, TV Sci-Fi & Fantasy, Independent Movies, International Movies, Thrillers, Independent Movies, Thrillers, Documentaries, Dramas, Action & Adventure, Sports Movies, Dramas, International Movies, Sci-Fi & Fantasy, Comedies, Independent Movies, Romantic Movies, Horror Movies, Romantic Movies, Sci-Fi & Fantasy, International TV Shows, Stand-Up Comedy & Talk Shows, Action & Adventure, Anime Features, Horror Movies, Cult Movies, Dramas, Music & Musicals, TV Dramas, TV Thrillers, Crime TV Shows, International TV Shows, Korean TV Shows, TV Horror, TV Mysteries, TV Thrillers, Comedies, Horror Movies, International Movies, Crime TV Shows, Docuseries, TV Mysteries, Comedies, International Movies, Sports Movies, Classic Movies, Music & Musicals, Reality TV, TV Comedies, TV Horror, Children & Family Movies, Faith & Spirituality, Music & Musicals, International TV Shows, Korean TV Shows, Stand-Up Comedy & Talk Shows, Dramas, Music & Musicals, Docuseries, Science & Nature TV, TV Action & Adventure, British TV Shows, Kids' TV, TV Dramas, International TV Shows, Korean TV Shows, Romantic TV Shows, Horror Movies, Independent Movies, Anime Series, Kids' TV, TV Action & Adventure, Comedies, Dramas, Music & Musicals, TV Horror, Teen TV Shows, Comedies, LGBTQ Movies, Thrillers, Docuseries, Reality TV, Science & Nature TV, Crime TV Shows, Spanish-Language TV Shows, TV Action & Adventure, Romantic TV Shows, Teen TV Shows, TV Comedies, Teen TV Shows, Romantic TV Shows, TV Dramas, Teen TV Shows, Children & Family Movies, Sci-Fi & Fantasy, Romantic TV Shows, TV Action & Adventure, TV Dramas, Comedies, International Movies, LGBTQ Movies, Dramas, Sci-Fi & Fantasy, Kids' TV, TV Thrillers, TV Action & Adventure, TV Comedies, TV Sci-Fi & Fantasy, British TV Shows, Romantic TV Shows, TV Dramas, Anime Series, International TV Shows, Spanish-Language TV Shows, Docuseries, TV Comedies, Comedies, Romantic Movies, Sports Movies, TV Action & Adventure, TV Comedies, TV Dramas, Children & Family Movies, Dramas, Sports Movies, Action & Adventure, Dramas, Independent Movies, Spanish-Language TV Shows, TV Dramas, Dramas, LGBTQ Movies, TV Horror, TV Mysteries, TV Sci-Fi & Fantasy, Action & Adventure, Dramas, Faith & Spirituality, International TV Shows, TV Mysteries, TV Thrillers, British TV Shows, Classic & Cult TV, International TV Shows, Action & Adventure, Comedies, Independent Movies, Music & Musicals, British TV Shows, Kids' TV, TV Comedies, Docuseries, Spanish-Language TV Shows, Dramas, Independent Movies, Sports Movies, TV Dramas, TV Mysteries, TV Thrillers, Comedies, LGBTQ Movies, Music & Musicals, International TV Shows, TV Action & Adventure, TV Mysteries, Kids' TV, TV Comedies, Teen TV Shows, International TV Shows, TV Dramas, TV Horror, Comedies, International Movies, Thrillers, Classic & Cult TV, TV Action & Adventure, TV Sci-Fi & Fantasy, International TV Shows, TV Horror, TV Mysteries, Children & Family Movies, Documentaries, Music & Musicals, Romantic Movies, Romantic Movies, Children & Family Movies, Classic Movies, Comedies, TV Action & Adventure, TV Dramas, Dramas, LGBTQ Movies, Romantic Movies, Children & Family Movies, Comedies, Romantic Movies, Comedies, Sports Movies, International Movies, International TV Shows, Romantic TV Shows, TV Mysteries, Stand-Up Comedy & Talk Shows, Action & Adventure, International Movies, Romantic Movies, Reality TV, TV Comedies, Cult Movies, Dramas, International Movies, Kids' TV, TV Dramas, Crime TV Shows, International TV Shows, TV Mysteries, Action & Adventure, Sci-Fi & Fantasy, Sports Movies, TV Dramas, TV Sci-Fi & Fantasy, TV Thrillers, Romantic TV Shows, TV Dramas, TV Sci-Fi & Fantasy, Docuseries, TV Sci-Fi & Fantasy, Anime Features, International Movies, British TV Shows, Classic & Cult TV, Kids' TV, British TV Shows, Reality TV, Romantic TV Shows, Documentaries, Faith & Spirituality, International Movies, Kids' TV, Reality TV, TV Dramas, LGBTQ Movies, Thrillers, TV Action & Adventure, TV Mysteries, TV Sci-Fi & Fantasy, Reality TV, Science & Nature TV, Kids' TV, TV Action & Adventure, TV Comedies, International TV Shows, Romantic TV Shows, TV Action & Adventure, Children & Family Movies, Dramas, Independent Movies, Comedies, Music & Musicals, Romantic Movies, International TV Shows, Korean TV Shows, Reality TV, Classic & Cult TV, TV Dramas, TV Sci-Fi & Fantasy, Anime Features, Children & Family Movies, Action & Adventure, International Movies, Sci-Fi & Fantasy, Crime TV Shows, TV Action & Adventure, TV Dramas, Classic & Cult TV, TV Action & Adventure, TV Horror, International TV Shows, Korean TV Shows, TV Dramas, International TV Shows, TV Action & Adventure, TV Horror, Action & Adventure, Comedies, Romantic Movies, International TV Shows, Korean TV Shows, TV Action & Adventure, Classic & Cult TV, Kids' TV, TV Action & Adventure, Anime Series, International TV Shows, TV Horror, International TV Shows, Korean TV Shows, TV Horror, Children & Family Movies, Comedies, International Movies, International Movies, Sci-Fi & Fantasy, International Movies, Sci-Fi & Fantasy, Thrillers, Children & Family Movies, Dramas, Romantic Movies, Anime Series, Romantic TV Shows, Comedies, Dramas, LGBTQ Movies, British TV Shows, International TV Shows, TV Action & Adventure, Docuseries, Science & Nature TV, TV Comedies, International TV Shows, Stand-Up Comedy & Talk Shows, TV Comedies, Children & Family Movies, Dramas, Music & Musicals, Action & Adventure, Independent Movies, International Movies, Action & Adventure, Children & Family Movies, Sci-Fi & Fantasy, Horror Movies, Independent Movies, Sci-Fi & Fantasy, TV Dramas, TV Sci-Fi & Fantasy, Teen TV Shows, Anime Features, International Movies, Sci-Fi & Fantasy, Dramas, Independent Movies, Music & Musicals, Kids' TV, TV Comedies, TV Dramas, Children & Family Movies, Documentaries, Sports Movies, Independent Movies, Sci-Fi & Fantasy, Thrillers, Anime Features, Music & Musicals, Sci-Fi & Fantasy, TV Comedies, TV Dramas, TV Sci-Fi & Fantasy, Crime TV Shows, TV Action & Adventure, Comedies, Faith & Spirituality, Romantic Movies, Kids' TV, TV Action & Adventure, Action & Adventure, Independent Movies, International TV Shows, Reality TV, TV Comedies, Docuseries, Reality TV, Teen TV Shows, Crime TV Shows, International TV Shows, Reality TV, Anime Series, Teen TV Shows, Crime TV Shows, Romantic TV Shows, TV Dramas, Anime Features, Romantic Movies, Horror Movies, Sci-Fi & Fantasy, Thrillers, International TV Shows, TV Comedies, TV Sci-Fi & Fantasy, International TV Shows, Romantic TV Shows, Anime Features, Music & Musicals, Anime Features, International Movies, Romantic Movies, International TV Shows, Romantic TV Shows, Teen TV Shows, Docuseries, Stand-Up Comedy & Talk Shows, Horror Movies, Independent Movies, Thrillers, TV Action & Adventure, TV Comedies, TV Horror, Documentaries, Stand-Up Comedy, Kids' TV, Spanish-Language TV Shows, British TV Shows, Kids' TV, TV Thrillers, Kids' TV, TV Action & Adventure, TV Dramas, Anime Series, Crime TV Shows, Dramas, Sci-Fi & Fantasy, Thrillers, TV Comedies, TV Dramas, TV Horror, Children & Family Movies, Comedies, LGBTQ Movies, International TV Shows, TV Action & Adventure, TV Sci-Fi & Fantasy, Docuseries, TV Dramas, Horror Movies, International Movies, Romantic Movies, Crime TV Shows, Docuseries, Science & Nature TV, International Movies, Music & Musicals, Thrillers, Kids' TV, Spanish-Language TV Shows, Teen TV Shows, Comedies, Horror Movies, Independent Movies, Action & Adventure, International Movies, Sports Movies, Action & Adventure, Independent Movies, Sci-Fi & Fantasy, Horror Movies, LGBTQ Movies, Music & Musicals, Comedies, Music & Musicals, Sports Movies, TV Horror, TV Mysteries, Teen TV Shows, Romantic TV Shows, TV Comedies, Kids' TV, Reality TV, Science & Nature TV, International Movies, Romantic Movies, Sci-Fi & Fantasy, TV Comedies, TV Horror, TV Thrillers, TV Action & Adventure, International TV Shows, Spanish-Language TV Shows, TV Horror, Crime TV Shows, TV Action & Adventure, TV Thrillers, Music & Musicals, Stand-Up Comedy, British TV Shows, TV Comedies, TV Comedies, TV Sci-Fi & Fantasy, Teen TV Shows, TV Comedies, TV Sci-Fi & Fantasy, Romantic TV Shows, Spanish-Language TV Shows, TV Comedies, Crime TV Shows, International TV Shows, TV Sci-Fi & Fantasy, British TV Shows, International TV Shows, Romantic TV Shows, Crime TV Shows, Kids' TV, Horror Movies, International Movies, Sci-Fi & Fantasy, TV Comedies, TV Mysteries, Cult Movies, Horror Movies, Independent Movies, British TV Shows, Docuseries, TV Comedies, Comedies, Documentaries, Reality TV, Science & Nature TV, TV Action & Adventure, TV Comedies, TV Dramas, TV Mysteries, Crime TV Shows, TV Comedies, Teen TV Shows, Docuseries, Kids' TV, Science & Nature TV, Reality TV, Spanish-Language TV Shows, Action & Adventure, Anime Features, Sci-Fi & Fantasy, Crime TV Shows, Kids' TV, TV Comedies, Dramas, Faith & Spirituality, Independent Movies, Documentaries, Faith & Spirituality, British TV Shows, International TV Shows, Stand-Up Comedy & Talk Shows, Comedies, Dramas, Faith & Spirituality, Classic & Cult TV, TV Comedies, Dramas, Romantic Movies, Sports Movies, Stand-Up Comedy & Talk Shows, TV Mysteries, TV Sci-Fi & Fantasy, TV Sci-Fi & Fantasy, TV Thrillers, Comedies, Independent Movies, Music & Musicals, Comedies, Cult Movies, Independent Movies, Documentaries, Dramas, International Movies, British TV Shows, TV Horror, TV Thrillers, British TV Shows, Docuseries, Science & Nature TV, Children & Family Movies, Comedies, Cult Movies, Sports Movies, Sci-Fi & Fantasy, Comedies, LGBTQ Movies, Comedies, Independent Movies, Thrillers, Classic Movies, Cult Movies, Dramas, Action & Adventure, Children & Family Movies, Independent Movies, Action & Adventure, Documentaries, International Movies, Children & Family Movies, Independent Movies, Comedies, Cult Movies, Dramas, International TV Shows, TV Horror, TV Thrillers, Classic Movies, Thrillers, Crime TV Shows, TV Dramas, TV Horror, British TV Shows, Docuseries, Reality TV, Documentaries, LGBTQ Movies, Music & Musicals, Classic Movies, Dramas, Romantic Movies, Crime TV Shows, Romantic TV Shows, Spanish-Language TV Shows, Classic Movies, Cult Movies, Horror Movies, Anime Series, Crime TV Shows, TV Thrillers, Children & Family Movies, Classic Movies, Classic Movies, Comedies, International Movies, Comedies, Sci-Fi & Fantasy, Action & Adventure, Cult Movies, Dramas, Documentaries, Faith & Spirituality, Music & Musicals, British TV Shows, Classic & Cult TV, TV Comedies, International Movies, Sports Movies, International TV Shows, Classic & Cult TV, Kids' TV, Spanish-Language TV Shows, Romantic TV Shows, Spanish-Language TV Shows, TV Dramas, Children & Family Movies, Comedies, Faith & Spirituality, British TV Shows, Crime TV Shows, TV Dramas, Classic Movies, Dramas, Music & Musicals, Cult Movies, Horror Movies, Thrillers, Action & Adventure, Classic Movies, Sci-Fi & Fantasy, TV Action & Adventure, TV Comedies, Classic Movies, Comedies, Music & Musicals, Independent Movies, Documentaries, Horror Movies, Classic & Cult TV, TV Horror, TV Mysteries, Comedies, Faith & Spirituality, International Movies, Dramas, Horror Movies, Sci-Fi & Fantasy, British TV Shows, TV Dramas, TV Sci-Fi & Fantasy, Comedies, Cult Movies, Horror Movies, Comedies, Cult Movies, Sports Movies, Classic Movies, Documentaries, Action & Adventure, Faith & Spirituality, Sci-Fi & Fantasy, Action & Adventure, Children & Family Movies, International TV Shows, Reality TV, TV Action & Adventure, Docuseries, Science & Nature TV, TV Dramas, Anime Features, Action & Adventure, Horror Movies, Independent Movies, Action & Adventure, Classic Movies, International Movies, Cult Movies, Independent Movies, Thrillers, Crime TV Shows, TV Comedies, Classic Movies, Cult Movies, Documentaries, Classic & Cult TV, Kids' TV, TV Comedies, Classic Movies, Dramas, LGBTQ Movies, Classic Movies, Dramas, Sports Movies, Action & Adventure, Cult Movies, Action & Adventure, Comedies, Music & Musicals, Classic Movies, Horror Movies, Thrillers, Classic Movies, Comedies, Independent Movies, Children & Family Movies, Classic Movies, Dramas, Dramas, Faith & Spirituality, Sports Movies, Classic Movies, Comedies, Romantic Movies, Dramas, Horror Movies, Music & Musicals, Classic Movies, Independent Movies, Thrillers, Children & Family Movies, Faith & Spirituality, Classic Movies, Comedies, Sports Movies, Comedies, Dramas, Sports Movies, Action & Adventure, Romantic Movies, Sci-Fi & Fantasy, Classic & Cult TV, TV Sci-Fi & Fantasy, Comedies, Cult Movies, LGBTQ Movies, Comedies, Horror Movies, Sci-Fi & Fantasy, Action & Adventure, Comedies, Horror Movies, Classic & Cult TV, Crime TV Shows, TV Dramas, Action & Adventure, Documentaries, Sports Movies, International Movies, LGBTQ Movies, Romantic Movies, Cult Movies, Dramas, Thrillers\""
            ]
          },
          "execution_count": 486,
          "metadata": {},
          "output_type": "execute_result"
        }
      ],
      "source": [
        "\", \".join(df.listed_in.unique().tolist())"
      ]
    },
    {
      "cell_type": "code",
      "execution_count": 487,
      "metadata": {},
      "outputs": [
        {
          "data": {
            "text/plain": [
              "['Documentaries', 'International TV Shows', 'TV Dramas', 'TV Mysteries', 'Crime TV Shows', 'International TV Shows', 'TV Action & Adventure', 'Docuseries', 'Reality TV', 'International TV Shows', 'Romantic TV Shows', 'TV Comedies', 'TV Dramas', 'TV Horror', 'TV Mysteries', 'Children & Family Movies', 'Dramas', 'Independent Movies', 'International Movies', 'British TV Shows', 'Reality TV', 'Comedies', 'Dramas', 'Crime TV Shows', 'Docuseries', 'International TV Shows', 'Dramas', 'International Movies', 'Children & Family Movies', 'Comedies', 'British TV Shows', 'Crime TV Shows', 'Docuseries', 'TV Comedies', 'TV Dramas', 'Documentaries', 'International Movies', 'Crime TV Shows', 'Spanish-Language TV Shows', 'TV Dramas', 'Thrillers', 'International TV Shows', 'Spanish-Language TV Shows', 'TV Action & Adventure', 'International TV Shows', 'TV Action & Adventure', 'TV Dramas', 'Comedies', 'International Movies', 'Comedies', 'International Movies', 'Romantic Movies', 'Docuseries', 'International TV Shows', 'Reality TV', 'Comedies', 'International Movies', 'Music & Musicals', 'Comedies', 'Horror Movies', 'Sci-Fi & Fantasy', 'TV Comedies', 'British TV Shows', 'International TV Shows', 'TV Comedies', 'International TV Shows', 'TV Dramas', 'TV Thrillers', \"Kids' TV\", 'Dramas', 'International Movies', 'Thrillers', 'Action & Adventure', 'Dramas', 'International Movies', \"Kids' TV\", 'TV Comedies', 'Action & Adventure', 'Dramas', \"Kids' TV\", 'TV Sci-Fi & Fantasy', 'Action & Adventure', 'Classic Movies', 'Dramas', 'Dramas', 'Horror Movies', 'Thrillers', 'Action & Adventure', 'Horror Movies', 'Thrillers', 'Action & Adventure', 'Dramas', 'Thrillers', 'International TV Shows', 'TV Dramas', 'International TV Shows', 'TV Dramas', 'TV Sci-Fi & Fantasy', 'Action & Adventure', 'Anime Features', 'International Movies', 'Reality TV', 'Docuseries', 'International TV Shows', 'Documentaries', 'International Movies', 'Sports Movies', 'International TV Shows', 'Reality TV', 'Romantic TV Shows', 'British TV Shows', 'Docuseries', 'International TV Shows', 'Anime Series', 'International TV Shows', 'Comedies', 'Dramas', 'International Movies', 'Crime TV Shows', 'TV Comedies', 'TV Dramas', 'Action & Adventure', 'Comedies', 'Dramas', 'Anime Series', \"Kids' TV\", 'International Movies', 'Thrillers', \"Kids' TV\", 'Korean TV Shows', 'Documentaries', 'Sports Movies', 'Sci-Fi & Fantasy', 'Thrillers', 'Dramas', 'International Movies', 'Romantic Movies', 'Documentaries', 'Music & Musicals', \"Kids' TV\", 'TV Comedies', 'TV Sci-Fi & Fantasy', 'British TV Shows', \"Kids' TV\", 'Docuseries', 'Science & Nature TV', 'Children & Family Movies', 'Dramas', \"Kids' TV\", 'TV Dramas', 'Teen TV Shows', 'Crime TV Shows', 'International TV Shows', 'Spanish-Language TV Shows', 'Docuseries', 'International TV Shows', 'Spanish-Language TV Shows', 'Dramas', 'Comedies', 'Romantic Movies', 'Dramas', 'Romantic Movies', 'Comedies', 'Dramas', 'Independent Movies', 'Crime TV Shows', 'TV Action & Adventure', 'TV Comedies', 'Children & Family Movies', 'Music & Musicals', 'Action & Adventure', 'Classic Movies', 'Cult Movies', 'International TV Shows', 'TV Action & Adventure', 'TV Comedies', 'Action & Adventure', 'Sci-Fi & Fantasy', 'Action & Adventure', 'Comedies', 'Classic Movies', 'Comedies', 'Dramas', 'Comedies', 'Cult Movies', 'Comedies', 'Cult Movies', 'Music & Musicals', 'Comedies', 'Music & Musicals', 'TV Shows', 'Action & Adventure', 'International Movies', 'Anime Series', 'International TV Shows', 'Teen TV Shows', 'Action & Adventure', 'Children & Family Movies', 'Cult Movies', 'Comedies', 'Dramas', 'Romantic Movies', 'Comedies', 'Cult Movies', 'Sci-Fi & Fantasy', 'Classic Movies', 'Dramas', 'Action & Adventure', 'Children & Family Movies', 'Comedies', 'Dramas', 'Faith & Spirituality', 'Documentaries', 'LGBTQ Movies', 'Action & Adventure', 'Classic Movies', 'Docuseries', 'International TV Shows', 'TV Comedies', 'Dramas', 'Independent Movies', 'Action & Adventure', 'Comedies', 'International Movies', 'International TV Shows', 'Spanish-Language TV Shows', 'TV Dramas', 'Crime TV Shows', 'International TV Shows', 'TV Dramas', 'Action & Adventure', 'Horror Movies', 'International Movies', 'Comedies', 'International Movies', 'Sci-Fi & Fantasy', 'Action & Adventure', 'International Movies', 'Music & Musicals', 'Dramas', 'International Movies', 'Music & Musicals', 'Horror Movies', 'International Movies', 'Reality TV', 'Teen TV Shows', 'Crime TV Shows', 'TV Dramas', 'TV Mysteries', 'International TV Shows', 'Reality TV', 'International TV Shows', 'TV Comedies', 'TV Dramas', 'Dramas', 'Independent Movies', 'Romantic Movies', 'Horror Movies', 'Documentaries', 'LGBTQ Movies', 'Sports Movies', 'Horror Movies', 'International Movies', 'Thrillers', 'Action & Adventure', 'Anime Features', 'TV Dramas', 'TV Mysteries', 'TV Sci-Fi & Fantasy', 'International TV Shows', 'Spanish-Language TV Shows', 'TV Comedies', 'Children & Family Movies', 'Comedies', 'Music & Musicals', 'Comedies', 'Independent Movies', 'Anime Series', 'International TV Shows', 'Romantic TV Shows', 'Classic Movies', 'Dramas', 'Independent Movies', 'International TV Shows', 'Romantic TV Shows', 'Spanish-Language TV Shows', 'International TV Shows', 'TV Dramas', 'Teen TV Shows', 'Stand-Up Comedy', 'Action & Adventure', 'Anime Features', 'Children & Family Movies', 'International TV Shows', 'Romantic TV Shows', 'TV Dramas', 'International Movies', 'Music & Musicals', 'TV Action & Adventure', 'TV Dramas', 'TV Mysteries', 'Horror Movies', 'Independent Movies', 'International Movies', 'Comedies', 'Cult Movies', 'International Movies', 'Classic Movies', 'Dramas', 'International Movies', 'Movies', 'Crime TV Shows', 'Docuseries', 'Children & Family Movies', 'Comedies', 'Sci-Fi & Fantasy', 'Anime Series', 'International TV Shows', 'TV Thrillers', 'Action & Adventure', 'Horror Movies', 'Sci-Fi & Fantasy', 'Classic Movies', 'Comedies', 'Cult Movies', 'TV Dramas', 'Teen TV Shows', 'Action & Adventure', 'Sci-Fi & Fantasy', 'Thrillers', 'Children & Family Movies', 'Comedies', 'Dramas', 'Dramas', 'Sports Movies', 'Action & Adventure', 'Dramas', 'Sci-Fi & Fantasy', 'Action & Adventure', 'Comedies', 'Cult Movies', 'Dramas', 'Independent Movies', 'Thrillers', 'TV Dramas', 'TV Sci-Fi & Fantasy', 'Action & Adventure', 'International Movies', 'Thrillers', 'British TV Shows', 'International TV Shows', 'Reality TV', 'TV Action & Adventure', 'TV Dramas', 'Teen TV Shows', 'Anime Series', 'Crime TV Shows', 'TV Action & Adventure', 'TV Sci-Fi & Fantasy', 'Crime TV Shows', 'International TV Shows', 'TV Comedies', 'Stand-Up Comedy & Talk Shows', 'TV Comedies', 'Classic & Cult TV', 'TV Action & Adventure', 'TV Dramas', 'Children & Family Movies', 'Sports Movies', 'TV Action & Adventure', 'TV Sci-Fi & Fantasy', 'Anime Series', 'Stand-Up Comedy & Talk Shows', 'TV Dramas', 'Anime Features', 'Children & Family Movies', 'International Movies', 'Classic & Cult TV', 'Crime TV Shows', 'International TV Shows', 'Crime TV Shows', 'International TV Shows', 'Romantic TV Shows', 'Horror Movies', 'LGBTQ Movies', 'Action & Adventure', 'Dramas', 'Romantic Movies', 'Documentaries', 'International Movies', 'Music & Musicals', 'TV Comedies', 'TV Dramas', 'Teen TV Shows', 'Children & Family Movies', 'Comedies', 'Sports Movies', 'Children & Family Movies', 'Dramas', 'International Movies', 'Comedies', 'Documentaries', 'International Movies', 'Romantic TV Shows', 'TV Dramas', 'Anime Series', 'TV Horror', 'TV Thrillers', 'International Movies', 'Romantic Movies', 'TV Action & Adventure', 'TV Dramas', 'TV Sci-Fi & Fantasy', \"Kids' TV\", 'Korean TV Shows', 'TV Comedies', 'British TV Shows', 'Crime TV Shows', 'International TV Shows', 'Crime TV Shows', 'TV Horror', 'TV Mysteries', 'Docuseries', 'International TV Shows', 'Science & Nature TV', 'British TV Shows', 'International TV Shows', 'TV Dramas', \"Kids' TV\", 'TV Action & Adventure', 'TV Sci-Fi & Fantasy', 'International Movies', 'Romantic Movies', 'Thrillers', 'Action & Adventure', 'Cult Movies', 'International Movies', 'Action & Adventure', 'Comedies', 'Sci-Fi & Fantasy', 'International TV Shows', \"Kids' TV\", 'TV Mysteries', 'Action & Adventure', 'Thrillers', 'Dramas', 'Faith & Spirituality', 'International Movies', 'Action & Adventure', 'Classic Movies', 'Comedies', 'Action & Adventure', 'Comedies', 'Sports Movies', 'Action & Adventure', 'Children & Family Movies', 'Classic Movies', 'Action & Adventure', 'Children & Family Movies', 'Dramas', 'Horror Movies', 'Thrillers', 'Action & Adventure', 'Romantic Movies', 'Dramas', 'Romantic Movies', 'Sci-Fi & Fantasy', 'Dramas', 'Music & Musicals', 'Romantic Movies', 'Anime Series', 'Crime TV Shows', 'International TV Shows', 'Reality TV', 'Romantic TV Shows', 'International Movies', 'Music & Musicals', 'Romantic Movies', 'Reality TV', 'TV Action & Adventure', 'TV Mysteries', 'Crime TV Shows', 'TV Dramas', 'International TV Shows', 'Reality TV', 'Spanish-Language TV Shows', 'Crime TV Shows', 'TV Dramas', 'TV Thrillers', 'British TV Shows', 'Docuseries', 'International TV Shows', 'Korean TV Shows', 'TV Comedies', 'Action & Adventure', 'Anime Features', 'Classic Movies', 'TV Action & Adventure', 'TV Dramas', 'TV Horror', 'Crime TV Shows', 'International TV Shows', 'TV Thrillers', 'Anime Series', 'Crime TV Shows', 'TV Horror', 'Anime Features', 'Documentaries', 'Comedies', 'Horror Movies', 'International TV Shows', 'Spanish-Language TV Shows', 'Stand-Up Comedy & Talk Shows', 'Children & Family Movies', 'Documentaries', 'International Movies', 'Romantic TV Shows', 'TV Comedies', 'TV Dramas', 'Dramas', 'Faith & Spirituality', 'Romantic Movies', 'Dramas', 'Independent Movies', 'LGBTQ Movies', 'Comedies', 'Independent Movies', 'LGBTQ Movies', 'Action & Adventure', 'Cult Movies', 'Sci-Fi & Fantasy', 'Cult Movies', 'Horror Movies', 'Action & Adventure', 'Dramas', 'Sports Movies', 'Anime Series', 'Romantic TV Shows', 'Teen TV Shows', 'Dramas', 'International Movies', 'LGBTQ Movies', 'Dramas', 'Romantic Movies', 'Thrillers', 'Children & Family Movies', 'Dramas', 'Faith & Spirituality', 'Dramas', 'International Movies', 'Sports Movies', 'Action & Adventure', 'Horror Movies', 'Documentaries', 'International Movies', 'LGBTQ Movies', 'Dramas', 'Independent Movies', 'Sci-Fi & Fantasy', 'Comedies', 'Independent Movies', 'International Movies', 'Reality TV', 'TV Horror', 'TV Thrillers', 'TV Action & Adventure', 'TV Horror', 'TV Sci-Fi & Fantasy', 'International TV Shows', 'TV Horror', 'TV Sci-Fi & Fantasy', 'Independent Movies', 'International Movies', 'Thrillers', 'Independent Movies', 'Thrillers', 'Documentaries', 'Dramas', 'Action & Adventure', 'Sports Movies', 'Dramas', 'International Movies', 'Sci-Fi & Fantasy', 'Comedies', 'Independent Movies', 'Romantic Movies', 'Horror Movies', 'Romantic Movies', 'Sci-Fi & Fantasy', 'International TV Shows', 'Stand-Up Comedy & Talk Shows', 'Action & Adventure', 'Anime Features', 'Horror Movies', 'Cult Movies', 'Dramas', 'Music & Musicals', 'TV Dramas', 'TV Thrillers', 'Crime TV Shows', 'International TV Shows', 'Korean TV Shows', 'TV Horror', 'TV Mysteries', 'TV Thrillers', 'Comedies', 'Horror Movies', 'International Movies', 'Crime TV Shows', 'Docuseries', 'TV Mysteries', 'Comedies', 'International Movies', 'Sports Movies', 'Classic Movies', 'Music & Musicals', 'Reality TV', 'TV Comedies', 'TV Horror', 'Children & Family Movies', 'Faith & Spirituality', 'Music & Musicals', 'International TV Shows', 'Korean TV Shows', 'Stand-Up Comedy & Talk Shows', 'Dramas', 'Music & Musicals', 'Docuseries', 'Science & Nature TV', 'TV Action & Adventure', 'British TV Shows', \"Kids' TV\", 'TV Dramas', 'International TV Shows', 'Korean TV Shows', 'Romantic TV Shows', 'Horror Movies', 'Independent Movies', 'Anime Series', \"Kids' TV\", 'TV Action & Adventure', 'Comedies', 'Dramas', 'Music & Musicals', 'TV Horror', 'Teen TV Shows', 'Comedies', 'LGBTQ Movies', 'Thrillers', 'Docuseries', 'Reality TV', 'Science & Nature TV', 'Crime TV Shows', 'Spanish-Language TV Shows', 'TV Action & Adventure', 'Romantic TV Shows', 'Teen TV Shows', 'TV Comedies', 'Teen TV Shows', 'Romantic TV Shows', 'TV Dramas', 'Teen TV Shows', 'Children & Family Movies', 'Sci-Fi & Fantasy', 'Romantic TV Shows', 'TV Action & Adventure', 'TV Dramas', 'Comedies', 'International Movies', 'LGBTQ Movies', 'Dramas', 'Sci-Fi & Fantasy', \"Kids' TV\", 'TV Thrillers', 'TV Action & Adventure', 'TV Comedies', 'TV Sci-Fi & Fantasy', 'British TV Shows', 'Romantic TV Shows', 'TV Dramas', 'Anime Series', 'International TV Shows', 'Spanish-Language TV Shows', 'Docuseries', 'TV Comedies', 'Comedies', 'Romantic Movies', 'Sports Movies', 'TV Action & Adventure', 'TV Comedies', 'TV Dramas', 'Children & Family Movies', 'Dramas', 'Sports Movies', 'Action & Adventure', 'Dramas', 'Independent Movies', 'Spanish-Language TV Shows', 'TV Dramas', 'Dramas', 'LGBTQ Movies', 'TV Horror', 'TV Mysteries', 'TV Sci-Fi & Fantasy', 'Action & Adventure', 'Dramas', 'Faith & Spirituality', 'International TV Shows', 'TV Mysteries', 'TV Thrillers', 'British TV Shows', 'Classic & Cult TV', 'International TV Shows', 'Action & Adventure', 'Comedies', 'Independent Movies', 'Music & Musicals', 'British TV Shows', \"Kids' TV\", 'TV Comedies', 'Docuseries', 'Spanish-Language TV Shows', 'Dramas', 'Independent Movies', 'Sports Movies', 'TV Dramas', 'TV Mysteries', 'TV Thrillers', 'Comedies', 'LGBTQ Movies', 'Music & Musicals', 'International TV Shows', 'TV Action & Adventure', 'TV Mysteries', \"Kids' TV\", 'TV Comedies', 'Teen TV Shows', 'International TV Shows', 'TV Dramas', 'TV Horror', 'Comedies', 'International Movies', 'Thrillers', 'Classic & Cult TV', 'TV Action & Adventure', 'TV Sci-Fi & Fantasy', 'International TV Shows', 'TV Horror', 'TV Mysteries', 'Children & Family Movies', 'Documentaries', 'Music & Musicals', 'Romantic Movies', 'Romantic Movies', 'Children & Family Movies', 'Classic Movies', 'Comedies', 'TV Action & Adventure', 'TV Dramas', 'Dramas', 'LGBTQ Movies', 'Romantic Movies', 'Children & Family Movies', 'Comedies', 'Romantic Movies', 'Comedies', 'Sports Movies', 'International Movies', 'International TV Shows', 'Romantic TV Shows', 'TV Mysteries', 'Stand-Up Comedy & Talk Shows', 'Action & Adventure', 'International Movies', 'Romantic Movies', 'Reality TV', 'TV Comedies', 'Cult Movies', 'Dramas', 'International Movies', \"Kids' TV\", 'TV Dramas', 'Crime TV Shows', 'International TV Shows', 'TV Mysteries', 'Action & Adventure', 'Sci-Fi & Fantasy', 'Sports Movies', 'TV Dramas', 'TV Sci-Fi & Fantasy', 'TV Thrillers', 'Romantic TV Shows', 'TV Dramas', 'TV Sci-Fi & Fantasy', 'Docuseries', 'TV Sci-Fi & Fantasy', 'Anime Features', 'International Movies', 'British TV Shows', 'Classic & Cult TV', \"Kids' TV\", 'British TV Shows', 'Reality TV', 'Romantic TV Shows', 'Documentaries', 'Faith & Spirituality', 'International Movies', \"Kids' TV\", 'Reality TV', 'TV Dramas', 'LGBTQ Movies', 'Thrillers', 'TV Action & Adventure', 'TV Mysteries', 'TV Sci-Fi & Fantasy', 'Reality TV', 'Science & Nature TV', \"Kids' TV\", 'TV Action & Adventure', 'TV Comedies', 'International TV Shows', 'Romantic TV Shows', 'TV Action & Adventure', 'Children & Family Movies', 'Dramas', 'Independent Movies', 'Comedies', 'Music & Musicals', 'Romantic Movies', 'International TV Shows', 'Korean TV Shows', 'Reality TV', 'Classic & Cult TV', 'TV Dramas', 'TV Sci-Fi & Fantasy', 'Anime Features', 'Children & Family Movies', 'Action & Adventure', 'International Movies', 'Sci-Fi & Fantasy', 'Crime TV Shows', 'TV Action & Adventure', 'TV Dramas', 'Classic & Cult TV', 'TV Action & Adventure', 'TV Horror', 'International TV Shows', 'Korean TV Shows', 'TV Dramas', 'International TV Shows', 'TV Action & Adventure', 'TV Horror', 'Action & Adventure', 'Comedies', 'Romantic Movies', 'International TV Shows', 'Korean TV Shows', 'TV Action & Adventure', 'Classic & Cult TV', \"Kids' TV\", 'TV Action & Adventure', 'Anime Series', 'International TV Shows', 'TV Horror', 'International TV Shows', 'Korean TV Shows', 'TV Horror', 'Children & Family Movies', 'Comedies', 'International Movies', 'International Movies', 'Sci-Fi & Fantasy', 'International Movies', 'Sci-Fi & Fantasy', 'Thrillers', 'Children & Family Movies', 'Dramas', 'Romantic Movies', 'Anime Series', 'Romantic TV Shows', 'Comedies', 'Dramas', 'LGBTQ Movies', 'British TV Shows', 'International TV Shows', 'TV Action & Adventure', 'Docuseries', 'Science & Nature TV', 'TV Comedies', 'International TV Shows', 'Stand-Up Comedy & Talk Shows', 'TV Comedies', 'Children & Family Movies', 'Dramas', 'Music & Musicals', 'Action & Adventure', 'Independent Movies', 'International Movies', 'Action & Adventure', 'Children & Family Movies', 'Sci-Fi & Fantasy', 'Horror Movies', 'Independent Movies', 'Sci-Fi & Fantasy', 'TV Dramas', 'TV Sci-Fi & Fantasy', 'Teen TV Shows', 'Anime Features', 'International Movies', 'Sci-Fi & Fantasy', 'Dramas', 'Independent Movies', 'Music & Musicals', \"Kids' TV\", 'TV Comedies', 'TV Dramas', 'Children & Family Movies', 'Documentaries', 'Sports Movies', 'Independent Movies', 'Sci-Fi & Fantasy', 'Thrillers', 'Anime Features', 'Music & Musicals', 'Sci-Fi & Fantasy', 'TV Comedies', 'TV Dramas', 'TV Sci-Fi & Fantasy', 'Crime TV Shows', 'TV Action & Adventure', 'Comedies', 'Faith & Spirituality', 'Romantic Movies', \"Kids' TV\", 'TV Action & Adventure', 'Action & Adventure', 'Independent Movies', 'International TV Shows', 'Reality TV', 'TV Comedies', 'Docuseries', 'Reality TV', 'Teen TV Shows', 'Crime TV Shows', 'International TV Shows', 'Reality TV', 'Anime Series', 'Teen TV Shows', 'Crime TV Shows', 'Romantic TV Shows', 'TV Dramas', 'Anime Features', 'Romantic Movies', 'Horror Movies', 'Sci-Fi & Fantasy', 'Thrillers', 'International TV Shows', 'TV Comedies', 'TV Sci-Fi & Fantasy', 'International TV Shows', 'Romantic TV Shows', 'Anime Features', 'Music & Musicals', 'Anime Features', 'International Movies', 'Romantic Movies', 'International TV Shows', 'Romantic TV Shows', 'Teen TV Shows', 'Docuseries', 'Stand-Up Comedy & Talk Shows', 'Horror Movies', 'Independent Movies', 'Thrillers', 'TV Action & Adventure', 'TV Comedies', 'TV Horror', 'Documentaries', 'Stand-Up Comedy', \"Kids' TV\", 'Spanish-Language TV Shows', 'British TV Shows', \"Kids' TV\", 'TV Thrillers', \"Kids' TV\", 'TV Action & Adventure', 'TV Dramas', 'Anime Series', 'Crime TV Shows', 'Dramas', 'Sci-Fi & Fantasy', 'Thrillers', 'TV Comedies', 'TV Dramas', 'TV Horror', 'Children & Family Movies', 'Comedies', 'LGBTQ Movies', 'International TV Shows', 'TV Action & Adventure', 'TV Sci-Fi & Fantasy', 'Docuseries', 'TV Dramas', 'Horror Movies', 'International Movies', 'Romantic Movies', 'Crime TV Shows', 'Docuseries', 'Science & Nature TV', 'International Movies', 'Music & Musicals', 'Thrillers', \"Kids' TV\", 'Spanish-Language TV Shows', 'Teen TV Shows', 'Comedies', 'Horror Movies', 'Independent Movies', 'Action & Adventure', 'International Movies', 'Sports Movies', 'Action & Adventure', 'Independent Movies', 'Sci-Fi & Fantasy', 'Horror Movies', 'LGBTQ Movies', 'Music & Musicals', 'Comedies', 'Music & Musicals', 'Sports Movies', 'TV Horror', 'TV Mysteries', 'Teen TV Shows', 'Romantic TV Shows', 'TV Comedies', \"Kids' TV\", 'Reality TV', 'Science & Nature TV', 'International Movies', 'Romantic Movies', 'Sci-Fi & Fantasy', 'TV Comedies', 'TV Horror', 'TV Thrillers', 'TV Action & Adventure', 'International TV Shows', 'Spanish-Language TV Shows', 'TV Horror', 'Crime TV Shows', 'TV Action & Adventure', 'TV Thrillers', 'Music & Musicals', 'Stand-Up Comedy', 'British TV Shows', 'TV Comedies', 'TV Comedies', 'TV Sci-Fi & Fantasy', 'Teen TV Shows', 'TV Comedies', 'TV Sci-Fi & Fantasy', 'Romantic TV Shows', 'Spanish-Language TV Shows', 'TV Comedies', 'Crime TV Shows', 'International TV Shows', 'TV Sci-Fi & Fantasy', 'British TV Shows', 'International TV Shows', 'Romantic TV Shows', 'Crime TV Shows', \"Kids' TV\", 'Horror Movies', 'International Movies', 'Sci-Fi & Fantasy', 'TV Comedies', 'TV Mysteries', 'Cult Movies', 'Horror Movies', 'Independent Movies', 'British TV Shows', 'Docuseries', 'TV Comedies', 'Comedies', 'Documentaries', 'Reality TV', 'Science & Nature TV', 'TV Action & Adventure', 'TV Comedies', 'TV Dramas', 'TV Mysteries', 'Crime TV Shows', 'TV Comedies', 'Teen TV Shows', 'Docuseries', \"Kids' TV\", 'Science & Nature TV', 'Reality TV', 'Spanish-Language TV Shows', 'Action & Adventure', 'Anime Features', 'Sci-Fi & Fantasy', 'Crime TV Shows', \"Kids' TV\", 'TV Comedies', 'Dramas', 'Faith & Spirituality', 'Independent Movies', 'Documentaries', 'Faith & Spirituality', 'British TV Shows', 'International TV Shows', 'Stand-Up Comedy & Talk Shows', 'Comedies', 'Dramas', 'Faith & Spirituality', 'Classic & Cult TV', 'TV Comedies', 'Dramas', 'Romantic Movies', 'Sports Movies', 'Stand-Up Comedy & Talk Shows', 'TV Mysteries', 'TV Sci-Fi & Fantasy', 'TV Sci-Fi & Fantasy', 'TV Thrillers', 'Comedies', 'Independent Movies', 'Music & Musicals', 'Comedies', 'Cult Movies', 'Independent Movies', 'Documentaries', 'Dramas', 'International Movies', 'British TV Shows', 'TV Horror', 'TV Thrillers', 'British TV Shows', 'Docuseries', 'Science & Nature TV', 'Children & Family Movies', 'Comedies', 'Cult Movies', 'Sports Movies', 'Sci-Fi & Fantasy', 'Comedies', 'LGBTQ Movies', 'Comedies', 'Independent Movies', 'Thrillers', 'Classic Movies', 'Cult Movies', 'Dramas', 'Action & Adventure', 'Children & Family Movies', 'Independent Movies', 'Action & Adventure', 'Documentaries', 'International Movies', 'Children & Family Movies', 'Independent Movies', 'Comedies', 'Cult Movies', 'Dramas', 'International TV Shows', 'TV Horror', 'TV Thrillers', 'Classic Movies', 'Thrillers', 'Crime TV Shows', 'TV Dramas', 'TV Horror', 'British TV Shows', 'Docuseries', 'Reality TV', 'Documentaries', 'LGBTQ Movies', 'Music & Musicals', 'Classic Movies', 'Dramas', 'Romantic Movies', 'Crime TV Shows', 'Romantic TV Shows', 'Spanish-Language TV Shows', 'Classic Movies', 'Cult Movies', 'Horror Movies', 'Anime Series', 'Crime TV Shows', 'TV Thrillers', 'Children & Family Movies', 'Classic Movies', 'Classic Movies', 'Comedies', 'International Movies', 'Comedies', 'Sci-Fi & Fantasy', 'Action & Adventure', 'Cult Movies', 'Dramas', 'Documentaries', 'Faith & Spirituality', 'Music & Musicals', 'British TV Shows', 'Classic & Cult TV', 'TV Comedies', 'International Movies', 'Sports Movies', 'International TV Shows', 'Classic & Cult TV', \"Kids' TV\", 'Spanish-Language TV Shows', 'Romantic TV Shows', 'Spanish-Language TV Shows', 'TV Dramas', 'Children & Family Movies', 'Comedies', 'Faith & Spirituality', 'British TV Shows', 'Crime TV Shows', 'TV Dramas', 'Classic Movies', 'Dramas', 'Music & Musicals', 'Cult Movies', 'Horror Movies', 'Thrillers', 'Action & Adventure', 'Classic Movies', 'Sci-Fi & Fantasy', 'TV Action & Adventure', 'TV Comedies', 'Classic Movies', 'Comedies', 'Music & Musicals', 'Independent Movies', 'Documentaries', 'Horror Movies', 'Classic & Cult TV', 'TV Horror', 'TV Mysteries', 'Comedies', 'Faith & Spirituality', 'International Movies', 'Dramas', 'Horror Movies', 'Sci-Fi & Fantasy', 'British TV Shows', 'TV Dramas', 'TV Sci-Fi & Fantasy', 'Comedies', 'Cult Movies', 'Horror Movies', 'Comedies', 'Cult Movies', 'Sports Movies', 'Classic Movies', 'Documentaries', 'Action & Adventure', 'Faith & Spirituality', 'Sci-Fi & Fantasy', 'Action & Adventure', 'Children & Family Movies', 'International TV Shows', 'Reality TV', 'TV Action & Adventure', 'Docuseries', 'Science & Nature TV', 'TV Dramas', 'Anime Features', 'Action & Adventure', 'Horror Movies', 'Independent Movies', 'Action & Adventure', 'Classic Movies', 'International Movies', 'Cult Movies', 'Independent Movies', 'Thrillers', 'Crime TV Shows', 'TV Comedies', 'Classic Movies', 'Cult Movies', 'Documentaries', 'Classic & Cult TV', \"Kids' TV\", 'TV Comedies', 'Classic Movies', 'Dramas', 'LGBTQ Movies', 'Classic Movies', 'Dramas', 'Sports Movies', 'Action & Adventure', 'Cult Movies', 'Action & Adventure', 'Comedies', 'Music & Musicals', 'Classic Movies', 'Horror Movies', 'Thrillers', 'Classic Movies', 'Comedies', 'Independent Movies', 'Children & Family Movies', 'Classic Movies', 'Dramas', 'Dramas', 'Faith & Spirituality', 'Sports Movies', 'Classic Movies', 'Comedies', 'Romantic Movies', 'Dramas', 'Horror Movies', 'Music & Musicals', 'Classic Movies', 'Independent Movies', 'Thrillers', 'Children & Family Movies', 'Faith & Spirituality', 'Classic Movies', 'Comedies', 'Sports Movies', 'Comedies', 'Dramas', 'Sports Movies', 'Action & Adventure', 'Romantic Movies', 'Sci-Fi & Fantasy', 'Classic & Cult TV', 'TV Sci-Fi & Fantasy', 'Comedies', 'Cult Movies', 'LGBTQ Movies', 'Comedies', 'Horror Movies', 'Sci-Fi & Fantasy', 'Action & Adventure', 'Comedies', 'Horror Movies', 'Classic & Cult TV', 'Crime TV Shows', 'TV Dramas', 'Action & Adventure', 'Documentaries', 'Sports Movies', 'International Movies', 'LGBTQ Movies', 'Romantic Movies', 'Cult Movies', 'Dramas', 'Thrillers']"
            ]
          },
          "execution_count": 487,
          "metadata": {},
          "output_type": "execute_result"
        }
      ],
      "source": [
        "\", \".join(df.listed_in.unique().tolist()).split(\", \")"
      ]
    },
    {
      "cell_type": "code",
      "execution_count": 488,
      "metadata": {},
      "outputs": [
        {
          "data": {
            "text/plain": [
              "['Science & Nature TV', 'Sports Movies', 'Thrillers', 'TV Sci-Fi & Fantasy', 'TV Horror', 'Korean TV Shows', 'TV Dramas', 'TV Comedies', 'Cult Movies', 'Romantic Movies', 'Comedies', 'Classic & Cult TV', 'Movies', 'International TV Shows', 'TV Mysteries', 'Romantic TV Shows', 'Anime Features', 'Action & Adventure', \"Kids' TV\", 'Anime Series', 'Horror Movies', 'Dramas', 'Classic Movies', 'Faith & Spirituality', 'TV Action & Adventure', 'Independent Movies', 'Documentaries', 'TV Thrillers', 'LGBTQ Movies', 'Children & Family Movies', 'British TV Shows', 'Sci-Fi & Fantasy', 'Docuseries', 'Spanish-Language TV Shows', 'Teen TV Shows', 'Stand-Up Comedy', 'Crime TV Shows', 'International Movies', 'TV Shows', 'Stand-Up Comedy & Talk Shows', 'Reality TV', 'Music & Musicals']"
            ]
          },
          "execution_count": 488,
          "metadata": {},
          "output_type": "execute_result"
        }
      ],
      "source": [
        "categories = \", \".join(df.listed_in.unique().tolist()).split(\", \")\n",
        "categories = list(set(categories))\n",
        "categories"
      ]
    },
    {
      "cell_type": "code",
      "execution_count": 489,
      "metadata": {},
      "outputs": [
        {
          "data": {
            "text/html": [
              "<div>\n",
              "<style scoped>\n",
              "    .dataframe tbody tr th:only-of-type {\n",
              "        vertical-align: middle;\n",
              "    }\n",
              "\n",
              "    .dataframe tbody tr th {\n",
              "        vertical-align: top;\n",
              "    }\n",
              "\n",
              "    .dataframe thead th {\n",
              "        text-align: right;\n",
              "    }\n",
              "</style>\n",
              "<table border=\"1\" class=\"dataframe\">\n",
              "  <thead>\n",
              "    <tr style=\"text-align: right;\">\n",
              "      <th></th>\n",
              "      <th>type</th>\n",
              "      <th>title</th>\n",
              "      <th>director</th>\n",
              "      <th>cast</th>\n",
              "      <th>country</th>\n",
              "      <th>date_added</th>\n",
              "      <th>release_year</th>\n",
              "      <th>rating</th>\n",
              "      <th>duration</th>\n",
              "      <th>listed_in</th>\n",
              "      <th>...</th>\n",
              "      <th>Docuseries</th>\n",
              "      <th>Spanish-Language TV Shows</th>\n",
              "      <th>Teen TV Shows</th>\n",
              "      <th>Stand-Up Comedy</th>\n",
              "      <th>Crime TV Shows</th>\n",
              "      <th>International Movies</th>\n",
              "      <th>TV Shows</th>\n",
              "      <th>Stand-Up Comedy &amp; Talk Shows</th>\n",
              "      <th>Reality TV</th>\n",
              "      <th>Music &amp; Musicals</th>\n",
              "    </tr>\n",
              "  </thead>\n",
              "  <tbody>\n",
              "    <tr>\n",
              "      <th>0</th>\n",
              "      <td>Movie</td>\n",
              "      <td>Dick Johnson Is Dead</td>\n",
              "      <td>Kirsten Johnson</td>\n",
              "      <td>Unknown</td>\n",
              "      <td>United States</td>\n",
              "      <td>2021-09-25</td>\n",
              "      <td>2020</td>\n",
              "      <td>PG-13</td>\n",
              "      <td>90 min</td>\n",
              "      <td>Documentaries</td>\n",
              "      <td>...</td>\n",
              "      <td>0</td>\n",
              "      <td>0</td>\n",
              "      <td>0</td>\n",
              "      <td>0</td>\n",
              "      <td>0</td>\n",
              "      <td>0</td>\n",
              "      <td>0</td>\n",
              "      <td>0</td>\n",
              "      <td>0</td>\n",
              "      <td>0</td>\n",
              "    </tr>\n",
              "    <tr>\n",
              "      <th>1</th>\n",
              "      <td>TV Show</td>\n",
              "      <td>Blood &amp; Water</td>\n",
              "      <td>Unknown</td>\n",
              "      <td>Ama Qamata, Khosi Ngema, Gail Mabalane, Thaban...</td>\n",
              "      <td>South Africa</td>\n",
              "      <td>2021-09-24</td>\n",
              "      <td>2021</td>\n",
              "      <td>TV-MA</td>\n",
              "      <td>2 Seasons</td>\n",
              "      <td>International TV Shows, TV Dramas, TV Mysteries</td>\n",
              "      <td>...</td>\n",
              "      <td>0</td>\n",
              "      <td>0</td>\n",
              "      <td>0</td>\n",
              "      <td>0</td>\n",
              "      <td>0</td>\n",
              "      <td>0</td>\n",
              "      <td>1</td>\n",
              "      <td>0</td>\n",
              "      <td>0</td>\n",
              "      <td>0</td>\n",
              "    </tr>\n",
              "    <tr>\n",
              "      <th>2</th>\n",
              "      <td>TV Show</td>\n",
              "      <td>Ganglands</td>\n",
              "      <td>Julien Leclercq</td>\n",
              "      <td>Sami Bouajila, Tracy Gotoas, Samuel Jouy, Nabi...</td>\n",
              "      <td>Unknown</td>\n",
              "      <td>2021-09-24</td>\n",
              "      <td>2021</td>\n",
              "      <td>TV-MA</td>\n",
              "      <td>1 Season</td>\n",
              "      <td>Crime TV Shows, International TV Shows, TV Act...</td>\n",
              "      <td>...</td>\n",
              "      <td>0</td>\n",
              "      <td>0</td>\n",
              "      <td>0</td>\n",
              "      <td>0</td>\n",
              "      <td>1</td>\n",
              "      <td>0</td>\n",
              "      <td>1</td>\n",
              "      <td>0</td>\n",
              "      <td>0</td>\n",
              "      <td>0</td>\n",
              "    </tr>\n",
              "    <tr>\n",
              "      <th>3</th>\n",
              "      <td>TV Show</td>\n",
              "      <td>Jailbirds New Orleans</td>\n",
              "      <td>Unknown</td>\n",
              "      <td>Unknown</td>\n",
              "      <td>Unknown</td>\n",
              "      <td>2021-09-24</td>\n",
              "      <td>2021</td>\n",
              "      <td>TV-MA</td>\n",
              "      <td>1 Season</td>\n",
              "      <td>Docuseries, Reality TV</td>\n",
              "      <td>...</td>\n",
              "      <td>1</td>\n",
              "      <td>0</td>\n",
              "      <td>0</td>\n",
              "      <td>0</td>\n",
              "      <td>0</td>\n",
              "      <td>0</td>\n",
              "      <td>0</td>\n",
              "      <td>0</td>\n",
              "      <td>1</td>\n",
              "      <td>0</td>\n",
              "    </tr>\n",
              "    <tr>\n",
              "      <th>4</th>\n",
              "      <td>TV Show</td>\n",
              "      <td>Kota Factory</td>\n",
              "      <td>Unknown</td>\n",
              "      <td>Mayur More, Jitendra Kumar, Ranjan Raj, Alam K...</td>\n",
              "      <td>India</td>\n",
              "      <td>2021-09-24</td>\n",
              "      <td>2021</td>\n",
              "      <td>TV-MA</td>\n",
              "      <td>2 Seasons</td>\n",
              "      <td>International TV Shows, Romantic TV Shows, TV ...</td>\n",
              "      <td>...</td>\n",
              "      <td>0</td>\n",
              "      <td>0</td>\n",
              "      <td>0</td>\n",
              "      <td>0</td>\n",
              "      <td>0</td>\n",
              "      <td>0</td>\n",
              "      <td>1</td>\n",
              "      <td>0</td>\n",
              "      <td>0</td>\n",
              "      <td>0</td>\n",
              "    </tr>\n",
              "  </tbody>\n",
              "</table>\n",
              "<p>5 rows × 55 columns</p>\n",
              "</div>"
            ],
            "text/plain": [
              "      type                  title         director  \\\n",
              "0    Movie   Dick Johnson Is Dead  Kirsten Johnson   \n",
              "1  TV Show          Blood & Water          Unknown   \n",
              "2  TV Show              Ganglands  Julien Leclercq   \n",
              "3  TV Show  Jailbirds New Orleans          Unknown   \n",
              "4  TV Show           Kota Factory          Unknown   \n",
              "\n",
              "                                                cast        country  \\\n",
              "0                                            Unknown  United States   \n",
              "1  Ama Qamata, Khosi Ngema, Gail Mabalane, Thaban...   South Africa   \n",
              "2  Sami Bouajila, Tracy Gotoas, Samuel Jouy, Nabi...        Unknown   \n",
              "3                                            Unknown        Unknown   \n",
              "4  Mayur More, Jitendra Kumar, Ranjan Raj, Alam K...          India   \n",
              "\n",
              "  date_added  release_year rating   duration  \\\n",
              "0 2021-09-25          2020  PG-13     90 min   \n",
              "1 2021-09-24          2021  TV-MA  2 Seasons   \n",
              "2 2021-09-24          2021  TV-MA   1 Season   \n",
              "3 2021-09-24          2021  TV-MA   1 Season   \n",
              "4 2021-09-24          2021  TV-MA  2 Seasons   \n",
              "\n",
              "                                           listed_in  ...  Docuseries  \\\n",
              "0                                      Documentaries  ...           0   \n",
              "1    International TV Shows, TV Dramas, TV Mysteries  ...           0   \n",
              "2  Crime TV Shows, International TV Shows, TV Act...  ...           0   \n",
              "3                             Docuseries, Reality TV  ...           1   \n",
              "4  International TV Shows, Romantic TV Shows, TV ...  ...           0   \n",
              "\n",
              "   Spanish-Language TV Shows Teen TV Shows  Stand-Up Comedy  Crime TV Shows  \\\n",
              "0                          0             0                0               0   \n",
              "1                          0             0                0               0   \n",
              "2                          0             0                0               1   \n",
              "3                          0             0                0               0   \n",
              "4                          0             0                0               0   \n",
              "\n",
              "   International Movies  TV Shows  Stand-Up Comedy & Talk Shows  Reality TV  \\\n",
              "0                     0         0                             0           0   \n",
              "1                     0         1                             0           0   \n",
              "2                     0         1                             0           0   \n",
              "3                     0         0                             0           1   \n",
              "4                     0         1                             0           0   \n",
              "\n",
              "   Music & Musicals  \n",
              "0                 0  \n",
              "1                 0  \n",
              "2                 0  \n",
              "3                 0  \n",
              "4                 0  \n",
              "\n",
              "[5 rows x 55 columns]"
            ]
          },
          "execution_count": 489,
          "metadata": {},
          "output_type": "execute_result"
        }
      ],
      "source": [
        "# Create a new column for each category\n",
        "for category in categories:\n",
        "    df[category] = df['listed_in'].apply(lambda x: 1 if category in x else 0)\n",
        "\n",
        "df.head()"
      ]
    },
    {
      "cell_type": "code",
      "execution_count": 494,
      "metadata": {},
      "outputs": [
        {
          "name": "stdout",
          "output_type": "stream",
          "text": [
            "Science & Nature TV : 92\n",
            "Sports Movies : 219\n",
            "Thrillers : 634\n",
            "TV Sci-Fi & Fantasy : 83\n",
            "TV Horror : 75\n",
            "Korean TV Shows : 151\n",
            "TV Dramas : 762\n",
            "TV Comedies : 573\n",
            "Cult Movies : 71\n",
            "Romantic Movies : 616\n",
            "Comedies : 2247\n",
            "Classic & Cult TV : 26\n",
            "Movies : 4498\n",
            "International TV Shows : 1349\n",
            "TV Mysteries : 98\n",
            "Romantic TV Shows : 370\n",
            "Anime Features : 71\n",
            "Action & Adventure : 1026\n",
            "Kids' TV : 448\n",
            "Anime Series : 174\n",
            "Horror Movies : 357\n",
            "Dramas : 3188\n",
            "Classic Movies : 116\n",
            "Faith & Spirituality : 65\n",
            "TV Action & Adventure : 167\n",
            "Independent Movies : 756\n",
            "Documentaries : 869\n",
            "TV Thrillers : 57\n",
            "LGBTQ Movies : 102\n",
            "Children & Family Movies : 641\n",
            "British TV Shows : 252\n",
            "Sci-Fi & Fantasy : 326\n",
            "Docuseries : 394\n",
            "Spanish-Language TV Shows : 173\n",
            "Teen TV Shows : 69\n",
            "Stand-Up Comedy : 399\n",
            "Crime TV Shows : 469\n",
            "International Movies : 2752\n",
            "TV Shows : 1751\n",
            "Stand-Up Comedy & Talk Shows : 56\n",
            "Reality TV : 255\n",
            "Music & Musicals : 375\n"
          ]
        }
      ],
      "source": [
        "for category in categories:\n",
        "    print(category, ':', df[category].sum())"
      ]
    },
    {
      "cell_type": "code",
      "execution_count": 491,
      "metadata": {},
      "outputs": [
        {
          "data": {
            "text/plain": [
              "{'Science & Nature TV': 92, 'Sports Movies': 219, 'Thrillers': 634, 'TV Sci-Fi & Fantasy': 83, 'TV Horror': 75, 'Korean TV Shows': 151, 'TV Dramas': 762, 'TV Comedies': 573, 'Cult Movies': 71, 'Romantic Movies': 616, 'Comedies': 2247, 'Classic & Cult TV': 26, 'Movies': 4498, 'International TV Shows': 1349, 'TV Mysteries': 98, 'Romantic TV Shows': 370, 'Anime Features': 71, 'Action & Adventure': 1026, \"Kids' TV\": 448, 'Anime Series': 174, 'Horror Movies': 357, 'Dramas': 3188, 'Classic Movies': 116, 'Faith & Spirituality': 65, 'TV Action & Adventure': 167, 'Independent Movies': 756, 'Documentaries': 869, 'TV Thrillers': 57, 'LGBTQ Movies': 102, 'Children & Family Movies': 641, 'British TV Shows': 252, 'Sci-Fi & Fantasy': 326, 'Docuseries': 394, 'Spanish-Language TV Shows': 173, 'Teen TV Shows': 69, 'Stand-Up Comedy': 399, 'Crime TV Shows': 469, 'International Movies': 2752, 'TV Shows': 1751, 'Stand-Up Comedy & Talk Shows': 56, 'Reality TV': 255, 'Music & Musicals': 375}"
            ]
          },
          "execution_count": 491,
          "metadata": {},
          "output_type": "execute_result"
        }
      ],
      "source": [
        "# What are the top Categories?\n",
        "categories_dic = {category: df[category].sum() for category in categories}\n",
        "categories_dic"
      ]
    },
    {
      "cell_type": "code",
      "execution_count": 492,
      "metadata": {},
      "outputs": [
        {
          "data": {
            "text/html": [
              "<div>\n",
              "<style scoped>\n",
              "    .dataframe tbody tr th:only-of-type {\n",
              "        vertical-align: middle;\n",
              "    }\n",
              "\n",
              "    .dataframe tbody tr th {\n",
              "        vertical-align: top;\n",
              "    }\n",
              "\n",
              "    .dataframe thead th {\n",
              "        text-align: right;\n",
              "    }\n",
              "</style>\n",
              "<table border=\"1\" class=\"dataframe\">\n",
              "  <thead>\n",
              "    <tr style=\"text-align: right;\">\n",
              "      <th></th>\n",
              "      <th>Count</th>\n",
              "    </tr>\n",
              "  </thead>\n",
              "  <tbody>\n",
              "    <tr>\n",
              "      <th>Movies</th>\n",
              "      <td>4498</td>\n",
              "    </tr>\n",
              "    <tr>\n",
              "      <th>Dramas</th>\n",
              "      <td>3188</td>\n",
              "    </tr>\n",
              "    <tr>\n",
              "      <th>International Movies</th>\n",
              "      <td>2752</td>\n",
              "    </tr>\n",
              "    <tr>\n",
              "      <th>Comedies</th>\n",
              "      <td>2247</td>\n",
              "    </tr>\n",
              "    <tr>\n",
              "      <th>TV Shows</th>\n",
              "      <td>1751</td>\n",
              "    </tr>\n",
              "    <tr>\n",
              "      <th>International TV Shows</th>\n",
              "      <td>1349</td>\n",
              "    </tr>\n",
              "    <tr>\n",
              "      <th>Action &amp; Adventure</th>\n",
              "      <td>1026</td>\n",
              "    </tr>\n",
              "    <tr>\n",
              "      <th>Documentaries</th>\n",
              "      <td>869</td>\n",
              "    </tr>\n",
              "    <tr>\n",
              "      <th>TV Dramas</th>\n",
              "      <td>762</td>\n",
              "    </tr>\n",
              "    <tr>\n",
              "      <th>Independent Movies</th>\n",
              "      <td>756</td>\n",
              "    </tr>\n",
              "  </tbody>\n",
              "</table>\n",
              "</div>"
            ],
            "text/plain": [
              "                        Count\n",
              "Movies                   4498\n",
              "Dramas                   3188\n",
              "International Movies     2752\n",
              "Comedies                 2247\n",
              "TV Shows                 1751\n",
              "International TV Shows   1349\n",
              "Action & Adventure       1026\n",
              "Documentaries             869\n",
              "TV Dramas                 762\n",
              "Independent Movies        756"
            ]
          },
          "execution_count": 492,
          "metadata": {},
          "output_type": "execute_result"
        }
      ],
      "source": [
        "pd.DataFrame(categories_dic, index=['Count']).T.nlargest(10, 'Count')"
      ]
    },
    {
      "cell_type": "code",
      "execution_count": 470,
      "metadata": {},
      "outputs": [
        {
          "data": {
            "text/plain": [
              "dict_items([('Science & Nature TV', 92), ('Sports Movies', 219), ('Thrillers', 634), ('TV Sci-Fi & Fantasy', 83), ('TV Horror', 75), ('Korean TV Shows', 151), ('TV Dramas', 762), ('TV Comedies', 573), ('Cult Movies', 71), ('Romantic Movies', 616), ('Comedies', 2247), ('Classic & Cult TV', 26), ('Movies', 4498), ('International TV Shows', 1349), ('TV Mysteries', 98), ('Romantic TV Shows', 370), ('Anime Features', 71), ('Action & Adventure', 1026), (\"Kids' TV\", 448), ('Anime Series', 174), ('Horror Movies', 357), ('Dramas', 3188), ('Classic Movies', 116), ('Faith & Spirituality', 65), ('TV Action & Adventure', 167), ('Independent Movies', 756), ('Documentaries', 869), ('TV Thrillers', 57), ('LGBTQ Movies', 102), ('Children & Family Movies', 641), ('British TV Shows', 252), ('Sci-Fi & Fantasy', 326), ('Docuseries', 394), ('Spanish-Language TV Shows', 173), ('Teen TV Shows', 69), ('Stand-Up Comedy', 399), ('Crime TV Shows', 469), ('International Movies', 2752), ('TV Shows', 1751), ('Stand-Up Comedy & Talk Shows', 56), ('Reality TV', 255), ('Music & Musicals', 375)])"
            ]
          },
          "execution_count": 470,
          "metadata": {},
          "output_type": "execute_result"
        }
      ],
      "source": [
        "categories_dic.items()"
      ]
    },
    {
      "cell_type": "code",
      "execution_count": 429,
      "metadata": {},
      "outputs": [
        {
          "data": {
            "text/plain": [
              "{'Movies': 4498,\n",
              " 'Dramas': 3188,\n",
              " 'International Movies': 2752,\n",
              " 'Comedies': 2247,\n",
              " 'TV Shows': 1751,\n",
              " 'International TV Shows': 1349,\n",
              " 'Action & Adventure': 1026,\n",
              " 'Documentaries': 869,\n",
              " 'TV Dramas': 762,\n",
              " 'Independent Movies': 756,\n",
              " 'Children & Family Movies': 641,\n",
              " 'Thrillers': 634,\n",
              " 'Romantic Movies': 616,\n",
              " 'TV Comedies': 573,\n",
              " 'Crime TV Shows': 469,\n",
              " \"Kids' TV\": 448,\n",
              " 'Stand-Up Comedy': 399,\n",
              " 'Docuseries': 394,\n",
              " 'Music & Musicals': 375,\n",
              " 'Romantic TV Shows': 370,\n",
              " 'Horror Movies': 357,\n",
              " 'Sci-Fi & Fantasy': 326,\n",
              " 'Reality TV': 255,\n",
              " 'British TV Shows': 252,\n",
              " 'Sports Movies': 219,\n",
              " 'Anime Series': 174,\n",
              " 'Spanish-Language TV Shows': 173,\n",
              " 'TV Action & Adventure': 167,\n",
              " 'Korean TV Shows': 151,\n",
              " 'Classic Movies': 116,\n",
              " 'LGBTQ Movies': 102,\n",
              " 'TV Mysteries': 98,\n",
              " 'Science & Nature TV': 92,\n",
              " 'TV Sci-Fi & Fantasy': 83,\n",
              " 'TV Horror': 75,\n",
              " 'Cult Movies': 71,\n",
              " 'Anime Features': 71,\n",
              " 'Teen TV Shows': 69,\n",
              " 'Faith & Spirituality': 65,\n",
              " 'TV Thrillers': 57,\n",
              " 'Stand-Up Comedy & Talk Shows': 56,\n",
              " 'Classic & Cult TV': 26}"
            ]
          },
          "execution_count": 429,
          "metadata": {},
          "output_type": "execute_result"
        }
      ],
      "source": [
        "# sort the dictionary by value\n",
        "sorted_categories_dic = dict(sorted(categories_dic.items(),\n",
        "                             key=lambda item: item[1], reverse=True))\n",
        "sorted_categories_dic"
      ]
    },
    {
      "cell_type": "code",
      "execution_count": 430,
      "metadata": {},
      "outputs": [
        {
          "data": {
            "text/plain": [
              "['Movies',\n",
              " 'Dramas',\n",
              " 'International Movies',\n",
              " 'Comedies',\n",
              " 'TV Shows',\n",
              " 'International TV Shows',\n",
              " 'Action & Adventure',\n",
              " 'Documentaries',\n",
              " 'TV Dramas',\n",
              " 'Independent Movies']"
            ]
          },
          "execution_count": 430,
          "metadata": {},
          "output_type": "execute_result"
        }
      ],
      "source": [
        "Top10_categories = list(sorted_categories_dic.keys())[:10]\n",
        "Top10_categories"
      ]
    },
    {
      "cell_type": "code",
      "execution_count": 402,
      "metadata": {},
      "outputs": [
        {
          "data": {
            "text/plain": [
              "(8790, 56)"
            ]
          },
          "execution_count": 402,
          "metadata": {},
          "output_type": "execute_result"
        }
      ],
      "source": [
        "df.shape"
      ]
    },
    {
      "cell_type": "code",
      "execution_count": 403,
      "metadata": {},
      "outputs": [
        {
          "data": {
            "text/plain": [
              "Index(['type', 'title', 'director', 'cast', 'country', 'date_added',\n",
              "       'release_year', 'rating', 'duration', 'listed_in', 'year_added',\n",
              "       'month_added', 'month_name', 'season_count', 'Science & Nature TV',\n",
              "       'Sports Movies', 'Thrillers', 'TV Sci-Fi & Fantasy', 'TV Horror',\n",
              "       'Korean TV Shows', 'TV Dramas', 'TV Comedies', 'Cult Movies',\n",
              "       'Romantic Movies', 'Comedies', 'Classic & Cult TV', 'Movies',\n",
              "       'International TV Shows', 'TV Mysteries', 'Romantic TV Shows',\n",
              "       'Anime Features', 'Action & Adventure', 'Kids' TV', 'Anime Series',\n",
              "       'Horror Movies', 'Dramas', 'Classic Movies', 'Faith & Spirituality',\n",
              "       'TV Action & Adventure', 'Independent Movies', 'Documentaries',\n",
              "       'TV Thrillers', 'LGBTQ Movies', 'Children & Family Movies',\n",
              "       'British TV Shows', 'Sci-Fi & Fantasy', 'Docuseries',\n",
              "       'Spanish-Language TV Shows', 'Teen TV Shows', 'Stand-Up Comedy',\n",
              "       'Crime TV Shows', 'International Movies', 'TV Shows',\n",
              "       'Stand-Up Comedy & Talk Shows', 'Reality TV', 'Music & Musicals'],\n",
              "      dtype='object')"
            ]
          },
          "execution_count": 403,
          "metadata": {},
          "output_type": "execute_result"
        }
      ],
      "source": [
        "df.columns"
      ]
    },
    {
      "cell_type": "code",
      "execution_count": 404,
      "metadata": {},
      "outputs": [],
      "source": [
        "# df.drop('listed_in', axis=1, inplace=True)"
      ]
    },
    {
      "cell_type": "code",
      "execution_count": 405,
      "metadata": {},
      "outputs": [
        {
          "data": {
            "text/plain": [
              "357"
            ]
          },
          "execution_count": 405,
          "metadata": {},
          "output_type": "execute_result"
        }
      ],
      "source": [
        "# Horror movies and TV-Shows\n",
        "df[df['Horror Movies'] == 1].title.count()"
      ]
    },
    {
      "cell_type": "code",
      "execution_count": 406,
      "metadata": {},
      "outputs": [
        {
          "data": {
            "text/plain": [
              "75"
            ]
          },
          "execution_count": 406,
          "metadata": {},
          "output_type": "execute_result"
        }
      ],
      "source": [
        "df[df['TV Horror'] == 1].title.count()"
      ]
    },
    {
      "cell_type": "code",
      "execution_count": 407,
      "metadata": {},
      "outputs": [
        {
          "data": {
            "text/plain": [
              "type\n",
              "Movie      357\n",
              "TV Show     75\n",
              "Name: title, dtype: int64"
            ]
          },
          "execution_count": 407,
          "metadata": {},
          "output_type": "execute_result"
        }
      ],
      "source": [
        "# How many Horror Movies and Tv Shows on Netflix?\n",
        "df[df.listed_in.str.contains(\"Horror\")].groupby(\"type\")['title'].count()"
      ]
    },
    {
      "cell_type": "code",
      "execution_count": 408,
      "metadata": {
        "colab": {
          "base_uri": "https://localhost:8080/",
          "height": 394
        },
        "id": "Ur72MlS_NPxJ",
        "outputId": "07ff7947-19df-478b-d185-765c30789ac1"
      },
      "outputs": [
        {
          "data": {
            "text/html": [
              "<div>\n",
              "<style scoped>\n",
              "    .dataframe tbody tr th:only-of-type {\n",
              "        vertical-align: middle;\n",
              "    }\n",
              "\n",
              "    .dataframe tbody tr th {\n",
              "        vertical-align: top;\n",
              "    }\n",
              "\n",
              "    .dataframe thead th {\n",
              "        text-align: right;\n",
              "    }\n",
              "</style>\n",
              "<table border=\"1\" class=\"dataframe\">\n",
              "  <thead>\n",
              "    <tr style=\"text-align: right;\">\n",
              "      <th></th>\n",
              "      <th>country</th>\n",
              "    </tr>\n",
              "    <tr>\n",
              "      <th>title</th>\n",
              "      <th></th>\n",
              "    </tr>\n",
              "  </thead>\n",
              "  <tbody>\n",
              "    <tr>\n",
              "      <th>#Alive</th>\n",
              "      <td>South Korea</td>\n",
              "    </tr>\n",
              "    <tr>\n",
              "      <th>122</th>\n",
              "      <td>Egypt</td>\n",
              "    </tr>\n",
              "    <tr>\n",
              "      <th>13 Cameras</th>\n",
              "      <td>United States</td>\n",
              "    </tr>\n",
              "    <tr>\n",
              "      <th>13 Sins</th>\n",
              "      <td>United States</td>\n",
              "    </tr>\n",
              "    <tr>\n",
              "      <th>14 Cameras</th>\n",
              "      <td>United States</td>\n",
              "    </tr>\n",
              "    <tr>\n",
              "      <th>...</th>\n",
              "      <td>...</td>\n",
              "    </tr>\n",
              "    <tr>\n",
              "      <th>Would You Rather</th>\n",
              "      <td>United States</td>\n",
              "    </tr>\n",
              "    <tr>\n",
              "      <th>XX</th>\n",
              "      <td>Canada, United States</td>\n",
              "    </tr>\n",
              "    <tr>\n",
              "      <th>Yoga Hosers</th>\n",
              "      <td>United States</td>\n",
              "    </tr>\n",
              "    <tr>\n",
              "      <th>Zombieland</th>\n",
              "      <td>United States</td>\n",
              "    </tr>\n",
              "    <tr>\n",
              "      <th>Ég man þig</th>\n",
              "      <td>Iceland</td>\n",
              "    </tr>\n",
              "  </tbody>\n",
              "</table>\n",
              "<p>357 rows × 1 columns</p>\n",
              "</div>"
            ],
            "text/plain": [
              "                                country\n",
              "title                                  \n",
              "#Alive                      South Korea\n",
              "122                               Egypt\n",
              "13 Cameras                United States\n",
              "13 Sins                   United States\n",
              "14 Cameras                United States\n",
              "...                                 ...\n",
              "Would You Rather          United States\n",
              "XX                Canada, United States\n",
              "Yoga Hosers               United States\n",
              "Zombieland                United States\n",
              "Ég man þig                      Iceland\n",
              "\n",
              "[357 rows x 1 columns]"
            ]
          },
          "execution_count": 408,
          "metadata": {},
          "output_type": "execute_result"
        }
      ],
      "source": [
        "# What are the top 10 horror movies?\n",
        "mask = (df[\"listed_in\"].str.contains(\"Horror\")) & (df[\"type\"] == \"Movie\")\n",
        "df[mask].groupby(\"title\")[['country']].sum()"
      ]
    },
    {
      "cell_type": "code",
      "execution_count": 409,
      "metadata": {},
      "outputs": [
        {
          "data": {
            "text/plain": [
              "min       3.000000\n",
              "max     312.000000\n",
              "mean     99.584884\n",
              "50%      98.000000\n",
              "Name: duration, dtype: float64"
            ]
          },
          "execution_count": 409,
          "metadata": {},
          "output_type": "execute_result"
        }
      ],
      "source": [
        "df[df['type'] == 'Movie'].duration.describe()[['min', 'max', 'mean', '50%']]"
      ]
    },
    {
      "cell_type": "code",
      "execution_count": 410,
      "metadata": {},
      "outputs": [
        {
          "data": {
            "text/plain": [
              "array([ 2.,  1.,  9.,  4.,  5.,  3.,  6.,  7., 10.,  8., 17., 13., 15.,\n",
              "       12., 11.])"
            ]
          },
          "execution_count": 410,
          "metadata": {},
          "output_type": "execute_result"
        }
      ],
      "source": [
        "df[df['type'] == 'TV Show'].season_count.unique()"
      ]
    },
    {
      "cell_type": "code",
      "execution_count": 411,
      "metadata": {},
      "outputs": [
        {
          "data": {
            "text/html": [
              "<div>\n",
              "<style scoped>\n",
              "    .dataframe tbody tr th:only-of-type {\n",
              "        vertical-align: middle;\n",
              "    }\n",
              "\n",
              "    .dataframe tbody tr th {\n",
              "        vertical-align: top;\n",
              "    }\n",
              "\n",
              "    .dataframe thead th {\n",
              "        text-align: right;\n",
              "    }\n",
              "</style>\n",
              "<table border=\"1\" class=\"dataframe\">\n",
              "  <thead>\n",
              "    <tr style=\"text-align: right;\">\n",
              "      <th></th>\n",
              "      <th>type</th>\n",
              "      <th>title</th>\n",
              "      <th>director</th>\n",
              "      <th>cast</th>\n",
              "      <th>country</th>\n",
              "      <th>date_added</th>\n",
              "      <th>release_year</th>\n",
              "      <th>rating</th>\n",
              "      <th>duration</th>\n",
              "      <th>listed_in</th>\n",
              "      <th>...</th>\n",
              "      <th>Docuseries</th>\n",
              "      <th>Spanish-Language TV Shows</th>\n",
              "      <th>Teen TV Shows</th>\n",
              "      <th>Stand-Up Comedy</th>\n",
              "      <th>Crime TV Shows</th>\n",
              "      <th>International Movies</th>\n",
              "      <th>TV Shows</th>\n",
              "      <th>Stand-Up Comedy &amp; Talk Shows</th>\n",
              "      <th>Reality TV</th>\n",
              "      <th>Music &amp; Musicals</th>\n",
              "    </tr>\n",
              "  </thead>\n",
              "  <tbody>\n",
              "    <tr>\n",
              "      <th>2423</th>\n",
              "      <td>TV Show</td>\n",
              "      <td>Supernatural</td>\n",
              "      <td>Phil Sgriccia</td>\n",
              "      <td>Jared Padalecki, Jensen Ackles, Mark Sheppard,...</td>\n",
              "      <td>United States, Canada</td>\n",
              "      <td>2020-06-05</td>\n",
              "      <td>2019</td>\n",
              "      <td>TV-14</td>\n",
              "      <td>NaN</td>\n",
              "      <td>Classic &amp; Cult TV, TV Action &amp; Adventure, TV H...</td>\n",
              "      <td>...</td>\n",
              "      <td>0</td>\n",
              "      <td>0</td>\n",
              "      <td>0</td>\n",
              "      <td>0</td>\n",
              "      <td>0</td>\n",
              "      <td>0</td>\n",
              "      <td>0</td>\n",
              "      <td>0</td>\n",
              "      <td>0</td>\n",
              "      <td>0</td>\n",
              "    </tr>\n",
              "    <tr>\n",
              "      <th>4798</th>\n",
              "      <td>TV Show</td>\n",
              "      <td>NCIS</td>\n",
              "      <td>Unknown</td>\n",
              "      <td>Mark Harmon, Michael Weatherly, Pauley Perrett...</td>\n",
              "      <td>United States</td>\n",
              "      <td>2018-07-01</td>\n",
              "      <td>2017</td>\n",
              "      <td>TV-14</td>\n",
              "      <td>NaN</td>\n",
              "      <td>Crime TV Shows, TV Dramas, TV Mysteries</td>\n",
              "      <td>...</td>\n",
              "      <td>0</td>\n",
              "      <td>0</td>\n",
              "      <td>0</td>\n",
              "      <td>0</td>\n",
              "      <td>1</td>\n",
              "      <td>0</td>\n",
              "      <td>1</td>\n",
              "      <td>0</td>\n",
              "      <td>0</td>\n",
              "      <td>0</td>\n",
              "    </tr>\n",
              "  </tbody>\n",
              "</table>\n",
              "<p>2 rows × 56 columns</p>\n",
              "</div>"
            ],
            "text/plain": [
              "         type         title       director  \\\n",
              "2423  TV Show  Supernatural  Phil Sgriccia   \n",
              "4798  TV Show          NCIS        Unknown   \n",
              "\n",
              "                                                   cast  \\\n",
              "2423  Jared Padalecki, Jensen Ackles, Mark Sheppard,...   \n",
              "4798  Mark Harmon, Michael Weatherly, Pauley Perrett...   \n",
              "\n",
              "                    country date_added  release_year rating  duration  \\\n",
              "2423  United States, Canada 2020-06-05          2019  TV-14       NaN   \n",
              "4798          United States 2018-07-01          2017  TV-14       NaN   \n",
              "\n",
              "                                              listed_in  ...  Docuseries  \\\n",
              "2423  Classic & Cult TV, TV Action & Adventure, TV H...  ...           0   \n",
              "4798            Crime TV Shows, TV Dramas, TV Mysteries  ...           0   \n",
              "\n",
              "      Spanish-Language TV Shows Teen TV Shows  Stand-Up Comedy  \\\n",
              "2423                          0             0                0   \n",
              "4798                          0             0                0   \n",
              "\n",
              "      Crime TV Shows  International Movies  TV Shows  \\\n",
              "2423               0                     0         0   \n",
              "4798               1                     0         1   \n",
              "\n",
              "      Stand-Up Comedy & Talk Shows  Reality TV  Music & Musicals  \n",
              "2423                             0           0                 0  \n",
              "4798                             0           0                 0  \n",
              "\n",
              "[2 rows x 56 columns]"
            ]
          },
          "execution_count": 411,
          "metadata": {},
          "output_type": "execute_result"
        }
      ],
      "source": [
        "df[df['season_count'] == 15]"
      ]
    },
    {
      "cell_type": "code",
      "execution_count": 412,
      "metadata": {},
      "outputs": [
        {
          "data": {
            "text/plain": [
              "99.58488410055502"
            ]
          },
          "execution_count": 412,
          "metadata": {},
          "output_type": "execute_result"
        }
      ],
      "source": [
        "# What is the average duration of the movie?\n",
        "df[df['type'] == 'Movie'].duration.mean()"
      ]
    },
    {
      "cell_type": "code",
      "execution_count": 413,
      "metadata": {
        "colab": {
          "base_uri": "https://localhost:8080/",
          "height": 300
        },
        "id": "8FBbB4o0PMnt",
        "outputId": "0b3b5517-bf91-49bf-d55f-c780808cb28e"
      },
      "outputs": [
        {
          "data": {
            "text/html": [
              "<div>\n",
              "<style scoped>\n",
              "    .dataframe tbody tr th:only-of-type {\n",
              "        vertical-align: middle;\n",
              "    }\n",
              "\n",
              "    .dataframe tbody tr th {\n",
              "        vertical-align: top;\n",
              "    }\n",
              "\n",
              "    .dataframe thead th {\n",
              "        text-align: right;\n",
              "    }\n",
              "</style>\n",
              "<table border=\"1\" class=\"dataframe\">\n",
              "  <thead>\n",
              "    <tr style=\"text-align: right;\">\n",
              "      <th></th>\n",
              "      <th>season_count</th>\n",
              "      <th>duration</th>\n",
              "    </tr>\n",
              "  </thead>\n",
              "  <tbody>\n",
              "    <tr>\n",
              "      <th>count</th>\n",
              "      <td>2664.000000</td>\n",
              "      <td>6126.000000</td>\n",
              "    </tr>\n",
              "    <tr>\n",
              "      <th>mean</th>\n",
              "      <td>1.751877</td>\n",
              "      <td>99.584884</td>\n",
              "    </tr>\n",
              "    <tr>\n",
              "      <th>std</th>\n",
              "      <td>1.550622</td>\n",
              "      <td>28.283225</td>\n",
              "    </tr>\n",
              "    <tr>\n",
              "      <th>min</th>\n",
              "      <td>1.000000</td>\n",
              "      <td>3.000000</td>\n",
              "    </tr>\n",
              "    <tr>\n",
              "      <th>25%</th>\n",
              "      <td>1.000000</td>\n",
              "      <td>87.000000</td>\n",
              "    </tr>\n",
              "    <tr>\n",
              "      <th>50%</th>\n",
              "      <td>1.000000</td>\n",
              "      <td>98.000000</td>\n",
              "    </tr>\n",
              "    <tr>\n",
              "      <th>75%</th>\n",
              "      <td>2.000000</td>\n",
              "      <td>114.000000</td>\n",
              "    </tr>\n",
              "    <tr>\n",
              "      <th>max</th>\n",
              "      <td>17.000000</td>\n",
              "      <td>312.000000</td>\n",
              "    </tr>\n",
              "  </tbody>\n",
              "</table>\n",
              "</div>"
            ],
            "text/plain": [
              "       season_count     duration\n",
              "count   2664.000000  6126.000000\n",
              "mean       1.751877    99.584884\n",
              "std        1.550622    28.283225\n",
              "min        1.000000     3.000000\n",
              "25%        1.000000    87.000000\n",
              "50%        1.000000    98.000000\n",
              "75%        2.000000   114.000000\n",
              "max       17.000000   312.000000"
            ]
          },
          "execution_count": 413,
          "metadata": {},
          "output_type": "execute_result"
        }
      ],
      "source": [
        "# Create a summary statstics table for duration and season count features using dedicated pandas function\n",
        "df[['season_count', 'duration']].describe()"
      ]
    },
    {
      "cell_type": "code",
      "execution_count": 414,
      "metadata": {
        "colab": {
          "base_uri": "https://localhost:8080/",
          "height": 332
        },
        "id": "2P7EsYHSP7B-",
        "outputId": "f094dbc6-adc7-4a67-dfd2-1c576aa40779"
      },
      "outputs": [
        {
          "data": {
            "text/html": [
              "<div>\n",
              "<style scoped>\n",
              "    .dataframe tbody tr th:only-of-type {\n",
              "        vertical-align: middle;\n",
              "    }\n",
              "\n",
              "    .dataframe tbody tr th {\n",
              "        vertical-align: top;\n",
              "    }\n",
              "\n",
              "    .dataframe thead th {\n",
              "        text-align: right;\n",
              "    }\n",
              "</style>\n",
              "<table border=\"1\" class=\"dataframe\">\n",
              "  <thead>\n",
              "    <tr style=\"text-align: right;\">\n",
              "      <th></th>\n",
              "      <th>type</th>\n",
              "      <th>title</th>\n",
              "      <th>director</th>\n",
              "      <th>cast</th>\n",
              "      <th>country</th>\n",
              "      <th>date_added</th>\n",
              "      <th>release_year</th>\n",
              "      <th>rating</th>\n",
              "      <th>duration</th>\n",
              "      <th>listed_in</th>\n",
              "      <th>...</th>\n",
              "      <th>Docuseries</th>\n",
              "      <th>Spanish-Language TV Shows</th>\n",
              "      <th>Teen TV Shows</th>\n",
              "      <th>Stand-Up Comedy</th>\n",
              "      <th>Crime TV Shows</th>\n",
              "      <th>International Movies</th>\n",
              "      <th>TV Shows</th>\n",
              "      <th>Stand-Up Comedy &amp; Talk Shows</th>\n",
              "      <th>Reality TV</th>\n",
              "      <th>Music &amp; Musicals</th>\n",
              "    </tr>\n",
              "  </thead>\n",
              "  <tbody>\n",
              "    <tr>\n",
              "      <th>4253</th>\n",
              "      <td>Movie</td>\n",
              "      <td>Black Mirror: Bandersnatch</td>\n",
              "      <td>Unknown</td>\n",
              "      <td>Fionn Whitehead, Will Poulter, Craig Parkinson...</td>\n",
              "      <td>United States</td>\n",
              "      <td>2018-12-28</td>\n",
              "      <td>2018</td>\n",
              "      <td>TV-MA</td>\n",
              "      <td>312.0</td>\n",
              "      <td>Dramas, International Movies, Sci-Fi &amp; Fantasy</td>\n",
              "      <td>...</td>\n",
              "      <td>0</td>\n",
              "      <td>0</td>\n",
              "      <td>0</td>\n",
              "      <td>0</td>\n",
              "      <td>0</td>\n",
              "      <td>1</td>\n",
              "      <td>0</td>\n",
              "      <td>0</td>\n",
              "      <td>0</td>\n",
              "      <td>0</td>\n",
              "    </tr>\n",
              "  </tbody>\n",
              "</table>\n",
              "<p>1 rows × 56 columns</p>\n",
              "</div>"
            ],
            "text/plain": [
              "       type                       title director  \\\n",
              "4253  Movie  Black Mirror: Bandersnatch  Unknown   \n",
              "\n",
              "                                                   cast        country  \\\n",
              "4253  Fionn Whitehead, Will Poulter, Craig Parkinson...  United States   \n",
              "\n",
              "     date_added  release_year rating  duration  \\\n",
              "4253 2018-12-28          2018  TV-MA     312.0   \n",
              "\n",
              "                                           listed_in  ...  Docuseries  \\\n",
              "4253  Dramas, International Movies, Sci-Fi & Fantasy  ...           0   \n",
              "\n",
              "      Spanish-Language TV Shows Teen TV Shows  Stand-Up Comedy  \\\n",
              "4253                          0             0                0   \n",
              "\n",
              "      Crime TV Shows  International Movies  TV Shows  \\\n",
              "4253               0                     1         0   \n",
              "\n",
              "      Stand-Up Comedy & Talk Shows  Reality TV  Music & Musicals  \n",
              "4253                             0           0                 0  \n",
              "\n",
              "[1 rows x 56 columns]"
            ]
          },
          "execution_count": 414,
          "metadata": {},
          "output_type": "execute_result"
        }
      ],
      "source": [
        "# longest movie ever\n",
        "df[df[\"duration\"]== max(df[\"duration\"])]"
      ]
    },
    {
      "cell_type": "code",
      "execution_count": 415,
      "metadata": {
        "colab": {
          "base_uri": "https://localhost:8080/",
          "height": 394
        },
        "id": "U8jpjaCwQKaE",
        "outputId": "24ffae74-303d-451b-bb4b-f958f6e3d107"
      },
      "outputs": [
        {
          "data": {
            "text/plain": [
              "country\n",
              "United States     2055\n",
              "India              893\n",
              "Unknown            439\n",
              "United Kingdom     206\n",
              "Canada             122\n",
              "Spain               97\n",
              "Egypt               92\n",
              "Nigeria             86\n",
              "Indonesia           77\n",
              "Japan               76\n",
              "Name: title, dtype: int64"
            ]
          },
          "execution_count": 415,
          "metadata": {},
          "output_type": "execute_result"
        }
      ],
      "source": [
        "# top 10 countries in Movie releases\n",
        "df[df[\"type\"]==\"Movie\"].groupby(\"country\")[\"title\"].count().nlargest(10)\n"
      ]
    },
    {
      "cell_type": "code",
      "execution_count": 416,
      "metadata": {},
      "outputs": [
        {
          "data": {
            "text/plain": [
              "country\n",
              "United States     2055\n",
              "India              893\n",
              "Unknown            439\n",
              "United Kingdom     206\n",
              "Canada             122\n",
              "Spain               97\n",
              "Egypt               92\n",
              "Nigeria             86\n",
              "Indonesia           77\n",
              "Japan               76\n",
              "dtype: int64"
            ]
          },
          "execution_count": 416,
          "metadata": {},
          "output_type": "execute_result"
        }
      ],
      "source": [
        "df[df[\"type\"]==\"Movie\"].value_counts(\"country\").nlargest(10)\n"
      ]
    },
    {
      "cell_type": "code",
      "execution_count": 495,
      "metadata": {},
      "outputs": [],
      "source": [
        "df_movies = df[df['type'] == 'Movie'].copy()\n",
        "df_shows = df[df['type'] == 'TV Show'].copy()\n"
      ]
    },
    {
      "cell_type": "code",
      "execution_count": 496,
      "metadata": {},
      "outputs": [
        {
          "data": {
            "text/html": [
              "<div>\n",
              "<style scoped>\n",
              "    .dataframe tbody tr th:only-of-type {\n",
              "        vertical-align: middle;\n",
              "    }\n",
              "\n",
              "    .dataframe tbody tr th {\n",
              "        vertical-align: top;\n",
              "    }\n",
              "\n",
              "    .dataframe thead th {\n",
              "        text-align: right;\n",
              "    }\n",
              "</style>\n",
              "<table border=\"1\" class=\"dataframe\">\n",
              "  <thead>\n",
              "    <tr style=\"text-align: right;\">\n",
              "      <th></th>\n",
              "      <th>type</th>\n",
              "      <th>title</th>\n",
              "      <th>director</th>\n",
              "      <th>cast</th>\n",
              "      <th>country</th>\n",
              "      <th>date_added</th>\n",
              "      <th>release_year</th>\n",
              "      <th>rating</th>\n",
              "      <th>duration</th>\n",
              "      <th>listed_in</th>\n",
              "      <th>...</th>\n",
              "      <th>Docuseries</th>\n",
              "      <th>Spanish-Language TV Shows</th>\n",
              "      <th>Teen TV Shows</th>\n",
              "      <th>Stand-Up Comedy</th>\n",
              "      <th>Crime TV Shows</th>\n",
              "      <th>International Movies</th>\n",
              "      <th>TV Shows</th>\n",
              "      <th>Stand-Up Comedy &amp; Talk Shows</th>\n",
              "      <th>Reality TV</th>\n",
              "      <th>Music &amp; Musicals</th>\n",
              "    </tr>\n",
              "  </thead>\n",
              "  <tbody>\n",
              "    <tr>\n",
              "      <th>0</th>\n",
              "      <td>Movie</td>\n",
              "      <td>Dick Johnson Is Dead</td>\n",
              "      <td>Kirsten Johnson</td>\n",
              "      <td>Unknown</td>\n",
              "      <td>United States</td>\n",
              "      <td>2021-09-25</td>\n",
              "      <td>2020</td>\n",
              "      <td>PG-13</td>\n",
              "      <td>90 min</td>\n",
              "      <td>Documentaries</td>\n",
              "      <td>...</td>\n",
              "      <td>0</td>\n",
              "      <td>0</td>\n",
              "      <td>0</td>\n",
              "      <td>0</td>\n",
              "      <td>0</td>\n",
              "      <td>0</td>\n",
              "      <td>0</td>\n",
              "      <td>0</td>\n",
              "      <td>0</td>\n",
              "      <td>0</td>\n",
              "    </tr>\n",
              "    <tr>\n",
              "      <th>6</th>\n",
              "      <td>Movie</td>\n",
              "      <td>My Little Pony: A New Generation</td>\n",
              "      <td>Robert Cullen, José Luis Ucha</td>\n",
              "      <td>Vanessa Hudgens, Kimiko Glenn, James Marsden, ...</td>\n",
              "      <td>Unknown</td>\n",
              "      <td>2021-09-24</td>\n",
              "      <td>2021</td>\n",
              "      <td>PG</td>\n",
              "      <td>91 min</td>\n",
              "      <td>Children &amp; Family Movies</td>\n",
              "      <td>...</td>\n",
              "      <td>0</td>\n",
              "      <td>0</td>\n",
              "      <td>0</td>\n",
              "      <td>0</td>\n",
              "      <td>0</td>\n",
              "      <td>0</td>\n",
              "      <td>0</td>\n",
              "      <td>0</td>\n",
              "      <td>0</td>\n",
              "      <td>0</td>\n",
              "    </tr>\n",
              "    <tr>\n",
              "      <th>7</th>\n",
              "      <td>Movie</td>\n",
              "      <td>Sankofa</td>\n",
              "      <td>Haile Gerima</td>\n",
              "      <td>Kofi Ghanaba, Oyafunmike Ogunlano, Alexandra D...</td>\n",
              "      <td>United States, Ghana, Burkina Faso, United Kin...</td>\n",
              "      <td>2021-09-24</td>\n",
              "      <td>1993</td>\n",
              "      <td>TV-MA</td>\n",
              "      <td>125 min</td>\n",
              "      <td>Dramas, Independent Movies, International Movies</td>\n",
              "      <td>...</td>\n",
              "      <td>0</td>\n",
              "      <td>0</td>\n",
              "      <td>0</td>\n",
              "      <td>0</td>\n",
              "      <td>0</td>\n",
              "      <td>1</td>\n",
              "      <td>0</td>\n",
              "      <td>0</td>\n",
              "      <td>0</td>\n",
              "      <td>0</td>\n",
              "    </tr>\n",
              "    <tr>\n",
              "      <th>9</th>\n",
              "      <td>Movie</td>\n",
              "      <td>The Starling</td>\n",
              "      <td>Theodore Melfi</td>\n",
              "      <td>Melissa McCarthy, Chris O'Dowd, Kevin Kline, T...</td>\n",
              "      <td>United States</td>\n",
              "      <td>2021-09-24</td>\n",
              "      <td>2021</td>\n",
              "      <td>PG-13</td>\n",
              "      <td>104 min</td>\n",
              "      <td>Comedies, Dramas</td>\n",
              "      <td>...</td>\n",
              "      <td>0</td>\n",
              "      <td>0</td>\n",
              "      <td>0</td>\n",
              "      <td>0</td>\n",
              "      <td>0</td>\n",
              "      <td>0</td>\n",
              "      <td>0</td>\n",
              "      <td>0</td>\n",
              "      <td>0</td>\n",
              "      <td>0</td>\n",
              "    </tr>\n",
              "    <tr>\n",
              "      <th>12</th>\n",
              "      <td>Movie</td>\n",
              "      <td>Je Suis Karl</td>\n",
              "      <td>Christian Schwochow</td>\n",
              "      <td>Luna Wedler, Jannis Niewöhner, Milan Peschel, ...</td>\n",
              "      <td>Germany, Czech Republic</td>\n",
              "      <td>2021-09-23</td>\n",
              "      <td>2021</td>\n",
              "      <td>TV-MA</td>\n",
              "      <td>127 min</td>\n",
              "      <td>Dramas, International Movies</td>\n",
              "      <td>...</td>\n",
              "      <td>0</td>\n",
              "      <td>0</td>\n",
              "      <td>0</td>\n",
              "      <td>0</td>\n",
              "      <td>0</td>\n",
              "      <td>1</td>\n",
              "      <td>0</td>\n",
              "      <td>0</td>\n",
              "      <td>0</td>\n",
              "      <td>0</td>\n",
              "    </tr>\n",
              "  </tbody>\n",
              "</table>\n",
              "<p>5 rows × 55 columns</p>\n",
              "</div>"
            ],
            "text/plain": [
              "     type                             title                       director  \\\n",
              "0   Movie              Dick Johnson Is Dead                Kirsten Johnson   \n",
              "6   Movie  My Little Pony: A New Generation  Robert Cullen, José Luis Ucha   \n",
              "7   Movie                           Sankofa                   Haile Gerima   \n",
              "9   Movie                      The Starling                 Theodore Melfi   \n",
              "12  Movie                      Je Suis Karl            Christian Schwochow   \n",
              "\n",
              "                                                 cast  \\\n",
              "0                                             Unknown   \n",
              "6   Vanessa Hudgens, Kimiko Glenn, James Marsden, ...   \n",
              "7   Kofi Ghanaba, Oyafunmike Ogunlano, Alexandra D...   \n",
              "9   Melissa McCarthy, Chris O'Dowd, Kevin Kline, T...   \n",
              "12  Luna Wedler, Jannis Niewöhner, Milan Peschel, ...   \n",
              "\n",
              "                                              country date_added  \\\n",
              "0                                       United States 2021-09-25   \n",
              "6                                             Unknown 2021-09-24   \n",
              "7   United States, Ghana, Burkina Faso, United Kin... 2021-09-24   \n",
              "9                                       United States 2021-09-24   \n",
              "12                            Germany, Czech Republic 2021-09-23   \n",
              "\n",
              "    release_year rating duration  \\\n",
              "0           2020  PG-13   90 min   \n",
              "6           2021     PG   91 min   \n",
              "7           1993  TV-MA  125 min   \n",
              "9           2021  PG-13  104 min   \n",
              "12          2021  TV-MA  127 min   \n",
              "\n",
              "                                           listed_in  ...  Docuseries  \\\n",
              "0                                      Documentaries  ...           0   \n",
              "6                           Children & Family Movies  ...           0   \n",
              "7   Dramas, Independent Movies, International Movies  ...           0   \n",
              "9                                   Comedies, Dramas  ...           0   \n",
              "12                      Dramas, International Movies  ...           0   \n",
              "\n",
              "    Spanish-Language TV Shows Teen TV Shows  Stand-Up Comedy  Crime TV Shows  \\\n",
              "0                           0             0                0               0   \n",
              "6                           0             0                0               0   \n",
              "7                           0             0                0               0   \n",
              "9                           0             0                0               0   \n",
              "12                          0             0                0               0   \n",
              "\n",
              "    International Movies  TV Shows  Stand-Up Comedy & Talk Shows  Reality TV  \\\n",
              "0                      0         0                             0           0   \n",
              "6                      0         0                             0           0   \n",
              "7                      1         0                             0           0   \n",
              "9                      0         0                             0           0   \n",
              "12                     1         0                             0           0   \n",
              "\n",
              "    Music & Musicals  \n",
              "0                  0  \n",
              "6                  0  \n",
              "7                  0  \n",
              "9                  0  \n",
              "12                 0  \n",
              "\n",
              "[5 rows x 55 columns]"
            ]
          },
          "execution_count": 496,
          "metadata": {},
          "output_type": "execute_result"
        }
      ],
      "source": [
        "df_movies.head()"
      ]
    },
    {
      "cell_type": "code",
      "execution_count": 497,
      "metadata": {},
      "outputs": [
        {
          "data": {
            "text/html": [
              "<div>\n",
              "<style scoped>\n",
              "    .dataframe tbody tr th:only-of-type {\n",
              "        vertical-align: middle;\n",
              "    }\n",
              "\n",
              "    .dataframe tbody tr th {\n",
              "        vertical-align: top;\n",
              "    }\n",
              "\n",
              "    .dataframe thead th {\n",
              "        text-align: right;\n",
              "    }\n",
              "</style>\n",
              "<table border=\"1\" class=\"dataframe\">\n",
              "  <thead>\n",
              "    <tr style=\"text-align: right;\">\n",
              "      <th></th>\n",
              "      <th>type</th>\n",
              "      <th>title</th>\n",
              "      <th>director</th>\n",
              "      <th>cast</th>\n",
              "      <th>country</th>\n",
              "      <th>date_added</th>\n",
              "      <th>release_year</th>\n",
              "      <th>rating</th>\n",
              "      <th>duration</th>\n",
              "      <th>listed_in</th>\n",
              "      <th>...</th>\n",
              "      <th>Docuseries</th>\n",
              "      <th>Spanish-Language TV Shows</th>\n",
              "      <th>Teen TV Shows</th>\n",
              "      <th>Stand-Up Comedy</th>\n",
              "      <th>Crime TV Shows</th>\n",
              "      <th>International Movies</th>\n",
              "      <th>TV Shows</th>\n",
              "      <th>Stand-Up Comedy &amp; Talk Shows</th>\n",
              "      <th>Reality TV</th>\n",
              "      <th>Music &amp; Musicals</th>\n",
              "    </tr>\n",
              "  </thead>\n",
              "  <tbody>\n",
              "    <tr>\n",
              "      <th>1</th>\n",
              "      <td>TV Show</td>\n",
              "      <td>Blood &amp; Water</td>\n",
              "      <td>Unknown</td>\n",
              "      <td>Ama Qamata, Khosi Ngema, Gail Mabalane, Thaban...</td>\n",
              "      <td>South Africa</td>\n",
              "      <td>2021-09-24</td>\n",
              "      <td>2021</td>\n",
              "      <td>TV-MA</td>\n",
              "      <td>2 Seasons</td>\n",
              "      <td>International TV Shows, TV Dramas, TV Mysteries</td>\n",
              "      <td>...</td>\n",
              "      <td>0</td>\n",
              "      <td>0</td>\n",
              "      <td>0</td>\n",
              "      <td>0</td>\n",
              "      <td>0</td>\n",
              "      <td>0</td>\n",
              "      <td>1</td>\n",
              "      <td>0</td>\n",
              "      <td>0</td>\n",
              "      <td>0</td>\n",
              "    </tr>\n",
              "    <tr>\n",
              "      <th>2</th>\n",
              "      <td>TV Show</td>\n",
              "      <td>Ganglands</td>\n",
              "      <td>Julien Leclercq</td>\n",
              "      <td>Sami Bouajila, Tracy Gotoas, Samuel Jouy, Nabi...</td>\n",
              "      <td>Unknown</td>\n",
              "      <td>2021-09-24</td>\n",
              "      <td>2021</td>\n",
              "      <td>TV-MA</td>\n",
              "      <td>1 Season</td>\n",
              "      <td>Crime TV Shows, International TV Shows, TV Act...</td>\n",
              "      <td>...</td>\n",
              "      <td>0</td>\n",
              "      <td>0</td>\n",
              "      <td>0</td>\n",
              "      <td>0</td>\n",
              "      <td>1</td>\n",
              "      <td>0</td>\n",
              "      <td>1</td>\n",
              "      <td>0</td>\n",
              "      <td>0</td>\n",
              "      <td>0</td>\n",
              "    </tr>\n",
              "    <tr>\n",
              "      <th>3</th>\n",
              "      <td>TV Show</td>\n",
              "      <td>Jailbirds New Orleans</td>\n",
              "      <td>Unknown</td>\n",
              "      <td>Unknown</td>\n",
              "      <td>Unknown</td>\n",
              "      <td>2021-09-24</td>\n",
              "      <td>2021</td>\n",
              "      <td>TV-MA</td>\n",
              "      <td>1 Season</td>\n",
              "      <td>Docuseries, Reality TV</td>\n",
              "      <td>...</td>\n",
              "      <td>1</td>\n",
              "      <td>0</td>\n",
              "      <td>0</td>\n",
              "      <td>0</td>\n",
              "      <td>0</td>\n",
              "      <td>0</td>\n",
              "      <td>0</td>\n",
              "      <td>0</td>\n",
              "      <td>1</td>\n",
              "      <td>0</td>\n",
              "    </tr>\n",
              "    <tr>\n",
              "      <th>4</th>\n",
              "      <td>TV Show</td>\n",
              "      <td>Kota Factory</td>\n",
              "      <td>Unknown</td>\n",
              "      <td>Mayur More, Jitendra Kumar, Ranjan Raj, Alam K...</td>\n",
              "      <td>India</td>\n",
              "      <td>2021-09-24</td>\n",
              "      <td>2021</td>\n",
              "      <td>TV-MA</td>\n",
              "      <td>2 Seasons</td>\n",
              "      <td>International TV Shows, Romantic TV Shows, TV ...</td>\n",
              "      <td>...</td>\n",
              "      <td>0</td>\n",
              "      <td>0</td>\n",
              "      <td>0</td>\n",
              "      <td>0</td>\n",
              "      <td>0</td>\n",
              "      <td>0</td>\n",
              "      <td>1</td>\n",
              "      <td>0</td>\n",
              "      <td>0</td>\n",
              "      <td>0</td>\n",
              "    </tr>\n",
              "    <tr>\n",
              "      <th>5</th>\n",
              "      <td>TV Show</td>\n",
              "      <td>Midnight Mass</td>\n",
              "      <td>Mike Flanagan</td>\n",
              "      <td>Kate Siegel, Zach Gilford, Hamish Linklater, H...</td>\n",
              "      <td>Unknown</td>\n",
              "      <td>2021-09-24</td>\n",
              "      <td>2021</td>\n",
              "      <td>TV-MA</td>\n",
              "      <td>1 Season</td>\n",
              "      <td>TV Dramas, TV Horror, TV Mysteries</td>\n",
              "      <td>...</td>\n",
              "      <td>0</td>\n",
              "      <td>0</td>\n",
              "      <td>0</td>\n",
              "      <td>0</td>\n",
              "      <td>0</td>\n",
              "      <td>0</td>\n",
              "      <td>0</td>\n",
              "      <td>0</td>\n",
              "      <td>0</td>\n",
              "      <td>0</td>\n",
              "    </tr>\n",
              "  </tbody>\n",
              "</table>\n",
              "<p>5 rows × 55 columns</p>\n",
              "</div>"
            ],
            "text/plain": [
              "      type                  title         director  \\\n",
              "1  TV Show          Blood & Water          Unknown   \n",
              "2  TV Show              Ganglands  Julien Leclercq   \n",
              "3  TV Show  Jailbirds New Orleans          Unknown   \n",
              "4  TV Show           Kota Factory          Unknown   \n",
              "5  TV Show          Midnight Mass    Mike Flanagan   \n",
              "\n",
              "                                                cast       country date_added  \\\n",
              "1  Ama Qamata, Khosi Ngema, Gail Mabalane, Thaban...  South Africa 2021-09-24   \n",
              "2  Sami Bouajila, Tracy Gotoas, Samuel Jouy, Nabi...       Unknown 2021-09-24   \n",
              "3                                            Unknown       Unknown 2021-09-24   \n",
              "4  Mayur More, Jitendra Kumar, Ranjan Raj, Alam K...         India 2021-09-24   \n",
              "5  Kate Siegel, Zach Gilford, Hamish Linklater, H...       Unknown 2021-09-24   \n",
              "\n",
              "   release_year rating   duration  \\\n",
              "1          2021  TV-MA  2 Seasons   \n",
              "2          2021  TV-MA   1 Season   \n",
              "3          2021  TV-MA   1 Season   \n",
              "4          2021  TV-MA  2 Seasons   \n",
              "5          2021  TV-MA   1 Season   \n",
              "\n",
              "                                           listed_in  ...  Docuseries  \\\n",
              "1    International TV Shows, TV Dramas, TV Mysteries  ...           0   \n",
              "2  Crime TV Shows, International TV Shows, TV Act...  ...           0   \n",
              "3                             Docuseries, Reality TV  ...           1   \n",
              "4  International TV Shows, Romantic TV Shows, TV ...  ...           0   \n",
              "5                 TV Dramas, TV Horror, TV Mysteries  ...           0   \n",
              "\n",
              "   Spanish-Language TV Shows Teen TV Shows  Stand-Up Comedy  Crime TV Shows  \\\n",
              "1                          0             0                0               0   \n",
              "2                          0             0                0               1   \n",
              "3                          0             0                0               0   \n",
              "4                          0             0                0               0   \n",
              "5                          0             0                0               0   \n",
              "\n",
              "   International Movies  TV Shows  Stand-Up Comedy & Talk Shows  Reality TV  \\\n",
              "1                     0         1                             0           0   \n",
              "2                     0         1                             0           0   \n",
              "3                     0         0                             0           1   \n",
              "4                     0         1                             0           0   \n",
              "5                     0         0                             0           0   \n",
              "\n",
              "   Music & Musicals  \n",
              "1                 0  \n",
              "2                 0  \n",
              "3                 0  \n",
              "4                 0  \n",
              "5                 0  \n",
              "\n",
              "[5 rows x 55 columns]"
            ]
          },
          "execution_count": 497,
          "metadata": {},
          "output_type": "execute_result"
        }
      ],
      "source": [
        "df_shows.head()"
      ]
    },
    {
      "cell_type": "code",
      "execution_count": 417,
      "metadata": {
        "colab": {
          "base_uri": "https://localhost:8080/",
          "height": 394
        },
        "id": "x0o7EKL_QZKi",
        "outputId": "4290abb9-394f-4d8b-c1ad-0f6435c17937"
      },
      "outputs": [
        {
          "data": {
            "text/plain": [
              "country\n",
              "United States     754\n",
              "Unknown           390\n",
              "United Kingdom    212\n",
              "Japan             167\n",
              "South Korea       158\n",
              "India              79\n",
              "Taiwan             68\n",
              "Canada             59\n",
              "France             49\n",
              "Spain              48\n",
              "Name: title, dtype: int64"
            ]
          },
          "execution_count": 417,
          "metadata": {},
          "output_type": "execute_result"
        }
      ],
      "source": [
        "# top 10 countries in Tv-Show releases \n",
        "df[df[\"type\"]==\"TV Show\"].groupby(\"country\")[\"title\"].count().nlargest(10)\n"
      ]
    },
    {
      "cell_type": "code",
      "execution_count": 418,
      "metadata": {},
      "outputs": [
        {
          "data": {
            "text/plain": [
              "Dramas                      352\n",
              "Comedies                    244\n",
              "Action & Adventure          173\n",
              "Documentaries               163\n",
              "Stand-Up Comedy              86\n",
              "Children & Family Movies     80\n",
              "Horror Movies                60\n",
              "International Movies         26\n",
              "Movies                       19\n",
              "Music & Musicals              7\n",
              "Thrillers                     7\n",
              "Independent Movies            6\n",
              "Sci-Fi & Fantasy              5\n",
              "Classic Movies                3\n",
              "Anime Features                3\n",
              "Cult Movies                   2\n",
              "Sports Movies                 1\n",
              "Name: category, dtype: int64"
            ]
          },
          "execution_count": 418,
          "metadata": {},
          "output_type": "execute_result"
        }
      ],
      "source": [
        "# How many movies released in 2018 for each category?\n",
        "df_movies_2018 = df[(df[\"type\"]==\"Movie\") & (df[\"year_added\"]==2018)]\n",
        "df_movies_2018['category'] = df_movies_2018['listed_in'].str.split(',').str[0]\n",
        "df_movies_2018['category'].value_counts()"
      ]
    },
    {
      "cell_type": "code",
      "execution_count": 419,
      "metadata": {
        "colab": {
          "base_uri": "https://localhost:8080/",
          "height": 384
        },
        "id": "6fiFAVtWQsuJ",
        "outputId": "9fd4ca14-e9f4-4e8a-af80-b6971b3fa4df"
      },
      "outputs": [
        {
          "data": {
            "text/html": [
              "<div>\n",
              "<style scoped>\n",
              "    .dataframe tbody tr th:only-of-type {\n",
              "        vertical-align: middle;\n",
              "    }\n",
              "\n",
              "    .dataframe tbody tr th {\n",
              "        vertical-align: top;\n",
              "    }\n",
              "\n",
              "    .dataframe thead th {\n",
              "        text-align: right;\n",
              "    }\n",
              "</style>\n",
              "<table border=\"1\" class=\"dataframe\">\n",
              "  <thead>\n",
              "    <tr style=\"text-align: right;\">\n",
              "      <th></th>\n",
              "      <th>type</th>\n",
              "      <th>title</th>\n",
              "      <th>director</th>\n",
              "      <th>cast</th>\n",
              "      <th>country</th>\n",
              "      <th>date_added</th>\n",
              "      <th>release_year</th>\n",
              "      <th>rating</th>\n",
              "      <th>duration</th>\n",
              "      <th>listed_in</th>\n",
              "      <th>...</th>\n",
              "      <th>Docuseries</th>\n",
              "      <th>Spanish-Language TV Shows</th>\n",
              "      <th>Teen TV Shows</th>\n",
              "      <th>Stand-Up Comedy</th>\n",
              "      <th>Crime TV Shows</th>\n",
              "      <th>International Movies</th>\n",
              "      <th>TV Shows</th>\n",
              "      <th>Stand-Up Comedy &amp; Talk Shows</th>\n",
              "      <th>Reality TV</th>\n",
              "      <th>Music &amp; Musicals</th>\n",
              "    </tr>\n",
              "  </thead>\n",
              "  <tbody>\n",
              "    <tr>\n",
              "      <th>341</th>\n",
              "      <td>Movie</td>\n",
              "      <td>Magnolia</td>\n",
              "      <td>Paul Thomas Anderson</td>\n",
              "      <td>John C. Reilly, Philip Baker Hall, Tom Cruise,...</td>\n",
              "      <td>United States</td>\n",
              "      <td>2021-08-01</td>\n",
              "      <td>1999</td>\n",
              "      <td>R</td>\n",
              "      <td>189.0</td>\n",
              "      <td>Dramas, Independent Movies</td>\n",
              "      <td>...</td>\n",
              "      <td>0</td>\n",
              "      <td>0</td>\n",
              "      <td>0</td>\n",
              "      <td>0</td>\n",
              "      <td>0</td>\n",
              "      <td>0</td>\n",
              "      <td>0</td>\n",
              "      <td>0</td>\n",
              "      <td>0</td>\n",
              "      <td>0</td>\n",
              "    </tr>\n",
              "    <tr>\n",
              "      <th>1254</th>\n",
              "      <td>Movie</td>\n",
              "      <td>Rain Man</td>\n",
              "      <td>Barry Levinson</td>\n",
              "      <td>Dustin Hoffman, Tom Cruise, Valeria Golino, Ge...</td>\n",
              "      <td>United States</td>\n",
              "      <td>2021-03-01</td>\n",
              "      <td>1988</td>\n",
              "      <td>R</td>\n",
              "      <td>134.0</td>\n",
              "      <td>Classic Movies, Dramas</td>\n",
              "      <td>...</td>\n",
              "      <td>0</td>\n",
              "      <td>0</td>\n",
              "      <td>0</td>\n",
              "      <td>0</td>\n",
              "      <td>0</td>\n",
              "      <td>0</td>\n",
              "      <td>0</td>\n",
              "      <td>0</td>\n",
              "      <td>0</td>\n",
              "      <td>0</td>\n",
              "    </tr>\n",
              "  </tbody>\n",
              "</table>\n",
              "<p>2 rows × 56 columns</p>\n",
              "</div>"
            ],
            "text/plain": [
              "       type     title              director  \\\n",
              "341   Movie  Magnolia  Paul Thomas Anderson   \n",
              "1254  Movie  Rain Man        Barry Levinson   \n",
              "\n",
              "                                                   cast        country  \\\n",
              "341   John C. Reilly, Philip Baker Hall, Tom Cruise,...  United States   \n",
              "1254  Dustin Hoffman, Tom Cruise, Valeria Golino, Ge...  United States   \n",
              "\n",
              "     date_added  release_year rating  duration                   listed_in  \\\n",
              "341  2021-08-01          1999      R     189.0  Dramas, Independent Movies   \n",
              "1254 2021-03-01          1988      R     134.0      Classic Movies, Dramas   \n",
              "\n",
              "      ...  Docuseries  Spanish-Language TV Shows Teen TV Shows  \\\n",
              "341   ...           0                          0             0   \n",
              "1254  ...           0                          0             0   \n",
              "\n",
              "      Stand-Up Comedy  Crime TV Shows  International Movies  TV Shows  \\\n",
              "341                 0               0                     0         0   \n",
              "1254                0               0                     0         0   \n",
              "\n",
              "      Stand-Up Comedy & Talk Shows  Reality TV  Music & Musicals  \n",
              "341                              0           0                 0  \n",
              "1254                             0           0                 0  \n",
              "\n",
              "[2 rows x 56 columns]"
            ]
          },
          "execution_count": 419,
          "metadata": {},
          "output_type": "execute_result"
        }
      ],
      "source": [
        "# What are movies for Tom Cruise\n",
        "df[df[\"cast\"].str.contains(\"Tom Cruise\")]"
      ]
    },
    {
      "cell_type": "markdown",
      "metadata": {
        "id": "Yd1xdq6M3cLQ"
      },
      "source": [
        "### Visualizations"
      ]
    },
    {
      "cell_type": "code",
      "execution_count": 420,
      "metadata": {
        "colab": {
          "base_uri": "https://localhost:8080/",
          "height": 542
        },
        "id": "zyH4YQ2_6jgm",
        "outputId": "37ec01f4-51ac-48ec-b0ae-c8598a1dca58"
      },
      "outputs": [
        {
          "data": {
            "application/vnd.plotly.v1+json": {
              "config": {
                "plotlyServerURL": "https://plot.ly"
              },
              "data": [
                {
                  "hoverinfo": "label+percent",
                  "insidetextorientation": "radial",
                  "labels": [
                    "Movie",
                    "TV Show"
                  ],
                  "marker": {
                    "colors": [
                      "#6ad49b",
                      "#a678de"
                    ]
                  },
                  "pull": [
                    0.05,
                    0
                  ],
                  "textfont": {
                    "size": 15
                  },
                  "textinfo": "value+percent",
                  "type": "pie",
                  "values": [
                    6126,
                    2664
                  ]
                }
              ],
              "layout": {
                "template": {
                  "data": {
                    "bar": [
                      {
                        "error_x": {
                          "color": "#2a3f5f"
                        },
                        "error_y": {
                          "color": "#2a3f5f"
                        },
                        "marker": {
                          "line": {
                            "color": "#E5ECF6",
                            "width": 0.5
                          },
                          "pattern": {
                            "fillmode": "overlay",
                            "size": 10,
                            "solidity": 0.2
                          }
                        },
                        "type": "bar"
                      }
                    ],
                    "barpolar": [
                      {
                        "marker": {
                          "line": {
                            "color": "#E5ECF6",
                            "width": 0.5
                          },
                          "pattern": {
                            "fillmode": "overlay",
                            "size": 10,
                            "solidity": 0.2
                          }
                        },
                        "type": "barpolar"
                      }
                    ],
                    "carpet": [
                      {
                        "aaxis": {
                          "endlinecolor": "#2a3f5f",
                          "gridcolor": "white",
                          "linecolor": "white",
                          "minorgridcolor": "white",
                          "startlinecolor": "#2a3f5f"
                        },
                        "baxis": {
                          "endlinecolor": "#2a3f5f",
                          "gridcolor": "white",
                          "linecolor": "white",
                          "minorgridcolor": "white",
                          "startlinecolor": "#2a3f5f"
                        },
                        "type": "carpet"
                      }
                    ],
                    "choropleth": [
                      {
                        "colorbar": {
                          "outlinewidth": 0,
                          "ticks": ""
                        },
                        "type": "choropleth"
                      }
                    ],
                    "contour": [
                      {
                        "colorbar": {
                          "outlinewidth": 0,
                          "ticks": ""
                        },
                        "colorscale": [
                          [
                            0,
                            "#0d0887"
                          ],
                          [
                            0.1111111111111111,
                            "#46039f"
                          ],
                          [
                            0.2222222222222222,
                            "#7201a8"
                          ],
                          [
                            0.3333333333333333,
                            "#9c179e"
                          ],
                          [
                            0.4444444444444444,
                            "#bd3786"
                          ],
                          [
                            0.5555555555555556,
                            "#d8576b"
                          ],
                          [
                            0.6666666666666666,
                            "#ed7953"
                          ],
                          [
                            0.7777777777777778,
                            "#fb9f3a"
                          ],
                          [
                            0.8888888888888888,
                            "#fdca26"
                          ],
                          [
                            1,
                            "#f0f921"
                          ]
                        ],
                        "type": "contour"
                      }
                    ],
                    "contourcarpet": [
                      {
                        "colorbar": {
                          "outlinewidth": 0,
                          "ticks": ""
                        },
                        "type": "contourcarpet"
                      }
                    ],
                    "heatmap": [
                      {
                        "colorbar": {
                          "outlinewidth": 0,
                          "ticks": ""
                        },
                        "colorscale": [
                          [
                            0,
                            "#0d0887"
                          ],
                          [
                            0.1111111111111111,
                            "#46039f"
                          ],
                          [
                            0.2222222222222222,
                            "#7201a8"
                          ],
                          [
                            0.3333333333333333,
                            "#9c179e"
                          ],
                          [
                            0.4444444444444444,
                            "#bd3786"
                          ],
                          [
                            0.5555555555555556,
                            "#d8576b"
                          ],
                          [
                            0.6666666666666666,
                            "#ed7953"
                          ],
                          [
                            0.7777777777777778,
                            "#fb9f3a"
                          ],
                          [
                            0.8888888888888888,
                            "#fdca26"
                          ],
                          [
                            1,
                            "#f0f921"
                          ]
                        ],
                        "type": "heatmap"
                      }
                    ],
                    "heatmapgl": [
                      {
                        "colorbar": {
                          "outlinewidth": 0,
                          "ticks": ""
                        },
                        "colorscale": [
                          [
                            0,
                            "#0d0887"
                          ],
                          [
                            0.1111111111111111,
                            "#46039f"
                          ],
                          [
                            0.2222222222222222,
                            "#7201a8"
                          ],
                          [
                            0.3333333333333333,
                            "#9c179e"
                          ],
                          [
                            0.4444444444444444,
                            "#bd3786"
                          ],
                          [
                            0.5555555555555556,
                            "#d8576b"
                          ],
                          [
                            0.6666666666666666,
                            "#ed7953"
                          ],
                          [
                            0.7777777777777778,
                            "#fb9f3a"
                          ],
                          [
                            0.8888888888888888,
                            "#fdca26"
                          ],
                          [
                            1,
                            "#f0f921"
                          ]
                        ],
                        "type": "heatmapgl"
                      }
                    ],
                    "histogram": [
                      {
                        "marker": {
                          "pattern": {
                            "fillmode": "overlay",
                            "size": 10,
                            "solidity": 0.2
                          }
                        },
                        "type": "histogram"
                      }
                    ],
                    "histogram2d": [
                      {
                        "colorbar": {
                          "outlinewidth": 0,
                          "ticks": ""
                        },
                        "colorscale": [
                          [
                            0,
                            "#0d0887"
                          ],
                          [
                            0.1111111111111111,
                            "#46039f"
                          ],
                          [
                            0.2222222222222222,
                            "#7201a8"
                          ],
                          [
                            0.3333333333333333,
                            "#9c179e"
                          ],
                          [
                            0.4444444444444444,
                            "#bd3786"
                          ],
                          [
                            0.5555555555555556,
                            "#d8576b"
                          ],
                          [
                            0.6666666666666666,
                            "#ed7953"
                          ],
                          [
                            0.7777777777777778,
                            "#fb9f3a"
                          ],
                          [
                            0.8888888888888888,
                            "#fdca26"
                          ],
                          [
                            1,
                            "#f0f921"
                          ]
                        ],
                        "type": "histogram2d"
                      }
                    ],
                    "histogram2dcontour": [
                      {
                        "colorbar": {
                          "outlinewidth": 0,
                          "ticks": ""
                        },
                        "colorscale": [
                          [
                            0,
                            "#0d0887"
                          ],
                          [
                            0.1111111111111111,
                            "#46039f"
                          ],
                          [
                            0.2222222222222222,
                            "#7201a8"
                          ],
                          [
                            0.3333333333333333,
                            "#9c179e"
                          ],
                          [
                            0.4444444444444444,
                            "#bd3786"
                          ],
                          [
                            0.5555555555555556,
                            "#d8576b"
                          ],
                          [
                            0.6666666666666666,
                            "#ed7953"
                          ],
                          [
                            0.7777777777777778,
                            "#fb9f3a"
                          ],
                          [
                            0.8888888888888888,
                            "#fdca26"
                          ],
                          [
                            1,
                            "#f0f921"
                          ]
                        ],
                        "type": "histogram2dcontour"
                      }
                    ],
                    "mesh3d": [
                      {
                        "colorbar": {
                          "outlinewidth": 0,
                          "ticks": ""
                        },
                        "type": "mesh3d"
                      }
                    ],
                    "parcoords": [
                      {
                        "line": {
                          "colorbar": {
                            "outlinewidth": 0,
                            "ticks": ""
                          }
                        },
                        "type": "parcoords"
                      }
                    ],
                    "pie": [
                      {
                        "automargin": true,
                        "type": "pie"
                      }
                    ],
                    "scatter": [
                      {
                        "fillpattern": {
                          "fillmode": "overlay",
                          "size": 10,
                          "solidity": 0.2
                        },
                        "type": "scatter"
                      }
                    ],
                    "scatter3d": [
                      {
                        "line": {
                          "colorbar": {
                            "outlinewidth": 0,
                            "ticks": ""
                          }
                        },
                        "marker": {
                          "colorbar": {
                            "outlinewidth": 0,
                            "ticks": ""
                          }
                        },
                        "type": "scatter3d"
                      }
                    ],
                    "scattercarpet": [
                      {
                        "marker": {
                          "colorbar": {
                            "outlinewidth": 0,
                            "ticks": ""
                          }
                        },
                        "type": "scattercarpet"
                      }
                    ],
                    "scattergeo": [
                      {
                        "marker": {
                          "colorbar": {
                            "outlinewidth": 0,
                            "ticks": ""
                          }
                        },
                        "type": "scattergeo"
                      }
                    ],
                    "scattergl": [
                      {
                        "marker": {
                          "colorbar": {
                            "outlinewidth": 0,
                            "ticks": ""
                          }
                        },
                        "type": "scattergl"
                      }
                    ],
                    "scattermapbox": [
                      {
                        "marker": {
                          "colorbar": {
                            "outlinewidth": 0,
                            "ticks": ""
                          }
                        },
                        "type": "scattermapbox"
                      }
                    ],
                    "scatterpolar": [
                      {
                        "marker": {
                          "colorbar": {
                            "outlinewidth": 0,
                            "ticks": ""
                          }
                        },
                        "type": "scatterpolar"
                      }
                    ],
                    "scatterpolargl": [
                      {
                        "marker": {
                          "colorbar": {
                            "outlinewidth": 0,
                            "ticks": ""
                          }
                        },
                        "type": "scatterpolargl"
                      }
                    ],
                    "scatterternary": [
                      {
                        "marker": {
                          "colorbar": {
                            "outlinewidth": 0,
                            "ticks": ""
                          }
                        },
                        "type": "scatterternary"
                      }
                    ],
                    "surface": [
                      {
                        "colorbar": {
                          "outlinewidth": 0,
                          "ticks": ""
                        },
                        "colorscale": [
                          [
                            0,
                            "#0d0887"
                          ],
                          [
                            0.1111111111111111,
                            "#46039f"
                          ],
                          [
                            0.2222222222222222,
                            "#7201a8"
                          ],
                          [
                            0.3333333333333333,
                            "#9c179e"
                          ],
                          [
                            0.4444444444444444,
                            "#bd3786"
                          ],
                          [
                            0.5555555555555556,
                            "#d8576b"
                          ],
                          [
                            0.6666666666666666,
                            "#ed7953"
                          ],
                          [
                            0.7777777777777778,
                            "#fb9f3a"
                          ],
                          [
                            0.8888888888888888,
                            "#fdca26"
                          ],
                          [
                            1,
                            "#f0f921"
                          ]
                        ],
                        "type": "surface"
                      }
                    ],
                    "table": [
                      {
                        "cells": {
                          "fill": {
                            "color": "#EBF0F8"
                          },
                          "line": {
                            "color": "white"
                          }
                        },
                        "header": {
                          "fill": {
                            "color": "#C8D4E3"
                          },
                          "line": {
                            "color": "white"
                          }
                        },
                        "type": "table"
                      }
                    ]
                  },
                  "layout": {
                    "annotationdefaults": {
                      "arrowcolor": "#2a3f5f",
                      "arrowhead": 0,
                      "arrowwidth": 1
                    },
                    "autotypenumbers": "strict",
                    "coloraxis": {
                      "colorbar": {
                        "outlinewidth": 0,
                        "ticks": ""
                      }
                    },
                    "colorscale": {
                      "diverging": [
                        [
                          0,
                          "#8e0152"
                        ],
                        [
                          0.1,
                          "#c51b7d"
                        ],
                        [
                          0.2,
                          "#de77ae"
                        ],
                        [
                          0.3,
                          "#f1b6da"
                        ],
                        [
                          0.4,
                          "#fde0ef"
                        ],
                        [
                          0.5,
                          "#f7f7f7"
                        ],
                        [
                          0.6,
                          "#e6f5d0"
                        ],
                        [
                          0.7,
                          "#b8e186"
                        ],
                        [
                          0.8,
                          "#7fbc41"
                        ],
                        [
                          0.9,
                          "#4d9221"
                        ],
                        [
                          1,
                          "#276419"
                        ]
                      ],
                      "sequential": [
                        [
                          0,
                          "#0d0887"
                        ],
                        [
                          0.1111111111111111,
                          "#46039f"
                        ],
                        [
                          0.2222222222222222,
                          "#7201a8"
                        ],
                        [
                          0.3333333333333333,
                          "#9c179e"
                        ],
                        [
                          0.4444444444444444,
                          "#bd3786"
                        ],
                        [
                          0.5555555555555556,
                          "#d8576b"
                        ],
                        [
                          0.6666666666666666,
                          "#ed7953"
                        ],
                        [
                          0.7777777777777778,
                          "#fb9f3a"
                        ],
                        [
                          0.8888888888888888,
                          "#fdca26"
                        ],
                        [
                          1,
                          "#f0f921"
                        ]
                      ],
                      "sequentialminus": [
                        [
                          0,
                          "#0d0887"
                        ],
                        [
                          0.1111111111111111,
                          "#46039f"
                        ],
                        [
                          0.2222222222222222,
                          "#7201a8"
                        ],
                        [
                          0.3333333333333333,
                          "#9c179e"
                        ],
                        [
                          0.4444444444444444,
                          "#bd3786"
                        ],
                        [
                          0.5555555555555556,
                          "#d8576b"
                        ],
                        [
                          0.6666666666666666,
                          "#ed7953"
                        ],
                        [
                          0.7777777777777778,
                          "#fb9f3a"
                        ],
                        [
                          0.8888888888888888,
                          "#fdca26"
                        ],
                        [
                          1,
                          "#f0f921"
                        ]
                      ]
                    },
                    "colorway": [
                      "#636efa",
                      "#EF553B",
                      "#00cc96",
                      "#ab63fa",
                      "#FFA15A",
                      "#19d3f3",
                      "#FF6692",
                      "#B6E880",
                      "#FF97FF",
                      "#FECB52"
                    ],
                    "font": {
                      "color": "#2a3f5f"
                    },
                    "geo": {
                      "bgcolor": "white",
                      "lakecolor": "white",
                      "landcolor": "#E5ECF6",
                      "showlakes": true,
                      "showland": true,
                      "subunitcolor": "white"
                    },
                    "hoverlabel": {
                      "align": "left"
                    },
                    "hovermode": "closest",
                    "mapbox": {
                      "style": "light"
                    },
                    "paper_bgcolor": "white",
                    "plot_bgcolor": "#E5ECF6",
                    "polar": {
                      "angularaxis": {
                        "gridcolor": "white",
                        "linecolor": "white",
                        "ticks": ""
                      },
                      "bgcolor": "#E5ECF6",
                      "radialaxis": {
                        "gridcolor": "white",
                        "linecolor": "white",
                        "ticks": ""
                      }
                    },
                    "scene": {
                      "xaxis": {
                        "backgroundcolor": "#E5ECF6",
                        "gridcolor": "white",
                        "gridwidth": 2,
                        "linecolor": "white",
                        "showbackground": true,
                        "ticks": "",
                        "zerolinecolor": "white"
                      },
                      "yaxis": {
                        "backgroundcolor": "#E5ECF6",
                        "gridcolor": "white",
                        "gridwidth": 2,
                        "linecolor": "white",
                        "showbackground": true,
                        "ticks": "",
                        "zerolinecolor": "white"
                      },
                      "zaxis": {
                        "backgroundcolor": "#E5ECF6",
                        "gridcolor": "white",
                        "gridwidth": 2,
                        "linecolor": "white",
                        "showbackground": true,
                        "ticks": "",
                        "zerolinecolor": "white"
                      }
                    },
                    "shapedefaults": {
                      "line": {
                        "color": "#2a3f5f"
                      }
                    },
                    "ternary": {
                      "aaxis": {
                        "gridcolor": "white",
                        "linecolor": "white",
                        "ticks": ""
                      },
                      "baxis": {
                        "gridcolor": "white",
                        "linecolor": "white",
                        "ticks": ""
                      },
                      "bgcolor": "#E5ECF6",
                      "caxis": {
                        "gridcolor": "white",
                        "linecolor": "white",
                        "ticks": ""
                      }
                    },
                    "title": {
                      "x": 0.05
                    },
                    "xaxis": {
                      "automargin": true,
                      "gridcolor": "white",
                      "linecolor": "white",
                      "ticks": "",
                      "title": {
                        "standoff": 15
                      },
                      "zerolinecolor": "white",
                      "zerolinewidth": 2
                    },
                    "yaxis": {
                      "automargin": true,
                      "gridcolor": "white",
                      "linecolor": "white",
                      "ticks": "",
                      "title": {
                        "standoff": 15
                      },
                      "zerolinecolor": "white",
                      "zerolinewidth": 2
                    }
                  }
                },
                "title": {
                  "text": "Types of Content on Netflix",
                  "x": 0.5
                }
              }
            }
          },
          "metadata": {},
          "output_type": "display_data"
        }
      ],
      "source": [
        "# Content Type on Netflix\n",
        "categ = df['type'].value_counts().to_frame().reset_index().rename(columns={'index':'type', 'type':'count'})\n",
        "fig = go.Figure([go.Pie(labels=categ['type'], values=categ['count'], pull=[0.05, 0], marker=dict(colors=[\"#6ad49b\", \"#a678de\"]))])\n",
        "fig = fig.update_traces(hoverinfo='label+percent', textinfo='value+percent', textfont_size=15, insidetextorientation='radial')\n",
        "fig = fig.update_layout(title='Types of Content on Netflix', title_x=0.5)\n",
        "fig.show()"
      ]
    },
    {
      "cell_type": "code",
      "execution_count": 421,
      "metadata": {},
      "outputs": [
        {
          "data": {
            "application/vnd.plotly.v1+json": {
              "config": {
                "plotlyServerURL": "https://plot.ly"
              },
              "data": [
                {
                  "alignmentgroup": "True",
                  "bingroup": "y",
                  "hovertemplate": "count=%{x}<br>rating=%{y}<extra></extra>",
                  "legendgroup": "",
                  "marker": {
                    "color": "#636efa",
                    "pattern": {
                      "shape": ""
                    }
                  },
                  "name": "",
                  "offsetgroup": "",
                  "orientation": "h",
                  "showlegend": false,
                  "textposition": "outside",
                  "texttemplate": "%{value}",
                  "type": "histogram",
                  "xaxis": "x",
                  "y": [
                    "PG-13",
                    "TV-MA",
                    "TV-MA",
                    "TV-MA",
                    "TV-MA",
                    "TV-MA",
                    "PG",
                    "TV-MA",
                    "TV-14",
                    "PG-13",
                    "TV-MA",
                    "TV-MA",
                    "TV-MA",
                    "TV-PG",
                    "TV-MA",
                    "TV-MA",
                    "TV-MA",
                    "TV-MA",
                    "TV-14",
                    "TV-MA",
                    "TV-14",
                    "TV-14",
                    "TV-PG",
                    "TV-Y",
                    "TV-14",
                    "TV-14",
                    "TV-PG",
                    "PG-13",
                    "PG-13",
                    "PG-13",
                    "TV-14",
                    "TV-MA",
                    "TV-MA",
                    "TV-MA",
                    "TV-Y7",
                    "TV-MA",
                    "TV-MA",
                    "TV-Y7",
                    "PG-13",
                    "TV-Y7",
                    "TV-Y7",
                    "PG",
                    "PG",
                    "PG",
                    "PG-13",
                    "PG",
                    "R",
                    "TV-MA",
                    "R",
                    "TV-MA",
                    "TV-PG",
                    "TV-14",
                    "TV-14",
                    "TV-PG",
                    "TV-PG",
                    "TV-PG",
                    "TV-14",
                    "TV-PG",
                    "TV-PG",
                    "TV-PG",
                    "TV-14",
                    "TV-PG",
                    "TV-PG",
                    "TV-PG",
                    "TV-PG",
                    "TV-Y",
                    "TV-G",
                    "TV-PG",
                    "TV-14",
                    "TV-PG",
                    "TV-MA",
                    "TV-Y",
                    "TV-MA",
                    "TV-MA",
                    "TV-PG",
                    "TV-G",
                    "TV-14",
                    "TV-Y7",
                    "TV-14",
                    "TV-14",
                    "TV-Y7",
                    "R",
                    "TV-14",
                    "TV-MA",
                    "TV-MA",
                    "TV-Y7",
                    "TV-MA",
                    "TV-Y",
                    "PG-13",
                    "TV-Y7",
                    "TV-MA",
                    "TV-14",
                    "TV-MA",
                    "TV-MA",
                    "PG",
                    "TV-MA",
                    "TV-MA",
                    "TV-Y7",
                    "TV-Y",
                    "TV-MA",
                    "TV-Y7",
                    "TV-MA",
                    "TV-14",
                    "TV-MA",
                    "TV-Y",
                    "TV-14",
                    "TV-G",
                    "G",
                    "TV-G",
                    "TV-MA",
                    "TV-MA",
                    "TV-Y",
                    "PG-13",
                    "TV-PG",
                    "TV-14",
                    "PG",
                    "TV-PG",
                    "PG-13",
                    "TV-14",
                    "TV-MA",
                    "TV-Y7",
                    "TV-14",
                    "R",
                    "TV-Y7",
                    "TV-Y7",
                    "TV-MA",
                    "TV-14",
                    "PG",
                    "PG-13",
                    "PG-13",
                    "TV-Y",
                    "R",
                    "TV-MA",
                    "R",
                    "PG-13",
                    "R",
                    "R",
                    "PG",
                    "PG-13",
                    "R",
                    "TV-MA",
                    "R",
                    "PG-13",
                    "PG-13",
                    "R",
                    "R",
                    "R",
                    "TV-PG",
                    "TV-14",
                    "R",
                    "R",
                    "TV-14",
                    "TV-MA",
                    "TV-Y",
                    "TV-MA",
                    "PG",
                    "PG",
                    "TV-14",
                    "PG-13",
                    "TV-MA",
                    "TV-PG",
                    "PG-13",
                    "PG-13",
                    "R",
                    "PG-13",
                    "TV-MA",
                    "R",
                    "PG",
                    "PG",
                    "PG-13",
                    "R",
                    "PG-13",
                    "PG-13",
                    "PG-13",
                    "R",
                    "R",
                    "PG-13",
                    "TV-14",
                    "R",
                    "PG-13",
                    "PG-13",
                    "TV-14",
                    "PG-13",
                    "R",
                    "TV-PG",
                    "TV-MA",
                    "TV-14",
                    "TV-G",
                    "TV-MA",
                    "TV-Y",
                    "TV-14",
                    "R",
                    "TV-14",
                    "TV-MA",
                    "TV-MA",
                    "TV-14",
                    "TV-14",
                    "TV-Y7",
                    "TV-MA",
                    "TV-14",
                    "TV-14",
                    "TV-14",
                    "TV-MA",
                    "TV-MA",
                    "TV-MA",
                    "TV-14",
                    "TV-MA",
                    "TV-14",
                    "TV-14",
                    "TV-14",
                    "TV-MA",
                    "TV-MA",
                    "TV-MA",
                    "TV-PG",
                    "R",
                    "TV-MA",
                    "TV-14",
                    "TV-14",
                    "TV-14",
                    "TV-14",
                    "TV-PG",
                    "TV-14",
                    "TV-MA",
                    "TV-MA",
                    "TV-14",
                    "TV-MA",
                    "TV-MA",
                    "TV-MA",
                    "R",
                    "TV-MA",
                    "TV-MA",
                    "PG",
                    "TV-G",
                    "TV-MA",
                    "TV-Y",
                    "TV-PG",
                    "TV-14",
                    "TV-14",
                    "TV-14",
                    "TV-14",
                    "TV-MA",
                    "TV-14",
                    "TV-MA",
                    "TV-MA",
                    "TV-14",
                    "TV-PG",
                    "TV-MA",
                    "R",
                    "TV-MA",
                    "TV-Y7",
                    "TV-PG",
                    "PG-13",
                    "TV-MA",
                    "TV-14",
                    "TV-Y",
                    "TV-MA",
                    "TV-14",
                    "TV-14",
                    "TV-MA",
                    "TV-PG",
                    "TV-MA",
                    "TV-14",
                    "TV-MA",
                    "TV-Y",
                    "R",
                    "TV-14",
                    "TV-MA",
                    "R",
                    "TV-MA",
                    "TV-Y7",
                    "TV-MA",
                    "TV-MA",
                    "TV-Y7",
                    "TV-MA",
                    "TV-MA",
                    "TV-MA",
                    "TV-MA",
                    "TV-14",
                    "TV-MA",
                    "TV-PG",
                    "TV-PG",
                    "TV-14",
                    "TV-MA",
                    "PG-13",
                    "TV-14",
                    "R",
                    "TV-Y",
                    "TV-14",
                    "TV-MA",
                    "TV-14",
                    "TV-MA",
                    "TV-14",
                    "PG-13",
                    "TV-MA",
                    "TV-PG",
                    "PG-13",
                    "TV-MA",
                    "TV-MA",
                    "TV-MA",
                    "TV-14",
                    "PG",
                    "TV-14",
                    "TV-MA",
                    "TV-MA",
                    "TV-14",
                    "TV-MA",
                    "TV-PG",
                    "TV-MA",
                    "TV-MA",
                    "TV-PG",
                    "TV-MA",
                    "TV-MA",
                    "TV-MA",
                    "TV-14",
                    "R",
                    "TV-MA",
                    "TV-14",
                    "PG-13",
                    "TV-MA",
                    "TV-14",
                    "TV-PG",
                    "TV-14",
                    "TV-MA",
                    "TV-14",
                    "TV-Y7",
                    "PG",
                    "PG",
                    "PG-13",
                    "R",
                    "PG-13",
                    "PG",
                    "TV-MA",
                    "R",
                    "PG-13",
                    "PG-13",
                    "R",
                    "TV-14",
                    "R",
                    "TV-14",
                    "TV-14",
                    "PG-13",
                    "R",
                    "PG-13",
                    "PG-13",
                    "PG",
                    "PG",
                    "R",
                    "PG",
                    "PG-13",
                    "PG-13",
                    "PG-13",
                    "R",
                    "R",
                    "R",
                    "R",
                    "R",
                    "PG-13",
                    "R",
                    "PG-13",
                    "R",
                    "PG-13",
                    "TV-14",
                    "TV-14",
                    "R",
                    "TV-Y7",
                    "TV-14",
                    "TV-14",
                    "TV-14",
                    "TV-14",
                    "TV-14",
                    "TV-MA",
                    "TV-14",
                    "TV-MA",
                    "TV-MA",
                    "TV-PG",
                    "TV-14",
                    "TV-Y7",
                    "TV-MA",
                    "TV-14",
                    "TV-MA",
                    "TV-14",
                    "TV-MA",
                    "TV-14",
                    "TV-MA",
                    "TV-14",
                    "TV-MA",
                    "TV-Y",
                    "TV-14",
                    "TV-MA",
                    "TV-MA",
                    "TV-MA",
                    "TV-MA",
                    "R",
                    "PG",
                    "TV-MA",
                    "TV-MA",
                    "TV-MA",
                    "TV-MA",
                    "TV-MA",
                    "TV-PG",
                    "TV-PG",
                    "TV-MA",
                    "TV-MA",
                    "TV-MA",
                    "TV-MA",
                    "TV-Y",
                    "TV-Y7",
                    "TV-Y7",
                    "TV-Y7",
                    "TV-Y7",
                    "TV-Y7",
                    "TV-Y7",
                    "TV-Y7",
                    "TV-Y7",
                    "TV-Y7",
                    "TV-Y7",
                    "TV-Y7",
                    "TV-Y7",
                    "TV-Y",
                    "TV-Y7",
                    "TV-Y7",
                    "TV-Y7",
                    "TV-Y7",
                    "TV-Y7",
                    "TV-Y7",
                    "TV-14",
                    "TV-MA",
                    "TV-14",
                    "TV-G",
                    "TV-14",
                    "TV-14",
                    "TV-MA",
                    "TV-Y7",
                    "TV-MA",
                    "TV-MA",
                    "TV-MA",
                    "TV-14",
                    "R",
                    "TV-PG",
                    "TV-MA",
                    "TV-MA",
                    "R",
                    "TV-Y7",
                    "R",
                    "TV-14",
                    "R",
                    "PG-13",
                    "PG-13",
                    "PG-13",
                    "PG-13",
                    "PG-13",
                    "PG-13",
                    "TV-PG",
                    "TV-MA",
                    "TV-MA",
                    "TV-MA",
                    "TV-14",
                    "TV-PG",
                    "TV-14",
                    "TV-14",
                    "PG",
                    "TV-14",
                    "TV-MA",
                    "TV-MA",
                    "R",
                    "TV-MA",
                    "TV-MA",
                    "TV-MA",
                    "TV-MA",
                    "TV-MA",
                    "TV-14",
                    "TV-PG",
                    "TV-Y",
                    "TV-MA",
                    "R",
                    "TV-MA",
                    "TV-MA",
                    "TV-14",
                    "TV-MA",
                    "R",
                    "TV-14",
                    "TV-MA",
                    "TV-MA",
                    "TV-MA",
                    "TV-G",
                    "TV-14",
                    "PG",
                    "TV-MA",
                    "TV-14",
                    "TV-14",
                    "TV-MA",
                    "PG-13",
                    "PG-13",
                    "TV-MA",
                    "R",
                    "TV-MA",
                    "PG-13",
                    "TV-14",
                    "TV-MA",
                    "TV-PG",
                    "TV-MA",
                    "TV-MA",
                    "TV-14",
                    "TV-MA",
                    "TV-MA",
                    "TV-PG",
                    "TV-G",
                    "TV-14",
                    "TV-MA",
                    "TV-Y",
                    "TV-14",
                    "TV-MA",
                    "TV-Y7",
                    "TV-14",
                    "TV-MA",
                    "TV-MA",
                    "TV-MA",
                    "TV-14",
                    "TV-14",
                    "TV-MA",
                    "TV-MA",
                    "TV-MA",
                    "TV-Y7",
                    "TV-MA",
                    "TV-MA",
                    "TV-Y",
                    "TV-MA",
                    "TV-Y",
                    "TV-14",
                    "TV-MA",
                    "TV-G",
                    "TV-PG",
                    "TV-MA",
                    "TV-14",
                    "TV-G",
                    "TV-Y",
                    "TV-14",
                    "TV-14",
                    "TV-PG",
                    "TV-PG",
                    "TV-G",
                    "TV-14",
                    "TV-14",
                    "TV-MA",
                    "TV-MA",
                    "TV-Y",
                    "TV-14",
                    "TV-Y7",
                    "TV-14",
                    "TV-14",
                    "R",
                    "TV-MA",
                    "TV-MA",
                    "TV-MA",
                    "TV-MA",
                    "R",
                    "TV-14",
                    "PG-13",
                    "R",
                    "R",
                    "PG-13",
                    "PG-13",
                    "PG-13",
                    "PG-13",
                    "R",
                    "TV-G",
                    "PG-13",
                    "PG-13",
                    "PG",
                    "TV-14",
                    "TV-14",
                    "TV-MA",
                    "PG-13",
                    "PG",
                    "PG",
                    "PG-13",
                    "R",
                    "TV-MA",
                    "PG-13",
                    "R",
                    "TV-14",
                    "PG-13",
                    "PG-13",
                    "R",
                    "R",
                    "PG-13",
                    "R",
                    "TV-MA",
                    "TV-Y",
                    "R",
                    "TV-Y7",
                    "PG-13",
                    "R",
                    "PG",
                    "PG-13",
                    "PG",
                    "R",
                    "PG-13",
                    "R",
                    "PG-13",
                    "R",
                    "PG",
                    "PG",
                    "PG",
                    "R",
                    "R",
                    "PG-13",
                    "R",
                    "PG-13",
                    "PG-13",
                    "R",
                    "R",
                    "R",
                    "TV-MA",
                    "PG-13",
                    "R",
                    "R",
                    "TV-MA",
                    "TV-MA",
                    "TV-14",
                    "TV-MA",
                    "TV-14",
                    "R",
                    "TV-MA",
                    "TV-MA",
                    "TV-MA",
                    "TV-MA",
                    "TV-14",
                    "TV-Y",
                    "TV-14",
                    "R",
                    "TV-14",
                    "TV-14",
                    "TV-MA",
                    "TV-14",
                    "TV-MA",
                    "PG-13",
                    "TV-MA",
                    "TV-MA",
                    "TV-14",
                    "TV-MA",
                    "PG",
                    "TV-MA",
                    "R",
                    "TV-MA",
                    "TV-14",
                    "TV-MA",
                    "TV-G",
                    "TV-MA",
                    "TV-14",
                    "TV-14",
                    "TV-MA",
                    "TV-14",
                    "TV-MA",
                    "TV-MA",
                    "TV-MA",
                    "TV-MA",
                    "TV-14",
                    "TV-14",
                    "TV-14",
                    "TV-14",
                    "TV-MA",
                    "TV-14",
                    "TV-MA",
                    "TV-Y",
                    "TV-MA",
                    "TV-14",
                    "TV-14",
                    "TV-MA",
                    "TV-MA",
                    "TV-14",
                    "TV-MA",
                    "TV-14",
                    "TV-MA",
                    "TV-MA",
                    "TV-MA",
                    "TV-14",
                    "TV-MA",
                    "TV-MA",
                    "TV-MA",
                    "TV-MA",
                    "TV-MA",
                    "TV-MA",
                    "TV-MA",
                    "TV-MA",
                    "PG-13",
                    "TV-14",
                    "TV-MA",
                    "TV-14",
                    "TV-14",
                    "TV-14",
                    "TV-14",
                    "TV-14",
                    "TV-14",
                    "TV-PG",
                    "TV-14",
                    "TV-MA",
                    "TV-MA",
                    "TV-MA",
                    "TV-MA",
                    "TV-MA",
                    "TV-MA",
                    "R",
                    "TV-MA",
                    "TV-14",
                    "TV-14",
                    "TV-MA",
                    "TV-14",
                    "PG-13",
                    "TV-MA",
                    "TV-PG",
                    "TV-MA",
                    "TV-MA",
                    "TV-Y7",
                    "TV-MA",
                    "TV-MA",
                    "TV-MA",
                    "TV-G",
                    "R",
                    "TV-G",
                    "TV-Y",
                    "R",
                    "TV-MA",
                    "TV-G",
                    "TV-14",
                    "TV-MA",
                    "TV-MA",
                    "TV-MA",
                    "TV-MA",
                    "TV-MA",
                    "TV-MA",
                    "TV-14",
                    "TV-MA",
                    "TV-Y7",
                    "TV-MA",
                    "TV-PG",
                    "PG",
                    "TV-MA",
                    "TV-14",
                    "PG",
                    "R",
                    "TV-MA",
                    "TV-MA",
                    "TV-MA",
                    "TV-MA",
                    "TV-14",
                    "TV-MA",
                    "TV-MA",
                    "TV-PG",
                    "TV-MA",
                    "TV-MA",
                    "TV-Y7",
                    "PG-13",
                    "TV-MA",
                    "R",
                    "TV-G",
                    "TV-MA",
                    "TV-PG",
                    "TV-MA",
                    "TV-G",
                    "TV-G",
                    "TV-PG",
                    "TV-14",
                    "TV-14",
                    "TV-14",
                    "TV-MA",
                    "TV-MA",
                    "TV-14",
                    "TV-MA",
                    "TV-G",
                    "TV-14",
                    "TV-14",
                    "TV-MA",
                    "TV-MA",
                    "PG-13",
                    "TV-MA",
                    "PG-13",
                    "TV-MA",
                    "TV-MA",
                    "PG-13",
                    "TV-Y",
                    "TV-14",
                    "R",
                    "TV-MA",
                    "TV-MA",
                    "TV-Y",
                    "R",
                    "R",
                    "PG-13",
                    "TV-14",
                    "TV-MA",
                    "R",
                    "PG",
                    "PG-13",
                    "TV-14",
                    "TV-14",
                    "R",
                    "PG-13",
                    "R",
                    "PG-13",
                    "TV-14",
                    "R",
                    "R",
                    "TV-PG",
                    "R",
                    "TV-14",
                    "TV-14",
                    "TV-PG",
                    "R",
                    "PG-13",
                    "PG",
                    "TV-Y",
                    "R",
                    "TV-Y7",
                    "PG",
                    "TV-MA",
                    "PG-13",
                    "PG-13",
                    "PG-13",
                    "PG",
                    "TV-14",
                    "R",
                    "R",
                    "TV-MA",
                    "R",
                    "TV-MA",
                    "TV-MA",
                    "TV-14",
                    "PG-13",
                    "TV-Y7",
                    "TV-MA",
                    "TV-MA",
                    "TV-14",
                    "TV-MA",
                    "TV-PG",
                    "TV-PG",
                    "TV-MA",
                    "TV-MA",
                    "TV-MA",
                    "TV-MA",
                    "TV-MA",
                    "TV-MA",
                    "TV-14",
                    "TV-MA",
                    "TV-MA",
                    "TV-14",
                    "PG",
                    "TV-MA",
                    "TV-MA",
                    "TV-G",
                    "TV-14",
                    "TV-14",
                    "TV-14",
                    "R",
                    "TV-MA",
                    "TV-Y7",
                    "TV-MA",
                    "TV-MA",
                    "TV-14",
                    "TV-14",
                    "TV-MA",
                    "TV-Y7",
                    "TV-MA",
                    "PG",
                    "TV-14",
                    "R",
                    "R",
                    "PG-13",
                    "TV-Y",
                    "TV-MA",
                    "TV-14",
                    "TV-14",
                    "R",
                    "TV-MA",
                    "TV-Y",
                    "TV-MA",
                    "TV-MA",
                    "TV-MA",
                    "TV-MA",
                    "TV-MA",
                    "TV-MA",
                    "TV-MA",
                    "TV-Y7",
                    "TV-MA",
                    "TV-MA",
                    "TV-MA",
                    "TV-14",
                    "TV-MA",
                    "TV-14",
                    "R",
                    "TV-MA",
                    "R",
                    "TV-MA",
                    "TV-14",
                    "TV-MA",
                    "TV-14",
                    "TV-14",
                    "TV-14",
                    "TV-14",
                    "TV-MA",
                    "TV-14",
                    "TV-PG",
                    "TV-14",
                    "TV-MA",
                    "R",
                    "TV-14",
                    "TV-MA",
                    "TV-MA",
                    "TV-MA",
                    "TV-14",
                    "TV-MA",
                    "TV-Y7",
                    "TV-14",
                    "TV-PG",
                    "TV-MA",
                    "TV-MA",
                    "R",
                    "TV-MA",
                    "TV-PG",
                    "TV-MA",
                    "TV-PG",
                    "TV-MA",
                    "TV-MA",
                    "TV-Y",
                    "PG",
                    "TV-Y",
                    "R",
                    "TV-Y",
                    "PG-13",
                    "R",
                    "R",
                    "PG-13",
                    "R",
                    "G",
                    "R",
                    "PG",
                    "TV-Y7",
                    "TV-Y7",
                    "TV-Y7",
                    "TV-Y7",
                    "TV-Y7",
                    "TV-Y7",
                    "R",
                    "PG-13",
                    "TV-MA",
                    "TV-MA",
                    "PG-13",
                    "PG-13",
                    "TV-14",
                    "PG-13",
                    "PG-13",
                    "R",
                    "R",
                    "R",
                    "TV-PG",
                    "R",
                    "R",
                    "TV-PG",
                    "TV-14",
                    "TV-MA",
                    "TV-MA",
                    "PG",
                    "R",
                    "TV-MA",
                    "TV-MA",
                    "TV-MA",
                    "TV-MA",
                    "TV-G",
                    "TV-MA",
                    "R",
                    "PG-13",
                    "R",
                    "TV-MA",
                    "TV-PG",
                    "TV-14",
                    "TV-14",
                    "TV-14",
                    "TV-14",
                    "TV-MA",
                    "TV-MA",
                    "TV-MA",
                    "TV-MA",
                    "TV-14",
                    "TV-MA",
                    "TV-MA",
                    "TV-MA",
                    "TV-14",
                    "TV-MA",
                    "TV-14",
                    "TV-MA",
                    "TV-MA",
                    "TV-G",
                    "TV-G",
                    "TV-14",
                    "TV-14",
                    "TV-MA",
                    "TV-MA",
                    "TV-PG",
                    "TV-14",
                    "TV-MA",
                    "TV-MA",
                    "TV-14",
                    "TV-MA",
                    "TV-MA",
                    "TV-Y",
                    "TV-Y",
                    "TV-Y7",
                    "TV-Y",
                    "TV-Y",
                    "TV-Y7",
                    "TV-Y7",
                    "TV-14",
                    "TV-MA",
                    "R",
                    "TV-Y",
                    "R",
                    "TV-MA",
                    "TV-MA",
                    "TV-14",
                    "PG",
                    "TV-14",
                    "TV-MA",
                    "PG",
                    "TV-MA",
                    "TV-Y7",
                    "TV-Y7",
                    "TV-Y",
                    "R",
                    "TV-14",
                    "TV-MA",
                    "TV-MA",
                    "TV-14",
                    "TV-14",
                    "R",
                    "R",
                    "PG-13",
                    "TV-14",
                    "TV-14",
                    "TV-PG",
                    "TV-MA",
                    "TV-MA",
                    "TV-MA",
                    "TV-PG",
                    "TV-14",
                    "TV-MA",
                    "TV-14",
                    "TV-14",
                    "TV-14",
                    "TV-Y",
                    "TV-Y",
                    "TV-MA",
                    "TV-Y7",
                    "R",
                    "TV-MA",
                    "TV-14",
                    "R",
                    "TV-PG",
                    "TV-14",
                    "TV-MA",
                    "TV-MA",
                    "TV-14",
                    "TV-MA",
                    "TV-14",
                    "TV-MA",
                    "TV-MA",
                    "TV-MA",
                    "TV-MA",
                    "TV-MA",
                    "TV-MA",
                    "TV-14",
                    "TV-MA",
                    "TV-Y7",
                    "TV-Y7",
                    "TV-Y7",
                    "TV-Y7",
                    "TV-PG",
                    "TV-Y7",
                    "TV-Y7",
                    "TV-Y",
                    "TV-PG",
                    "TV-14",
                    "TV-G",
                    "TV-14",
                    "R",
                    "TV-14",
                    "TV-MA",
                    "TV-MA",
                    "TV-14",
                    "PG-13",
                    "TV-MA",
                    "TV-PG",
                    "TV-MA",
                    "TV-PG",
                    "TV-14",
                    "TV-MA",
                    "TV-MA",
                    "TV-Y7",
                    "TV-MA",
                    "TV-14",
                    "TV-MA",
                    "TV-MA",
                    "PG",
                    "PG-13",
                    "R",
                    "TV-Y",
                    "R",
                    "R",
                    "TV-MA",
                    "TV-MA",
                    "TV-MA",
                    "TV-MA",
                    "PG-13",
                    "PG",
                    "PG-13",
                    "PG-13",
                    "TV-PG",
                    "TV-PG",
                    "TV-PG",
                    "PG-13",
                    "R",
                    "PG-13",
                    "PG-13",
                    "TV-14",
                    "TV-G",
                    "R",
                    "TV-MA",
                    "G",
                    "TV-MA",
                    "R",
                    "TV-PG",
                    "TV-14",
                    "TV-14",
                    "TV-14",
                    "R",
                    "R",
                    "PG-13",
                    "TV-14",
                    "TV-PG",
                    "R",
                    "PG-13",
                    "R",
                    "TV-14",
                    "TV-MA",
                    "TV-MA",
                    "PG-13",
                    "PG-13",
                    "TV-14",
                    "TV-MA",
                    "TV-Y",
                    "TV-Y7",
                    "TV-PG",
                    "TV-Y",
                    "TV-Y",
                    "PG-13",
                    "R",
                    "TV-PG",
                    "TV-PG",
                    "TV-MA",
                    "TV-G",
                    "TV-MA",
                    "TV-MA",
                    "TV-PG",
                    "TV-14",
                    "TV-MA",
                    "TV-MA",
                    "TV-PG",
                    "TV-14",
                    "TV-14",
                    "TV-MA",
                    "TV-Y7",
                    "TV-Y7",
                    "TV-14",
                    "TV-MA",
                    "TV-14",
                    "TV-14",
                    "PG-13",
                    "TV-MA",
                    "TV-MA",
                    "R",
                    "TV-Y7",
                    "TV-Y7",
                    "TV-PG",
                    "TV-MA",
                    "TV-G",
                    "TV-14",
                    "TV-MA",
                    "TV-MA",
                    "R",
                    "TV-14",
                    "TV-G",
                    "R",
                    "PG-13",
                    "TV-MA",
                    "TV-PG",
                    "TV-14",
                    "R",
                    "TV-14",
                    "PG-13",
                    "TV-MA",
                    "R",
                    "TV-Y",
                    "TV-14",
                    "TV-14",
                    "PG",
                    "TV-14",
                    "TV-MA",
                    "TV-G",
                    "TV-14",
                    "TV-MA",
                    "TV-G",
                    "TV-MA",
                    "TV-14",
                    "TV-MA",
                    "TV-MA",
                    "TV-MA",
                    "TV-MA",
                    "TV-MA",
                    "TV-MA",
                    "PG",
                    "TV-PG",
                    "TV-MA",
                    "TV-14",
                    "TV-MA",
                    "TV-MA",
                    "TV-MA",
                    "TV-G",
                    "TV-14",
                    "TV-MA",
                    "PG-13",
                    "TV-14",
                    "TV-14",
                    "TV-Y7",
                    "TV-MA",
                    "TV-14",
                    "TV-MA",
                    "TV-Y7",
                    "TV-MA",
                    "TV-14",
                    "TV-14",
                    "R",
                    "PG-13",
                    "PG-13",
                    "TV-14",
                    "PG-13",
                    "TV-14",
                    "TV-Y",
                    "TV-MA",
                    "TV-PG",
                    "R",
                    "TV-MA",
                    "TV-G",
                    "PG-13",
                    "TV-14",
                    "TV-Y",
                    "R",
                    "TV-14",
                    "R",
                    "TV-14",
                    "TV-Y7",
                    "R",
                    "TV-MA",
                    "TV-MA",
                    "TV-MA",
                    "R",
                    "R",
                    "TV-MA",
                    "TV-MA",
                    "TV-MA",
                    "TV-MA",
                    "TV-PG",
                    "TV-MA",
                    "TV-MA",
                    "TV-MA",
                    "TV-14",
                    "TV-PG",
                    "TV-14",
                    "TV-MA",
                    "TV-14",
                    "TV-G",
                    "TV-14",
                    "TV-14",
                    "TV-14",
                    "TV-MA",
                    "R",
                    "R",
                    "TV-14",
                    "TV-MA",
                    "TV-14",
                    "PG-13",
                    "TV-G",
                    "R",
                    "TV-14",
                    "TV-PG",
                    "TV-MA",
                    "TV-MA",
                    "TV-MA",
                    "TV-14",
                    "TV-14",
                    "TV-14",
                    "TV-MA",
                    "TV-MA",
                    "TV-MA",
                    "TV-14",
                    "TV-PG",
                    "TV-PG",
                    "TV-14",
                    "TV-MA",
                    "PG",
                    "TV-Y7",
                    "TV-14",
                    "TV-14",
                    "TV-14",
                    "TV-MA",
                    "TV-14",
                    "TV-MA",
                    "TV-MA",
                    "TV-MA",
                    "TV-G",
                    "TV-14",
                    "TV-Y7",
                    "TV-MA",
                    "TV-MA",
                    "TV-14",
                    "TV-14",
                    "R",
                    "TV-MA",
                    "TV-14",
                    "TV-MA",
                    "TV-MA",
                    "TV-MA",
                    "PG",
                    "TV-MA",
                    "TV-G",
                    "R",
                    "TV-14",
                    "TV-MA",
                    "TV-MA",
                    "TV-PG",
                    "TV-MA",
                    "TV-MA",
                    "TV-14",
                    "R",
                    "TV-MA",
                    "R",
                    "TV-MA",
                    "TV-14",
                    "TV-MA",
                    "TV-MA",
                    "TV-MA",
                    "TV-MA",
                    "TV-Y7",
                    "TV-PG",
                    "TV-MA",
                    "PG-13",
                    "TV-14",
                    "TV-14",
                    "TV-14",
                    "TV-MA",
                    "R",
                    "R",
                    "TV-MA",
                    "TV-14",
                    "TV-PG",
                    "TV-14",
                    "PG",
                    "TV-Y7",
                    "PG-13",
                    "R",
                    "TV-MA",
                    "PG",
                    "PG-13",
                    "TV-14",
                    "TV-PG",
                    "TV-MA",
                    "TV-14",
                    "TV-MA",
                    "TV-MA",
                    "TV-MA",
                    "TV-14",
                    "TV-14",
                    "TV-Y",
                    "TV-14",
                    "TV-PG",
                    "TV-14",
                    "TV-14",
                    "TV-14",
                    "TV-MA",
                    "PG-13",
                    "R",
                    "R",
                    "R",
                    "R",
                    "TV-MA",
                    "TV-14",
                    "TV-MA",
                    "TV-Y",
                    "R",
                    "PG-13",
                    "R",
                    "TV-14",
                    "TV-MA",
                    "TV-Y7",
                    "TV-14",
                    "TV-G",
                    "TV-G",
                    "R",
                    "PG",
                    "TV-Y",
                    "TV-MA",
                    "R",
                    "TV-MA",
                    "TV-14",
                    "TV-PG",
                    "TV-MA",
                    "TV-14",
                    "R",
                    "TV-MA",
                    "TV-MA",
                    "TV-MA",
                    "TV-MA",
                    "TV-MA",
                    "R",
                    "TV-14",
                    "TV-14",
                    "TV-Y7",
                    "TV-14",
                    "TV-MA",
                    "TV-MA",
                    "TV-MA",
                    "TV-Y",
                    "TV-14",
                    "TV-MA",
                    "TV-14",
                    "TV-14",
                    "PG",
                    "R",
                    "TV-MA",
                    "TV-MA",
                    "TV-14",
                    "TV-MA",
                    "TV-PG",
                    "TV-14",
                    "TV-G",
                    "TV-14",
                    "PG-13",
                    "TV-14",
                    "TV-MA",
                    "R",
                    "TV-14",
                    "TV-G",
                    "R",
                    "TV-Y",
                    "PG-13",
                    "PG",
                    "PG-13",
                    "TV-G",
                    "R",
                    "TV-MA",
                    "R",
                    "PG-13",
                    "TV-MA",
                    "R",
                    "TV-Y7",
                    "TV-Y",
                    "TV-14",
                    "TV-G",
                    "TV-14",
                    "PG-13",
                    "TV-MA",
                    "PG-13",
                    "TV-MA",
                    "TV-MA",
                    "TV-14",
                    "TV-14",
                    "TV-PG",
                    "TV-14",
                    "TV-G",
                    "TV-MA",
                    "TV-MA",
                    "TV-MA",
                    "TV-14",
                    "TV-MA",
                    "TV-Y7",
                    "TV-PG",
                    "PG-13",
                    "PG",
                    "TV-MA",
                    "TV-MA",
                    "TV-MA",
                    "TV-PG",
                    "TV-Y",
                    "TV-MA",
                    "TV-MA",
                    "TV-G",
                    "PG",
                    "TV-MA",
                    "TV-G",
                    "TV-14",
                    "TV-14",
                    "PG-13",
                    "TV-MA",
                    "R",
                    "TV-MA",
                    "TV-14",
                    "TV-14",
                    "TV-Y",
                    "TV-Y",
                    "TV-Y",
                    "TV-Y",
                    "TV-MA",
                    "R",
                    "TV-14",
                    "TV-MA",
                    "PG-13",
                    "TV-MA",
                    "R",
                    "TV-MA",
                    "R",
                    "TV-PG",
                    "TV-PG",
                    "TV-MA",
                    "TV-PG",
                    "TV-14",
                    "TV-14",
                    "R",
                    "TV-14",
                    "TV-14",
                    "TV-Y",
                    "TV-MA",
                    "TV-14",
                    "TV-MA",
                    "TV-PG",
                    "TV-MA",
                    "TV-MA",
                    "TV-MA",
                    "TV-MA",
                    "PG-13",
                    "PG-13",
                    "TV-14",
                    "TV-14",
                    "R",
                    "TV-MA",
                    "TV-MA",
                    "TV-14",
                    "R",
                    "TV-Y",
                    "TV-MA",
                    "TV-14",
                    "TV-14",
                    "TV-14",
                    "PG-13",
                    "TV-Y7",
                    "TV-MA",
                    "TV-MA",
                    "TV-14",
                    "TV-Y",
                    "TV-Y",
                    "G",
                    "PG-13",
                    "TV-MA",
                    "PG-13",
                    "TV-MA",
                    "TV-MA",
                    "TV-MA",
                    "TV-14",
                    "TV-G",
                    "TV-14",
                    "TV-MA",
                    "TV-MA",
                    "TV-14",
                    "TV-14",
                    "TV-14",
                    "TV-G",
                    "TV-PG",
                    "TV-14",
                    "TV-PG",
                    "PG",
                    "TV-MA",
                    "TV-PG",
                    "TV-14",
                    "TV-Y7",
                    "TV-Y",
                    "R",
                    "TV-14",
                    "R",
                    "TV-14",
                    "TV-MA",
                    "TV-MA",
                    "TV-Y",
                    "TV-MA",
                    "TV-MA",
                    "TV-Y7",
                    "TV-MA",
                    "TV-MA",
                    "TV-MA",
                    "R",
                    "TV-MA",
                    "TV-PG",
                    "TV-14",
                    "TV-MA",
                    "TV-Y",
                    "TV-MA",
                    "TV-14",
                    "TV-PG",
                    "TV-MA",
                    "TV-14",
                    "TV-MA",
                    "TV-MA",
                    "PG-13",
                    "TV-Y",
                    "PG-13",
                    "TV-14",
                    "R",
                    "PG-13",
                    "TV-Y",
                    "TV-14",
                    "PG",
                    "TV-MA",
                    "TV-Y",
                    "TV-Y",
                    "R",
                    "PG-13",
                    "TV-MA",
                    "TV-14",
                    "PG-13",
                    "TV-14",
                    "R",
                    "TV-PG",
                    "TV-PG",
                    "TV-MA",
                    "TV-PG",
                    "R",
                    "TV-Y",
                    "TV-MA",
                    "TV-14",
                    "TV-Y",
                    "TV-PG",
                    "TV-MA",
                    "TV-MA",
                    "TV-14",
                    "TV-MA",
                    "TV-14",
                    "TV-MA",
                    "TV-MA",
                    "TV-PG",
                    "TV-14",
                    "TV-MA",
                    "TV-14",
                    "R",
                    "TV-MA",
                    "TV-PG",
                    "PG",
                    "TV-14",
                    "TV-14",
                    "TV-MA",
                    "TV-Y",
                    "R",
                    "TV-MA",
                    "TV-14",
                    "R",
                    "TV-MA",
                    "TV-MA",
                    "TV-14",
                    "TV-PG",
                    "R",
                    "TV-14",
                    "TV-Y",
                    "TV-G",
                    "TV-14",
                    "PG",
                    "TV-MA",
                    "TV-PG",
                    "TV-PG",
                    "TV-MA",
                    "TV-14",
                    "TV-14",
                    "TV-14",
                    "TV-14",
                    "TV-MA",
                    "TV-14",
                    "TV-14",
                    "TV-G",
                    "TV-G",
                    "TV-14",
                    "TV-G",
                    "TV-PG",
                    "TV-MA",
                    "TV-Y7",
                    "TV-MA",
                    "PG-13",
                    "R",
                    "TV-G",
                    "TV-14",
                    "TV-Y",
                    "PG",
                    "TV-G",
                    "TV-Y",
                    "TV-14",
                    "TV-MA",
                    "TV-G",
                    "TV-14",
                    "TV-MA",
                    "TV-Y7",
                    "PG",
                    "TV-PG",
                    "PG-13",
                    "TV-MA",
                    "TV-G",
                    "TV-MA",
                    "TV-MA",
                    "R",
                    "TV-MA",
                    "TV-MA",
                    "TV-MA",
                    "PG-13",
                    "TV-14",
                    "TV-MA",
                    "TV-MA",
                    "TV-MA",
                    "TV-14",
                    "TV-MA",
                    "TV-14",
                    "TV-14",
                    "TV-Y7",
                    "TV-PG",
                    "TV-MA",
                    "TV-PG",
                    "TV-MA",
                    "TV-MA",
                    "R",
                    "TV-MA",
                    "TV-MA",
                    "TV-14",
                    "TV-14",
                    "TV-G",
                    "TV-14",
                    "TV-G",
                    "TV-14",
                    "TV-G",
                    "TV-PG",
                    "TV-MA",
                    "TV-PG",
                    "TV-MA",
                    "TV-14",
                    "TV-PG",
                    "TV-PG",
                    "TV-MA",
                    "R",
                    "TV-MA",
                    "TV-PG",
                    "TV-14",
                    "TV-Y",
                    "TV-Y",
                    "PG",
                    "TV-14",
                    "TV-14",
                    "TV-Y",
                    "TV-Y",
                    "TV-Y7",
                    "TV-Y7",
                    "TV-Y",
                    "PG",
                    "R",
                    "R",
                    "R",
                    "TV-Y",
                    "TV-MA",
                    "PG-13",
                    "PG",
                    "TV-14",
                    "R",
                    "TV-PG",
                    "TV-MA",
                    "TV-PG",
                    "TV-14",
                    "TV-14",
                    "TV-14",
                    "TV-14",
                    "TV-Y",
                    "TV-14",
                    "TV-MA",
                    "TV-14",
                    "TV-MA",
                    "TV-MA",
                    "TV-14",
                    "TV-MA",
                    "TV-14",
                    "R",
                    "TV-MA",
                    "TV-PG",
                    "TV-MA",
                    "TV-Y",
                    "TV-14",
                    "TV-MA",
                    "TV-14",
                    "TV-14",
                    "R",
                    "TV-MA",
                    "TV-MA",
                    "TV-MA",
                    "TV-MA",
                    "PG",
                    "TV-14",
                    "TV-MA",
                    "TV-MA",
                    "TV-MA",
                    "TV-MA",
                    "TV-MA",
                    "PG-13",
                    "TV-14",
                    "R",
                    "R",
                    "TV-PG",
                    "TV-MA",
                    "PG-13",
                    "TV-Y",
                    "PG-13",
                    "TV-14",
                    "TV-14",
                    "TV-MA",
                    "TV-14",
                    "TV-MA",
                    "TV-MA",
                    "TV-MA",
                    "TV-MA",
                    "TV-MA",
                    "TV-14",
                    "TV-MA",
                    "TV-MA",
                    "TV-MA",
                    "TV-14",
                    "TV-14",
                    "TV-MA",
                    "PG",
                    "TV-14",
                    "R",
                    "TV-MA",
                    "TV-MA",
                    "R",
                    "TV-MA",
                    "TV-MA",
                    "TV-Y7",
                    "R",
                    "R",
                    "TV-PG",
                    "R",
                    "TV-14",
                    "TV-Y",
                    "TV-14",
                    "TV-PG",
                    "TV-14",
                    "TV-14",
                    "TV-Y7",
                    "TV-PG",
                    "TV-MA",
                    "TV-14",
                    "TV-14",
                    "TV-MA",
                    "TV-14",
                    "TV-Y",
                    "TV-MA",
                    "TV-14",
                    "TV-14",
                    "TV-MA",
                    "TV-Y7",
                    "TV-14",
                    "TV-14",
                    "TV-MA",
                    "TV-MA",
                    "TV-MA",
                    "TV-MA",
                    "TV-Y",
                    "R",
                    "TV-MA",
                    "TV-MA",
                    "TV-14",
                    "TV-MA",
                    "TV-14",
                    "TV-MA",
                    "PG-13",
                    "TV-MA",
                    "R",
                    "TV-14",
                    "TV-Y",
                    "TV-14",
                    "TV-14",
                    "PG",
                    "TV-MA",
                    "TV-14",
                    "TV-Y",
                    "TV-Y",
                    "TV-14",
                    "TV-Y",
                    "TV-PG",
                    "TV-MA",
                    "TV-PG",
                    "TV-MA",
                    "TV-MA",
                    "TV-MA",
                    "TV-MA",
                    "PG-13",
                    "TV-MA",
                    "TV-PG",
                    "R",
                    "TV-14",
                    "TV-MA",
                    "TV-14",
                    "TV-MA",
                    "TV-MA",
                    "R",
                    "TV-MA",
                    "TV-14",
                    "PG-13",
                    "TV-MA",
                    "TV-MA",
                    "TV-MA",
                    "PG-13",
                    "TV-MA",
                    "TV-MA",
                    "TV-PG",
                    "TV-14",
                    "R",
                    "TV-PG",
                    "TV-14",
                    "TV-14",
                    "TV-MA",
                    "TV-MA",
                    "TV-PG",
                    "TV-MA",
                    "TV-PG",
                    "TV-MA",
                    "R",
                    "TV-MA",
                    "TV-MA",
                    "PG-13",
                    "TV-MA",
                    "R",
                    "PG-13",
                    "TV-PG",
                    "TV-14",
                    "TV-MA",
                    "TV-PG",
                    "TV-14",
                    "TV-14",
                    "TV-14",
                    "TV-14",
                    "TV-PG",
                    "TV-PG",
                    "TV-MA",
                    "TV-14",
                    "TV-14",
                    "TV-14",
                    "TV-Y",
                    "TV-MA",
                    "TV-MA",
                    "TV-MA",
                    "TV-MA",
                    "PG-13",
                    "TV-MA",
                    "PG-13",
                    "TV-G",
                    "TV-MA",
                    "TV-PG",
                    "TV-PG",
                    "TV-MA",
                    "TV-MA",
                    "TV-MA",
                    "TV-MA",
                    "TV-MA",
                    "TV-MA",
                    "TV-MA",
                    "TV-14",
                    "TV-14",
                    "TV-Y",
                    "TV-MA",
                    "TV-14",
                    "TV-MA",
                    "TV-MA",
                    "TV-MA",
                    "TV-G",
                    "TV-14",
                    "TV-14",
                    "TV-14",
                    "TV-MA",
                    "TV-MA",
                    "TV-Y",
                    "TV-14",
                    "TV-MA",
                    "TV-MA",
                    "TV-MA",
                    "TV-14",
                    "TV-MA",
                    "TV-MA",
                    "TV-MA",
                    "TV-PG",
                    "R",
                    "TV-MA",
                    "R",
                    "TV-MA",
                    "TV-PG",
                    "TV-MA",
                    "R",
                    "TV-MA",
                    "PG",
                    "PG",
                    "TV-MA",
                    "TV-Y",
                    "TV-14",
                    "TV-MA",
                    "TV-14",
                    "PG",
                    "TV-Y7",
                    "TV-MA",
                    "TV-MA",
                    "TV-14",
                    "TV-14",
                    "TV-14",
                    "TV-14",
                    "TV-PG",
                    "TV-PG",
                    "TV-G",
                    "TV-14",
                    "TV-G",
                    "TV-MA",
                    "TV-MA",
                    "TV-14",
                    "TV-14",
                    "TV-G",
                    "TV-14",
                    "TV-MA",
                    "TV-14",
                    "TV-MA",
                    "TV-PG",
                    "TV-MA",
                    "TV-14",
                    "PG-13",
                    "TV-MA",
                    "TV-14",
                    "TV-G",
                    "TV-MA",
                    "TV-Y7",
                    "PG",
                    "TV-MA",
                    "R",
                    "TV-14",
                    "R",
                    "TV-14",
                    "TV-Y7",
                    "TV-MA",
                    "TV-14",
                    "TV-MA",
                    "TV-PG",
                    "TV-PG",
                    "TV-MA",
                    "TV-14",
                    "TV-MA",
                    "PG",
                    "TV-G",
                    "TV-MA",
                    "PG-13",
                    "TV-14",
                    "TV-Y",
                    "TV-MA",
                    "TV-Y",
                    "TV-MA",
                    "TV-PG",
                    "TV-14",
                    "TV-14",
                    "TV-MA",
                    "TV-MA",
                    "TV-Y7",
                    "PG",
                    "R",
                    "TV-PG",
                    "TV-14",
                    "TV-MA",
                    "TV-Y7",
                    "TV-MA",
                    "TV-14",
                    "PG",
                    "TV-Y",
                    "TV-Y",
                    "TV-14",
                    "TV-MA",
                    "PG",
                    "TV-MA",
                    "TV-MA",
                    "TV-MA",
                    "TV-MA",
                    "TV-14",
                    "TV-MA",
                    "TV-MA",
                    "PG-13",
                    "TV-MA",
                    "TV-MA",
                    "TV-MA",
                    "TV-MA",
                    "PG-13",
                    "TV-Y",
                    "TV-MA",
                    "PG-13",
                    "TV-MA",
                    "TV-G",
                    "TV-14",
                    "TV-MA",
                    "TV-MA",
                    "TV-14",
                    "TV-PG",
                    "TV-MA",
                    "TV-PG",
                    "TV-MA",
                    "TV-14",
                    "TV-14",
                    "TV-14",
                    "TV-Y7",
                    "R",
                    "TV-PG",
                    "TV-PG",
                    "TV-Y7",
                    "TV-PG",
                    "PG-13",
                    "PG-13",
                    "TV-MA",
                    "TV-PG",
                    "TV-MA",
                    "TV-14",
                    "TV-PG",
                    "TV-MA",
                    "TV-G",
                    "TV-Y7",
                    "TV-MA",
                    "TV-Y",
                    "R",
                    "TV-MA",
                    "TV-MA",
                    "TV-Y7",
                    "TV-Y7",
                    "TV-MA",
                    "R",
                    "TV-MA",
                    "TV-MA",
                    "TV-14",
                    "PG",
                    "TV-MA",
                    "TV-G",
                    "TV-MA",
                    "PG-13",
                    "TV-14",
                    "TV-14",
                    "R",
                    "TV-MA",
                    "TV-MA",
                    "TV-MA",
                    "TV-PG",
                    "TV-14",
                    "TV-Y",
                    "TV-PG",
                    "TV-Y7",
                    "TV-Y",
                    "TV-14",
                    "TV-Y7",
                    "TV-PG",
                    "TV-MA",
                    "TV-14",
                    "TV-14",
                    "TV-14",
                    "TV-Y",
                    "TV-G",
                    "TV-PG",
                    "TV-MA",
                    "TV-MA",
                    "TV-MA",
                    "R",
                    "TV-PG",
                    "TV-G",
                    "TV-14",
                    "R",
                    "TV-Y",
                    "TV-G",
                    "R",
                    "TV-14",
                    "TV-Y",
                    "TV-MA",
                    "R",
                    "TV-PG",
                    "TV-Y",
                    "TV-MA",
                    "TV-MA",
                    "TV-G",
                    "TV-PG",
                    "TV-14",
                    "TV-MA",
                    "TV-Y7",
                    "TV-MA",
                    "TV-MA",
                    "TV-MA",
                    "TV-MA",
                    "TV-MA",
                    "TV-MA",
                    "TV-PG",
                    "TV-MA",
                    "TV-MA",
                    "TV-MA",
                    "TV-MA",
                    "TV-14",
                    "TV-14",
                    "TV-MA",
                    "TV-Y7",
                    "TV-Y",
                    "TV-MA",
                    "TV-MA",
                    "TV-MA",
                    "TV-G",
                    "TV-14",
                    "TV-14",
                    "TV-Y7",
                    "TV-PG",
                    "TV-MA",
                    "TV-MA",
                    "TV-MA",
                    "TV-MA",
                    "TV-MA",
                    "TV-PG",
                    "TV-MA",
                    "TV-14",
                    "TV-Y",
                    "TV-MA",
                    "TV-MA",
                    "R",
                    "TV-14",
                    "TV-MA",
                    "TV-MA",
                    "TV-14",
                    "TV-MA",
                    "TV-14",
                    "TV-MA",
                    "TV-Y7",
                    "TV-MA",
                    "TV-Y",
                    "TV-14",
                    "TV-MA",
                    "TV-MA",
                    "TV-MA",
                    "TV-MA",
                    "TV-MA",
                    "TV-14",
                    "TV-PG",
                    "TV-14",
                    "TV-14",
                    "TV-Y7",
                    "R",
                    "TV-MA",
                    "TV-G",
                    "TV-MA",
                    "TV-MA",
                    "TV-14",
                    "R",
                    "TV-14",
                    "TV-MA",
                    "R",
                    "PG",
                    "TV-MA",
                    "TV-MA",
                    "TV-MA",
                    "TV-14",
                    "TV-14",
                    "TV-14",
                    "TV-MA",
                    "TV-14",
                    "TV-MA",
                    "TV-14",
                    "TV-PG",
                    "TV-14",
                    "TV-14",
                    "TV-14",
                    "TV-MA",
                    "TV-MA",
                    "TV-14",
                    "TV-PG",
                    "TV-MA",
                    "TV-MA",
                    "TV-PG",
                    "TV-14",
                    "TV-MA",
                    "TV-14",
                    "TV-14",
                    "TV-MA",
                    "TV-MA",
                    "TV-MA",
                    "TV-PG",
                    "TV-14",
                    "TV-14",
                    "TV-Y7",
                    "TV-MA",
                    "TV-MA",
                    "TV-MA",
                    "PG-13",
                    "TV-MA",
                    "TV-PG",
                    "TV-G",
                    "TV-MA",
                    "TV-G",
                    "TV-MA",
                    "TV-MA",
                    "TV-14",
                    "TV-MA",
                    "TV-MA",
                    "TV-Y",
                    "TV-MA",
                    "TV-MA",
                    "TV-MA",
                    "R",
                    "TV-MA",
                    "TV-14",
                    "PG-13",
                    "TV-MA",
                    "TV-14",
                    "R",
                    "TV-Y",
                    "TV-MA",
                    "TV-14",
                    "TV-MA",
                    "TV-MA",
                    "TV-14",
                    "TV-G",
                    "TV-MA",
                    "TV-14",
                    "TV-MA",
                    "PG",
                    "TV-MA",
                    "PG-13",
                    "TV-MA",
                    "TV-14",
                    "TV-MA",
                    "TV-MA",
                    "TV-14",
                    "TV-14",
                    "TV-G",
                    "TV-MA",
                    "TV-14",
                    "TV-14",
                    "PG-13",
                    "TV-MA",
                    "TV-PG",
                    "TV-MA",
                    "TV-MA",
                    "TV-14",
                    "TV-14",
                    "TV-PG",
                    "TV-MA",
                    "R",
                    "TV-MA",
                    "TV-14",
                    "TV-MA",
                    "TV-14",
                    "TV-MA",
                    "TV-G",
                    "TV-PG",
                    "TV-MA",
                    "TV-MA",
                    "TV-MA",
                    "TV-14",
                    "TV-MA",
                    "TV-MA",
                    "TV-PG",
                    "TV-MA",
                    "TV-MA",
                    "TV-MA",
                    "TV-14",
                    "TV-14",
                    "TV-PG",
                    "TV-14",
                    "TV-G",
                    "TV-MA",
                    "TV-MA",
                    "TV-14",
                    "TV-MA",
                    "PG",
                    "TV-MA",
                    "R",
                    "TV-PG",
                    "TV-14",
                    "PG-13",
                    "TV-PG",
                    "TV-MA",
                    "PG",
                    "TV-14",
                    "TV-MA",
                    "TV-G",
                    "TV-14",
                    "TV-14",
                    "TV-14",
                    "TV-MA",
                    "R",
                    "TV-MA",
                    "TV-MA",
                    "TV-MA",
                    "TV-MA",
                    "PG",
                    "TV-14",
                    "TV-MA",
                    "TV-MA",
                    "TV-MA",
                    "TV-14",
                    "TV-MA",
                    "TV-14",
                    "TV-MA",
                    "R",
                    "TV-MA",
                    "TV-MA",
                    "TV-MA",
                    "PG-13",
                    "TV-MA",
                    "TV-14",
                    "TV-14",
                    "TV-MA",
                    "R",
                    "TV-MA",
                    "TV-14",
                    "PG-13",
                    "TV-14",
                    "TV-MA",
                    "TV-14",
                    "TV-14",
                    "TV-MA",
                    "TV-MA",
                    "TV-MA",
                    "TV-14",
                    "TV-MA",
                    "TV-MA",
                    "R",
                    "TV-G",
                    "TV-14",
                    "TV-14",
                    "TV-14",
                    "TV-14",
                    "TV-14",
                    "TV-MA",
                    "TV-14",
                    "TV-14",
                    "TV-Y",
                    "TV-PG",
                    "TV-14",
                    "TV-MA",
                    "TV-Y7",
                    "TV-14",
                    "TV-G",
                    "TV-MA",
                    "TV-PG",
                    "TV-MA",
                    "TV-MA",
                    "PG",
                    "TV-MA",
                    "TV-MA",
                    "R",
                    "TV-14",
                    "TV-14",
                    "TV-PG",
                    "TV-MA",
                    "TV-MA",
                    "TV-MA",
                    "TV-MA",
                    "TV-MA",
                    "TV-14",
                    "TV-14",
                    "TV-MA",
                    "TV-G",
                    "TV-MA",
                    "TV-MA",
                    "TV-14",
                    "TV-14",
                    "R",
                    "TV-MA",
                    "TV-14",
                    "TV-G",
                    "TV-G",
                    "TV-14",
                    "TV-MA",
                    "PG",
                    "R",
                    "TV-MA",
                    "TV-G",
                    "TV-14",
                    "TV-14",
                    "TV-PG",
                    "TV-14",
                    "TV-MA",
                    "TV-14",
                    "TV-14",
                    "TV-14",
                    "TV-14",
                    "TV-14",
                    "TV-PG",
                    "TV-MA",
                    "TV-PG",
                    "TV-14",
                    "TV-MA",
                    "TV-14",
                    "TV-MA",
                    "TV-14",
                    "TV-MA",
                    "TV-PG",
                    "TV-14",
                    "TV-14",
                    "TV-14",
                    "TV-PG",
                    "TV-14",
                    "TV-MA",
                    "TV-14",
                    "TV-14",
                    "TV-14",
                    "PG",
                    "TV-PG",
                    "TV-14",
                    "TV-PG",
                    "TV-MA",
                    "TV-MA",
                    "TV-14",
                    "TV-14",
                    "TV-Y7",
                    "TV-MA",
                    "TV-MA",
                    "TV-MA",
                    "TV-PG",
                    "TV-14",
                    "TV-MA",
                    "TV-Y7",
                    "TV-MA",
                    "TV-MA",
                    "TV-Y",
                    "TV-MA",
                    "TV-14",
                    "TV-14",
                    "TV-G",
                    "TV-MA",
                    "TV-14",
                    "TV-MA",
                    "TV-14",
                    "TV-PG",
                    "TV-14",
                    "TV-MA",
                    "TV-14",
                    "TV-Y",
                    "TV-14",
                    "TV-PG",
                    "TV-14",
                    "TV-MA",
                    "TV-MA",
                    "TV-MA",
                    "R",
                    "TV-MA",
                    "TV-MA",
                    "TV-14",
                    "TV-MA",
                    "TV-Y7",
                    "TV-14",
                    "TV-14",
                    "TV-MA",
                    "TV-PG",
                    "PG",
                    "TV-MA",
                    "TV-PG",
                    "PG",
                    "TV-G",
                    "TV-14",
                    "TV-MA",
                    "PG-13",
                    "TV-14",
                    "TV-PG",
                    "TV-PG",
                    "PG",
                    "TV-14",
                    "PG",
                    "R",
                    "TV-PG",
                    "TV-14",
                    "R",
                    "TV-MA",
                    "TV-MA",
                    "TV-Y",
                    "TV-MA",
                    "TV-MA",
                    "PG",
                    "TV-Y",
                    "TV-14",
                    "TV-MA",
                    "TV-PG",
                    "TV-MA",
                    "TV-G",
                    "TV-MA",
                    "TV-MA",
                    "PG-13",
                    "R",
                    "TV-Y",
                    "TV-Y",
                    "TV-Y",
                    "PG",
                    "TV-14",
                    "TV-14",
                    "TV-MA",
                    "TV-PG",
                    "TV-14",
                    "TV-MA",
                    "TV-MA",
                    "TV-14",
                    "TV-PG",
                    "TV-MA",
                    "TV-14",
                    "TV-MA",
                    "TV-G",
                    "TV-14",
                    "TV-MA",
                    "TV-MA",
                    "TV-MA",
                    "TV-MA",
                    "TV-14",
                    "TV-MA",
                    "TV-MA",
                    "TV-MA",
                    "TV-MA",
                    "TV-14",
                    "TV-14",
                    "PG-13",
                    "TV-14",
                    "TV-14",
                    "TV-MA",
                    "TV-MA",
                    "TV-PG",
                    "TV-MA",
                    "TV-14",
                    "TV-MA",
                    "TV-14",
                    "TV-MA",
                    "TV-14",
                    "PG-13",
                    "TV-14",
                    "TV-14",
                    "TV-14",
                    "TV-14",
                    "TV-14",
                    "TV-MA",
                    "TV-PG",
                    "TV-14",
                    "TV-MA",
                    "TV-MA",
                    "TV-14",
                    "TV-G",
                    "TV-14",
                    "TV-MA",
                    "TV-14",
                    "TV-MA",
                    "TV-PG",
                    "TV-MA",
                    "TV-MA",
                    "TV-MA",
                    "TV-MA",
                    "PG",
                    "TV-14",
                    "TV-14",
                    "TV-MA",
                    "TV-MA",
                    "TV-MA",
                    "TV-MA",
                    "TV-14",
                    "TV-Y",
                    "TV-14",
                    "TV-MA",
                    "TV-MA",
                    "TV-MA",
                    "TV-MA",
                    "TV-MA",
                    "TV-MA",
                    "R",
                    "TV-MA",
                    "TV-MA",
                    "TV-MA",
                    "TV-MA",
                    "PG-13",
                    "PG",
                    "TV-MA",
                    "R",
                    "TV-G",
                    "TV-14",
                    "TV-PG",
                    "TV-MA",
                    "TV-MA",
                    "TV-MA",
                    "TV-14",
                    "TV-14",
                    "TV-14",
                    "TV-MA",
                    "TV-MA",
                    "TV-MA",
                    "TV-MA",
                    "TV-MA",
                    "TV-G",
                    "TV-MA",
                    "PG",
                    "TV-14",
                    "TV-MA",
                    "TV-MA",
                    "PG",
                    "TV-MA",
                    "TV-MA",
                    "R",
                    "TV-MA",
                    "R",
                    "R",
                    "TV-MA",
                    "TV-MA",
                    "TV-14",
                    "TV-MA",
                    "R",
                    "TV-14",
                    "TV-PG",
                    "TV-14",
                    "TV-14",
                    "TV-Y7",
                    "TV-14",
                    "TV-MA",
                    "TV-14",
                    "TV-14",
                    "TV-14",
                    "TV-14",
                    "TV-14",
                    "TV-14",
                    "TV-14",
                    "TV-MA",
                    "TV-14",
                    "TV-14",
                    "TV-14",
                    "TV-14",
                    "TV-14",
                    "TV-14",
                    "TV-14",
                    "TV-14",
                    "TV-MA",
                    "TV-Y7",
                    "TV-14",
                    "TV-Y7",
                    "TV-14",
                    "TV-MA",
                    "TV-MA",
                    "TV-MA",
                    "TV-G",
                    "R",
                    "TV-MA",
                    "TV-14",
                    "TV-14",
                    "R",
                    "TV-Y7",
                    "TV-G",
                    "TV-Y7",
                    "TV-MA",
                    "PG",
                    "TV-MA",
                    "TV-MA",
                    "TV-14",
                    "R",
                    "TV-Y",
                    "TV-14",
                    "TV-MA",
                    "R",
                    "TV-Y",
                    "TV-MA",
                    "TV-MA",
                    "TV-MA",
                    "TV-MA",
                    "TV-MA",
                    "TV-14",
                    "TV-Y",
                    "TV-MA",
                    "TV-MA",
                    "TV-Y",
                    "TV-MA",
                    "TV-MA",
                    "TV-G",
                    "TV-MA",
                    "PG",
                    "R",
                    "TV-MA",
                    "TV-MA",
                    "TV-MA",
                    "TV-MA",
                    "TV-14",
                    "TV-Y",
                    "TV-14",
                    "TV-Y7",
                    "TV-Y7",
                    "TV-14",
                    "TV-PG",
                    "TV-MA",
                    "TV-MA",
                    "TV-14",
                    "TV-PG",
                    "TV-MA",
                    "TV-MA",
                    "TV-MA",
                    "R",
                    "TV-MA",
                    "TV-14",
                    "R",
                    "TV-MA",
                    "PG",
                    "TV-MA",
                    "TV-14",
                    "TV-MA",
                    "TV-Y7",
                    "TV-MA",
                    "R",
                    "TV-14",
                    "TV-Y",
                    "TV-Y",
                    "TV-MA",
                    "TV-Y",
                    "TV-MA",
                    "TV-14",
                    "TV-14",
                    "TV-MA",
                    "TV-PG",
                    "TV-MA",
                    "TV-MA",
                    "R",
                    "TV-14",
                    "TV-MA",
                    "TV-MA",
                    "TV-14",
                    "TV-MA",
                    "TV-Y7",
                    "TV-MA",
                    "TV-PG",
                    "TV-MA",
                    "TV-MA",
                    "TV-MA",
                    "TV-MA",
                    "TV-MA",
                    "R",
                    "TV-MA",
                    "TV-MA",
                    "TV-PG",
                    "TV-14",
                    "TV-Y",
                    "TV-MA",
                    "TV-MA",
                    "TV-MA",
                    "R",
                    "TV-14",
                    "R",
                    "TV-Y",
                    "TV-MA",
                    "TV-14",
                    "TV-MA",
                    "R",
                    "TV-MA",
                    "TV-14",
                    "TV-MA",
                    "TV-14",
                    "TV-Y",
                    "TV-Y",
                    "TV-MA",
                    "PG",
                    "TV-14",
                    "TV-14",
                    "R",
                    "TV-14",
                    "TV-MA",
                    "TV-MA",
                    "TV-MA",
                    "TV-14",
                    "TV-14",
                    "TV-MA",
                    "TV-MA",
                    "TV-MA",
                    "TV-14",
                    "TV-MA",
                    "TV-MA",
                    "TV-Y7",
                    "TV-14",
                    "TV-14",
                    "TV-MA",
                    "TV-MA",
                    "TV-MA",
                    "TV-MA",
                    "TV-MA",
                    "TV-MA",
                    "TV-14",
                    "TV-MA",
                    "TV-PG",
                    "TV-14",
                    "TV-MA",
                    "TV-MA",
                    "TV-MA",
                    "TV-MA",
                    "TV-G",
                    "TV-MA",
                    "TV-MA",
                    "TV-14",
                    "R",
                    "TV-MA",
                    "TV-PG",
                    "TV-MA",
                    "TV-PG",
                    "TV-PG",
                    "R",
                    "TV-MA",
                    "R",
                    "TV-MA",
                    "R",
                    "PG-13",
                    "TV-Y",
                    "TV-Y",
                    "G",
                    "TV-MA",
                    "TV-MA",
                    "TV-MA",
                    "TV-PG",
                    "TV-14",
                    "TV-MA",
                    "TV-14",
                    "TV-PG",
                    "TV-MA",
                    "TV-MA",
                    "TV-14",
                    "TV-MA",
                    "TV-PG",
                    "TV-14",
                    "TV-Y",
                    "TV-Y7",
                    "R",
                    "TV-PG",
                    "TV-14",
                    "TV-MA",
                    "TV-MA",
                    "PG-13",
                    "TV-MA",
                    "TV-14",
                    "TV-14",
                    "TV-Y",
                    "TV-14",
                    "R",
                    "TV-14",
                    "TV-14",
                    "TV-14",
                    "R",
                    "TV-MA",
                    "TV-MA",
                    "TV-14",
                    "TV-14",
                    "TV-MA",
                    "TV-MA",
                    "PG-13",
                    "PG",
                    "TV-14",
                    "TV-PG",
                    "TV-14",
                    "TV-MA",
                    "TV-MA",
                    "TV-14",
                    "TV-MA",
                    "TV-MA",
                    "R",
                    "PG-13",
                    "TV-Y7",
                    "TV-G",
                    "TV-PG",
                    "TV-MA",
                    "TV-14",
                    "TV-Y",
                    "TV-MA",
                    "TV-G",
                    "TV-MA",
                    "TV-MA",
                    "TV-MA",
                    "TV-14",
                    "TV-MA",
                    "TV-MA",
                    "TV-MA",
                    "TV-14",
                    "TV-MA",
                    "TV-MA",
                    "TV-14",
                    "TV-MA",
                    "TV-14",
                    "TV-PG",
                    "TV-MA",
                    "TV-14",
                    "TV-14",
                    "TV-MA",
                    "PG",
                    "TV-MA",
                    "TV-MA",
                    "TV-MA",
                    "TV-14",
                    "TV-MA",
                    "TV-MA",
                    "TV-PG",
                    "TV-MA",
                    "TV-MA",
                    "TV-14",
                    "TV-14",
                    "TV-14",
                    "TV-MA",
                    "TV-MA",
                    "TV-MA",
                    "TV-14",
                    "TV-PG",
                    "TV-14",
                    "TV-14",
                    "R",
                    "TV-MA",
                    "TV-MA",
                    "TV-MA",
                    "TV-14",
                    "TV-PG",
                    "TV-14",
                    "TV-14",
                    "PG",
                    "TV-MA",
                    "R",
                    "TV-14",
                    "TV-14",
                    "R",
                    "TV-14",
                    "TV-MA",
                    "TV-MA",
                    "R",
                    "TV-MA",
                    "TV-MA",
                    "TV-Y",
                    "TV-MA",
                    "TV-G",
                    "TV-14",
                    "TV-MA",
                    "TV-14",
                    "TV-MA",
                    "TV-Y7",
                    "TV-MA",
                    "TV-MA",
                    "R",
                    "TV-Y",
                    "TV-MA",
                    "TV-MA",
                    "TV-MA",
                    "R",
                    "TV-MA",
                    "TV-14",
                    "TV-14",
                    "TV-PG",
                    "TV-14",
                    "TV-MA",
                    "TV-MA",
                    "TV-14",
                    "TV-14",
                    "TV-14",
                    "TV-PG",
                    "TV-PG",
                    "TV-Y7",
                    "TV-Y",
                    "TV-Y7",
                    "G",
                    "TV-MA",
                    "TV-MA",
                    "G",
                    "TV-MA",
                    "TV-G",
                    "TV-MA",
                    "TV-Y7",
                    "TV-MA",
                    "R",
                    "TV-Y7",
                    "TV-MA",
                    "TV-14",
                    "TV-MA",
                    "R",
                    "TV-MA",
                    "TV-MA",
                    "TV-14",
                    "TV-14",
                    "TV-MA",
                    "TV-PG",
                    "PG-13",
                    "TV-MA",
                    "TV-MA",
                    "TV-Y7",
                    "TV-Y",
                    "TV-Y7",
                    "TV-MA",
                    "TV-14",
                    "TV-14",
                    "TV-MA",
                    "TV-MA",
                    "TV-14",
                    "TV-MA",
                    "TV-MA",
                    "TV-MA",
                    "TV-MA",
                    "TV-MA",
                    "R",
                    "TV-PG",
                    "PG-13",
                    "R",
                    "R",
                    "PG-13",
                    "TV-MA",
                    "TV-14",
                    "TV-PG",
                    "TV-PG",
                    "R",
                    "TV-14",
                    "TV-Y",
                    "TV-PG",
                    "TV-MA",
                    "TV-14",
                    "TV-MA",
                    "TV-PG",
                    "TV-MA",
                    "PG-13",
                    "TV-MA",
                    "TV-PG",
                    "TV-MA",
                    "TV-MA",
                    "TV-MA",
                    "TV-MA",
                    "TV-MA",
                    "TV-MA",
                    "R",
                    "TV-14",
                    "TV-PG",
                    "TV-Y",
                    "TV-14",
                    "TV-MA",
                    "TV-14",
                    "TV-MA",
                    "TV-14",
                    "TV-14",
                    "TV-14",
                    "TV-14",
                    "TV-PG",
                    "TV-14",
                    "TV-14",
                    "TV-14",
                    "TV-14",
                    "TV-PG",
                    "TV-14",
                    "TV-MA",
                    "TV-14",
                    "TV-Y7",
                    "TV-14",
                    "TV-Y7",
                    "TV-14",
                    "R",
                    "TV-MA",
                    "TV-MA",
                    "TV-14",
                    "TV-14",
                    "TV-MA",
                    "TV-MA",
                    "TV-MA",
                    "TV-MA",
                    "TV-14",
                    "TV-MA",
                    "TV-PG",
                    "R",
                    "TV-14",
                    "PG-13",
                    "TV-MA",
                    "TV-14",
                    "TV-14",
                    "TV-PG",
                    "R",
                    "TV-MA",
                    "TV-MA",
                    "TV-Y7",
                    "TV-PG",
                    "TV-MA",
                    "TV-14",
                    "TV-MA",
                    "TV-MA",
                    "TV-14",
                    "TV-PG",
                    "TV-PG",
                    "TV-MA",
                    "TV-MA",
                    "TV-MA",
                    "TV-PG",
                    "TV-14",
                    "TV-MA",
                    "TV-MA",
                    "PG",
                    "TV-PG",
                    "R",
                    "TV-MA",
                    "TV-MA",
                    "TV-14",
                    "TV-MA",
                    "TV-14",
                    "TV-PG",
                    "TV-14",
                    "TV-PG",
                    "TV-Y",
                    "TV-14",
                    "TV-14",
                    "TV-MA",
                    "TV-MA",
                    "TV-14",
                    "TV-G",
                    "TV-14",
                    "TV-14",
                    "TV-Y",
                    "TV-MA",
                    "TV-MA",
                    "TV-MA",
                    "TV-MA",
                    "TV-MA",
                    "TV-MA",
                    "TV-MA",
                    "TV-14",
                    "TV-14",
                    "TV-PG",
                    "TV-14",
                    "TV-MA",
                    "TV-PG",
                    "TV-MA",
                    "R",
                    "TV-14",
                    "TV-Y7",
                    "TV-MA",
                    "R",
                    "TV-MA",
                    "TV-Y",
                    "TV-MA",
                    "TV-Y",
                    "TV-MA",
                    "TV-14",
                    "TV-MA",
                    "R",
                    "TV-14",
                    "TV-MA",
                    "TV-14",
                    "TV-MA",
                    "TV-MA",
                    "TV-PG",
                    "TV-MA",
                    "TV-MA",
                    "TV-MA",
                    "TV-MA",
                    "TV-Y7",
                    "TV-Y7",
                    "TV-14",
                    "TV-MA",
                    "TV-MA",
                    "TV-14",
                    "TV-MA",
                    "TV-G",
                    "TV-14",
                    "TV-MA",
                    "TV-MA",
                    "TV-14",
                    "TV-MA",
                    "TV-MA",
                    "TV-MA",
                    "PG-13",
                    "R",
                    "TV-14",
                    "R",
                    "TV-14",
                    "TV-PG",
                    "TV-MA",
                    "TV-14",
                    "TV-MA",
                    "TV-14",
                    "TV-PG",
                    "TV-PG",
                    "PG",
                    "TV-MA",
                    "TV-Y",
                    "TV-PG",
                    "TV-14",
                    "TV-14",
                    "TV-MA",
                    "TV-14",
                    "TV-MA",
                    "TV-14",
                    "TV-MA",
                    "TV-14",
                    "TV-MA",
                    "TV-14",
                    "TV-MA",
                    "TV-14",
                    "TV-MA",
                    "R",
                    "TV-14",
                    "TV-MA",
                    "TV-MA",
                    "TV-14",
                    "TV-Y7",
                    "PG-13",
                    "TV-MA",
                    "TV-MA",
                    "TV-14",
                    "TV-MA",
                    "TV-14",
                    "TV-14",
                    "TV-G",
                    "TV-PG",
                    "TV-MA",
                    "TV-MA",
                    "R",
                    "TV-MA",
                    "R",
                    "TV-PG",
                    "TV-14",
                    "TV-MA",
                    "TV-MA",
                    "TV-Y",
                    "TV-Y7",
                    "TV-G",
                    "TV-PG",
                    "TV-Y",
                    "TV-PG",
                    "TV-Y",
                    "TV-PG",
                    "TV-PG",
                    "TV-Y",
                    "TV-Y",
                    "TV-G",
                    "TV-MA",
                    "TV-PG",
                    "TV-MA",
                    "TV-MA",
                    "TV-14",
                    "TV-PG",
                    "TV-MA",
                    "TV-PG",
                    "TV-14",
                    "TV-MA",
                    "TV-14",
                    "TV-PG",
                    "PG",
                    "TV-PG",
                    "TV-14",
                    "TV-14",
                    "TV-14",
                    "TV-PG",
                    "TV-MA",
                    "TV-Y7",
                    "TV-MA",
                    "R",
                    "TV-MA",
                    "TV-MA",
                    "TV-Y",
                    "TV-MA",
                    "TV-MA",
                    "TV-MA",
                    "TV-MA",
                    "TV-MA",
                    "TV-MA",
                    "TV-MA",
                    "TV-14",
                    "TV-MA",
                    "TV-14",
                    "TV-14",
                    "TV-MA",
                    "TV-MA",
                    "TV-14",
                    "TV-PG",
                    "TV-G",
                    "TV-PG",
                    "TV-G",
                    "TV-MA",
                    "TV-MA",
                    "TV-MA",
                    "R",
                    "TV-MA",
                    "TV-MA",
                    "TV-MA",
                    "TV-PG",
                    "TV-14",
                    "TV-PG",
                    "TV-MA",
                    "TV-MA",
                    "TV-14",
                    "TV-MA",
                    "PG-13",
                    "TV-14",
                    "TV-MA",
                    "TV-PG",
                    "TV-14",
                    "TV-MA",
                    "R",
                    "TV-Y7",
                    "PG-13",
                    "TV-14",
                    "TV-Y",
                    "TV-Y",
                    "TV-Y",
                    "TV-Y",
                    "TV-Y",
                    "TV-MA",
                    "TV-MA",
                    "TV-PG",
                    "TV-Y",
                    "TV-14",
                    "TV-Y",
                    "TV-Y7",
                    "TV-MA",
                    "TV-Y7",
                    "TV-MA",
                    "TV-MA",
                    "R",
                    "TV-MA",
                    "TV-14",
                    "TV-14",
                    "TV-14",
                    "TV-14",
                    "TV-PG",
                    "TV-MA",
                    "TV-MA",
                    "TV-MA",
                    "TV-MA",
                    "TV-14",
                    "R",
                    "TV-MA",
                    "TV-MA",
                    "TV-14",
                    "TV-MA",
                    "TV-14",
                    "TV-MA",
                    "TV-MA",
                    "TV-MA",
                    "TV-MA",
                    "TV-14",
                    "TV-MA",
                    "TV-MA",
                    "TV-MA",
                    "TV-Y7",
                    "TV-14",
                    "TV-14",
                    "PG-13",
                    "TV-14",
                    "TV-MA",
                    "TV-MA",
                    "TV-Y7",
                    "TV-14",
                    "TV-Y7",
                    "TV-14",
                    "TV-MA",
                    "TV-14",
                    "TV-MA",
                    "TV-PG",
                    "TV-MA",
                    "TV-PG",
                    "TV-MA",
                    "TV-PG",
                    "TV-MA",
                    "TV-Y",
                    "TV-Y",
                    "TV-MA",
                    "TV-MA",
                    "TV-MA",
                    "TV-PG",
                    "TV-14",
                    "TV-14",
                    "TV-MA",
                    "TV-MA",
                    "TV-14",
                    "TV-MA",
                    "TV-MA",
                    "TV-PG",
                    "TV-Y",
                    "TV-Y7",
                    "TV-MA",
                    "G",
                    "TV-14",
                    "TV-PG",
                    "G",
                    "R",
                    "TV-MA",
                    "TV-MA",
                    "TV-PG",
                    "TV-PG",
                    "TV-MA",
                    "TV-PG",
                    "TV-MA",
                    "TV-MA",
                    "TV-MA",
                    "TV-14",
                    "PG-13",
                    "TV-MA",
                    "TV-14",
                    "TV-G",
                    "TV-MA",
                    "TV-14",
                    "TV-14",
                    "R",
                    "TV-MA",
                    "TV-MA",
                    "TV-MA",
                    "TV-MA",
                    "TV-MA",
                    "TV-MA",
                    "TV-MA",
                    "TV-MA",
                    "TV-MA",
                    "TV-MA",
                    "TV-14",
                    "TV-MA",
                    "TV-MA",
                    "TV-Y",
                    "TV-MA",
                    "TV-14",
                    "TV-MA",
                    "TV-MA",
                    "TV-PG",
                    "TV-14",
                    "TV-MA",
                    "TV-14",
                    "TV-PG",
                    "TV-MA",
                    "TV-MA",
                    "TV-14",
                    "TV-MA",
                    "TV-14",
                    "TV-PG",
                    "TV-MA",
                    "TV-MA",
                    "TV-MA",
                    "TV-14",
                    "TV-MA",
                    "TV-MA",
                    "TV-MA",
                    "TV-MA",
                    "TV-14",
                    "TV-14",
                    "TV-MA",
                    "TV-G",
                    "TV-14",
                    "TV-14",
                    "TV-MA",
                    "TV-Y",
                    "TV-G",
                    "TV-14",
                    "TV-MA",
                    "TV-14",
                    "G",
                    "TV-14",
                    "TV-Y",
                    "TV-MA",
                    "TV-MA",
                    "TV-PG",
                    "TV-14",
                    "TV-PG",
                    "TV-MA",
                    "TV-Y",
                    "TV-MA",
                    "TV-PG",
                    "TV-14",
                    "TV-MA",
                    "TV-MA",
                    "TV-MA",
                    "TV-MA",
                    "TV-MA",
                    "TV-14",
                    "TV-PG",
                    "TV-14",
                    "TV-PG",
                    "TV-14",
                    "TV-14",
                    "TV-MA",
                    "TV-MA",
                    "TV-MA",
                    "TV-PG",
                    "TV-MA",
                    "TV-G",
                    "TV-MA",
                    "TV-MA",
                    "TV-MA",
                    "TV-MA",
                    "TV-14",
                    "TV-MA",
                    "TV-Y7",
                    "TV-MA",
                    "PG-13",
                    "TV-14",
                    "TV-Y",
                    "TV-MA",
                    "TV-MA",
                    "TV-MA",
                    "TV-MA",
                    "TV-MA",
                    "TV-MA",
                    "TV-MA",
                    "TV-MA",
                    "TV-14",
                    "TV-MA",
                    "TV-MA",
                    "TV-MA",
                    "TV-MA",
                    "TV-Y7",
                    "TV-14",
                    "TV-MA",
                    "TV-MA",
                    "TV-MA",
                    "TV-Y7",
                    "TV-MA",
                    "TV-14",
                    "TV-MA",
                    "TV-MA",
                    "TV-14",
                    "TV-MA",
                    "TV-PG",
                    "TV-MA",
                    "TV-MA",
                    "TV-MA",
                    "TV-MA",
                    "TV-MA",
                    "TV-14",
                    "TV-MA",
                    "TV-14",
                    "TV-MA",
                    "TV-MA",
                    "TV-MA",
                    "TV-MA",
                    "TV-MA",
                    "TV-PG",
                    "TV-MA",
                    "TV-14",
                    "TV-PG",
                    "TV-MA",
                    "R",
                    "TV-14",
                    "TV-14",
                    "TV-MA",
                    "TV-MA",
                    "TV-MA",
                    "TV-MA",
                    "TV-PG",
                    "TV-MA",
                    "TV-14",
                    "TV-MA",
                    "TV-14",
                    "TV-MA",
                    "TV-MA",
                    "TV-MA",
                    "TV-Y",
                    "TV-MA",
                    "TV-MA",
                    "TV-14",
                    "TV-14",
                    "TV-14",
                    "TV-MA",
                    "TV-MA",
                    "TV-MA",
                    "TV-14",
                    "TV-Y7",
                    "TV-MA",
                    "TV-14",
                    "TV-14",
                    "TV-14",
                    "TV-Y7",
                    "TV-14",
                    "TV-PG",
                    "TV-14",
                    "TV-PG",
                    "TV-14",
                    "TV-14",
                    "TV-PG",
                    "TV-Y7",
                    "TV-MA",
                    "TV-MA",
                    "TV-MA",
                    "TV-MA",
                    "TV-MA",
                    "TV-14",
                    "TV-14",
                    "TV-MA",
                    "TV-14",
                    "TV-Y",
                    "TV-14",
                    "TV-MA",
                    "TV-G",
                    "TV-G",
                    "TV-14",
                    "TV-14",
                    "TV-MA",
                    "TV-14",
                    "TV-MA",
                    "TV-MA",
                    "TV-14",
                    "TV-14",
                    "TV-14",
                    "TV-PG",
                    "TV-Y",
                    "TV-MA",
                    "TV-Y",
                    "TV-Y7",
                    "TV-MA",
                    "TV-MA",
                    "TV-MA",
                    "TV-14",
                    "TV-MA",
                    "TV-MA",
                    "TV-MA",
                    "TV-14",
                    "TV-MA",
                    "TV-MA",
                    "TV-MA",
                    "TV-Y",
                    "TV-MA",
                    "TV-PG",
                    "TV-MA",
                    "TV-MA",
                    "TV-PG",
                    "TV-14",
                    "TV-14",
                    "TV-MA",
                    "TV-14",
                    "R",
                    "TV-MA",
                    "TV-MA",
                    "TV-MA",
                    "TV-MA",
                    "TV-PG",
                    "TV-MA",
                    "TV-MA",
                    "TV-14",
                    "TV-14",
                    "TV-MA",
                    "TV-MA",
                    "TV-MA",
                    "TV-14",
                    "TV-MA",
                    "TV-14",
                    "TV-MA",
                    "R",
                    "TV-MA",
                    "TV-MA",
                    "TV-MA",
                    "TV-PG",
                    "TV-14",
                    "TV-14",
                    "TV-14",
                    "TV-MA",
                    "TV-MA",
                    "TV-MA",
                    "TV-PG",
                    "TV-MA",
                    "TV-PG",
                    "TV-MA",
                    "TV-MA",
                    "TV-MA",
                    "TV-14",
                    "TV-MA",
                    "PG-13",
                    "TV-MA",
                    "TV-MA",
                    "TV-PG",
                    "TV-MA",
                    "TV-MA",
                    "TV-MA",
                    "TV-Y",
                    "TV-MA",
                    "TV-MA",
                    "TV-MA",
                    "TV-PG",
                    "TV-PG",
                    "PG",
                    "TV-PG",
                    "TV-MA",
                    "TV-Y",
                    "TV-MA",
                    "TV-MA",
                    "TV-MA",
                    "TV-14",
                    "TV-MA",
                    "TV-MA",
                    "TV-14",
                    "TV-Y",
                    "TV-14",
                    "TV-G",
                    "TV-MA",
                    "TV-14",
                    "TV-14",
                    "TV-MA",
                    "TV-14",
                    "TV-MA",
                    "TV-14",
                    "TV-MA",
                    "TV-MA",
                    "TV-MA",
                    "TV-MA",
                    "TV-MA",
                    "TV-MA",
                    "TV-MA",
                    "TV-MA",
                    "TV-PG",
                    "TV-MA",
                    "TV-MA",
                    "TV-14",
                    "TV-MA",
                    "TV-MA",
                    "TV-MA",
                    "TV-MA",
                    "TV-PG",
                    "TV-14",
                    "TV-MA",
                    "TV-G",
                    "TV-MA",
                    "TV-MA",
                    "TV-14",
                    "TV-14",
                    "TV-MA",
                    "TV-MA",
                    "TV-MA",
                    "TV-14",
                    "TV-MA",
                    "TV-MA",
                    "TV-MA",
                    "TV-PG",
                    "TV-MA",
                    "TV-PG",
                    "TV-Y",
                    "TV-MA",
                    "TV-Y",
                    "TV-14",
                    "R",
                    "TV-14",
                    "TV-MA",
                    "TV-MA",
                    "TV-G",
                    "TV-14",
                    "TV-14",
                    "TV-MA",
                    "TV-MA",
                    "TV-14",
                    "TV-MA",
                    "TV-MA",
                    "TV-MA",
                    "TV-MA",
                    "TV-14",
                    "TV-MA",
                    "R",
                    "TV-MA",
                    "TV-PG",
                    "TV-PG",
                    "TV-14",
                    "TV-PG",
                    "TV-14",
                    "TV-PG",
                    "TV-14",
                    "TV-PG",
                    "TV-14",
                    "TV-14",
                    "TV-14",
                    "TV-14",
                    "TV-14",
                    "TV-14",
                    "TV-MA",
                    "TV-MA",
                    "TV-14",
                    "TV-MA",
                    "TV-Y7",
                    "TV-MA",
                    "R",
                    "TV-PG",
                    "TV-MA",
                    "TV-14",
                    "TV-MA",
                    "TV-PG",
                    "R",
                    "TV-MA",
                    "TV-MA",
                    "PG",
                    "TV-MA",
                    "TV-14",
                    "TV-MA",
                    "TV-14",
                    "TV-MA",
                    "TV-MA",
                    "TV-MA",
                    "TV-14",
                    "TV-14",
                    "TV-MA",
                    "TV-MA",
                    "TV-MA",
                    "TV-MA",
                    "TV-MA",
                    "TV-MA",
                    "TV-MA",
                    "TV-MA",
                    "TV-PG",
                    "TV-14",
                    "TV-PG",
                    "R",
                    "TV-MA",
                    "TV-MA",
                    "TV-14",
                    "TV-MA",
                    "TV-MA",
                    "TV-14",
                    "TV-MA",
                    "TV-PG",
                    "TV-MA",
                    "R",
                    "TV-MA",
                    "R",
                    "TV-MA",
                    "TV-MA",
                    "R",
                    "TV-Y",
                    "TV-MA",
                    "TV-14",
                    "TV-MA",
                    "TV-MA",
                    "TV-14",
                    "TV-14",
                    "TV-14",
                    "TV-14",
                    "TV-PG",
                    "TV-MA",
                    "TV-MA",
                    "TV-MA",
                    "TV-MA",
                    "TV-MA",
                    "TV-MA",
                    "TV-MA",
                    "TV-14",
                    "TV-14",
                    "TV-MA",
                    "TV-14",
                    "PG-13",
                    "TV-PG",
                    "TV-14",
                    "TV-14",
                    "TV-MA",
                    "TV-MA",
                    "TV-MA",
                    "TV-MA",
                    "TV-PG",
                    "TV-14",
                    "TV-MA",
                    "TV-PG",
                    "TV-MA",
                    "TV-Y7",
                    "TV-MA",
                    "TV-14",
                    "TV-MA",
                    "TV-MA",
                    "TV-MA",
                    "TV-14",
                    "TV-14",
                    "TV-MA",
                    "TV-MA",
                    "TV-Y7",
                    "TV-14",
                    "TV-MA",
                    "TV-MA",
                    "TV-MA",
                    "TV-14",
                    "TV-14",
                    "TV-14",
                    "TV-Y",
                    "TV-14",
                    "TV-MA",
                    "TV-MA",
                    "TV-MA",
                    "R",
                    "TV-MA",
                    "TV-14",
                    "TV-MA",
                    "TV-MA",
                    "TV-MA",
                    "TV-MA",
                    "TV-PG",
                    "TV-PG",
                    "TV-14",
                    "TV-14",
                    "TV-MA",
                    "TV-MA",
                    "TV-Y",
                    "TV-MA",
                    "TV-MA",
                    "TV-MA",
                    "TV-MA",
                    "TV-14",
                    "TV-MA",
                    "TV-MA",
                    "TV-PG",
                    "TV-Y",
                    "TV-14",
                    "TV-14",
                    "TV-14",
                    "TV-MA",
                    "TV-MA",
                    "TV-PG",
                    "TV-MA",
                    "TV-14",
                    "TV-PG",
                    "TV-MA",
                    "TV-MA",
                    "PG-13",
                    "TV-MA",
                    "TV-MA",
                    "TV-MA",
                    "TV-MA",
                    "R",
                    "TV-MA",
                    "TV-MA",
                    "TV-MA",
                    "TV-MA",
                    "TV-MA",
                    "TV-14",
                    "TV-14",
                    "TV-14",
                    "TV-Y7",
                    "TV-14",
                    "TV-MA",
                    "TV-14",
                    "TV-14",
                    "TV-MA",
                    "TV-14",
                    "TV-MA",
                    "TV-14",
                    "TV-14",
                    "R",
                    "TV-MA",
                    "TV-14",
                    "TV-14",
                    "TV-MA",
                    "TV-14",
                    "TV-MA",
                    "TV-14",
                    "TV-MA",
                    "TV-MA",
                    "TV-MA",
                    "TV-PG",
                    "TV-PG",
                    "TV-MA",
                    "TV-14",
                    "TV-14",
                    "TV-MA",
                    "TV-MA",
                    "TV-MA",
                    "TV-MA",
                    "TV-MA",
                    "TV-MA",
                    "TV-14",
                    "TV-MA",
                    "TV-MA",
                    "TV-MA",
                    "TV-MA",
                    "TV-MA",
                    "TV-14",
                    "TV-MA",
                    "TV-MA",
                    "TV-Y7",
                    "TV-MA",
                    "TV-14",
                    "TV-G",
                    "TV-14",
                    "TV-G",
                    "TV-14",
                    "TV-PG",
                    "TV-14",
                    "TV-MA",
                    "PG",
                    "TV-MA",
                    "TV-MA",
                    "TV-MA",
                    "TV-14",
                    "TV-PG",
                    "TV-14",
                    "TV-PG",
                    "TV-14",
                    "TV-PG",
                    "TV-14",
                    "TV-14",
                    "TV-MA",
                    "TV-MA",
                    "TV-MA",
                    "TV-MA",
                    "TV-PG",
                    "TV-MA",
                    "TV-MA",
                    "TV-MA",
                    "TV-MA",
                    "TV-MA",
                    "TV-MA",
                    "TV-PG",
                    "TV-PG",
                    "TV-PG",
                    "TV-MA",
                    "TV-PG",
                    "TV-MA",
                    "TV-14",
                    "R",
                    "TV-MA",
                    "TV-MA",
                    "TV-MA",
                    "TV-14",
                    "TV-MA",
                    "TV-MA",
                    "TV-14",
                    "TV-14",
                    "TV-MA",
                    "TV-MA",
                    "TV-14",
                    "TV-MA",
                    "TV-14",
                    "TV-MA",
                    "TV-MA",
                    "TV-14",
                    "TV-14",
                    "TV-MA",
                    "TV-Y",
                    "TV-MA",
                    "TV-14",
                    "TV-PG",
                    "TV-14",
                    "TV-MA",
                    "TV-MA",
                    "TV-PG",
                    "TV-PG",
                    "TV-MA",
                    "TV-MA",
                    "TV-MA",
                    "TV-14",
                    "TV-MA",
                    "TV-MA",
                    "TV-MA",
                    "TV-MA",
                    "TV-14",
                    "TV-14",
                    "TV-MA",
                    "TV-14",
                    "TV-MA",
                    "TV-MA",
                    "TV-G",
                    "TV-Y7",
                    "TV-Y7",
                    "TV-Y",
                    "TV-Y7",
                    "TV-MA",
                    "TV-MA",
                    "TV-MA",
                    "TV-Y",
                    "R",
                    "TV-PG",
                    "TV-MA",
                    "TV-Y",
                    "TV-14",
                    "TV-14",
                    "TV-14",
                    "TV-14",
                    "TV-MA",
                    "TV-MA",
                    "TV-MA",
                    "TV-14",
                    "TV-MA",
                    "TV-14",
                    "TV-14",
                    "TV-14",
                    "TV-MA",
                    "TV-MA",
                    "TV-MA",
                    "TV-MA",
                    "TV-MA",
                    "TV-MA",
                    "TV-MA",
                    "TV-MA",
                    "TV-MA",
                    "TV-14",
                    "TV-MA",
                    "TV-MA",
                    "TV-MA",
                    "TV-MA",
                    "TV-MA",
                    "TV-14",
                    "TV-MA",
                    "TV-14",
                    "TV-14",
                    "TV-MA",
                    "TV-MA",
                    "TV-G",
                    "TV-MA",
                    "TV-14",
                    "TV-14",
                    "TV-14",
                    "TV-14",
                    "TV-14",
                    "TV-MA",
                    "TV-14",
                    "TV-MA",
                    "TV-MA",
                    "TV-MA",
                    "TV-MA",
                    "TV-14",
                    "TV-MA",
                    "TV-MA",
                    "TV-MA",
                    "TV-MA",
                    "TV-MA",
                    "TV-Y7",
                    "TV-MA",
                    "TV-MA",
                    "TV-MA",
                    "TV-Y",
                    "TV-MA",
                    "TV-PG",
                    "TV-14",
                    "TV-14",
                    "TV-MA",
                    "TV-14",
                    "TV-MA",
                    "TV-PG",
                    "TV-14",
                    "TV-14",
                    "PG",
                    "TV-PG",
                    "TV-14",
                    "TV-MA",
                    "TV-MA",
                    "TV-MA",
                    "TV-Y7",
                    "TV-MA",
                    "TV-MA",
                    "TV-MA",
                    "TV-PG",
                    "TV-MA",
                    "TV-MA",
                    "TV-MA",
                    "TV-MA",
                    "TV-MA",
                    "TV-MA",
                    "TV-MA",
                    "TV-MA",
                    "TV-MA",
                    "TV-MA",
                    "TV-MA",
                    "TV-MA",
                    "TV-MA",
                    "TV-14",
                    "TV-PG",
                    "TV-14",
                    "TV-MA",
                    "TV-MA",
                    "TV-MA",
                    "TV-MA",
                    "TV-MA",
                    "TV-14",
                    "TV-14",
                    "TV-MA",
                    "TV-MA",
                    "TV-MA",
                    "TV-MA",
                    "TV-MA",
                    "TV-MA",
                    "TV-14",
                    "TV-14",
                    "TV-MA",
                    "TV-PG",
                    "TV-14",
                    "TV-PG",
                    "TV-14",
                    "TV-MA",
                    "TV-MA",
                    "TV-PG",
                    "TV-MA",
                    "R",
                    "TV-14",
                    "TV-14",
                    "TV-MA",
                    "TV-14",
                    "TV-MA",
                    "TV-MA",
                    "TV-MA",
                    "TV-MA",
                    "R",
                    "TV-PG",
                    "TV-14",
                    "TV-MA",
                    "TV-MA",
                    "TV-MA",
                    "TV-MA",
                    "TV-MA",
                    "TV-MA",
                    "TV-G",
                    "TV-14",
                    "TV-14",
                    "TV-PG",
                    "TV-PG",
                    "R",
                    "R",
                    "TV-MA",
                    "PG-13",
                    "TV-PG",
                    "TV-MA",
                    "TV-14",
                    "TV-MA",
                    "TV-MA",
                    "TV-PG",
                    "TV-MA",
                    "TV-14",
                    "TV-MA",
                    "TV-14",
                    "TV-MA",
                    "R",
                    "TV-MA",
                    "TV-MA",
                    "TV-MA",
                    "TV-MA",
                    "TV-Y7",
                    "TV-MA",
                    "TV-PG",
                    "TV-MA",
                    "TV-14",
                    "TV-MA",
                    "PG-13",
                    "TV-G",
                    "PG-13",
                    "TV-MA",
                    "TV-MA",
                    "TV-MA",
                    "TV-Y",
                    "TV-MA",
                    "TV-MA",
                    "TV-14",
                    "TV-MA",
                    "TV-14",
                    "TV-14",
                    "TV-MA",
                    "TV-MA",
                    "TV-MA",
                    "TV-MA",
                    "TV-14",
                    "TV-14",
                    "TV-14",
                    "TV-PG",
                    "TV-14",
                    "TV-14",
                    "TV-G",
                    "TV-14",
                    "TV-MA",
                    "TV-14",
                    "TV-Y",
                    "TV-MA",
                    "TV-MA",
                    "TV-MA",
                    "TV-MA",
                    "TV-MA",
                    "TV-MA",
                    "TV-PG",
                    "TV-Y",
                    "TV-PG",
                    "TV-MA",
                    "PG-13",
                    "TV-MA",
                    "TV-MA",
                    "TV-MA",
                    "TV-Y7",
                    "TV-MA",
                    "TV-MA",
                    "TV-MA",
                    "TV-PG",
                    "TV-Y",
                    "TV-MA",
                    "TV-MA",
                    "TV-MA",
                    "TV-14",
                    "TV-PG",
                    "TV-MA",
                    "TV-Y7",
                    "TV-Y7",
                    "PG",
                    "TV-MA",
                    "TV-14",
                    "TV-PG",
                    "TV-MA",
                    "G",
                    "TV-14",
                    "TV-14",
                    "TV-14",
                    "TV-MA",
                    "TV-MA",
                    "TV-G",
                    "R",
                    "TV-G",
                    "TV-MA",
                    "TV-PG",
                    "TV-Y",
                    "PG",
                    "TV-14",
                    "TV-MA",
                    "TV-MA",
                    "TV-14",
                    "TV-14",
                    "TV-14",
                    "TV-MA",
                    "TV-14",
                    "TV-MA",
                    "TV-PG",
                    "TV-14",
                    "TV-MA",
                    "TV-MA",
                    "R",
                    "TV-MA",
                    "TV-MA",
                    "TV-Y",
                    "TV-MA",
                    "TV-MA",
                    "TV-MA",
                    "TV-14",
                    "TV-MA",
                    "TV-14",
                    "TV-MA",
                    "TV-G",
                    "TV-14",
                    "TV-G",
                    "R",
                    "TV-MA",
                    "TV-14",
                    "TV-14",
                    "TV-14",
                    "TV-14",
                    "TV-14",
                    "TV-14",
                    "TV-14",
                    "TV-14",
                    "TV-PG",
                    "TV-14",
                    "TV-Y",
                    "TV-14",
                    "TV-14",
                    "TV-PG",
                    "TV-MA",
                    "TV-MA",
                    "TV-MA",
                    "TV-14",
                    "TV-MA",
                    "TV-14",
                    "TV-14",
                    "TV-MA",
                    "TV-14",
                    "TV-14",
                    "TV-PG",
                    "TV-MA",
                    "TV-14",
                    "TV-MA",
                    "TV-14",
                    "TV-14",
                    "TV-MA",
                    "TV-MA",
                    "TV-14",
                    "TV-MA",
                    "TV-14",
                    "TV-14",
                    "TV-14",
                    "TV-14",
                    "TV-14",
                    "TV-14",
                    "TV-MA",
                    "TV-PG",
                    "TV-MA",
                    "TV-MA",
                    "TV-14",
                    "TV-PG",
                    "PG",
                    "TV-MA",
                    "R",
                    "TV-MA",
                    "TV-14",
                    "TV-MA",
                    "PG-13",
                    "TV-MA",
                    "TV-14",
                    "TV-14",
                    "TV-MA",
                    "TV-MA",
                    "TV-PG",
                    "TV-14",
                    "TV-MA",
                    "TV-14",
                    "TV-MA",
                    "TV-14",
                    "PG-13",
                    "TV-MA",
                    "TV-MA",
                    "TV-14",
                    "TV-PG",
                    "TV-PG",
                    "TV-MA",
                    "TV-MA",
                    "PG",
                    "TV-MA",
                    "TV-14",
                    "TV-MA",
                    "TV-14",
                    "TV-Y",
                    "TV-MA",
                    "TV-MA",
                    "TV-MA",
                    "TV-MA",
                    "TV-MA",
                    "TV-PG",
                    "TV-MA",
                    "TV-MA",
                    "TV-MA",
                    "TV-MA",
                    "TV-MA",
                    "TV-14",
                    "TV-MA",
                    "TV-Y7",
                    "TV-MA",
                    "TV-MA",
                    "TV-MA",
                    "TV-14",
                    "TV-14",
                    "TV-PG",
                    "TV-MA",
                    "R",
                    "TV-MA",
                    "TV-PG",
                    "R",
                    "TV-MA",
                    "R",
                    "TV-MA",
                    "TV-14",
                    "TV-Y",
                    "PG-13",
                    "TV-14",
                    "TV-14",
                    "TV-14",
                    "TV-MA",
                    "R",
                    "TV-Y",
                    "TV-MA",
                    "TV-PG",
                    "PG-13",
                    "TV-MA",
                    "R",
                    "TV-MA",
                    "TV-MA",
                    "TV-MA",
                    "TV-MA",
                    "TV-MA",
                    "TV-MA",
                    "TV-MA",
                    "R",
                    "TV-MA",
                    "TV-MA",
                    "TV-MA",
                    "TV-14",
                    "R",
                    "TV-MA",
                    "TV-14",
                    "TV-MA",
                    "TV-14",
                    "PG",
                    "TV-14",
                    "TV-14",
                    "TV-14",
                    "TV-14",
                    "TV-MA",
                    "TV-PG",
                    "TV-14",
                    "TV-14",
                    "TV-MA",
                    "TV-14",
                    "TV-14",
                    "TV-PG",
                    "TV-MA",
                    "TV-14",
                    "TV-14",
                    "TV-14",
                    "TV-PG",
                    "TV-14",
                    "TV-14",
                    "TV-14",
                    "TV-14",
                    "TV-14",
                    "TV-14",
                    "TV-14",
                    "TV-14",
                    "TV-PG",
                    "TV-14",
                    "TV-PG",
                    "TV-14",
                    "TV-14",
                    "TV-14",
                    "TV-Y",
                    "TV-Y",
                    "TV-MA",
                    "TV-14",
                    "TV-14",
                    "TV-PG",
                    "TV-14",
                    "TV-14",
                    "TV-14",
                    "TV-14",
                    "TV-PG",
                    "TV-14",
                    "TV-14",
                    "TV-PG",
                    "TV-14",
                    "TV-14",
                    "TV-14",
                    "TV-MA",
                    "TV-PG",
                    "TV-14",
                    "TV-14",
                    "TV-MA",
                    "TV-14",
                    "TV-14",
                    "TV-14",
                    "TV-PG",
                    "TV-14",
                    "PG",
                    "TV-MA",
                    "TV-MA",
                    "TV-MA",
                    "TV-14",
                    "TV-MA",
                    "TV-Y7",
                    "TV-Y7",
                    "TV-MA",
                    "TV-MA",
                    "TV-MA",
                    "TV-MA",
                    "TV-14",
                    "TV-MA",
                    "TV-MA",
                    "TV-MA",
                    "TV-14",
                    "TV-PG",
                    "TV-Y7",
                    "TV-14",
                    "TV-MA",
                    "TV-PG",
                    "TV-MA",
                    "TV-MA",
                    "TV-Y",
                    "TV-MA",
                    "TV-MA",
                    "TV-14",
                    "TV-14",
                    "TV-MA",
                    "TV-MA",
                    "TV-MA",
                    "TV-G",
                    "TV-MA",
                    "TV-14",
                    "TV-Y7",
                    "TV-Y7",
                    "TV-MA",
                    "TV-MA",
                    "TV-MA",
                    "TV-PG",
                    "PG-13",
                    "TV-Y7",
                    "TV-MA",
                    "TV-14",
                    "TV-MA",
                    "TV-MA",
                    "TV-14",
                    "TV-MA",
                    "TV-MA",
                    "TV-MA",
                    "TV-14",
                    "TV-MA",
                    "TV-PG",
                    "TV-MA",
                    "TV-MA",
                    "TV-MA",
                    "TV-MA",
                    "TV-MA",
                    "TV-MA",
                    "TV-PG",
                    "TV-PG",
                    "TV-MA",
                    "TV-14",
                    "TV-14",
                    "TV-14",
                    "TV-MA",
                    "TV-MA",
                    "TV-MA",
                    "TV-MA",
                    "TV-MA",
                    "TV-14",
                    "TV-MA",
                    "TV-MA",
                    "TV-14",
                    "TV-14",
                    "TV-14",
                    "PG-13",
                    "TV-14",
                    "TV-14",
                    "TV-PG",
                    "TV-MA",
                    "TV-14",
                    "TV-MA",
                    "TV-14",
                    "TV-MA",
                    "TV-14",
                    "TV-MA",
                    "TV-PG",
                    "TV-PG",
                    "TV-MA",
                    "TV-PG",
                    "TV-MA",
                    "TV-14",
                    "TV-14",
                    "TV-14",
                    "TV-PG",
                    "TV-14",
                    "TV-MA",
                    "TV-PG",
                    "TV-MA",
                    "TV-Y7",
                    "TV-MA",
                    "TV-MA",
                    "TV-PG",
                    "TV-MA",
                    "TV-14",
                    "TV-14",
                    "TV-14",
                    "TV-MA",
                    "TV-14",
                    "TV-14",
                    "TV-PG",
                    "TV-14",
                    "TV-14",
                    "TV-14",
                    "TV-14",
                    "TV-14",
                    "TV-14",
                    "TV-14",
                    "TV-14",
                    "TV-PG",
                    "TV-G",
                    "TV-MA",
                    "TV-MA",
                    "TV-MA",
                    "TV-14",
                    "TV-MA",
                    "TV-MA",
                    "TV-PG",
                    "TV-14",
                    "TV-MA",
                    "TV-MA",
                    "TV-MA",
                    "TV-MA",
                    "TV-MA",
                    "TV-MA",
                    "TV-14",
                    "TV-MA",
                    "TV-PG",
                    "TV-MA",
                    "TV-MA",
                    "TV-PG",
                    "TV-MA",
                    "PG",
                    "TV-MA",
                    "TV-Y7",
                    "TV-MA",
                    "TV-Y",
                    "PG",
                    "TV-MA",
                    "TV-14",
                    "TV-14",
                    "TV-14",
                    "TV-G",
                    "TV-MA",
                    "TV-14",
                    "TV-MA",
                    "TV-MA",
                    "TV-MA",
                    "TV-MA",
                    "TV-MA",
                    "TV-MA",
                    "TV-MA",
                    "TV-PG",
                    "TV-14",
                    "TV-14",
                    "TV-MA",
                    "TV-PG",
                    "TV-MA",
                    "TV-MA",
                    "TV-MA",
                    "TV-MA",
                    "TV-14",
                    "TV-14",
                    "TV-MA",
                    "TV-14",
                    "TV-14",
                    "TV-MA",
                    "TV-PG",
                    "TV-14",
                    "TV-14",
                    "TV-14",
                    "TV-14",
                    "TV-14",
                    "TV-MA",
                    "TV-MA",
                    "TV-MA",
                    "TV-14",
                    "TV-MA",
                    "TV-MA",
                    "TV-MA",
                    "TV-MA",
                    "TV-MA",
                    "TV-14",
                    "TV-MA",
                    "R",
                    "TV-Y7",
                    "TV-MA",
                    "TV-MA",
                    "TV-MA",
                    "TV-MA",
                    "TV-14",
                    "PG-13",
                    "TV-MA",
                    "TV-MA",
                    "TV-MA",
                    "TV-MA",
                    "TV-MA",
                    "TV-MA",
                    "TV-MA",
                    "TV-G",
                    "TV-MA",
                    "PG-13",
                    "TV-MA",
                    "TV-Y",
                    "TV-Y",
                    "TV-MA",
                    "TV-MA",
                    "TV-MA",
                    "TV-MA",
                    "TV-14",
                    "TV-Y7",
                    "TV-14",
                    "TV-MA",
                    "TV-MA",
                    "TV-MA",
                    "TV-MA",
                    "TV-14",
                    "TV-MA",
                    "TV-MA",
                    "TV-MA",
                    "TV-MA",
                    "TV-MA",
                    "TV-MA",
                    "TV-14",
                    "TV-Y7",
                    "TV-MA",
                    "TV-14",
                    "TV-MA",
                    "TV-Y",
                    "TV-Y7",
                    "TV-MA",
                    "TV-MA",
                    "TV-MA",
                    "PG-13",
                    "TV-MA",
                    "TV-MA",
                    "TV-MA",
                    "TV-14",
                    "TV-MA",
                    "TV-MA",
                    "TV-14",
                    "TV-PG",
                    "TV-MA",
                    "TV-14",
                    "TV-MA",
                    "G",
                    "TV-G",
                    "TV-MA",
                    "TV-MA",
                    "TV-PG",
                    "TV-MA",
                    "TV-Y7",
                    "TV-14",
                    "TV-MA",
                    "TV-MA",
                    "TV-MA",
                    "TV-MA",
                    "TV-MA",
                    "TV-14",
                    "TV-PG",
                    "TV-MA",
                    "TV-MA",
                    "TV-MA",
                    "PG",
                    "TV-Y",
                    "TV-Y",
                    "TV-Y",
                    "TV-Y",
                    "TV-Y",
                    "TV-Y",
                    "TV-Y",
                    "TV-14",
                    "TV-PG",
                    "R",
                    "TV-MA",
                    "TV-14",
                    "TV-14",
                    "TV-MA",
                    "TV-MA",
                    "TV-14",
                    "TV-14",
                    "TV-MA",
                    "TV-PG",
                    "TV-MA",
                    "TV-14",
                    "TV-PG",
                    "TV-14",
                    "TV-MA",
                    "TV-PG",
                    "TV-Y",
                    "TV-MA",
                    "TV-PG",
                    "TV-MA",
                    "TV-MA",
                    "TV-PG",
                    "TV-MA",
                    "TV-MA",
                    "TV-MA",
                    "TV-MA",
                    "R",
                    "TV-14",
                    "TV-MA",
                    "TV-Y",
                    "TV-MA",
                    "TV-MA",
                    "TV-MA",
                    "TV-MA",
                    "TV-MA",
                    "TV-14",
                    "TV-14",
                    "TV-MA",
                    "TV-MA",
                    "TV-MA",
                    "TV-MA",
                    "TV-PG",
                    "R",
                    "TV-MA",
                    "TV-MA",
                    "TV-PG",
                    "TV-14",
                    "TV-PG",
                    "TV-MA",
                    "TV-MA",
                    "TV-MA",
                    "TV-14",
                    "TV-14",
                    "TV-14",
                    "TV-PG",
                    "TV-14",
                    "TV-MA",
                    "R",
                    "TV-MA",
                    "TV-MA",
                    "TV-MA",
                    "TV-MA",
                    "TV-MA",
                    "TV-MA",
                    "R",
                    "R",
                    "TV-14",
                    "TV-14",
                    "TV-MA",
                    "TV-MA",
                    "TV-MA",
                    "TV-MA",
                    "TV-MA",
                    "TV-MA",
                    "TV-14",
                    "TV-MA",
                    "TV-PG",
                    "TV-MA",
                    "TV-14",
                    "TV-MA",
                    "TV-MA",
                    "PG-13",
                    "TV-MA",
                    "TV-14",
                    "TV-MA",
                    "TV-MA",
                    "TV-MA",
                    "TV-14",
                    "TV-MA",
                    "TV-Y7",
                    "TV-14",
                    "TV-MA",
                    "TV-MA",
                    "TV-MA",
                    "TV-G",
                    "R",
                    "TV-MA",
                    "TV-14",
                    "TV-G",
                    "TV-MA",
                    "TV-MA",
                    "TV-MA",
                    "TV-MA",
                    "TV-MA",
                    "TV-MA",
                    "TV-MA",
                    "TV-14",
                    "TV-PG",
                    "TV-14",
                    "R",
                    "TV-14",
                    "TV-PG",
                    "TV-MA",
                    "TV-PG",
                    "TV-MA",
                    "TV-MA",
                    "TV-MA",
                    "TV-MA",
                    "TV-MA",
                    "TV-14",
                    "TV-14",
                    "TV-MA",
                    "TV-MA",
                    "TV-MA",
                    "TV-MA",
                    "TV-14",
                    "TV-MA",
                    "TV-MA",
                    "TV-MA",
                    "TV-14",
                    "TV-MA",
                    "TV-MA",
                    "TV-PG",
                    "TV-MA",
                    "TV-Y7",
                    "TV-14",
                    "TV-MA",
                    "TV-MA",
                    "TV-MA",
                    "TV-14",
                    "TV-14",
                    "TV-MA",
                    "TV-PG",
                    "TV-14",
                    "TV-PG",
                    "TV-14",
                    "PG-13",
                    "TV-MA",
                    "TV-MA",
                    "TV-MA",
                    "TV-14",
                    "TV-MA",
                    "TV-MA",
                    "TV-MA",
                    "TV-PG",
                    "TV-14",
                    "TV-MA",
                    "TV-MA",
                    "TV-MA",
                    "TV-MA",
                    "TV-MA",
                    "TV-MA",
                    "TV-Y7",
                    "R",
                    "TV-MA",
                    "TV-MA",
                    "TV-MA",
                    "TV-MA",
                    "TV-MA",
                    "TV-PG",
                    "TV-14",
                    "PG-13",
                    "TV-MA",
                    "TV-MA",
                    "TV-MA",
                    "TV-MA",
                    "TV-14",
                    "TV-MA",
                    "TV-14",
                    "TV-14",
                    "TV-PG",
                    "TV-MA",
                    "TV-14",
                    "TV-14",
                    "TV-MA",
                    "TV-MA",
                    "TV-MA",
                    "TV-MA",
                    "TV-PG",
                    "TV-MA",
                    "PG-13",
                    "TV-MA",
                    "TV-14",
                    "TV-MA",
                    "TV-14",
                    "TV-14",
                    "TV-MA",
                    "TV-Y7",
                    "TV-MA",
                    "TV-MA",
                    "R",
                    "R",
                    "TV-MA",
                    "TV-14",
                    "TV-14",
                    "TV-14",
                    "TV-MA",
                    "TV-MA",
                    "TV-14",
                    "TV-MA",
                    "TV-PG",
                    "TV-14",
                    "TV-MA",
                    "TV-MA",
                    "TV-G",
                    "R",
                    "TV-MA",
                    "TV-14",
                    "TV-MA",
                    "TV-MA",
                    "TV-G",
                    "TV-MA",
                    "PG-13",
                    "TV-MA",
                    "TV-14",
                    "TV-14",
                    "TV-MA",
                    "TV-14",
                    "TV-MA",
                    "TV-14",
                    "TV-14",
                    "TV-14",
                    "TV-Y7",
                    "TV-MA",
                    "TV-MA",
                    "TV-MA",
                    "TV-Y",
                    "TV-Y7",
                    "TV-14",
                    "TV-Y",
                    "TV-PG",
                    "TV-Y7",
                    "TV-14",
                    "TV-Y7",
                    "TV-14",
                    "TV-MA",
                    "TV-14",
                    "TV-MA",
                    "TV-MA",
                    "TV-MA",
                    "PG-13",
                    "TV-14",
                    "TV-MA",
                    "TV-14",
                    "TV-MA",
                    "TV-MA",
                    "TV-MA",
                    "TV-14",
                    "TV-MA",
                    "TV-Y",
                    "TV-PG",
                    "TV-PG",
                    "TV-PG",
                    "TV-MA",
                    "TV-MA",
                    "TV-Y",
                    "R",
                    "TV-MA",
                    "TV-14",
                    "TV-MA",
                    "TV-MA",
                    "TV-MA",
                    "TV-MA",
                    "TV-Y7",
                    "TV-MA",
                    "TV-MA",
                    "TV-MA",
                    "TV-MA",
                    "R",
                    "TV-G",
                    "R",
                    "TV-MA",
                    "PG-13",
                    "TV-14",
                    "TV-MA",
                    "TV-PG",
                    "TV-MA",
                    "TV-PG",
                    "TV-G",
                    "TV-MA",
                    "TV-MA",
                    "TV-MA",
                    "TV-14",
                    "TV-14",
                    "TV-14",
                    "TV-MA",
                    "R",
                    "PG-13",
                    "PG",
                    "TV-14",
                    "TV-14",
                    "R",
                    "R",
                    "TV-MA",
                    "TV-MA",
                    "TV-MA",
                    "TV-MA",
                    "TV-PG",
                    "TV-14",
                    "TV-MA",
                    "TV-MA",
                    "TV-MA",
                    "TV-MA",
                    "TV-14",
                    "TV-PG",
                    "TV-14",
                    "TV-14",
                    "TV-MA",
                    "TV-Y",
                    "TV-PG",
                    "TV-G",
                    "TV-14",
                    "TV-MA",
                    "TV-MA",
                    "TV-MA",
                    "TV-MA",
                    "TV-MA",
                    "TV-MA",
                    "TV-MA",
                    "TV-MA",
                    "TV-PG",
                    "TV-Y7",
                    "TV-MA",
                    "TV-MA",
                    "TV-MA",
                    "TV-Y7",
                    "TV-Y7",
                    "TV-MA",
                    "TV-MA",
                    "PG-13",
                    "TV-Y7",
                    "TV-14",
                    "TV-Y",
                    "TV-14",
                    "TV-PG",
                    "TV-14",
                    "TV-14",
                    "TV-14",
                    "TV-MA",
                    "TV-14",
                    "TV-MA",
                    "TV-MA",
                    "TV-14",
                    "TV-PG",
                    "TV-14",
                    "TV-MA",
                    "TV-14",
                    "TV-MA",
                    "TV-PG",
                    "TV-MA",
                    "TV-MA",
                    "TV-14",
                    "TV-14",
                    "NC-17",
                    "TV-MA",
                    "TV-MA",
                    "R",
                    "TV-14",
                    "TV-Y",
                    "TV-MA",
                    "TV-MA",
                    "TV-Y",
                    "G",
                    "TV-MA",
                    "TV-14",
                    "TV-MA",
                    "TV-14",
                    "TV-MA",
                    "TV-MA",
                    "TV-MA",
                    "TV-MA",
                    "TV-MA",
                    "TV-MA",
                    "TV-PG",
                    "TV-14",
                    "TV-14",
                    "TV-14",
                    "TV-MA",
                    "TV-PG",
                    "TV-14",
                    "TV-MA",
                    "TV-MA",
                    "TV-MA",
                    "TV-MA",
                    "TV-PG",
                    "TV-14",
                    "TV-PG",
                    "TV-14",
                    "TV-PG",
                    "TV-14",
                    "TV-Y7",
                    "TV-MA",
                    "TV-14",
                    "TV-14",
                    "TV-MA",
                    "TV-MA",
                    "TV-MA",
                    "TV-MA",
                    "TV-14",
                    "TV-MA",
                    "TV-G",
                    "TV-14",
                    "TV-MA",
                    "TV-MA",
                    "TV-14",
                    "TV-MA",
                    "R",
                    "TV-MA",
                    "TV-MA",
                    "TV-Y7",
                    "TV-MA",
                    "PG-13",
                    "TV-MA",
                    "TV-MA",
                    "TV-MA",
                    "TV-MA",
                    "TV-MA",
                    "TV-14",
                    "TV-MA",
                    "TV-MA",
                    "TV-14",
                    "R",
                    "TV-14",
                    "TV-MA",
                    "TV-14",
                    "TV-MA",
                    "TV-14",
                    "TV-14",
                    "TV-14",
                    "TV-Y7",
                    "PG-13",
                    "TV-MA",
                    "TV-MA",
                    "R",
                    "TV-MA",
                    "TV-MA",
                    "TV-14",
                    "TV-14",
                    "TV-14",
                    "TV-14",
                    "TV-MA",
                    "TV-14",
                    "TV-Y",
                    "TV-PG",
                    "TV-MA",
                    "TV-14",
                    "TV-14",
                    "TV-MA",
                    "TV-Y",
                    "TV-MA",
                    "TV-MA",
                    "TV-14",
                    "TV-MA",
                    "TV-MA",
                    "TV-MA",
                    "TV-MA",
                    "TV-14",
                    "TV-MA",
                    "TV-MA",
                    "TV-14",
                    "TV-MA",
                    "TV-MA",
                    "TV-MA",
                    "TV-MA",
                    "TV-Y7",
                    "TV-PG",
                    "TV-MA",
                    "TV-MA",
                    "TV-MA",
                    "TV-Y7",
                    "TV-14",
                    "TV-PG",
                    "TV-14",
                    "TV-14",
                    "TV-MA",
                    "TV-14",
                    "TV-14",
                    "TV-MA",
                    "PG",
                    "TV-14",
                    "TV-PG",
                    "TV-Y",
                    "TV-14",
                    "TV-MA",
                    "TV-MA",
                    "TV-14",
                    "TV-Y",
                    "TV-MA",
                    "TV-14",
                    "TV-PG",
                    "TV-14",
                    "TV-14",
                    "TV-14",
                    "TV-MA",
                    "TV-14",
                    "TV-14",
                    "TV-14",
                    "TV-14",
                    "TV-14",
                    "TV-14",
                    "TV-PG",
                    "TV-14",
                    "TV-MA",
                    "TV-Y7",
                    "TV-MA",
                    "TV-MA",
                    "TV-MA",
                    "TV-14",
                    "TV-MA",
                    "TV-PG",
                    "TV-14",
                    "TV-Y7",
                    "TV-Y7",
                    "TV-MA",
                    "TV-MA",
                    "TV-MA",
                    "TV-PG",
                    "TV-Y7",
                    "TV-PG",
                    "TV-MA",
                    "TV-PG",
                    "TV-MA",
                    "TV-PG",
                    "TV-PG",
                    "TV-14",
                    "TV-PG",
                    "TV-14",
                    "TV-14",
                    "TV-MA",
                    "TV-MA",
                    "TV-14",
                    "TV-MA",
                    "R",
                    "TV-MA",
                    "TV-MA",
                    "TV-MA",
                    "TV-14",
                    "TV-PG",
                    "TV-MA",
                    "TV-14",
                    "TV-PG",
                    "TV-MA",
                    "TV-MA",
                    "TV-MA",
                    "TV-14",
                    "TV-PG",
                    "TV-14",
                    "TV-Y7",
                    "TV-MA",
                    "TV-14",
                    "TV-PG",
                    "TV-14",
                    "TV-14",
                    "TV-14",
                    "TV-14",
                    "TV-PG",
                    "TV-14",
                    "TV-MA",
                    "TV-14",
                    "TV-MA",
                    "TV-14",
                    "TV-14",
                    "TV-MA",
                    "TV-MA",
                    "TV-MA",
                    "TV-14",
                    "TV-MA",
                    "TV-MA",
                    "TV-MA",
                    "TV-MA",
                    "TV-14",
                    "TV-14",
                    "TV-MA",
                    "TV-14",
                    "TV-14",
                    "TV-MA",
                    "PG-13",
                    "TV-Y7",
                    "TV-MA",
                    "TV-MA",
                    "TV-Y7",
                    "TV-MA",
                    "TV-MA",
                    "TV-Y",
                    "TV-MA",
                    "TV-PG",
                    "TV-MA",
                    "TV-MA",
                    "TV-14",
                    "TV-14",
                    "TV-MA",
                    "TV-MA",
                    "TV-PG",
                    "TV-MA",
                    "TV-MA",
                    "TV-MA",
                    "TV-MA",
                    "TV-14",
                    "TV-14",
                    "TV-14",
                    "TV-MA",
                    "TV-MA",
                    "TV-14",
                    "TV-MA",
                    "TV-14",
                    "R",
                    "TV-MA",
                    "TV-MA",
                    "TV-Y7",
                    "TV-MA",
                    "TV-MA",
                    "TV-MA",
                    "TV-Y7",
                    "TV-MA",
                    "TV-MA",
                    "TV-PG",
                    "TV-14",
                    "TV-14",
                    "TV-MA",
                    "TV-14",
                    "TV-14",
                    "TV-MA",
                    "TV-14",
                    "TV-MA",
                    "R",
                    "TV-MA",
                    "TV-14",
                    "TV-MA",
                    "TV-MA",
                    "TV-MA",
                    "TV-MA",
                    "TV-MA",
                    "TV-MA",
                    "TV-14",
                    "TV-MA",
                    "TV-14",
                    "TV-MA",
                    "TV-14",
                    "TV-MA",
                    "TV-MA",
                    "TV-MA",
                    "TV-MA",
                    "TV-MA",
                    "TV-MA",
                    "TV-MA",
                    "TV-MA",
                    "TV-Y7",
                    "TV-MA",
                    "TV-14",
                    "TV-MA",
                    "TV-MA",
                    "TV-14",
                    "TV-MA",
                    "TV-14",
                    "TV-Y",
                    "TV-MA",
                    "TV-MA",
                    "TV-PG",
                    "PG",
                    "R",
                    "TV-MA",
                    "TV-PG",
                    "TV-14",
                    "TV-PG",
                    "TV-MA",
                    "TV-MA",
                    "TV-Y7",
                    "TV-MA",
                    "TV-14",
                    "TV-PG",
                    "TV-MA",
                    "TV-14",
                    "TV-MA",
                    "TV-MA",
                    "TV-MA",
                    "TV-14",
                    "TV-MA",
                    "TV-MA",
                    "TV-MA",
                    "TV-Y7",
                    "TV-14",
                    "TV-PG",
                    "TV-14",
                    "TV-MA",
                    "G",
                    "G",
                    "TV-14",
                    "TV-MA",
                    "TV-MA",
                    "TV-14",
                    "TV-MA",
                    "TV-PG",
                    "TV-MA",
                    "TV-MA",
                    "TV-MA",
                    "TV-MA",
                    "TV-14",
                    "TV-14",
                    "TV-MA",
                    "TV-MA",
                    "TV-MA",
                    "TV-MA",
                    "TV-MA",
                    "TV-MA",
                    "TV-PG",
                    "TV-14",
                    "TV-14",
                    "TV-MA",
                    "TV-MA",
                    "TV-Y",
                    "TV-MA",
                    "TV-MA",
                    "TV-14",
                    "TV-MA",
                    "TV-MA",
                    "TV-MA",
                    "TV-MA",
                    "TV-14",
                    "TV-MA",
                    "TV-MA",
                    "TV-MA",
                    "TV-PG",
                    "TV-MA",
                    "TV-MA",
                    "TV-14",
                    "TV-MA",
                    "TV-MA",
                    "TV-14",
                    "TV-Y",
                    "PG-13",
                    "TV-14",
                    "TV-Y7",
                    "TV-MA",
                    "PG",
                    "TV-MA",
                    "TV-MA",
                    "PG",
                    "TV-MA",
                    "TV-14",
                    "TV-MA",
                    "TV-MA",
                    "TV-14",
                    "TV-MA",
                    "TV-14",
                    "TV-MA",
                    "TV-MA",
                    "TV-MA",
                    "TV-Y7",
                    "TV-14",
                    "TV-MA",
                    "TV-MA",
                    "TV-MA",
                    "TV-MA",
                    "TV-PG",
                    "TV-MA",
                    "TV-14",
                    "TV-14",
                    "TV-MA",
                    "TV-14",
                    "TV-14",
                    "TV-14",
                    "TV-14",
                    "TV-PG",
                    "TV-PG",
                    "TV-PG",
                    "TV-MA",
                    "TV-MA",
                    "TV-MA",
                    "TV-MA",
                    "TV-G",
                    "TV-14",
                    "TV-14",
                    "TV-14",
                    "TV-MA",
                    "TV-14",
                    "TV-MA",
                    "TV-14",
                    "TV-MA",
                    "TV-MA",
                    "TV-MA",
                    "TV-G",
                    "TV-14",
                    "TV-MA",
                    "TV-PG",
                    "TV-14",
                    "TV-PG",
                    "TV-14",
                    "TV-PG",
                    "TV-PG",
                    "TV-MA",
                    "TV-MA",
                    "TV-14",
                    "TV-MA",
                    "TV-14",
                    "TV-MA",
                    "TV-14",
                    "TV-MA",
                    "TV-MA",
                    "TV-14",
                    "TV-MA",
                    "TV-MA",
                    "TV-MA",
                    "TV-MA",
                    "TV-MA",
                    "TV-MA",
                    "TV-MA",
                    "TV-MA",
                    "TV-14",
                    "TV-MA",
                    "TV-MA",
                    "TV-MA",
                    "TV-Y7",
                    "TV-MA",
                    "TV-14",
                    "TV-PG",
                    "TV-14",
                    "TV-14",
                    "TV-14",
                    "TV-MA",
                    "TV-14",
                    "TV-14",
                    "TV-MA",
                    "TV-Y",
                    "TV-MA",
                    "G",
                    "TV-14",
                    "TV-PG",
                    "TV-14",
                    "TV-MA",
                    "TV-MA",
                    "TV-MA",
                    "TV-MA",
                    "TV-MA",
                    "TV-MA",
                    "TV-MA",
                    "TV-MA",
                    "TV-PG",
                    "TV-14",
                    "TV-14",
                    "TV-14",
                    "TV-MA",
                    "TV-14",
                    "TV-MA",
                    "TV-MA",
                    "TV-MA",
                    "TV-MA",
                    "TV-MA",
                    "TV-Y",
                    "TV-MA",
                    "TV-Y7",
                    "TV-PG",
                    "TV-14",
                    "TV-MA",
                    "TV-MA",
                    "TV-14",
                    "TV-MA",
                    "TV-14",
                    "TV-Y",
                    "TV-MA",
                    "TV-PG",
                    "TV-MA",
                    "TV-Y7",
                    "TV-MA",
                    "TV-Y7",
                    "TV-14",
                    "TV-14",
                    "TV-MA",
                    "TV-MA",
                    "TV-MA",
                    "TV-14",
                    "TV-MA",
                    "TV-MA",
                    "TV-MA",
                    "TV-Y",
                    "TV-MA",
                    "TV-MA",
                    "TV-MA",
                    "TV-MA",
                    "TV-MA",
                    "TV-MA",
                    "TV-MA",
                    "TV-MA",
                    "TV-PG",
                    "TV-14",
                    "TV-PG",
                    "TV-MA",
                    "TV-14",
                    "TV-Y7",
                    "TV-14",
                    "TV-MA",
                    "TV-MA",
                    "TV-14",
                    "TV-MA",
                    "TV-14",
                    "TV-Y7",
                    "TV-14",
                    "TV-MA",
                    "TV-MA",
                    "TV-14",
                    "TV-MA",
                    "TV-14",
                    "TV-14",
                    "TV-PG",
                    "TV-14",
                    "TV-14",
                    "TV-MA",
                    "TV-MA",
                    "TV-MA",
                    "TV-14",
                    "TV-G",
                    "TV-MA",
                    "TV-MA",
                    "TV-14",
                    "TV-Y7",
                    "TV-MA",
                    "TV-Y",
                    "TV-MA",
                    "TV-MA",
                    "R",
                    "TV-MA",
                    "TV-14",
                    "TV-MA",
                    "TV-MA",
                    "TV-MA",
                    "TV-Y",
                    "TV-MA",
                    "TV-MA",
                    "PG-13",
                    "TV-MA",
                    "TV-MA",
                    "TV-PG",
                    "TV-PG",
                    "TV-MA",
                    "TV-MA",
                    "TV-MA",
                    "TV-MA",
                    "TV-MA",
                    "TV-MA",
                    "R",
                    "TV-MA",
                    "TV-MA",
                    "TV-Y",
                    "TV-14",
                    "TV-PG",
                    "R",
                    "TV-MA",
                    "TV-14",
                    "TV-PG",
                    "TV-MA",
                    "TV-14",
                    "PG-13",
                    "PG",
                    "TV-14",
                    "TV-Y",
                    "TV-MA",
                    "TV-Y7",
                    "TV-Y",
                    "TV-MA",
                    "TV-MA",
                    "R",
                    "R",
                    "TV-MA",
                    "TV-MA",
                    "TV-Y",
                    "TV-MA",
                    "TV-14",
                    "TV-MA",
                    "TV-14",
                    "TV-PG",
                    "TV-MA",
                    "TV-MA",
                    "TV-MA",
                    "TV-MA",
                    "TV-Y",
                    "TV-MA",
                    "R",
                    "TV-MA",
                    "TV-MA",
                    "TV-MA",
                    "TV-MA",
                    "TV-14",
                    "TV-PG",
                    "TV-14",
                    "TV-PG",
                    "TV-MA",
                    "TV-MA",
                    "TV-MA",
                    "TV-14",
                    "TV-Y7",
                    "R",
                    "TV-MA",
                    "TV-MA",
                    "TV-14",
                    "TV-MA",
                    "TV-Y",
                    "TV-MA",
                    "TV-MA",
                    "TV-MA",
                    "TV-14",
                    "TV-MA",
                    "TV-Y",
                    "TV-MA",
                    "TV-MA",
                    "TV-MA",
                    "TV-14",
                    "TV-MA",
                    "TV-MA",
                    "TV-MA",
                    "TV-MA",
                    "TV-G",
                    "TV-MA",
                    "TV-MA",
                    "TV-MA",
                    "TV-MA",
                    "TV-MA",
                    "TV-14",
                    "TV-PG",
                    "TV-MA",
                    "TV-14",
                    "TV-MA",
                    "TV-PG",
                    "TV-MA",
                    "TV-G",
                    "PG",
                    "TV-MA",
                    "TV-14",
                    "TV-MA",
                    "PG",
                    "TV-14",
                    "TV-MA",
                    "TV-14",
                    "TV-14",
                    "TV-PG",
                    "TV-PG",
                    "TV-PG",
                    "TV-MA",
                    "TV-PG",
                    "TV-14",
                    "TV-14",
                    "TV-PG",
                    "TV-MA",
                    "TV-MA",
                    "TV-MA",
                    "TV-MA",
                    "PG-13",
                    "PG-13",
                    "R",
                    "TV-14",
                    "TV-MA",
                    "TV-14",
                    "TV-14",
                    "R",
                    "TV-14",
                    "TV-PG",
                    "TV-14",
                    "TV-14",
                    "TV-14",
                    "NR",
                    "TV-14",
                    "TV-14",
                    "TV-14",
                    "TV-MA",
                    "TV-MA",
                    "PG-13",
                    "TV-MA",
                    "TV-PG",
                    "TV-14",
                    "PG-13",
                    "TV-MA",
                    "TV-14",
                    "TV-14",
                    "TV-MA",
                    "TV-14",
                    "NR",
                    "R",
                    "R",
                    "TV-MA",
                    "PG-13",
                    "PG-13",
                    "TV-MA",
                    "TV-MA",
                    "PG-13",
                    "TV-PG",
                    "TV-14",
                    "R",
                    "R",
                    "TV-14",
                    "TV-MA",
                    "R",
                    "TV-MA",
                    "TV-MA",
                    "PG-13",
                    "TV-MA",
                    "PG-13",
                    "TV-PG",
                    "TV-PG",
                    "TV-14",
                    "R",
                    "TV-14",
                    "TV-MA",
                    "NR",
                    "TV-MA",
                    "R",
                    "PG-13",
                    "R",
                    "TV-14",
                    "R",
                    "TV-MA",
                    "R",
                    "TV-14",
                    "TV-PG",
                    "TV-PG",
                    "R",
                    "TV-14",
                    "PG",
                    "PG",
                    "R",
                    "R",
                    "TV-PG",
                    "R",
                    "TV-14",
                    "R",
                    "TV-14",
                    "TV-MA",
                    "R",
                    "TV-14",
                    "TV-G",
                    "R",
                    "TV-MA",
                    "TV-14",
                    "TV-MA",
                    "R",
                    "PG-13",
                    "TV-14",
                    "PG-13",
                    "TV-MA",
                    "TV-MA",
                    "R",
                    "TV-PG",
                    "NR",
                    "TV-MA",
                    "PG-13",
                    "R",
                    "TV-PG",
                    "PG-13",
                    "R",
                    "PG-13",
                    "PG",
                    "TV-MA",
                    "TV-14",
                    "PG",
                    "TV-14",
                    "TV-MA",
                    "PG",
                    "TV-MA",
                    "TV-MA",
                    "TV-PG",
                    "TV-14",
                    "TV-14",
                    "TV-14",
                    "TV-PG",
                    "TV-MA",
                    "TV-14",
                    "TV-PG",
                    "TV-Y7",
                    "PG-13",
                    "TV-MA",
                    "TV-MA",
                    "TV-MA",
                    "PG-13",
                    "R",
                    "NR",
                    "R",
                    "TV-14",
                    "TV-14",
                    "R",
                    "TV-14",
                    "NR",
                    "TV-PG",
                    "NR",
                    "TV-MA",
                    "TV-MA",
                    "R",
                    "TV-MA",
                    "TV-MA",
                    "TV-MA",
                    "TV-14",
                    "TV-14",
                    "R",
                    "TV-PG",
                    "TV-14",
                    "TV-14",
                    "TV-MA",
                    "TV-PG",
                    "TV-MA",
                    "PG",
                    "TV-PG",
                    "PG",
                    "TV-14",
                    "R",
                    "G",
                    "TV-MA",
                    "TV-G",
                    "TV-MA",
                    "R",
                    "R",
                    "R",
                    "R",
                    "TV-G",
                    "TV-Y7",
                    "TV-Y",
                    "TV-G",
                    "TV-14",
                    "TV-MA",
                    "TV-14",
                    "TV-14",
                    "TV-14",
                    "TV-MA",
                    "R",
                    "R",
                    "TV-14",
                    "TV-MA",
                    "TV-MA",
                    "TV-PG",
                    "TV-14",
                    "TV-MA",
                    "R",
                    "R",
                    "R",
                    "TV-MA",
                    "TV-14",
                    "R",
                    "TV-MA",
                    "R",
                    "TV-PG",
                    "G",
                    "G",
                    "G",
                    "G",
                    "TV-14",
                    "TV-14",
                    "TV-PG",
                    "TV-MA",
                    "TV-MA",
                    "TV-MA",
                    "TV-14",
                    "R",
                    "R",
                    "PG-13",
                    "TV-MA",
                    "TV-14",
                    "TV-14",
                    "TV-14",
                    "TV-PG",
                    "TV-PG",
                    "PG-13",
                    "TV-MA",
                    "TV-Y7",
                    "TV-MA",
                    "TV-14",
                    "TV-Y7",
                    "TV-MA",
                    "NR",
                    "PG-13",
                    "PG",
                    "TV-14",
                    "TV-14",
                    "TV-14",
                    "PG-13",
                    "PG",
                    "R",
                    "PG-13",
                    "TV-MA",
                    "NR",
                    "TV-MA",
                    "TV-14",
                    "TV-14",
                    "TV-Y7",
                    "TV-14",
                    "TV-14",
                    "TV-PG",
                    "TV-MA",
                    "R",
                    "PG-13",
                    "TV-MA",
                    "TV-14",
                    "TV-14",
                    "TV-14",
                    "R",
                    "TV-MA",
                    "NR",
                    "NR",
                    "TV-MA",
                    "R",
                    "R",
                    "R",
                    "TV-MA",
                    "TV-MA",
                    "TV-MA",
                    "TV-14",
                    "TV-14",
                    "TV-14",
                    "TV-MA",
                    "G",
                    "G",
                    "G",
                    "TV-MA",
                    "TV-14",
                    "R",
                    "NR",
                    "TV-MA",
                    "TV-MA",
                    "TV-MA",
                    "TV-14",
                    "TV-MA",
                    "TV-14",
                    "TV-MA",
                    "TV-Y",
                    "TV-Y",
                    "TV-Y",
                    "TV-Y",
                    "TV-Y",
                    "TV-Y7",
                    "TV-Y",
                    "TV-Y",
                    "TV-Y",
                    "TV-Y",
                    "PG-13",
                    "TV-14",
                    "TV-PG",
                    "R",
                    "R",
                    "TV-Y",
                    "TV-MA",
                    "PG-13",
                    "TV-14",
                    "TV-PG",
                    "TV-PG",
                    "TV-14",
                    "TV-MA",
                    "PG",
                    "TV-Y",
                    "TV-G",
                    "PG-13",
                    "TV-G",
                    "TV-PG",
                    "TV-14",
                    "TV-14",
                    "TV-MA",
                    "PG-13",
                    "PG-13",
                    "TV-14",
                    "TV-14",
                    "PG-13",
                    "PG",
                    "PG",
                    "TV-14",
                    "TV-MA",
                    "TV-MA",
                    "TV-MA",
                    "TV-MA",
                    "TV-14",
                    "TV-14",
                    "TV-MA",
                    "TV-Y7",
                    "TV-MA",
                    "PG",
                    "TV-G",
                    "TV-14",
                    "R",
                    "TV-14",
                    "TV-PG",
                    "TV-PG",
                    "TV-14",
                    "TV-Y7",
                    "TV-14",
                    "TV-14",
                    "TV-PG",
                    "TV-14",
                    "TV-14",
                    "TV-Y",
                    "TV-14",
                    "TV-MA",
                    "TV-14",
                    "TV-G",
                    "TV-MA",
                    "PG-13",
                    "TV-G",
                    "PG",
                    "R",
                    "TV-MA",
                    "PG",
                    "R",
                    "NR",
                    "R",
                    "TV-PG",
                    "TV-MA",
                    "TV-14",
                    "TV-MA",
                    "R",
                    "TV-14",
                    "TV-MA",
                    "TV-MA",
                    "TV-14",
                    "TV-MA",
                    "R",
                    "TV-14",
                    "TV-PG",
                    "PG-13",
                    "TV-MA",
                    "R",
                    "TV-MA",
                    "PG-13",
                    "PG-13",
                    "R",
                    "R",
                    "PG",
                    "TV-MA",
                    "TV-14",
                    "R",
                    "R",
                    "NC-17",
                    "PG-13",
                    "R",
                    "TV-G",
                    "R",
                    "PG-13",
                    "R",
                    "TV-MA",
                    "TV-MA",
                    "TV-G",
                    "TV-G",
                    "TV-MA",
                    "TV-14",
                    "TV-14",
                    "TV-14",
                    "TV-14",
                    "PG",
                    "TV-14",
                    "TV-MA",
                    "TV-PG",
                    "R",
                    "TV-MA",
                    "TV-PG",
                    "TV-14",
                    "TV-MA",
                    "TV-14",
                    "TV-MA",
                    "TV-MA",
                    "PG",
                    "TV-MA",
                    "TV-G",
                    "TV-MA",
                    "PG",
                    "TV-14",
                    "TV-MA",
                    "TV-PG",
                    "TV-MA",
                    "TV-MA",
                    "R",
                    "PG-13",
                    "TV-14",
                    "R",
                    "TV-MA",
                    "TV-14",
                    "TV-PG",
                    "TV-PG",
                    "TV-PG",
                    "TV-PG",
                    "TV-MA",
                    "TV-G",
                    "TV-MA",
                    "TV-PG",
                    "PG-13",
                    "TV-MA",
                    "TV-MA",
                    "TV-MA",
                    "TV-MA",
                    "TV-14",
                    "R",
                    "R",
                    "TV-PG",
                    "TV-14",
                    "TV-MA",
                    "TV-MA",
                    "TV-MA",
                    "TV-14",
                    "TV-Y",
                    "TV-Y",
                    "TV-Y",
                    "TV-14",
                    "TV-14",
                    "TV-MA",
                    "TV-G",
                    "TV-MA",
                    "R",
                    "TV-14",
                    "PG-13",
                    "R",
                    "TV-MA",
                    "TV-14",
                    "TV-PG",
                    "TV-MA",
                    "TV-Y",
                    "TV-14",
                    "R",
                    "R",
                    "PG-13",
                    "R",
                    "TV-14",
                    "PG-13",
                    "TV-MA",
                    "TV-MA",
                    "TV-MA",
                    "NR",
                    "TV-14",
                    "PG",
                    "TV-PG",
                    "TV-MA",
                    "TV-PG",
                    "PG-13",
                    "TV-PG",
                    "TV-14",
                    "TV-14",
                    "TV-14",
                    "TV-G",
                    "PG",
                    "TV-14",
                    "PG-13",
                    "PG",
                    "PG-13",
                    "G",
                    "TV-PG",
                    "R",
                    "TV-PG",
                    "TV-MA",
                    "TV-PG",
                    "TV-14",
                    "TV-14",
                    "TV-PG",
                    "TV-PG",
                    "R",
                    "TV-14",
                    "TV-MA",
                    "TV-Y7",
                    "TV-Y7",
                    "TV-Y7",
                    "TV-Y7",
                    "TV-14",
                    "G",
                    "TV-MA",
                    "R",
                    "TV-G",
                    "TV-MA",
                    "TV-MA",
                    "NR",
                    "G",
                    "R",
                    "TV-MA",
                    "PG",
                    "TV-MA",
                    "TV-PG",
                    "TV-G",
                    "PG",
                    "PG",
                    "R",
                    "TV-Y7",
                    "TV-14",
                    "TV-PG",
                    "PG-13",
                    "TV-PG",
                    "R",
                    "TV-MA",
                    "TV-14",
                    "TV-MA",
                    "PG-13",
                    "TV-PG",
                    "TV-MA",
                    "TV-PG",
                    "PG",
                    "PG-13",
                    "TV-14",
                    "TV-MA",
                    "R",
                    "R",
                    "R",
                    "PG-13",
                    "TV-MA",
                    "TV-MA",
                    "TV-MA",
                    "TV-MA",
                    "TV-MA",
                    "TV-MA",
                    "PG-13",
                    "PG-13",
                    "TV-PG",
                    "TV-14",
                    "TV-MA",
                    "TV-14",
                    "R",
                    "TV-14",
                    "R",
                    "TV-14",
                    "TV-14",
                    "TV-PG",
                    "TV-MA",
                    "TV-MA",
                    "TV-14",
                    "TV-MA",
                    "R",
                    "TV-MA",
                    "R",
                    "TV-MA",
                    "TV-14",
                    "TV-14",
                    "TV-MA",
                    "TV-14",
                    "PG",
                    "TV-MA",
                    "PG",
                    "TV-14",
                    "TV-MA",
                    "TV-G",
                    "R",
                    "TV-MA",
                    "TV-MA",
                    "PG-13",
                    "R",
                    "R",
                    "TV-14",
                    "TV-MA",
                    "PG",
                    "TV-PG",
                    "PG",
                    "TV-MA",
                    "NR",
                    "TV-14",
                    "TV-MA",
                    "R",
                    "TV-PG",
                    "TV-PG",
                    "TV-MA",
                    "TV-MA",
                    "TV-MA",
                    "TV-MA",
                    "PG-13",
                    "TV-PG",
                    "TV-MA",
                    "R",
                    "R",
                    "TV-MA",
                    "TV-MA",
                    "TV-14",
                    "NR",
                    "TV-MA",
                    "TV-MA",
                    "TV-MA",
                    "TV-PG",
                    "R",
                    "TV-MA",
                    "TV-14",
                    "TV-14",
                    "PG-13",
                    "TV-14",
                    "TV-Y7-FV",
                    "TV-PG",
                    "R",
                    "R",
                    "TV-MA",
                    "TV-MA",
                    "TV-MA",
                    "TV-MA",
                    "TV-14",
                    "R",
                    "NR",
                    "R",
                    "R",
                    "TV-MA",
                    "TV-MA",
                    "TV-14",
                    "R",
                    "TV-14",
                    "TV-MA",
                    "TV-MA",
                    "TV-PG",
                    "TV-PG",
                    "TV-MA",
                    "TV-14",
                    "TV-14",
                    "TV-PG",
                    "TV-PG",
                    "NR",
                    "PG-13",
                    "TV-14",
                    "TV-MA",
                    "PG-13",
                    "TV-G",
                    "TV-14",
                    "TV-MA",
                    "TV-14",
                    "R",
                    "TV-MA",
                    "PG-13",
                    "TV-MA",
                    "TV-PG",
                    "PG",
                    "R",
                    "TV-14",
                    "PG-13",
                    "R",
                    "TV-MA",
                    "TV-MA",
                    "TV-14",
                    "R",
                    "TV-MA",
                    "R",
                    "R",
                    "R",
                    "TV-14",
                    "TV-14",
                    "PG-13",
                    "TV-PG",
                    "PG",
                    "PG",
                    "PG-13",
                    "PG-13",
                    "PG",
                    "PG-13",
                    "TV-Y",
                    "TV-14",
                    "TV-G",
                    "TV-MA",
                    "TV-PG",
                    "TV-PG",
                    "TV-MA",
                    "TV-14",
                    "TV-14",
                    "TV-14",
                    "PG-13",
                    "TV-14",
                    "PG",
                    "TV-Y",
                    "TV-PG",
                    "TV-14",
                    "PG",
                    "PG-13",
                    "TV-MA",
                    "PG-13",
                    "TV-MA",
                    "TV-14",
                    "TV-14",
                    "TV-PG",
                    "TV-MA",
                    "R",
                    "NR",
                    "TV-MA",
                    "TV-MA",
                    "TV-PG",
                    "TV-14",
                    "TV-14",
                    "TV-14",
                    "TV-MA",
                    "TV-PG",
                    "TV-MA",
                    "TV-G",
                    "R",
                    "TV-14",
                    "TV-MA",
                    "TV-PG",
                    "TV-PG",
                    "TV-MA",
                    "TV-PG",
                    "TV-MA",
                    "TV-PG",
                    "TV-14",
                    "PG-13",
                    "TV-MA",
                    "TV-14",
                    "TV-14",
                    "R",
                    "TV-MA",
                    "R",
                    "TV-14",
                    "TV-MA",
                    "R",
                    "PG-13",
                    "R",
                    "TV-MA",
                    "NR",
                    "TV-14",
                    "TV-14",
                    "R",
                    "TV-PG",
                    "PG",
                    "R",
                    "TV-MA",
                    "R",
                    "TV-PG",
                    "PG-13",
                    "R",
                    "TV-14",
                    "TV-14",
                    "R",
                    "TV-MA",
                    "NR",
                    "R",
                    "TV-14",
                    "TV-MA",
                    "TV-MA",
                    "TV-PG",
                    "TV-PG",
                    "TV-14",
                    "TV-MA",
                    "TV-MA",
                    "TV-MA",
                    "TV-G",
                    "TV-14",
                    "TV-14",
                    "R",
                    "TV-MA",
                    "TV-14",
                    "TV-14",
                    "NR",
                    "TV-MA",
                    "TV-MA",
                    "TV-14",
                    "R",
                    "TV-MA",
                    "TV-MA",
                    "G",
                    "NR",
                    "TV-Y7",
                    "TV-PG",
                    "TV-14",
                    "TV-MA",
                    "TV-PG",
                    "R",
                    "R",
                    "R",
                    "TV-14",
                    "TV-MA",
                    "TV-14",
                    "R",
                    "TV-MA",
                    "TV-14",
                    "NR",
                    "TV-14",
                    "TV-14",
                    "R",
                    "TV-G",
                    "PG-13",
                    "TV-14",
                    "TV-MA",
                    "TV-Y7",
                    "TV-MA",
                    "TV-MA",
                    "TV-PG",
                    "TV-14",
                    "PG",
                    "R",
                    "TV-PG",
                    "R",
                    "TV-MA",
                    "TV-MA",
                    "G",
                    "TV-14",
                    "TV-14",
                    "G",
                    "TV-PG",
                    "TV-MA",
                    "TV-MA",
                    "TV-MA",
                    "PG",
                    "PG-13",
                    "TV-MA",
                    "R",
                    "R",
                    "R",
                    "TV-MA",
                    "PG",
                    "PG",
                    "R",
                    "TV-MA",
                    "TV-MA",
                    "TV-PG",
                    "TV-PG",
                    "R",
                    "R",
                    "TV-14",
                    "R",
                    "PG",
                    "TV-PG",
                    "TV-PG",
                    "TV-PG",
                    "R",
                    "TV-PG",
                    "TV-MA",
                    "TV-MA",
                    "TV-MA",
                    "PG",
                    "TV-MA",
                    "TV-14",
                    "TV-14",
                    "TV-PG",
                    "TV-PG",
                    "TV-MA",
                    "TV-PG",
                    "R",
                    "TV-PG",
                    "TV-PG",
                    "TV-MA",
                    "TV-MA",
                    "TV-PG",
                    "TV-PG",
                    "TV-PG",
                    "TV-PG",
                    "TV-MA",
                    "PG",
                    "TV-Y",
                    "R",
                    "PG",
                    "TV-MA",
                    "PG-13",
                    "PG-13",
                    "TV-14",
                    "TV-MA",
                    "TV-MA",
                    "PG-13",
                    "TV-MA",
                    "TV-14",
                    "TV-14",
                    "TV-MA",
                    "TV-14",
                    "G",
                    "PG-13",
                    "TV-14",
                    "NR",
                    "TV-14",
                    "PG",
                    "TV-PG",
                    "NR",
                    "PG",
                    "PG",
                    "TV-MA",
                    "TV-PG",
                    "TV-Y",
                    "PG-13",
                    "TV-MA",
                    "TV-Y",
                    "R",
                    "TV-14",
                    "TV-MA",
                    "R",
                    "TV-14",
                    "R",
                    "R",
                    "TV-MA",
                    "TV-MA",
                    "PG",
                    "R",
                    "R",
                    "TV-MA",
                    "R",
                    "PG",
                    "R",
                    "TV-14",
                    "R",
                    "TV-14",
                    "R",
                    "TV-14",
                    "TV-PG",
                    "TV-MA",
                    "TV-MA",
                    "PG",
                    "TV-PG",
                    "TV-PG",
                    "R",
                    "TV-MA",
                    "TV-MA",
                    "TV-PG",
                    "TV-PG",
                    "TV-G",
                    "TV-MA",
                    "TV-MA",
                    "TV-14",
                    "TV-MA",
                    "TV-14",
                    "TV-14",
                    "PG",
                    "PG-13",
                    "TV-14",
                    "TV-14",
                    "R",
                    "TV-14",
                    "R",
                    "TV-14",
                    "TV-MA",
                    "TV-G",
                    "TV-14",
                    "TV-MA",
                    "NR",
                    "TV-MA",
                    "TV-MA",
                    "TV-MA",
                    "R",
                    "TV-14",
                    "R",
                    "R",
                    "TV-14",
                    "TV-14",
                    "TV-G",
                    "TV-Y7",
                    "TV-PG",
                    "NR",
                    "TV-PG",
                    "TV-PG",
                    "TV-14",
                    "TV-MA",
                    "TV-MA",
                    "TV-MA",
                    "TV-14",
                    "TV-MA",
                    "R",
                    "PG-13",
                    "R",
                    "TV-MA",
                    "TV-MA",
                    "TV-14",
                    "PG-13",
                    "TV-MA",
                    "TV-MA",
                    "PG",
                    "TV-MA",
                    "R",
                    "TV-14",
                    "R",
                    "PG-13",
                    "R",
                    "TV-14",
                    "TV-14",
                    "TV-MA",
                    "TV-MA",
                    "TV-MA",
                    "TV-MA",
                    "TV-Y7",
                    "TV-14",
                    "TV-14",
                    "TV-14",
                    "TV-PG",
                    "TV-PG",
                    "TV-14",
                    "TV-PG",
                    "TV-MA",
                    "TV-MA",
                    "TV-14",
                    "TV-PG",
                    "PG-13",
                    "TV-PG",
                    "TV-14",
                    "TV-PG",
                    "TV-Y",
                    "TV-MA",
                    "TV-MA",
                    "TV-MA",
                    "NR",
                    "TV-14",
                    "TV-MA",
                    "TV-14",
                    "TV-PG",
                    "PG-13",
                    "PG-13",
                    "PG",
                    "TV-14",
                    "PG",
                    "TV-14",
                    "TV-MA",
                    "R",
                    "TV-14",
                    "TV-14",
                    "TV-14",
                    "TV-PG",
                    "R",
                    "NR",
                    "TV-MA",
                    "PG-13",
                    "TV-14",
                    "TV-MA",
                    "PG",
                    "PG-13",
                    "TV-14",
                    "TV-14",
                    "TV-PG",
                    "PG",
                    "PG-13",
                    "R",
                    "NR",
                    "TV-MA",
                    "PG-13",
                    "TV-PG",
                    "TV-14",
                    "PG-13",
                    "TV-G",
                    "TV-PG",
                    "TV-PG",
                    "TV-MA",
                    "R",
                    "R",
                    "TV-14",
                    "TV-Y7",
                    "TV-MA",
                    "TV-MA",
                    "R",
                    "TV-14",
                    "TV-MA",
                    "TV-MA",
                    "PG",
                    "TV-14",
                    "TV-14",
                    "TV-14",
                    "TV-14",
                    "NR",
                    "R",
                    "R",
                    "PG-13",
                    "TV-14",
                    "TV-14",
                    "R",
                    "PG-13",
                    "PG",
                    "TV-MA",
                    "TV-MA",
                    "R",
                    "TV-14",
                    "TV-PG",
                    "PG",
                    "NR",
                    "PG",
                    "UR",
                    "TV-14",
                    "R",
                    "PG-13",
                    "TV-14",
                    "TV-MA",
                    "TV-MA",
                    "R",
                    "TV-MA",
                    "PG",
                    "NR",
                    "TV-PG",
                    "PG-13",
                    "PG-13",
                    "PG",
                    "PG",
                    "TV-MA",
                    "PG",
                    "TV-PG",
                    "R",
                    "PG",
                    "TV-14",
                    "TV-MA",
                    "TV-14",
                    "TV-14",
                    "TV-MA",
                    "PG-13",
                    "TV-MA",
                    "TV-14",
                    "R",
                    "TV-PG",
                    "TV-14",
                    "TV-14",
                    "PG-13",
                    "TV-PG",
                    "TV-MA",
                    "TV-Y7",
                    "TV-14",
                    "TV-14",
                    "PG",
                    "TV-Y7",
                    "TV-14",
                    "TV-PG",
                    "TV-MA",
                    "TV-MA",
                    "PG",
                    "TV-14",
                    "TV-MA",
                    "TV-14",
                    "NR",
                    "TV-Y7",
                    "TV-14",
                    "PG",
                    "TV-MA",
                    "TV-MA",
                    "R",
                    "TV-14",
                    "TV-14",
                    "TV-Y",
                    "TV-14",
                    "TV-14",
                    "TV-14",
                    "TV-G",
                    "R",
                    "TV-MA",
                    "TV-G",
                    "PG-13",
                    "TV-14",
                    "R",
                    "TV-14",
                    "TV-MA",
                    "TV-14",
                    "R",
                    "TV-Y7",
                    "PG",
                    "TV-14",
                    "TV-14",
                    "TV-14",
                    "PG-13",
                    "TV-MA",
                    "TV-MA",
                    "TV-MA",
                    "TV-14",
                    "TV-MA",
                    "TV-MA",
                    "TV-14",
                    "TV-14",
                    "PG",
                    "TV-14",
                    "PG-13",
                    "TV-Y",
                    "PG-13",
                    "R",
                    "PG-13",
                    "PG-13",
                    "TV-14",
                    "G",
                    "TV-MA",
                    "PG-13",
                    "TV-14",
                    "TV-14",
                    "TV-PG",
                    "TV-14",
                    "TV-PG",
                    "TV-MA",
                    "TV-14",
                    "PG",
                    "TV-14",
                    "TV-MA",
                    "TV-14",
                    "TV-14",
                    "TV-14",
                    "PG-13",
                    "TV-PG",
                    "NR",
                    "TV-14",
                    "TV-14",
                    "TV-14",
                    "TV-PG",
                    "TV-PG",
                    "R",
                    "R",
                    "TV-MA",
                    "TV-MA",
                    "TV-14",
                    "TV-14",
                    "TV-14",
                    "TV-14",
                    "TV-14",
                    "TV-14",
                    "TV-PG",
                    "TV-14",
                    "TV-14",
                    "R",
                    "TV-MA",
                    "R",
                    "TV-14",
                    "R",
                    "R",
                    "R",
                    "TV-MA",
                    "TV-14",
                    "TV-MA",
                    "R",
                    "PG-13",
                    "PG-13",
                    "TV-MA",
                    "R",
                    "NR",
                    "PG-13",
                    "TV-PG",
                    "PG-13",
                    "R",
                    "TV-PG",
                    "R",
                    "TV-14",
                    "TV-14",
                    "TV-14",
                    "TV-MA",
                    "R",
                    "TV-14",
                    "PG-13",
                    "TV-G",
                    "TV-PG",
                    "PG-13",
                    "TV-14",
                    "TV-MA",
                    "TV-Y7",
                    "TV-Y7",
                    "TV-Y",
                    "TV-Y7",
                    "TV-Y7",
                    "TV-Y7",
                    "TV-Y7",
                    "TV-Y7",
                    "R",
                    "TV-Y7",
                    "NR",
                    "R",
                    "TV-MA",
                    "R",
                    "TV-Y7",
                    "TV-PG",
                    "TV-PG",
                    "TV-14",
                    "R",
                    "TV-14",
                    "TV-MA",
                    "TV-PG",
                    "TV-MA",
                    "TV-PG",
                    "TV-MA",
                    "R",
                    "PG-13",
                    "TV-MA",
                    "TV-14",
                    "TV-MA",
                    "TV-PG",
                    "TV-14",
                    "TV-14",
                    "TV-MA",
                    "R",
                    "PG-13",
                    "NC-17",
                    "TV-14",
                    "TV-MA",
                    "TV-14",
                    "TV-14",
                    "TV-14",
                    "TV-MA",
                    "R",
                    "R",
                    "TV-14",
                    "TV-PG",
                    "PG",
                    "TV-Y",
                    "TV-Y",
                    "TV-Y",
                    "TV-Y",
                    "TV-Y",
                    "TV-MA",
                    "PG-13",
                    "PG",
                    "TV-MA",
                    "TV-14",
                    "TV-PG",
                    "R",
                    "TV-G",
                    "TV-Y",
                    "TV-G",
                    "TV-Y7-FV",
                    "TV-Y",
                    "TV-Y7-FV",
                    "TV-MA",
                    "TV-PG",
                    "TV-MA",
                    "TV-14",
                    "TV-PG",
                    "R",
                    "TV-PG",
                    "TV-G",
                    "TV-14",
                    "TV-MA",
                    "TV-14",
                    "TV-PG",
                    "R",
                    "R",
                    "TV-MA",
                    "PG-13",
                    "TV-14",
                    "TV-14",
                    "TV-14",
                    "TV-Y7",
                    "TV-Y7",
                    "PG",
                    "PG-13",
                    "TV-Y7-FV",
                    "TV-Y7",
                    "TV-Y7",
                    "NR",
                    "TV-G",
                    "TV-14",
                    "PG-13",
                    "TV-14",
                    "TV-14",
                    "R",
                    "R",
                    "PG-13",
                    "TV-MA",
                    "PG",
                    "TV-Y",
                    "R",
                    "TV-MA",
                    "TV-14",
                    "TV-14",
                    "NR",
                    "TV-14",
                    "TV-MA",
                    "TV-14",
                    "TV-14",
                    "TV-14",
                    "TV-14",
                    "TV-MA",
                    "TV-MA",
                    "TV-MA",
                    "TV-14",
                    "TV-14",
                    "TV-PG",
                    "TV-MA",
                    "TV-MA",
                    "TV-14",
                    "TV-14",
                    "TV-G",
                    "R",
                    "TV-MA",
                    "TV-MA",
                    "TV-14",
                    "TV-PG",
                    "TV-PG",
                    "TV-14",
                    "TV-14",
                    "TV-MA",
                    "TV-14",
                    "TV-PG",
                    "R",
                    "TV-MA",
                    "R",
                    "TV-14",
                    "PG-13",
                    "NR",
                    "TV-MA",
                    "TV-14",
                    "TV-MA",
                    "TV-MA",
                    "TV-Y7",
                    "TV-14",
                    "TV-Y",
                    "TV-14",
                    "TV-PG",
                    "TV-14",
                    "TV-14",
                    "TV-14",
                    "TV-14",
                    "TV-PG",
                    "TV-14",
                    "TV-14",
                    "TV-PG",
                    "TV-PG",
                    "TV-MA",
                    "R",
                    "R",
                    "TV-PG",
                    "TV-MA",
                    "TV-14",
                    "PG-13",
                    "TV-14",
                    "TV-14",
                    "TV-MA",
                    "PG-13",
                    "TV-MA",
                    "TV-14",
                    "TV-MA",
                    "R",
                    "TV-14",
                    "TV-14",
                    "TV-MA",
                    "TV-14",
                    "TV-PG",
                    "R",
                    "R",
                    "TV-PG",
                    "TV-14",
                    "TV-PG",
                    "PG",
                    "PG",
                    "PG",
                    "TV-14",
                    "TV-14",
                    "NR",
                    "TV-MA",
                    "TV-14",
                    "TV-14",
                    "TV-MA",
                    "TV-14",
                    "TV-PG",
                    "TV-PG",
                    "TV-PG",
                    "TV-MA",
                    "R",
                    "R",
                    "TV-PG",
                    "TV-MA",
                    "TV-14",
                    "TV-G",
                    "TV-PG",
                    "TV-PG",
                    "TV-14",
                    "R",
                    "TV-MA",
                    "TV-14",
                    "PG-13",
                    "PG-13",
                    "TV-MA",
                    "R",
                    "TV-14",
                    "TV-MA",
                    "TV-MA",
                    "TV-PG",
                    "TV-14",
                    "R",
                    "PG",
                    "TV-14",
                    "PG-13",
                    "TV-Y7",
                    "R",
                    "TV-G",
                    "TV-14",
                    "TV-PG",
                    "PG",
                    "PG",
                    "TV-MA",
                    "TV-14",
                    "PG-13",
                    "PG-13",
                    "TV-14",
                    "NR",
                    "TV-MA",
                    "TV-MA",
                    "NR",
                    "TV-14",
                    "TV-MA",
                    "TV-PG",
                    "R",
                    "TV-MA",
                    "TV-MA",
                    "R",
                    "TV-14",
                    "R",
                    "TV-14",
                    "PG-13",
                    "R",
                    "TV-PG",
                    "R",
                    "TV-PG",
                    "PG",
                    "TV-MA",
                    "PG",
                    "TV-Y7",
                    "TV-Y7",
                    "TV-Y7",
                    "TV-Y7",
                    "TV-Y7",
                    "TV-Y7",
                    "TV-Y7",
                    "TV-Y7",
                    "TV-Y7",
                    "TV-Y7",
                    "TV-Y7",
                    "TV-G",
                    "TV-Y7",
                    "TV-Y",
                    "PG-13",
                    "TV-G",
                    "TV-G",
                    "R",
                    "R",
                    "R",
                    "TV-14",
                    "R",
                    "TV-MA",
                    "TV-14",
                    "TV-Y7-FV",
                    "PG",
                    "R",
                    "PG-13",
                    "PG-13",
                    "TV-14",
                    "TV-14",
                    "PG-13",
                    "TV-G",
                    "TV-14",
                    "PG-13",
                    "TV-PG",
                    "PG",
                    "PG",
                    "NR",
                    "TV-MA",
                    "TV-PG",
                    "TV-PG",
                    "TV-PG",
                    "TV-PG",
                    "TV-14",
                    "TV-14",
                    "PG-13",
                    "TV-MA",
                    "TV-PG",
                    "PG-13",
                    "TV-14",
                    "TV-Y",
                    "TV-Y",
                    "TV-14",
                    "TV-14",
                    "TV-MA",
                    "PG-13",
                    "TV-MA",
                    "TV-MA",
                    "R",
                    "TV-14",
                    "TV-14",
                    "TV-PG",
                    "PG",
                    "TV-PG",
                    "TV-MA",
                    "TV-PG",
                    "TV-14",
                    "NR",
                    "TV-14",
                    "TV-MA",
                    "TV-MA",
                    "PG-13",
                    "TV-G",
                    "PG",
                    "TV-14",
                    "R",
                    "R",
                    "TV-PG",
                    "TV-G",
                    "TV-G",
                    "TV-PG",
                    "TV-PG",
                    "TV-PG",
                    "TV-PG",
                    "TV-MA",
                    "TV-PG",
                    "R",
                    "TV-PG",
                    "PG",
                    "NR",
                    "PG-13",
                    "TV-14",
                    "TV-MA",
                    "R",
                    "R",
                    "TV-MA",
                    "PG-13",
                    "TV-Y7",
                    "TV-G",
                    "TV-PG",
                    "TV-MA",
                    "PG",
                    "R",
                    "TV-Y7",
                    "TV-PG",
                    "TV-PG",
                    "NR",
                    "TV-14",
                    "TV-G",
                    "TV-G",
                    "TV-PG",
                    "TV-PG",
                    "TV-PG",
                    "TV-G",
                    "TV-14",
                    "TV-G",
                    "TV-PG",
                    "TV-PG",
                    "TV-14",
                    "TV-PG",
                    "TV-PG",
                    "TV-PG",
                    "TV-PG",
                    "TV-G",
                    "TV-PG",
                    "TV-PG",
                    "TV-PG",
                    "TV-G",
                    "PG-13",
                    "PG-13",
                    "TV-MA",
                    "R",
                    "TV-MA",
                    "TV-MA",
                    "TV-PG",
                    "TV-MA",
                    "TV-MA",
                    "TV-MA",
                    "TV-14",
                    "NR",
                    "TV-MA",
                    "TV-MA",
                    "R",
                    "R",
                    "G",
                    "R",
                    "TV-PG",
                    "PG-13",
                    "PG-13",
                    "TV-14",
                    "TV-MA",
                    "R",
                    "TV-MA",
                    "TV-MA",
                    "TV-MA",
                    "TV-Y7-FV",
                    "TV-14",
                    "TV-PG",
                    "TV-Y",
                    "TV-MA",
                    "TV-14",
                    "TV-14",
                    "TV-14",
                    "TV-14",
                    "TV-PG",
                    "TV-MA",
                    "TV-PG",
                    "TV-MA",
                    "PG-13",
                    "TV-PG",
                    "PG",
                    "TV-G",
                    "TV-MA",
                    "TV-MA",
                    "TV-MA",
                    "TV-PG",
                    "R",
                    "TV-MA",
                    "PG",
                    "NR",
                    "TV-14",
                    "TV-MA",
                    "TV-MA",
                    "TV-PG",
                    "TV-PG",
                    "TV-MA",
                    "TV-MA",
                    "TV-MA",
                    "TV-PG",
                    "TV-14",
                    "TV-MA",
                    "TV-PG",
                    "TV-MA",
                    "PG-13",
                    "TV-PG",
                    "TV-MA",
                    "TV-MA",
                    "TV-14",
                    "TV-Y",
                    "PG-13",
                    "TV-14",
                    "NR",
                    "TV-14",
                    "TV-MA",
                    "R",
                    "R",
                    "TV-PG",
                    "TV-Y",
                    "TV-14",
                    "TV-MA",
                    "R",
                    "TV-PG",
                    "TV-MA",
                    "R",
                    "TV-14",
                    "TV-14",
                    "TV-PG",
                    "R",
                    "TV-14",
                    "TV-14",
                    "R",
                    "TV-PG",
                    "TV-14",
                    "R",
                    "TV-MA",
                    "PG",
                    "TV-14",
                    "TV-14",
                    "TV-14",
                    "TV-MA",
                    "TV-PG",
                    "TV-PG",
                    "TV-MA",
                    "PG",
                    "TV-MA",
                    "TV-MA",
                    "TV-MA",
                    "R",
                    "TV-14",
                    "R",
                    "TV-MA",
                    "PG",
                    "TV-MA",
                    "PG",
                    "PG-13",
                    "TV-14",
                    "TV-MA",
                    "TV-14",
                    "TV-14",
                    "TV-PG",
                    "TV-MA",
                    "TV-PG",
                    "TV-14",
                    "TV-MA",
                    "TV-MA",
                    "TV-MA",
                    "TV-G",
                    "TV-PG",
                    "TV-14",
                    "TV-MA",
                    "R",
                    "TV-14",
                    "TV-MA",
                    "PG",
                    "PG",
                    "TV-14",
                    "TV-MA",
                    "TV-MA",
                    "TV-14",
                    "TV-Y7",
                    "TV-Y7",
                    "TV-Y7",
                    "TV-Y7",
                    "TV-Y7",
                    "TV-Y7",
                    "TV-Y7",
                    "TV-Y7",
                    "TV-Y7",
                    "TV-Y7",
                    "TV-Y7",
                    "TV-Y7",
                    "TV-Y7",
                    "TV-Y7",
                    "TV-Y7",
                    "TV-Y7",
                    "TV-Y7",
                    "TV-Y7",
                    "TV-Y7",
                    "TV-Y7",
                    "TV-Y7",
                    "TV-Y7",
                    "TV-Y7",
                    "TV-Y7",
                    "TV-Y7",
                    "TV-Y7",
                    "TV-Y7",
                    "TV-Y7",
                    "TV-Y7",
                    "TV-MA",
                    "TV-14",
                    "TV-14",
                    "NR",
                    "R",
                    "TV-14",
                    "TV-Y",
                    "TV-MA",
                    "TV-MA",
                    "TV-PG",
                    "TV-MA",
                    "TV-MA",
                    "TV-14",
                    "R",
                    "TV-14",
                    "R",
                    "TV-14",
                    "TV-14",
                    "TV-MA",
                    "TV-MA",
                    "PG-13",
                    "TV-MA",
                    "PG-13",
                    "TV-MA",
                    "TV-14",
                    "PG",
                    "TV-14",
                    "PG",
                    "R",
                    "TV-MA",
                    "TV-PG",
                    "R",
                    "TV-14",
                    "NR",
                    "TV-14",
                    "TV-14",
                    "TV-PG",
                    "PG",
                    "TV-14",
                    "TV-14",
                    "TV-PG",
                    "TV-14",
                    "TV-MA",
                    "TV-MA",
                    "TV-14",
                    "NR",
                    "TV-14",
                    "TV-14",
                    "TV-PG",
                    "TV-MA",
                    "PG-13",
                    "TV-14",
                    "TV-MA",
                    "TV-MA",
                    "TV-MA",
                    "PG-13",
                    "TV-14",
                    "TV-PG",
                    "TV-PG",
                    "TV-MA",
                    "TV-MA",
                    "R",
                    "TV-PG",
                    "R",
                    "PG-13",
                    "PG-13",
                    "TV-14",
                    "R",
                    "TV-MA",
                    "TV-MA",
                    "R",
                    "NR",
                    "TV-MA",
                    "R",
                    "TV-PG",
                    "R",
                    "NR",
                    "TV-MA",
                    "R",
                    "TV-14",
                    "TV-MA",
                    "TV-MA",
                    "TV-14",
                    "TV-MA",
                    "TV-14",
                    "TV-14",
                    "TV-14",
                    "TV-14",
                    "TV-MA",
                    "PG",
                    "PG",
                    "PG",
                    "PG",
                    "PG-13",
                    "R",
                    "TV-MA",
                    "TV-MA",
                    "TV-MA",
                    "TV-14",
                    "R",
                    "TV-MA",
                    "TV-Y7",
                    "TV-14",
                    "TV-PG",
                    "R",
                    "R",
                    "TV-PG",
                    "TV-PG",
                    "TV-MA",
                    "TV-MA",
                    "R",
                    "PG-13",
                    "TV-14",
                    "PG",
                    "TV-14",
                    "TV-14",
                    "TV-14",
                    "PG",
                    "NR",
                    "NR",
                    "TV-14",
                    "TV-MA",
                    "PG-13",
                    "TV-14",
                    "TV-MA",
                    "TV-MA",
                    "TV-14",
                    "TV-14",
                    "TV-PG",
                    "TV-MA",
                    "R",
                    "TV-MA",
                    "TV-14",
                    "TV-PG",
                    "TV-14",
                    "TV-MA",
                    "TV-PG",
                    "TV-14",
                    "PG-13",
                    "TV-Y",
                    "TV-14",
                    "TV-14",
                    "TV-14",
                    "TV-PG",
                    "TV-G",
                    "PG-13",
                    "TV-14",
                    "TV-PG",
                    "TV-14",
                    "TV-14",
                    "TV-14",
                    "TV-MA",
                    "TV-PG",
                    "TV-14",
                    "TV-14",
                    "TV-MA",
                    "TV-MA",
                    "TV-MA",
                    "TV-G",
                    "PG-13",
                    "R",
                    "R",
                    "PG",
                    "TV-14",
                    "TV-PG",
                    "R",
                    "PG-13",
                    "R",
                    "R",
                    "TV-PG",
                    "PG-13",
                    "R",
                    "R",
                    "TV-MA",
                    "PG",
                    "PG-13",
                    "PG-13",
                    "TV-PG",
                    "TV-14",
                    "PG-13",
                    "TV-PG",
                    "TV-PG",
                    "TV-PG",
                    "TV-PG",
                    "TV-PG",
                    "TV-14",
                    "TV-PG",
                    "TV-PG",
                    "TV-PG",
                    "TV-PG",
                    "TV-14",
                    "PG-13",
                    "TV-MA",
                    "TV-MA",
                    "TV-14",
                    "R",
                    "R",
                    "R",
                    "UR",
                    "R",
                    "TV-MA",
                    "TV-MA",
                    "TV-14",
                    "TV-14",
                    "TV-MA",
                    "TV-14",
                    "TV-PG",
                    "TV-14",
                    "PG-13",
                    "TV-14",
                    "TV-PG",
                    "R",
                    "TV-14",
                    "PG-13",
                    "TV-MA",
                    "TV-Y",
                    "TV-Y",
                    "TV-Y",
                    "TV-14",
                    "R",
                    "PG",
                    "TV-MA",
                    "TV-14",
                    "TV-MA",
                    "TV-MA",
                    "TV-Y",
                    "TV-G",
                    "TV-MA",
                    "R",
                    "TV-PG",
                    "TV-MA",
                    "TV-14",
                    "TV-MA",
                    "TV-14",
                    "TV-PG",
                    "PG-13",
                    "TV-MA",
                    "TV-MA",
                    "R",
                    "R",
                    "TV-14",
                    "TV-14",
                    "PG-13",
                    "TV-MA",
                    "TV-G",
                    "PG-13",
                    "R",
                    "PG",
                    "R",
                    "R",
                    "TV-MA",
                    "R",
                    "PG-13",
                    "R",
                    "TV-MA",
                    "PG-13",
                    "R",
                    "TV-14",
                    "TV-MA",
                    "TV-MA",
                    "NR",
                    "PG-13",
                    "PG-13",
                    "R",
                    "TV-MA",
                    "PG-13",
                    "R",
                    "NR",
                    "TV-MA",
                    "PG",
                    "TV-MA",
                    "NR",
                    "TV-Y",
                    "PG",
                    "TV-MA",
                    "PG-13",
                    "TV-14",
                    "PG-13",
                    "PG",
                    "TV-14",
                    "TV-Y",
                    "R",
                    "R",
                    "TV-MA",
                    "PG",
                    "PG",
                    "PG",
                    "TV-MA",
                    "TV-MA",
                    "TV-14",
                    "R",
                    "TV-14",
                    "PG-13",
                    "TV-14",
                    "TV-MA",
                    "TV-MA",
                    "TV-PG",
                    "R",
                    "TV-14",
                    "R",
                    "TV-14",
                    "TV-MA",
                    "TV-PG",
                    "TV-PG",
                    "TV-Y7",
                    "PG-13",
                    "NR",
                    "TV-MA",
                    "TV-PG",
                    "TV-MA",
                    "PG-13",
                    "PG-13",
                    "TV-Y",
                    "PG",
                    "TV-MA",
                    "R",
                    "R",
                    "TV-14",
                    "NR",
                    "TV-PG",
                    "PG",
                    "TV-MA",
                    "NR",
                    "TV-MA",
                    "TV-14",
                    "TV-MA",
                    "TV-MA",
                    "TV-MA",
                    "TV-MA",
                    "TV-MA",
                    "TV-MA",
                    "TV-Y",
                    "TV-Y7",
                    "TV-MA",
                    "TV-PG",
                    "TV-Y",
                    "R",
                    "R",
                    "PG-13",
                    "TV-PG",
                    "PG-13",
                    "TV-14",
                    "TV-MA",
                    "TV-MA",
                    "TV-MA",
                    "TV-G",
                    "TV-PG",
                    "TV-14",
                    "R",
                    "R",
                    "R",
                    "TV-MA",
                    "R",
                    "TV-PG",
                    "TV-PG",
                    "TV-14",
                    "R",
                    "TV-14",
                    "TV-MA",
                    "TV-MA",
                    "TV-MA",
                    "G",
                    "G",
                    "TV-14",
                    "TV-Y7",
                    "TV-14",
                    "TV-PG",
                    "TV-MA",
                    "PG",
                    "PG",
                    "PG",
                    "TV-PG",
                    "TV-Y7",
                    "TV-MA",
                    "TV-MA",
                    "TV-PG",
                    "R",
                    "PG-13",
                    "TV-PG",
                    "TV-MA",
                    "TV-PG",
                    "TV-MA",
                    "TV-Y7",
                    "TV-MA",
                    "TV-14",
                    "TV-MA",
                    "TV-MA",
                    "TV-MA",
                    "TV-14",
                    "R",
                    "TV-PG",
                    "TV-Y7",
                    "PG",
                    "PG",
                    "TV-MA",
                    "TV-MA",
                    "PG-13",
                    "R",
                    "TV-G",
                    "PG",
                    "TV-MA",
                    "TV-14",
                    "TV-PG",
                    "TV-MA",
                    "R",
                    "R",
                    "R",
                    "R",
                    "TV-14",
                    "TV-14",
                    "TV-MA",
                    "TV-MA",
                    "TV-14",
                    "TV-MA",
                    "TV-14",
                    "TV-MA",
                    "TV-PG",
                    "TV-14",
                    "TV-PG",
                    "TV-MA",
                    "TV-MA",
                    "R",
                    "R",
                    "TV-G",
                    "TV-14",
                    "TV-MA",
                    "R",
                    "TV-MA",
                    "PG-13",
                    "PG-13",
                    "PG-13",
                    "PG-13",
                    "R",
                    "TV-MA",
                    "PG-13",
                    "PG-13",
                    "TV-14",
                    "PG-13",
                    "PG-13",
                    "TV-MA",
                    "TV-14",
                    "PG-13",
                    "TV-MA",
                    "TV-14",
                    "TV-MA",
                    "R",
                    "PG",
                    "TV-MA",
                    "TV-PG",
                    "TV-MA",
                    "TV-14",
                    "R",
                    "TV-14",
                    "TV-MA",
                    "TV-14",
                    "TV-MA",
                    "PG",
                    "TV-PG",
                    "TV-14",
                    "TV-PG",
                    "R",
                    "TV-14",
                    "PG-13",
                    "TV-MA",
                    "TV-14",
                    "R",
                    "TV-14",
                    "PG",
                    "R",
                    "TV-PG",
                    "R",
                    "TV-PG",
                    "R",
                    "TV-14",
                    "TV-MA",
                    "PG",
                    "TV-MA",
                    "TV-MA",
                    "TV-MA",
                    "TV-MA",
                    "TV-Y7",
                    "R",
                    "TV-14",
                    "TV-14",
                    "TV-PG",
                    "R",
                    "TV-14",
                    "TV-14",
                    "TV-MA",
                    "TV-PG",
                    "TV-MA",
                    "TV-MA",
                    "R",
                    "PG-13",
                    "R",
                    "TV-MA",
                    "TV-PG",
                    "R",
                    "TV-MA",
                    "TV-MA",
                    "R",
                    "R",
                    "TV-MA",
                    "TV-MA",
                    "TV-MA",
                    "R",
                    "TV-14",
                    "R",
                    "TV-14",
                    "TV-MA",
                    "PG",
                    "TV-MA",
                    "R",
                    "PG",
                    "PG",
                    "TV-MA",
                    "PG-13",
                    "TV-MA",
                    "R",
                    "TV-MA",
                    "TV-14",
                    "PG-13",
                    "TV-PG",
                    "R",
                    "TV-Y",
                    "TV-PG",
                    "TV-14",
                    "TV-MA",
                    "TV-MA",
                    "R",
                    "TV-G",
                    "TV-MA",
                    "PG-13",
                    "TV-MA",
                    "R",
                    "TV-14",
                    "TV-14",
                    "TV-14",
                    "TV-14",
                    "TV-MA",
                    "TV-PG",
                    "TV-14",
                    "R",
                    "NR",
                    "PG-13",
                    "TV-MA",
                    "R",
                    "PG-13",
                    "TV-14",
                    "TV-MA",
                    "PG-13",
                    "TV-MA",
                    "TV-MA",
                    "TV-MA",
                    "R",
                    "TV-14",
                    "TV-PG",
                    "TV-14",
                    "TV-PG",
                    "TV-PG",
                    "R",
                    "PG",
                    "TV-PG",
                    "PG-13",
                    "PG-13",
                    "PG-13",
                    "TV-MA",
                    "TV-MA",
                    "TV-G",
                    "PG",
                    "PG",
                    "R",
                    "TV-MA",
                    "TV-MA",
                    "PG-13",
                    "TV-MA",
                    "TV-MA",
                    "TV-MA",
                    "PG-13",
                    "TV-14",
                    "TV-PG",
                    "PG-13",
                    "TV-Y7",
                    "TV-PG",
                    "PG-13",
                    "TV-PG",
                    "R",
                    "TV-MA",
                    "TV-MA",
                    "PG",
                    "PG",
                    "TV-MA",
                    "R",
                    "PG-13",
                    "R",
                    "TV-MA",
                    "TV-PG",
                    "TV-14",
                    "PG",
                    "TV-MA",
                    "TV-14",
                    "TV-14",
                    "R",
                    "PG",
                    "PG",
                    "R",
                    "TV-14",
                    "R",
                    "R",
                    "TV-PG",
                    "R",
                    "PG",
                    "PG-13",
                    "PG-13",
                    "PG-13",
                    "PG-13",
                    "TV-14",
                    "TV-14",
                    "TV-14",
                    "TV-PG",
                    "TV-PG",
                    "TV-14",
                    "PG-13",
                    "R",
                    "R",
                    "R",
                    "TV-14",
                    "TV-MA",
                    "TV-PG",
                    "R",
                    "TV-14",
                    "TV-PG",
                    "TV-G",
                    "TV-MA",
                    "TV-MA",
                    "R",
                    "TV-MA",
                    "TV-MA",
                    "TV-MA",
                    "PG",
                    "TV-MA",
                    "TV-PG",
                    "PG-13",
                    "PG-13",
                    "PG",
                    "TV-14",
                    "TV-MA",
                    "TV-MA",
                    "TV-14",
                    "TV-14",
                    "PG",
                    "TV-14",
                    "R",
                    "TV-PG",
                    "PG-13",
                    "R",
                    "NR",
                    "R",
                    "PG-13",
                    "TV-14",
                    "PG-13",
                    "PG-13",
                    "R",
                    "PG",
                    "G",
                    "R",
                    "PG",
                    "R",
                    "TV-MA",
                    "TV-MA",
                    "G",
                    "TV-14",
                    "TV-MA",
                    "R",
                    "PG",
                    "G",
                    "TV-MA",
                    "TV-14",
                    "PG-13",
                    "TV-MA",
                    "TV-PG",
                    "TV-PG",
                    "PG-13",
                    "TV-14",
                    "TV-PG",
                    "TV-MA",
                    "TV-PG",
                    "TV-MA",
                    "TV-14",
                    "TV-MA",
                    "TV-14",
                    "TV-MA",
                    "TV-MA",
                    "TV-MA",
                    "TV-14",
                    "PG-13",
                    "R",
                    "NR",
                    "PG-13",
                    "TV-14",
                    "TV-MA",
                    "PG-13",
                    "R",
                    "R",
                    "R",
                    "R",
                    "PG-13",
                    "R",
                    "PG-13",
                    "TV-G",
                    "PG",
                    "R",
                    "TV-PG",
                    "TV-MA",
                    "TV-MA",
                    "TV-14",
                    "PG-13",
                    "NR",
                    "TV-14",
                    "TV-MA",
                    "PG-13",
                    "PG-13",
                    "R",
                    "TV-MA",
                    "PG",
                    "TV-MA",
                    "R",
                    "TV-14",
                    "TV-14",
                    "TV-14",
                    "TV-MA",
                    "R",
                    "TV-Y7",
                    "TV-14",
                    "R",
                    "R",
                    "R",
                    "TV-14",
                    "TV-14",
                    "TV-G",
                    "PG-13",
                    "PG-13",
                    "TV-MA",
                    "R",
                    "R",
                    "TV-MA",
                    "R",
                    "TV-14",
                    "TV-MA",
                    "PG-13",
                    "TV-14",
                    "R",
                    "TV-MA",
                    "TV-MA",
                    "TV-14",
                    "TV-MA",
                    "PG-13",
                    "PG-13",
                    "TV-MA",
                    "TV-14",
                    "TV-14",
                    "R",
                    "PG",
                    "PG-13",
                    "TV-PG",
                    "TV-14",
                    "TV-14",
                    "R",
                    "TV-14",
                    "TV-MA",
                    "TV-MA",
                    "TV-PG",
                    "TV-MA",
                    "PG-13",
                    "TV-PG",
                    "TV-14",
                    "TV-PG",
                    "TV-MA",
                    "TV-14",
                    "TV-PG",
                    "TV-14",
                    "PG-13",
                    "TV-14",
                    "TV-14",
                    "TV-14",
                    "TV-PG",
                    "NR",
                    "TV-MA",
                    "TV-MA",
                    "PG-13",
                    "TV-Y7",
                    "NR",
                    "NR",
                    "TV-MA",
                    "TV-14",
                    "TV-MA",
                    "TV-PG",
                    "TV-14",
                    "TV-14",
                    "TV-MA",
                    "TV-14",
                    "TV-14",
                    "TV-14",
                    "G",
                    "TV-14",
                    "TV-Y",
                    "TV-14",
                    "PG-13",
                    "TV-MA",
                    "TV-Y7",
                    "TV-14",
                    "TV-Y7",
                    "PG-13",
                    "TV-14",
                    "TV-MA",
                    "TV-14",
                    "PG-13",
                    "NR",
                    "TV-MA",
                    "PG-13",
                    "TV-MA",
                    "TV-MA",
                    "TV-MA",
                    "R",
                    "PG-13",
                    "PG-13",
                    "R",
                    "R",
                    "TV-G",
                    "TV-PG",
                    "PG-13",
                    "PG-13",
                    "PG",
                    "PG-13",
                    "PG-13",
                    "PG-13",
                    "R",
                    "TV-14",
                    "TV-PG",
                    "TV-MA",
                    "TV-MA",
                    "TV-MA",
                    "TV-MA",
                    "TV-MA",
                    "G",
                    "R",
                    "R",
                    "R",
                    "TV-PG",
                    "TV-14",
                    "PG",
                    "R",
                    "TV-14",
                    "TV-14",
                    "TV-MA",
                    "TV-Y",
                    "TV-14",
                    "TV-MA",
                    "R",
                    "TV-14",
                    "R",
                    "NR",
                    "TV-14",
                    "R",
                    "PG",
                    "TV-MA",
                    "TV-14",
                    "R",
                    "PG-13",
                    "TV-PG",
                    "PG-13",
                    "TV-14",
                    "TV-14",
                    "R",
                    "TV-MA",
                    "TV-14",
                    "R",
                    "R",
                    "TV-G",
                    "PG-13",
                    "TV-14",
                    "TV-14",
                    "TV-14",
                    "NR",
                    "PG-13",
                    "R",
                    "TV-PG",
                    "R",
                    "TV-Y7",
                    "TV-14",
                    "TV-14",
                    "NR",
                    "TV-14",
                    "TV-Y",
                    "TV-MA",
                    "TV-MA",
                    "TV-14",
                    "TV-MA",
                    "R",
                    "TV-14",
                    "R",
                    "TV-PG",
                    "PG-13",
                    "R",
                    "TV-14",
                    "PG-13",
                    "R",
                    "TV-14",
                    "TV-14",
                    "TV-MA",
                    "PG",
                    "TV-G",
                    "R",
                    "TV-14",
                    "TV-MA",
                    "R",
                    "TV-PG",
                    "TV-MA",
                    "TV-MA",
                    "TV-MA",
                    "TV-MA",
                    "TV-PG",
                    "TV-MA",
                    "TV-Y7",
                    "R",
                    "TV-MA",
                    "TV-MA",
                    "TV-MA",
                    "TV-14",
                    "TV-14",
                    "TV-14",
                    "PG-13",
                    "TV-14",
                    "TV-14",
                    "R",
                    "TV-PG",
                    "NR",
                    "TV-14",
                    "PG-13",
                    "R",
                    "R",
                    "TV-MA",
                    "TV-MA",
                    "TV-MA",
                    "R",
                    "TV-14",
                    "TV-14",
                    "TV-MA",
                    "TV-PG",
                    "TV-PG",
                    "TV-PG",
                    "PG-13",
                    "PG-13",
                    "TV-MA",
                    "G",
                    "TV-14",
                    "TV-G",
                    "NR",
                    "TV-MA",
                    "R",
                    "R",
                    "TV-14",
                    "TV-MA",
                    "R",
                    "TV-14",
                    "TV-MA",
                    "PG-13",
                    "TV-PG",
                    "TV-PG",
                    "TV-MA",
                    "TV-14",
                    "TV-MA",
                    "TV-PG",
                    "PG-13",
                    "R",
                    "PG-13",
                    "PG-13",
                    "R",
                    "TV-MA",
                    "TV-14",
                    "TV-14",
                    "TV-14",
                    "TV-PG",
                    "TV-14",
                    "TV-PG",
                    "PG",
                    "TV-PG",
                    "TV-PG",
                    "TV-PG",
                    "TV-Y7",
                    "TV-Y7",
                    "PG-13",
                    "TV-Y",
                    "TV-Y",
                    "TV-Y7",
                    "TV-G",
                    "TV-PG",
                    "TV-MA",
                    "TV-PG",
                    "UR",
                    "R",
                    "NR",
                    "PG",
                    "TV-14",
                    "TV-Y7",
                    "TV-PG",
                    "TV-Y7",
                    "TV-MA",
                    "TV-14",
                    "TV-PG",
                    "TV-MA",
                    "R",
                    "TV-Y7",
                    "R",
                    "PG",
                    "TV-14"
                  ],
                  "yaxis": "y"
                }
              ],
              "layout": {
                "barmode": "relative",
                "legend": {
                  "tracegroupgap": 0
                },
                "template": {
                  "data": {
                    "bar": [
                      {
                        "error_x": {
                          "color": "#2a3f5f"
                        },
                        "error_y": {
                          "color": "#2a3f5f"
                        },
                        "marker": {
                          "line": {
                            "color": "#E5ECF6",
                            "width": 0.5
                          },
                          "pattern": {
                            "fillmode": "overlay",
                            "size": 10,
                            "solidity": 0.2
                          }
                        },
                        "type": "bar"
                      }
                    ],
                    "barpolar": [
                      {
                        "marker": {
                          "line": {
                            "color": "#E5ECF6",
                            "width": 0.5
                          },
                          "pattern": {
                            "fillmode": "overlay",
                            "size": 10,
                            "solidity": 0.2
                          }
                        },
                        "type": "barpolar"
                      }
                    ],
                    "carpet": [
                      {
                        "aaxis": {
                          "endlinecolor": "#2a3f5f",
                          "gridcolor": "white",
                          "linecolor": "white",
                          "minorgridcolor": "white",
                          "startlinecolor": "#2a3f5f"
                        },
                        "baxis": {
                          "endlinecolor": "#2a3f5f",
                          "gridcolor": "white",
                          "linecolor": "white",
                          "minorgridcolor": "white",
                          "startlinecolor": "#2a3f5f"
                        },
                        "type": "carpet"
                      }
                    ],
                    "choropleth": [
                      {
                        "colorbar": {
                          "outlinewidth": 0,
                          "ticks": ""
                        },
                        "type": "choropleth"
                      }
                    ],
                    "contour": [
                      {
                        "colorbar": {
                          "outlinewidth": 0,
                          "ticks": ""
                        },
                        "colorscale": [
                          [
                            0,
                            "#0d0887"
                          ],
                          [
                            0.1111111111111111,
                            "#46039f"
                          ],
                          [
                            0.2222222222222222,
                            "#7201a8"
                          ],
                          [
                            0.3333333333333333,
                            "#9c179e"
                          ],
                          [
                            0.4444444444444444,
                            "#bd3786"
                          ],
                          [
                            0.5555555555555556,
                            "#d8576b"
                          ],
                          [
                            0.6666666666666666,
                            "#ed7953"
                          ],
                          [
                            0.7777777777777778,
                            "#fb9f3a"
                          ],
                          [
                            0.8888888888888888,
                            "#fdca26"
                          ],
                          [
                            1,
                            "#f0f921"
                          ]
                        ],
                        "type": "contour"
                      }
                    ],
                    "contourcarpet": [
                      {
                        "colorbar": {
                          "outlinewidth": 0,
                          "ticks": ""
                        },
                        "type": "contourcarpet"
                      }
                    ],
                    "heatmap": [
                      {
                        "colorbar": {
                          "outlinewidth": 0,
                          "ticks": ""
                        },
                        "colorscale": [
                          [
                            0,
                            "#0d0887"
                          ],
                          [
                            0.1111111111111111,
                            "#46039f"
                          ],
                          [
                            0.2222222222222222,
                            "#7201a8"
                          ],
                          [
                            0.3333333333333333,
                            "#9c179e"
                          ],
                          [
                            0.4444444444444444,
                            "#bd3786"
                          ],
                          [
                            0.5555555555555556,
                            "#d8576b"
                          ],
                          [
                            0.6666666666666666,
                            "#ed7953"
                          ],
                          [
                            0.7777777777777778,
                            "#fb9f3a"
                          ],
                          [
                            0.8888888888888888,
                            "#fdca26"
                          ],
                          [
                            1,
                            "#f0f921"
                          ]
                        ],
                        "type": "heatmap"
                      }
                    ],
                    "heatmapgl": [
                      {
                        "colorbar": {
                          "outlinewidth": 0,
                          "ticks": ""
                        },
                        "colorscale": [
                          [
                            0,
                            "#0d0887"
                          ],
                          [
                            0.1111111111111111,
                            "#46039f"
                          ],
                          [
                            0.2222222222222222,
                            "#7201a8"
                          ],
                          [
                            0.3333333333333333,
                            "#9c179e"
                          ],
                          [
                            0.4444444444444444,
                            "#bd3786"
                          ],
                          [
                            0.5555555555555556,
                            "#d8576b"
                          ],
                          [
                            0.6666666666666666,
                            "#ed7953"
                          ],
                          [
                            0.7777777777777778,
                            "#fb9f3a"
                          ],
                          [
                            0.8888888888888888,
                            "#fdca26"
                          ],
                          [
                            1,
                            "#f0f921"
                          ]
                        ],
                        "type": "heatmapgl"
                      }
                    ],
                    "histogram": [
                      {
                        "marker": {
                          "pattern": {
                            "fillmode": "overlay",
                            "size": 10,
                            "solidity": 0.2
                          }
                        },
                        "type": "histogram"
                      }
                    ],
                    "histogram2d": [
                      {
                        "colorbar": {
                          "outlinewidth": 0,
                          "ticks": ""
                        },
                        "colorscale": [
                          [
                            0,
                            "#0d0887"
                          ],
                          [
                            0.1111111111111111,
                            "#46039f"
                          ],
                          [
                            0.2222222222222222,
                            "#7201a8"
                          ],
                          [
                            0.3333333333333333,
                            "#9c179e"
                          ],
                          [
                            0.4444444444444444,
                            "#bd3786"
                          ],
                          [
                            0.5555555555555556,
                            "#d8576b"
                          ],
                          [
                            0.6666666666666666,
                            "#ed7953"
                          ],
                          [
                            0.7777777777777778,
                            "#fb9f3a"
                          ],
                          [
                            0.8888888888888888,
                            "#fdca26"
                          ],
                          [
                            1,
                            "#f0f921"
                          ]
                        ],
                        "type": "histogram2d"
                      }
                    ],
                    "histogram2dcontour": [
                      {
                        "colorbar": {
                          "outlinewidth": 0,
                          "ticks": ""
                        },
                        "colorscale": [
                          [
                            0,
                            "#0d0887"
                          ],
                          [
                            0.1111111111111111,
                            "#46039f"
                          ],
                          [
                            0.2222222222222222,
                            "#7201a8"
                          ],
                          [
                            0.3333333333333333,
                            "#9c179e"
                          ],
                          [
                            0.4444444444444444,
                            "#bd3786"
                          ],
                          [
                            0.5555555555555556,
                            "#d8576b"
                          ],
                          [
                            0.6666666666666666,
                            "#ed7953"
                          ],
                          [
                            0.7777777777777778,
                            "#fb9f3a"
                          ],
                          [
                            0.8888888888888888,
                            "#fdca26"
                          ],
                          [
                            1,
                            "#f0f921"
                          ]
                        ],
                        "type": "histogram2dcontour"
                      }
                    ],
                    "mesh3d": [
                      {
                        "colorbar": {
                          "outlinewidth": 0,
                          "ticks": ""
                        },
                        "type": "mesh3d"
                      }
                    ],
                    "parcoords": [
                      {
                        "line": {
                          "colorbar": {
                            "outlinewidth": 0,
                            "ticks": ""
                          }
                        },
                        "type": "parcoords"
                      }
                    ],
                    "pie": [
                      {
                        "automargin": true,
                        "type": "pie"
                      }
                    ],
                    "scatter": [
                      {
                        "fillpattern": {
                          "fillmode": "overlay",
                          "size": 10,
                          "solidity": 0.2
                        },
                        "type": "scatter"
                      }
                    ],
                    "scatter3d": [
                      {
                        "line": {
                          "colorbar": {
                            "outlinewidth": 0,
                            "ticks": ""
                          }
                        },
                        "marker": {
                          "colorbar": {
                            "outlinewidth": 0,
                            "ticks": ""
                          }
                        },
                        "type": "scatter3d"
                      }
                    ],
                    "scattercarpet": [
                      {
                        "marker": {
                          "colorbar": {
                            "outlinewidth": 0,
                            "ticks": ""
                          }
                        },
                        "type": "scattercarpet"
                      }
                    ],
                    "scattergeo": [
                      {
                        "marker": {
                          "colorbar": {
                            "outlinewidth": 0,
                            "ticks": ""
                          }
                        },
                        "type": "scattergeo"
                      }
                    ],
                    "scattergl": [
                      {
                        "marker": {
                          "colorbar": {
                            "outlinewidth": 0,
                            "ticks": ""
                          }
                        },
                        "type": "scattergl"
                      }
                    ],
                    "scattermapbox": [
                      {
                        "marker": {
                          "colorbar": {
                            "outlinewidth": 0,
                            "ticks": ""
                          }
                        },
                        "type": "scattermapbox"
                      }
                    ],
                    "scatterpolar": [
                      {
                        "marker": {
                          "colorbar": {
                            "outlinewidth": 0,
                            "ticks": ""
                          }
                        },
                        "type": "scatterpolar"
                      }
                    ],
                    "scatterpolargl": [
                      {
                        "marker": {
                          "colorbar": {
                            "outlinewidth": 0,
                            "ticks": ""
                          }
                        },
                        "type": "scatterpolargl"
                      }
                    ],
                    "scatterternary": [
                      {
                        "marker": {
                          "colorbar": {
                            "outlinewidth": 0,
                            "ticks": ""
                          }
                        },
                        "type": "scatterternary"
                      }
                    ],
                    "surface": [
                      {
                        "colorbar": {
                          "outlinewidth": 0,
                          "ticks": ""
                        },
                        "colorscale": [
                          [
                            0,
                            "#0d0887"
                          ],
                          [
                            0.1111111111111111,
                            "#46039f"
                          ],
                          [
                            0.2222222222222222,
                            "#7201a8"
                          ],
                          [
                            0.3333333333333333,
                            "#9c179e"
                          ],
                          [
                            0.4444444444444444,
                            "#bd3786"
                          ],
                          [
                            0.5555555555555556,
                            "#d8576b"
                          ],
                          [
                            0.6666666666666666,
                            "#ed7953"
                          ],
                          [
                            0.7777777777777778,
                            "#fb9f3a"
                          ],
                          [
                            0.8888888888888888,
                            "#fdca26"
                          ],
                          [
                            1,
                            "#f0f921"
                          ]
                        ],
                        "type": "surface"
                      }
                    ],
                    "table": [
                      {
                        "cells": {
                          "fill": {
                            "color": "#EBF0F8"
                          },
                          "line": {
                            "color": "white"
                          }
                        },
                        "header": {
                          "fill": {
                            "color": "#C8D4E3"
                          },
                          "line": {
                            "color": "white"
                          }
                        },
                        "type": "table"
                      }
                    ]
                  },
                  "layout": {
                    "annotationdefaults": {
                      "arrowcolor": "#2a3f5f",
                      "arrowhead": 0,
                      "arrowwidth": 1
                    },
                    "autotypenumbers": "strict",
                    "coloraxis": {
                      "colorbar": {
                        "outlinewidth": 0,
                        "ticks": ""
                      }
                    },
                    "colorscale": {
                      "diverging": [
                        [
                          0,
                          "#8e0152"
                        ],
                        [
                          0.1,
                          "#c51b7d"
                        ],
                        [
                          0.2,
                          "#de77ae"
                        ],
                        [
                          0.3,
                          "#f1b6da"
                        ],
                        [
                          0.4,
                          "#fde0ef"
                        ],
                        [
                          0.5,
                          "#f7f7f7"
                        ],
                        [
                          0.6,
                          "#e6f5d0"
                        ],
                        [
                          0.7,
                          "#b8e186"
                        ],
                        [
                          0.8,
                          "#7fbc41"
                        ],
                        [
                          0.9,
                          "#4d9221"
                        ],
                        [
                          1,
                          "#276419"
                        ]
                      ],
                      "sequential": [
                        [
                          0,
                          "#0d0887"
                        ],
                        [
                          0.1111111111111111,
                          "#46039f"
                        ],
                        [
                          0.2222222222222222,
                          "#7201a8"
                        ],
                        [
                          0.3333333333333333,
                          "#9c179e"
                        ],
                        [
                          0.4444444444444444,
                          "#bd3786"
                        ],
                        [
                          0.5555555555555556,
                          "#d8576b"
                        ],
                        [
                          0.6666666666666666,
                          "#ed7953"
                        ],
                        [
                          0.7777777777777778,
                          "#fb9f3a"
                        ],
                        [
                          0.8888888888888888,
                          "#fdca26"
                        ],
                        [
                          1,
                          "#f0f921"
                        ]
                      ],
                      "sequentialminus": [
                        [
                          0,
                          "#0d0887"
                        ],
                        [
                          0.1111111111111111,
                          "#46039f"
                        ],
                        [
                          0.2222222222222222,
                          "#7201a8"
                        ],
                        [
                          0.3333333333333333,
                          "#9c179e"
                        ],
                        [
                          0.4444444444444444,
                          "#bd3786"
                        ],
                        [
                          0.5555555555555556,
                          "#d8576b"
                        ],
                        [
                          0.6666666666666666,
                          "#ed7953"
                        ],
                        [
                          0.7777777777777778,
                          "#fb9f3a"
                        ],
                        [
                          0.8888888888888888,
                          "#fdca26"
                        ],
                        [
                          1,
                          "#f0f921"
                        ]
                      ]
                    },
                    "colorway": [
                      "#636efa",
                      "#EF553B",
                      "#00cc96",
                      "#ab63fa",
                      "#FFA15A",
                      "#19d3f3",
                      "#FF6692",
                      "#B6E880",
                      "#FF97FF",
                      "#FECB52"
                    ],
                    "font": {
                      "color": "#2a3f5f"
                    },
                    "geo": {
                      "bgcolor": "white",
                      "lakecolor": "white",
                      "landcolor": "#E5ECF6",
                      "showlakes": true,
                      "showland": true,
                      "subunitcolor": "white"
                    },
                    "hoverlabel": {
                      "align": "left"
                    },
                    "hovermode": "closest",
                    "mapbox": {
                      "style": "light"
                    },
                    "paper_bgcolor": "white",
                    "plot_bgcolor": "#E5ECF6",
                    "polar": {
                      "angularaxis": {
                        "gridcolor": "white",
                        "linecolor": "white",
                        "ticks": ""
                      },
                      "bgcolor": "#E5ECF6",
                      "radialaxis": {
                        "gridcolor": "white",
                        "linecolor": "white",
                        "ticks": ""
                      }
                    },
                    "scene": {
                      "xaxis": {
                        "backgroundcolor": "#E5ECF6",
                        "gridcolor": "white",
                        "gridwidth": 2,
                        "linecolor": "white",
                        "showbackground": true,
                        "ticks": "",
                        "zerolinecolor": "white"
                      },
                      "yaxis": {
                        "backgroundcolor": "#E5ECF6",
                        "gridcolor": "white",
                        "gridwidth": 2,
                        "linecolor": "white",
                        "showbackground": true,
                        "ticks": "",
                        "zerolinecolor": "white"
                      },
                      "zaxis": {
                        "backgroundcolor": "#E5ECF6",
                        "gridcolor": "white",
                        "gridwidth": 2,
                        "linecolor": "white",
                        "showbackground": true,
                        "ticks": "",
                        "zerolinecolor": "white"
                      }
                    },
                    "shapedefaults": {
                      "line": {
                        "color": "#2a3f5f"
                      }
                    },
                    "ternary": {
                      "aaxis": {
                        "gridcolor": "white",
                        "linecolor": "white",
                        "ticks": ""
                      },
                      "baxis": {
                        "gridcolor": "white",
                        "linecolor": "white",
                        "ticks": ""
                      },
                      "bgcolor": "#E5ECF6",
                      "caxis": {
                        "gridcolor": "white",
                        "linecolor": "white",
                        "ticks": ""
                      }
                    },
                    "title": {
                      "x": 0.05
                    },
                    "xaxis": {
                      "automargin": true,
                      "gridcolor": "white",
                      "linecolor": "white",
                      "ticks": "",
                      "title": {
                        "standoff": 15
                      },
                      "zerolinecolor": "white",
                      "zerolinewidth": 2
                    },
                    "yaxis": {
                      "automargin": true,
                      "gridcolor": "white",
                      "linecolor": "white",
                      "ticks": "",
                      "title": {
                        "standoff": 15
                      },
                      "zerolinecolor": "white",
                      "zerolinewidth": 2
                    }
                  }
                },
                "title": {
                  "text": "Content Rating"
                },
                "xaxis": {
                  "anchor": "y",
                  "domain": [
                    0,
                    1
                  ],
                  "title": {
                    "text": "count"
                  }
                },
                "yaxis": {
                  "anchor": "x",
                  "categoryorder": "total ascending",
                  "domain": [
                    0,
                    1
                  ],
                  "title": {
                    "text": "rating"
                  }
                }
              }
            }
          },
          "metadata": {},
          "output_type": "display_data"
        }
      ],
      "source": [
        "fig = px.histogram(df, y='rating', title='Content Rating')\n",
        "fig.update_layout(yaxis={'categoryorder':'total ascending'})\n",
        "fig.update_traces(texttemplate='%{value}', textposition='outside')\n",
        "fig.show()"
      ]
    },
    {
      "cell_type": "code",
      "execution_count": 422,
      "metadata": {
        "colab": {
          "base_uri": "https://localhost:8080/",
          "height": 542
        },
        "id": "4FB_GRUw6jdZ",
        "outputId": "25697146-3c3c-4a08-ecbd-cfacd6292a00"
      },
      "outputs": [
        {
          "data": {
            "application/vnd.plotly.v1+json": {
              "config": {
                "plotlyServerURL": "https://plot.ly"
              },
              "data": [
                {
                  "hovertemplate": "count=%{x}<br>rating=%{y}<extra></extra>",
                  "legendgroup": "",
                  "marker": {
                    "color": "#636efa"
                  },
                  "name": "",
                  "orientation": "h",
                  "showlegend": false,
                  "type": "funnel",
                  "x": [
                    3205,
                    2157,
                    861,
                    799,
                    490,
                    333,
                    306,
                    287,
                    220,
                    79,
                    41,
                    6,
                    3,
                    3
                  ],
                  "xaxis": "x",
                  "y": [
                    "TV-MA",
                    "TV-14",
                    "TV-PG",
                    "R",
                    "PG-13",
                    "TV-Y7",
                    "TV-Y",
                    "PG",
                    "TV-G",
                    "NR",
                    "G",
                    "TV-Y7-FV",
                    "NC-17",
                    "UR"
                  ],
                  "yaxis": "y"
                }
              ],
              "layout": {
                "legend": {
                  "tracegroupgap": 0
                },
                "margin": {
                  "t": 60
                },
                "template": {
                  "data": {
                    "bar": [
                      {
                        "error_x": {
                          "color": "#2a3f5f"
                        },
                        "error_y": {
                          "color": "#2a3f5f"
                        },
                        "marker": {
                          "line": {
                            "color": "#E5ECF6",
                            "width": 0.5
                          },
                          "pattern": {
                            "fillmode": "overlay",
                            "size": 10,
                            "solidity": 0.2
                          }
                        },
                        "type": "bar"
                      }
                    ],
                    "barpolar": [
                      {
                        "marker": {
                          "line": {
                            "color": "#E5ECF6",
                            "width": 0.5
                          },
                          "pattern": {
                            "fillmode": "overlay",
                            "size": 10,
                            "solidity": 0.2
                          }
                        },
                        "type": "barpolar"
                      }
                    ],
                    "carpet": [
                      {
                        "aaxis": {
                          "endlinecolor": "#2a3f5f",
                          "gridcolor": "white",
                          "linecolor": "white",
                          "minorgridcolor": "white",
                          "startlinecolor": "#2a3f5f"
                        },
                        "baxis": {
                          "endlinecolor": "#2a3f5f",
                          "gridcolor": "white",
                          "linecolor": "white",
                          "minorgridcolor": "white",
                          "startlinecolor": "#2a3f5f"
                        },
                        "type": "carpet"
                      }
                    ],
                    "choropleth": [
                      {
                        "colorbar": {
                          "outlinewidth": 0,
                          "ticks": ""
                        },
                        "type": "choropleth"
                      }
                    ],
                    "contour": [
                      {
                        "colorbar": {
                          "outlinewidth": 0,
                          "ticks": ""
                        },
                        "colorscale": [
                          [
                            0,
                            "#0d0887"
                          ],
                          [
                            0.1111111111111111,
                            "#46039f"
                          ],
                          [
                            0.2222222222222222,
                            "#7201a8"
                          ],
                          [
                            0.3333333333333333,
                            "#9c179e"
                          ],
                          [
                            0.4444444444444444,
                            "#bd3786"
                          ],
                          [
                            0.5555555555555556,
                            "#d8576b"
                          ],
                          [
                            0.6666666666666666,
                            "#ed7953"
                          ],
                          [
                            0.7777777777777778,
                            "#fb9f3a"
                          ],
                          [
                            0.8888888888888888,
                            "#fdca26"
                          ],
                          [
                            1,
                            "#f0f921"
                          ]
                        ],
                        "type": "contour"
                      }
                    ],
                    "contourcarpet": [
                      {
                        "colorbar": {
                          "outlinewidth": 0,
                          "ticks": ""
                        },
                        "type": "contourcarpet"
                      }
                    ],
                    "heatmap": [
                      {
                        "colorbar": {
                          "outlinewidth": 0,
                          "ticks": ""
                        },
                        "colorscale": [
                          [
                            0,
                            "#0d0887"
                          ],
                          [
                            0.1111111111111111,
                            "#46039f"
                          ],
                          [
                            0.2222222222222222,
                            "#7201a8"
                          ],
                          [
                            0.3333333333333333,
                            "#9c179e"
                          ],
                          [
                            0.4444444444444444,
                            "#bd3786"
                          ],
                          [
                            0.5555555555555556,
                            "#d8576b"
                          ],
                          [
                            0.6666666666666666,
                            "#ed7953"
                          ],
                          [
                            0.7777777777777778,
                            "#fb9f3a"
                          ],
                          [
                            0.8888888888888888,
                            "#fdca26"
                          ],
                          [
                            1,
                            "#f0f921"
                          ]
                        ],
                        "type": "heatmap"
                      }
                    ],
                    "heatmapgl": [
                      {
                        "colorbar": {
                          "outlinewidth": 0,
                          "ticks": ""
                        },
                        "colorscale": [
                          [
                            0,
                            "#0d0887"
                          ],
                          [
                            0.1111111111111111,
                            "#46039f"
                          ],
                          [
                            0.2222222222222222,
                            "#7201a8"
                          ],
                          [
                            0.3333333333333333,
                            "#9c179e"
                          ],
                          [
                            0.4444444444444444,
                            "#bd3786"
                          ],
                          [
                            0.5555555555555556,
                            "#d8576b"
                          ],
                          [
                            0.6666666666666666,
                            "#ed7953"
                          ],
                          [
                            0.7777777777777778,
                            "#fb9f3a"
                          ],
                          [
                            0.8888888888888888,
                            "#fdca26"
                          ],
                          [
                            1,
                            "#f0f921"
                          ]
                        ],
                        "type": "heatmapgl"
                      }
                    ],
                    "histogram": [
                      {
                        "marker": {
                          "pattern": {
                            "fillmode": "overlay",
                            "size": 10,
                            "solidity": 0.2
                          }
                        },
                        "type": "histogram"
                      }
                    ],
                    "histogram2d": [
                      {
                        "colorbar": {
                          "outlinewidth": 0,
                          "ticks": ""
                        },
                        "colorscale": [
                          [
                            0,
                            "#0d0887"
                          ],
                          [
                            0.1111111111111111,
                            "#46039f"
                          ],
                          [
                            0.2222222222222222,
                            "#7201a8"
                          ],
                          [
                            0.3333333333333333,
                            "#9c179e"
                          ],
                          [
                            0.4444444444444444,
                            "#bd3786"
                          ],
                          [
                            0.5555555555555556,
                            "#d8576b"
                          ],
                          [
                            0.6666666666666666,
                            "#ed7953"
                          ],
                          [
                            0.7777777777777778,
                            "#fb9f3a"
                          ],
                          [
                            0.8888888888888888,
                            "#fdca26"
                          ],
                          [
                            1,
                            "#f0f921"
                          ]
                        ],
                        "type": "histogram2d"
                      }
                    ],
                    "histogram2dcontour": [
                      {
                        "colorbar": {
                          "outlinewidth": 0,
                          "ticks": ""
                        },
                        "colorscale": [
                          [
                            0,
                            "#0d0887"
                          ],
                          [
                            0.1111111111111111,
                            "#46039f"
                          ],
                          [
                            0.2222222222222222,
                            "#7201a8"
                          ],
                          [
                            0.3333333333333333,
                            "#9c179e"
                          ],
                          [
                            0.4444444444444444,
                            "#bd3786"
                          ],
                          [
                            0.5555555555555556,
                            "#d8576b"
                          ],
                          [
                            0.6666666666666666,
                            "#ed7953"
                          ],
                          [
                            0.7777777777777778,
                            "#fb9f3a"
                          ],
                          [
                            0.8888888888888888,
                            "#fdca26"
                          ],
                          [
                            1,
                            "#f0f921"
                          ]
                        ],
                        "type": "histogram2dcontour"
                      }
                    ],
                    "mesh3d": [
                      {
                        "colorbar": {
                          "outlinewidth": 0,
                          "ticks": ""
                        },
                        "type": "mesh3d"
                      }
                    ],
                    "parcoords": [
                      {
                        "line": {
                          "colorbar": {
                            "outlinewidth": 0,
                            "ticks": ""
                          }
                        },
                        "type": "parcoords"
                      }
                    ],
                    "pie": [
                      {
                        "automargin": true,
                        "type": "pie"
                      }
                    ],
                    "scatter": [
                      {
                        "fillpattern": {
                          "fillmode": "overlay",
                          "size": 10,
                          "solidity": 0.2
                        },
                        "type": "scatter"
                      }
                    ],
                    "scatter3d": [
                      {
                        "line": {
                          "colorbar": {
                            "outlinewidth": 0,
                            "ticks": ""
                          }
                        },
                        "marker": {
                          "colorbar": {
                            "outlinewidth": 0,
                            "ticks": ""
                          }
                        },
                        "type": "scatter3d"
                      }
                    ],
                    "scattercarpet": [
                      {
                        "marker": {
                          "colorbar": {
                            "outlinewidth": 0,
                            "ticks": ""
                          }
                        },
                        "type": "scattercarpet"
                      }
                    ],
                    "scattergeo": [
                      {
                        "marker": {
                          "colorbar": {
                            "outlinewidth": 0,
                            "ticks": ""
                          }
                        },
                        "type": "scattergeo"
                      }
                    ],
                    "scattergl": [
                      {
                        "marker": {
                          "colorbar": {
                            "outlinewidth": 0,
                            "ticks": ""
                          }
                        },
                        "type": "scattergl"
                      }
                    ],
                    "scattermapbox": [
                      {
                        "marker": {
                          "colorbar": {
                            "outlinewidth": 0,
                            "ticks": ""
                          }
                        },
                        "type": "scattermapbox"
                      }
                    ],
                    "scatterpolar": [
                      {
                        "marker": {
                          "colorbar": {
                            "outlinewidth": 0,
                            "ticks": ""
                          }
                        },
                        "type": "scatterpolar"
                      }
                    ],
                    "scatterpolargl": [
                      {
                        "marker": {
                          "colorbar": {
                            "outlinewidth": 0,
                            "ticks": ""
                          }
                        },
                        "type": "scatterpolargl"
                      }
                    ],
                    "scatterternary": [
                      {
                        "marker": {
                          "colorbar": {
                            "outlinewidth": 0,
                            "ticks": ""
                          }
                        },
                        "type": "scatterternary"
                      }
                    ],
                    "surface": [
                      {
                        "colorbar": {
                          "outlinewidth": 0,
                          "ticks": ""
                        },
                        "colorscale": [
                          [
                            0,
                            "#0d0887"
                          ],
                          [
                            0.1111111111111111,
                            "#46039f"
                          ],
                          [
                            0.2222222222222222,
                            "#7201a8"
                          ],
                          [
                            0.3333333333333333,
                            "#9c179e"
                          ],
                          [
                            0.4444444444444444,
                            "#bd3786"
                          ],
                          [
                            0.5555555555555556,
                            "#d8576b"
                          ],
                          [
                            0.6666666666666666,
                            "#ed7953"
                          ],
                          [
                            0.7777777777777778,
                            "#fb9f3a"
                          ],
                          [
                            0.8888888888888888,
                            "#fdca26"
                          ],
                          [
                            1,
                            "#f0f921"
                          ]
                        ],
                        "type": "surface"
                      }
                    ],
                    "table": [
                      {
                        "cells": {
                          "fill": {
                            "color": "#EBF0F8"
                          },
                          "line": {
                            "color": "white"
                          }
                        },
                        "header": {
                          "fill": {
                            "color": "#C8D4E3"
                          },
                          "line": {
                            "color": "white"
                          }
                        },
                        "type": "table"
                      }
                    ]
                  },
                  "layout": {
                    "annotationdefaults": {
                      "arrowcolor": "#2a3f5f",
                      "arrowhead": 0,
                      "arrowwidth": 1
                    },
                    "autotypenumbers": "strict",
                    "coloraxis": {
                      "colorbar": {
                        "outlinewidth": 0,
                        "ticks": ""
                      }
                    },
                    "colorscale": {
                      "diverging": [
                        [
                          0,
                          "#8e0152"
                        ],
                        [
                          0.1,
                          "#c51b7d"
                        ],
                        [
                          0.2,
                          "#de77ae"
                        ],
                        [
                          0.3,
                          "#f1b6da"
                        ],
                        [
                          0.4,
                          "#fde0ef"
                        ],
                        [
                          0.5,
                          "#f7f7f7"
                        ],
                        [
                          0.6,
                          "#e6f5d0"
                        ],
                        [
                          0.7,
                          "#b8e186"
                        ],
                        [
                          0.8,
                          "#7fbc41"
                        ],
                        [
                          0.9,
                          "#4d9221"
                        ],
                        [
                          1,
                          "#276419"
                        ]
                      ],
                      "sequential": [
                        [
                          0,
                          "#0d0887"
                        ],
                        [
                          0.1111111111111111,
                          "#46039f"
                        ],
                        [
                          0.2222222222222222,
                          "#7201a8"
                        ],
                        [
                          0.3333333333333333,
                          "#9c179e"
                        ],
                        [
                          0.4444444444444444,
                          "#bd3786"
                        ],
                        [
                          0.5555555555555556,
                          "#d8576b"
                        ],
                        [
                          0.6666666666666666,
                          "#ed7953"
                        ],
                        [
                          0.7777777777777778,
                          "#fb9f3a"
                        ],
                        [
                          0.8888888888888888,
                          "#fdca26"
                        ],
                        [
                          1,
                          "#f0f921"
                        ]
                      ],
                      "sequentialminus": [
                        [
                          0,
                          "#0d0887"
                        ],
                        [
                          0.1111111111111111,
                          "#46039f"
                        ],
                        [
                          0.2222222222222222,
                          "#7201a8"
                        ],
                        [
                          0.3333333333333333,
                          "#9c179e"
                        ],
                        [
                          0.4444444444444444,
                          "#bd3786"
                        ],
                        [
                          0.5555555555555556,
                          "#d8576b"
                        ],
                        [
                          0.6666666666666666,
                          "#ed7953"
                        ],
                        [
                          0.7777777777777778,
                          "#fb9f3a"
                        ],
                        [
                          0.8888888888888888,
                          "#fdca26"
                        ],
                        [
                          1,
                          "#f0f921"
                        ]
                      ]
                    },
                    "colorway": [
                      "#636efa",
                      "#EF553B",
                      "#00cc96",
                      "#ab63fa",
                      "#FFA15A",
                      "#19d3f3",
                      "#FF6692",
                      "#B6E880",
                      "#FF97FF",
                      "#FECB52"
                    ],
                    "font": {
                      "color": "#2a3f5f"
                    },
                    "geo": {
                      "bgcolor": "white",
                      "lakecolor": "white",
                      "landcolor": "#E5ECF6",
                      "showlakes": true,
                      "showland": true,
                      "subunitcolor": "white"
                    },
                    "hoverlabel": {
                      "align": "left"
                    },
                    "hovermode": "closest",
                    "mapbox": {
                      "style": "light"
                    },
                    "paper_bgcolor": "white",
                    "plot_bgcolor": "#E5ECF6",
                    "polar": {
                      "angularaxis": {
                        "gridcolor": "white",
                        "linecolor": "white",
                        "ticks": ""
                      },
                      "bgcolor": "#E5ECF6",
                      "radialaxis": {
                        "gridcolor": "white",
                        "linecolor": "white",
                        "ticks": ""
                      }
                    },
                    "scene": {
                      "xaxis": {
                        "backgroundcolor": "#E5ECF6",
                        "gridcolor": "white",
                        "gridwidth": 2,
                        "linecolor": "white",
                        "showbackground": true,
                        "ticks": "",
                        "zerolinecolor": "white"
                      },
                      "yaxis": {
                        "backgroundcolor": "#E5ECF6",
                        "gridcolor": "white",
                        "gridwidth": 2,
                        "linecolor": "white",
                        "showbackground": true,
                        "ticks": "",
                        "zerolinecolor": "white"
                      },
                      "zaxis": {
                        "backgroundcolor": "#E5ECF6",
                        "gridcolor": "white",
                        "gridwidth": 2,
                        "linecolor": "white",
                        "showbackground": true,
                        "ticks": "",
                        "zerolinecolor": "white"
                      }
                    },
                    "shapedefaults": {
                      "line": {
                        "color": "#2a3f5f"
                      }
                    },
                    "ternary": {
                      "aaxis": {
                        "gridcolor": "white",
                        "linecolor": "white",
                        "ticks": ""
                      },
                      "baxis": {
                        "gridcolor": "white",
                        "linecolor": "white",
                        "ticks": ""
                      },
                      "bgcolor": "#E5ECF6",
                      "caxis": {
                        "gridcolor": "white",
                        "linecolor": "white",
                        "ticks": ""
                      }
                    },
                    "title": {
                      "x": 0.05
                    },
                    "xaxis": {
                      "automargin": true,
                      "gridcolor": "white",
                      "linecolor": "white",
                      "ticks": "",
                      "title": {
                        "standoff": 15
                      },
                      "zerolinecolor": "white",
                      "zerolinewidth": 2
                    },
                    "yaxis": {
                      "automargin": true,
                      "gridcolor": "white",
                      "linecolor": "white",
                      "ticks": "",
                      "title": {
                        "standoff": 15
                      },
                      "zerolinecolor": "white",
                      "zerolinewidth": 2
                    }
                  }
                },
                "title": {
                  "text": "Count of Content Ratings on Netflix",
                  "x": 0.5
                },
                "xaxis": {
                  "anchor": "y",
                  "domain": [
                    0,
                    1
                  ],
                  "title": {
                    "text": "count"
                  }
                },
                "yaxis": {
                  "anchor": "x",
                  "domain": [
                    0,
                    1
                  ],
                  "title": {
                    "text": "rating"
                  }
                }
              }
            }
          },
          "metadata": {},
          "output_type": "display_data"
        }
      ],
      "source": [
        "r = df['rating'].value_counts()[:15].to_dict()\n",
        "data = dict(\n",
        "    count = r.values(),\n",
        "    rating = r.keys())\n",
        "fig = px.funnel(data, x='count', y='rating')\n",
        "fig.update_layout(title='Count of Content Ratings on Netflix', title_x=0.5)\n",
        "fig.show()"
      ]
    },
    {
      "cell_type": "code",
      "execution_count": 423,
      "metadata": {
        "colab": {
          "base_uri": "https://localhost:8080/",
          "height": 542
        },
        "id": "-yX7X1f86jZ3",
        "outputId": "152b1522-6131-427a-970c-f933888ea928"
      },
      "outputs": [
        {
          "data": {
            "application/vnd.plotly.v1+json": {
              "config": {
                "plotlyServerURL": "https://plot.ly"
              },
              "data": [
                {
                  "marker": {
                    "color": "#a678de"
                  },
                  "name": "TV Shows",
                  "type": "scatter",
                  "x": [
                    2008,
                    2013,
                    2014,
                    2015,
                    2016,
                    2017,
                    2018,
                    2019,
                    2020,
                    2021
                  ],
                  "y": [
                    1,
                    5,
                    5,
                    26,
                    175,
                    349,
                    411,
                    592,
                    595,
                    505
                  ]
                },
                {
                  "marker": {
                    "color": "#6ad49b"
                  },
                  "name": "Movies",
                  "type": "scatter",
                  "x": [
                    2008,
                    2009,
                    2010,
                    2011,
                    2012,
                    2013,
                    2014,
                    2015,
                    2016,
                    2017,
                    2018,
                    2019,
                    2020,
                    2021
                  ],
                  "y": [
                    1,
                    2,
                    1,
                    13,
                    3,
                    6,
                    19,
                    56,
                    251,
                    836,
                    1237,
                    1424,
                    1284,
                    993
                  ]
                }
              ],
              "layout": {
                "legend": {
                  "orientation": "h",
                  "x": 0.1,
                  "y": 1.1
                },
                "template": {
                  "data": {
                    "bar": [
                      {
                        "error_x": {
                          "color": "#2a3f5f"
                        },
                        "error_y": {
                          "color": "#2a3f5f"
                        },
                        "marker": {
                          "line": {
                            "color": "#E5ECF6",
                            "width": 0.5
                          },
                          "pattern": {
                            "fillmode": "overlay",
                            "size": 10,
                            "solidity": 0.2
                          }
                        },
                        "type": "bar"
                      }
                    ],
                    "barpolar": [
                      {
                        "marker": {
                          "line": {
                            "color": "#E5ECF6",
                            "width": 0.5
                          },
                          "pattern": {
                            "fillmode": "overlay",
                            "size": 10,
                            "solidity": 0.2
                          }
                        },
                        "type": "barpolar"
                      }
                    ],
                    "carpet": [
                      {
                        "aaxis": {
                          "endlinecolor": "#2a3f5f",
                          "gridcolor": "white",
                          "linecolor": "white",
                          "minorgridcolor": "white",
                          "startlinecolor": "#2a3f5f"
                        },
                        "baxis": {
                          "endlinecolor": "#2a3f5f",
                          "gridcolor": "white",
                          "linecolor": "white",
                          "minorgridcolor": "white",
                          "startlinecolor": "#2a3f5f"
                        },
                        "type": "carpet"
                      }
                    ],
                    "choropleth": [
                      {
                        "colorbar": {
                          "outlinewidth": 0,
                          "ticks": ""
                        },
                        "type": "choropleth"
                      }
                    ],
                    "contour": [
                      {
                        "colorbar": {
                          "outlinewidth": 0,
                          "ticks": ""
                        },
                        "colorscale": [
                          [
                            0,
                            "#0d0887"
                          ],
                          [
                            0.1111111111111111,
                            "#46039f"
                          ],
                          [
                            0.2222222222222222,
                            "#7201a8"
                          ],
                          [
                            0.3333333333333333,
                            "#9c179e"
                          ],
                          [
                            0.4444444444444444,
                            "#bd3786"
                          ],
                          [
                            0.5555555555555556,
                            "#d8576b"
                          ],
                          [
                            0.6666666666666666,
                            "#ed7953"
                          ],
                          [
                            0.7777777777777778,
                            "#fb9f3a"
                          ],
                          [
                            0.8888888888888888,
                            "#fdca26"
                          ],
                          [
                            1,
                            "#f0f921"
                          ]
                        ],
                        "type": "contour"
                      }
                    ],
                    "contourcarpet": [
                      {
                        "colorbar": {
                          "outlinewidth": 0,
                          "ticks": ""
                        },
                        "type": "contourcarpet"
                      }
                    ],
                    "heatmap": [
                      {
                        "colorbar": {
                          "outlinewidth": 0,
                          "ticks": ""
                        },
                        "colorscale": [
                          [
                            0,
                            "#0d0887"
                          ],
                          [
                            0.1111111111111111,
                            "#46039f"
                          ],
                          [
                            0.2222222222222222,
                            "#7201a8"
                          ],
                          [
                            0.3333333333333333,
                            "#9c179e"
                          ],
                          [
                            0.4444444444444444,
                            "#bd3786"
                          ],
                          [
                            0.5555555555555556,
                            "#d8576b"
                          ],
                          [
                            0.6666666666666666,
                            "#ed7953"
                          ],
                          [
                            0.7777777777777778,
                            "#fb9f3a"
                          ],
                          [
                            0.8888888888888888,
                            "#fdca26"
                          ],
                          [
                            1,
                            "#f0f921"
                          ]
                        ],
                        "type": "heatmap"
                      }
                    ],
                    "heatmapgl": [
                      {
                        "colorbar": {
                          "outlinewidth": 0,
                          "ticks": ""
                        },
                        "colorscale": [
                          [
                            0,
                            "#0d0887"
                          ],
                          [
                            0.1111111111111111,
                            "#46039f"
                          ],
                          [
                            0.2222222222222222,
                            "#7201a8"
                          ],
                          [
                            0.3333333333333333,
                            "#9c179e"
                          ],
                          [
                            0.4444444444444444,
                            "#bd3786"
                          ],
                          [
                            0.5555555555555556,
                            "#d8576b"
                          ],
                          [
                            0.6666666666666666,
                            "#ed7953"
                          ],
                          [
                            0.7777777777777778,
                            "#fb9f3a"
                          ],
                          [
                            0.8888888888888888,
                            "#fdca26"
                          ],
                          [
                            1,
                            "#f0f921"
                          ]
                        ],
                        "type": "heatmapgl"
                      }
                    ],
                    "histogram": [
                      {
                        "marker": {
                          "pattern": {
                            "fillmode": "overlay",
                            "size": 10,
                            "solidity": 0.2
                          }
                        },
                        "type": "histogram"
                      }
                    ],
                    "histogram2d": [
                      {
                        "colorbar": {
                          "outlinewidth": 0,
                          "ticks": ""
                        },
                        "colorscale": [
                          [
                            0,
                            "#0d0887"
                          ],
                          [
                            0.1111111111111111,
                            "#46039f"
                          ],
                          [
                            0.2222222222222222,
                            "#7201a8"
                          ],
                          [
                            0.3333333333333333,
                            "#9c179e"
                          ],
                          [
                            0.4444444444444444,
                            "#bd3786"
                          ],
                          [
                            0.5555555555555556,
                            "#d8576b"
                          ],
                          [
                            0.6666666666666666,
                            "#ed7953"
                          ],
                          [
                            0.7777777777777778,
                            "#fb9f3a"
                          ],
                          [
                            0.8888888888888888,
                            "#fdca26"
                          ],
                          [
                            1,
                            "#f0f921"
                          ]
                        ],
                        "type": "histogram2d"
                      }
                    ],
                    "histogram2dcontour": [
                      {
                        "colorbar": {
                          "outlinewidth": 0,
                          "ticks": ""
                        },
                        "colorscale": [
                          [
                            0,
                            "#0d0887"
                          ],
                          [
                            0.1111111111111111,
                            "#46039f"
                          ],
                          [
                            0.2222222222222222,
                            "#7201a8"
                          ],
                          [
                            0.3333333333333333,
                            "#9c179e"
                          ],
                          [
                            0.4444444444444444,
                            "#bd3786"
                          ],
                          [
                            0.5555555555555556,
                            "#d8576b"
                          ],
                          [
                            0.6666666666666666,
                            "#ed7953"
                          ],
                          [
                            0.7777777777777778,
                            "#fb9f3a"
                          ],
                          [
                            0.8888888888888888,
                            "#fdca26"
                          ],
                          [
                            1,
                            "#f0f921"
                          ]
                        ],
                        "type": "histogram2dcontour"
                      }
                    ],
                    "mesh3d": [
                      {
                        "colorbar": {
                          "outlinewidth": 0,
                          "ticks": ""
                        },
                        "type": "mesh3d"
                      }
                    ],
                    "parcoords": [
                      {
                        "line": {
                          "colorbar": {
                            "outlinewidth": 0,
                            "ticks": ""
                          }
                        },
                        "type": "parcoords"
                      }
                    ],
                    "pie": [
                      {
                        "automargin": true,
                        "type": "pie"
                      }
                    ],
                    "scatter": [
                      {
                        "fillpattern": {
                          "fillmode": "overlay",
                          "size": 10,
                          "solidity": 0.2
                        },
                        "type": "scatter"
                      }
                    ],
                    "scatter3d": [
                      {
                        "line": {
                          "colorbar": {
                            "outlinewidth": 0,
                            "ticks": ""
                          }
                        },
                        "marker": {
                          "colorbar": {
                            "outlinewidth": 0,
                            "ticks": ""
                          }
                        },
                        "type": "scatter3d"
                      }
                    ],
                    "scattercarpet": [
                      {
                        "marker": {
                          "colorbar": {
                            "outlinewidth": 0,
                            "ticks": ""
                          }
                        },
                        "type": "scattercarpet"
                      }
                    ],
                    "scattergeo": [
                      {
                        "marker": {
                          "colorbar": {
                            "outlinewidth": 0,
                            "ticks": ""
                          }
                        },
                        "type": "scattergeo"
                      }
                    ],
                    "scattergl": [
                      {
                        "marker": {
                          "colorbar": {
                            "outlinewidth": 0,
                            "ticks": ""
                          }
                        },
                        "type": "scattergl"
                      }
                    ],
                    "scattermapbox": [
                      {
                        "marker": {
                          "colorbar": {
                            "outlinewidth": 0,
                            "ticks": ""
                          }
                        },
                        "type": "scattermapbox"
                      }
                    ],
                    "scatterpolar": [
                      {
                        "marker": {
                          "colorbar": {
                            "outlinewidth": 0,
                            "ticks": ""
                          }
                        },
                        "type": "scatterpolar"
                      }
                    ],
                    "scatterpolargl": [
                      {
                        "marker": {
                          "colorbar": {
                            "outlinewidth": 0,
                            "ticks": ""
                          }
                        },
                        "type": "scatterpolargl"
                      }
                    ],
                    "scatterternary": [
                      {
                        "marker": {
                          "colorbar": {
                            "outlinewidth": 0,
                            "ticks": ""
                          }
                        },
                        "type": "scatterternary"
                      }
                    ],
                    "surface": [
                      {
                        "colorbar": {
                          "outlinewidth": 0,
                          "ticks": ""
                        },
                        "colorscale": [
                          [
                            0,
                            "#0d0887"
                          ],
                          [
                            0.1111111111111111,
                            "#46039f"
                          ],
                          [
                            0.2222222222222222,
                            "#7201a8"
                          ],
                          [
                            0.3333333333333333,
                            "#9c179e"
                          ],
                          [
                            0.4444444444444444,
                            "#bd3786"
                          ],
                          [
                            0.5555555555555556,
                            "#d8576b"
                          ],
                          [
                            0.6666666666666666,
                            "#ed7953"
                          ],
                          [
                            0.7777777777777778,
                            "#fb9f3a"
                          ],
                          [
                            0.8888888888888888,
                            "#fdca26"
                          ],
                          [
                            1,
                            "#f0f921"
                          ]
                        ],
                        "type": "surface"
                      }
                    ],
                    "table": [
                      {
                        "cells": {
                          "fill": {
                            "color": "#EBF0F8"
                          },
                          "line": {
                            "color": "white"
                          }
                        },
                        "header": {
                          "fill": {
                            "color": "#C8D4E3"
                          },
                          "line": {
                            "color": "white"
                          }
                        },
                        "type": "table"
                      }
                    ]
                  },
                  "layout": {
                    "annotationdefaults": {
                      "arrowcolor": "#2a3f5f",
                      "arrowhead": 0,
                      "arrowwidth": 1
                    },
                    "autotypenumbers": "strict",
                    "coloraxis": {
                      "colorbar": {
                        "outlinewidth": 0,
                        "ticks": ""
                      }
                    },
                    "colorscale": {
                      "diverging": [
                        [
                          0,
                          "#8e0152"
                        ],
                        [
                          0.1,
                          "#c51b7d"
                        ],
                        [
                          0.2,
                          "#de77ae"
                        ],
                        [
                          0.3,
                          "#f1b6da"
                        ],
                        [
                          0.4,
                          "#fde0ef"
                        ],
                        [
                          0.5,
                          "#f7f7f7"
                        ],
                        [
                          0.6,
                          "#e6f5d0"
                        ],
                        [
                          0.7,
                          "#b8e186"
                        ],
                        [
                          0.8,
                          "#7fbc41"
                        ],
                        [
                          0.9,
                          "#4d9221"
                        ],
                        [
                          1,
                          "#276419"
                        ]
                      ],
                      "sequential": [
                        [
                          0,
                          "#0d0887"
                        ],
                        [
                          0.1111111111111111,
                          "#46039f"
                        ],
                        [
                          0.2222222222222222,
                          "#7201a8"
                        ],
                        [
                          0.3333333333333333,
                          "#9c179e"
                        ],
                        [
                          0.4444444444444444,
                          "#bd3786"
                        ],
                        [
                          0.5555555555555556,
                          "#d8576b"
                        ],
                        [
                          0.6666666666666666,
                          "#ed7953"
                        ],
                        [
                          0.7777777777777778,
                          "#fb9f3a"
                        ],
                        [
                          0.8888888888888888,
                          "#fdca26"
                        ],
                        [
                          1,
                          "#f0f921"
                        ]
                      ],
                      "sequentialminus": [
                        [
                          0,
                          "#0d0887"
                        ],
                        [
                          0.1111111111111111,
                          "#46039f"
                        ],
                        [
                          0.2222222222222222,
                          "#7201a8"
                        ],
                        [
                          0.3333333333333333,
                          "#9c179e"
                        ],
                        [
                          0.4444444444444444,
                          "#bd3786"
                        ],
                        [
                          0.5555555555555556,
                          "#d8576b"
                        ],
                        [
                          0.6666666666666666,
                          "#ed7953"
                        ],
                        [
                          0.7777777777777778,
                          "#fb9f3a"
                        ],
                        [
                          0.8888888888888888,
                          "#fdca26"
                        ],
                        [
                          1,
                          "#f0f921"
                        ]
                      ]
                    },
                    "colorway": [
                      "#636efa",
                      "#EF553B",
                      "#00cc96",
                      "#ab63fa",
                      "#FFA15A",
                      "#19d3f3",
                      "#FF6692",
                      "#B6E880",
                      "#FF97FF",
                      "#FECB52"
                    ],
                    "font": {
                      "color": "#2a3f5f"
                    },
                    "geo": {
                      "bgcolor": "white",
                      "lakecolor": "white",
                      "landcolor": "#E5ECF6",
                      "showlakes": true,
                      "showland": true,
                      "subunitcolor": "white"
                    },
                    "hoverlabel": {
                      "align": "left"
                    },
                    "hovermode": "closest",
                    "mapbox": {
                      "style": "light"
                    },
                    "paper_bgcolor": "white",
                    "plot_bgcolor": "#E5ECF6",
                    "polar": {
                      "angularaxis": {
                        "gridcolor": "white",
                        "linecolor": "white",
                        "ticks": ""
                      },
                      "bgcolor": "#E5ECF6",
                      "radialaxis": {
                        "gridcolor": "white",
                        "linecolor": "white",
                        "ticks": ""
                      }
                    },
                    "scene": {
                      "xaxis": {
                        "backgroundcolor": "#E5ECF6",
                        "gridcolor": "white",
                        "gridwidth": 2,
                        "linecolor": "white",
                        "showbackground": true,
                        "ticks": "",
                        "zerolinecolor": "white"
                      },
                      "yaxis": {
                        "backgroundcolor": "#E5ECF6",
                        "gridcolor": "white",
                        "gridwidth": 2,
                        "linecolor": "white",
                        "showbackground": true,
                        "ticks": "",
                        "zerolinecolor": "white"
                      },
                      "zaxis": {
                        "backgroundcolor": "#E5ECF6",
                        "gridcolor": "white",
                        "gridwidth": 2,
                        "linecolor": "white",
                        "showbackground": true,
                        "ticks": "",
                        "zerolinecolor": "white"
                      }
                    },
                    "shapedefaults": {
                      "line": {
                        "color": "#2a3f5f"
                      }
                    },
                    "ternary": {
                      "aaxis": {
                        "gridcolor": "white",
                        "linecolor": "white",
                        "ticks": ""
                      },
                      "baxis": {
                        "gridcolor": "white",
                        "linecolor": "white",
                        "ticks": ""
                      },
                      "bgcolor": "#E5ECF6",
                      "caxis": {
                        "gridcolor": "white",
                        "linecolor": "white",
                        "ticks": ""
                      }
                    },
                    "title": {
                      "x": 0.05
                    },
                    "xaxis": {
                      "automargin": true,
                      "gridcolor": "white",
                      "linecolor": "white",
                      "ticks": "",
                      "title": {
                        "standoff": 15
                      },
                      "zerolinecolor": "white",
                      "zerolinewidth": 2
                    },
                    "yaxis": {
                      "automargin": true,
                      "gridcolor": "white",
                      "linecolor": "white",
                      "ticks": "",
                      "title": {
                        "standoff": 15
                      },
                      "zerolinecolor": "white",
                      "zerolinewidth": 2
                    }
                  }
                },
                "title": {
                  "text": "Content added over the years"
                }
              }
            }
          },
          "metadata": {},
          "output_type": "display_data"
        }
      ],
      "source": [
        "# Growth in content over the years¶\n",
        "d1 = df[df[\"type\"] == \"TV Show\"]\n",
        "d2 = df[df[\"type\"] == \"Movie\"]\n",
        "\n",
        "col = \"year_added\"\n",
        "\n",
        "vc1 = d1[col].value_counts().reset_index()\n",
        "vc1 = vc1.rename(columns = {col : \"count\", \"index\" : col})\n",
        "vc1['percent'] = vc1['count'].apply(lambda x : 100*x/sum(vc1['count']))\n",
        "vc1 = vc1.sort_values(col)\n",
        "\n",
        "vc2 = d2[col].value_counts().reset_index()\n",
        "vc2 = vc2.rename(columns = {col : \"count\", \"index\" : col})\n",
        "vc2['percent'] = vc2['count'].apply(lambda x : 100*x/sum(vc2['count']))\n",
        "vc2 = vc2.sort_values(col)\n",
        "\n",
        "trace1 = go.Scatter(x=vc1[col], y=vc1[\"count\"], name=\"TV Shows\", marker=dict(color=\"#a678de\"))\n",
        "trace2 = go.Scatter(x=vc2[col], y=vc2[\"count\"], name=\"Movies\", marker=dict(color=\"#6ad49b\"))\n",
        "data = [trace1, trace2]\n",
        "layout = go.Layout(title=\"Content added over the years\", legend=dict(x=0.1, y=1.1, orientation=\"h\"))\n",
        "fig = go.Figure(data, layout=layout)\n",
        "fig.show()"
      ]
    },
    {
      "cell_type": "code",
      "execution_count": 424,
      "metadata": {
        "colab": {
          "base_uri": "https://localhost:8080/",
          "height": 542
        },
        "id": "MEi3da2N6jVp",
        "outputId": "bf5811a1-2e62-46db-f11c-e0507404fc94"
      },
      "outputs": [
        {
          "data": {
            "application/vnd.plotly.v1+json": {
              "config": {
                "plotlyServerURL": "https://plot.ly"
              },
              "data": [
                {
                  "marker": {
                    "color": "#a678de"
                  },
                  "name": "TV Shows",
                  "type": "bar",
                  "x": [
                    1,
                    2,
                    3,
                    4,
                    5,
                    6,
                    7,
                    8,
                    9,
                    10,
                    11,
                    12
                  ],
                  "y": [
                    737,
                    562,
                    741,
                    763,
                    632,
                    728,
                    827,
                    754,
                    769,
                    760,
                    705,
                    812
                  ]
                }
              ],
              "layout": {
                "legend": {
                  "orientation": "h",
                  "x": 0.1,
                  "y": 1.1
                },
                "template": {
                  "data": {
                    "bar": [
                      {
                        "error_x": {
                          "color": "#2a3f5f"
                        },
                        "error_y": {
                          "color": "#2a3f5f"
                        },
                        "marker": {
                          "line": {
                            "color": "#E5ECF6",
                            "width": 0.5
                          },
                          "pattern": {
                            "fillmode": "overlay",
                            "size": 10,
                            "solidity": 0.2
                          }
                        },
                        "type": "bar"
                      }
                    ],
                    "barpolar": [
                      {
                        "marker": {
                          "line": {
                            "color": "#E5ECF6",
                            "width": 0.5
                          },
                          "pattern": {
                            "fillmode": "overlay",
                            "size": 10,
                            "solidity": 0.2
                          }
                        },
                        "type": "barpolar"
                      }
                    ],
                    "carpet": [
                      {
                        "aaxis": {
                          "endlinecolor": "#2a3f5f",
                          "gridcolor": "white",
                          "linecolor": "white",
                          "minorgridcolor": "white",
                          "startlinecolor": "#2a3f5f"
                        },
                        "baxis": {
                          "endlinecolor": "#2a3f5f",
                          "gridcolor": "white",
                          "linecolor": "white",
                          "minorgridcolor": "white",
                          "startlinecolor": "#2a3f5f"
                        },
                        "type": "carpet"
                      }
                    ],
                    "choropleth": [
                      {
                        "colorbar": {
                          "outlinewidth": 0,
                          "ticks": ""
                        },
                        "type": "choropleth"
                      }
                    ],
                    "contour": [
                      {
                        "colorbar": {
                          "outlinewidth": 0,
                          "ticks": ""
                        },
                        "colorscale": [
                          [
                            0,
                            "#0d0887"
                          ],
                          [
                            0.1111111111111111,
                            "#46039f"
                          ],
                          [
                            0.2222222222222222,
                            "#7201a8"
                          ],
                          [
                            0.3333333333333333,
                            "#9c179e"
                          ],
                          [
                            0.4444444444444444,
                            "#bd3786"
                          ],
                          [
                            0.5555555555555556,
                            "#d8576b"
                          ],
                          [
                            0.6666666666666666,
                            "#ed7953"
                          ],
                          [
                            0.7777777777777778,
                            "#fb9f3a"
                          ],
                          [
                            0.8888888888888888,
                            "#fdca26"
                          ],
                          [
                            1,
                            "#f0f921"
                          ]
                        ],
                        "type": "contour"
                      }
                    ],
                    "contourcarpet": [
                      {
                        "colorbar": {
                          "outlinewidth": 0,
                          "ticks": ""
                        },
                        "type": "contourcarpet"
                      }
                    ],
                    "heatmap": [
                      {
                        "colorbar": {
                          "outlinewidth": 0,
                          "ticks": ""
                        },
                        "colorscale": [
                          [
                            0,
                            "#0d0887"
                          ],
                          [
                            0.1111111111111111,
                            "#46039f"
                          ],
                          [
                            0.2222222222222222,
                            "#7201a8"
                          ],
                          [
                            0.3333333333333333,
                            "#9c179e"
                          ],
                          [
                            0.4444444444444444,
                            "#bd3786"
                          ],
                          [
                            0.5555555555555556,
                            "#d8576b"
                          ],
                          [
                            0.6666666666666666,
                            "#ed7953"
                          ],
                          [
                            0.7777777777777778,
                            "#fb9f3a"
                          ],
                          [
                            0.8888888888888888,
                            "#fdca26"
                          ],
                          [
                            1,
                            "#f0f921"
                          ]
                        ],
                        "type": "heatmap"
                      }
                    ],
                    "heatmapgl": [
                      {
                        "colorbar": {
                          "outlinewidth": 0,
                          "ticks": ""
                        },
                        "colorscale": [
                          [
                            0,
                            "#0d0887"
                          ],
                          [
                            0.1111111111111111,
                            "#46039f"
                          ],
                          [
                            0.2222222222222222,
                            "#7201a8"
                          ],
                          [
                            0.3333333333333333,
                            "#9c179e"
                          ],
                          [
                            0.4444444444444444,
                            "#bd3786"
                          ],
                          [
                            0.5555555555555556,
                            "#d8576b"
                          ],
                          [
                            0.6666666666666666,
                            "#ed7953"
                          ],
                          [
                            0.7777777777777778,
                            "#fb9f3a"
                          ],
                          [
                            0.8888888888888888,
                            "#fdca26"
                          ],
                          [
                            1,
                            "#f0f921"
                          ]
                        ],
                        "type": "heatmapgl"
                      }
                    ],
                    "histogram": [
                      {
                        "marker": {
                          "pattern": {
                            "fillmode": "overlay",
                            "size": 10,
                            "solidity": 0.2
                          }
                        },
                        "type": "histogram"
                      }
                    ],
                    "histogram2d": [
                      {
                        "colorbar": {
                          "outlinewidth": 0,
                          "ticks": ""
                        },
                        "colorscale": [
                          [
                            0,
                            "#0d0887"
                          ],
                          [
                            0.1111111111111111,
                            "#46039f"
                          ],
                          [
                            0.2222222222222222,
                            "#7201a8"
                          ],
                          [
                            0.3333333333333333,
                            "#9c179e"
                          ],
                          [
                            0.4444444444444444,
                            "#bd3786"
                          ],
                          [
                            0.5555555555555556,
                            "#d8576b"
                          ],
                          [
                            0.6666666666666666,
                            "#ed7953"
                          ],
                          [
                            0.7777777777777778,
                            "#fb9f3a"
                          ],
                          [
                            0.8888888888888888,
                            "#fdca26"
                          ],
                          [
                            1,
                            "#f0f921"
                          ]
                        ],
                        "type": "histogram2d"
                      }
                    ],
                    "histogram2dcontour": [
                      {
                        "colorbar": {
                          "outlinewidth": 0,
                          "ticks": ""
                        },
                        "colorscale": [
                          [
                            0,
                            "#0d0887"
                          ],
                          [
                            0.1111111111111111,
                            "#46039f"
                          ],
                          [
                            0.2222222222222222,
                            "#7201a8"
                          ],
                          [
                            0.3333333333333333,
                            "#9c179e"
                          ],
                          [
                            0.4444444444444444,
                            "#bd3786"
                          ],
                          [
                            0.5555555555555556,
                            "#d8576b"
                          ],
                          [
                            0.6666666666666666,
                            "#ed7953"
                          ],
                          [
                            0.7777777777777778,
                            "#fb9f3a"
                          ],
                          [
                            0.8888888888888888,
                            "#fdca26"
                          ],
                          [
                            1,
                            "#f0f921"
                          ]
                        ],
                        "type": "histogram2dcontour"
                      }
                    ],
                    "mesh3d": [
                      {
                        "colorbar": {
                          "outlinewidth": 0,
                          "ticks": ""
                        },
                        "type": "mesh3d"
                      }
                    ],
                    "parcoords": [
                      {
                        "line": {
                          "colorbar": {
                            "outlinewidth": 0,
                            "ticks": ""
                          }
                        },
                        "type": "parcoords"
                      }
                    ],
                    "pie": [
                      {
                        "automargin": true,
                        "type": "pie"
                      }
                    ],
                    "scatter": [
                      {
                        "fillpattern": {
                          "fillmode": "overlay",
                          "size": 10,
                          "solidity": 0.2
                        },
                        "type": "scatter"
                      }
                    ],
                    "scatter3d": [
                      {
                        "line": {
                          "colorbar": {
                            "outlinewidth": 0,
                            "ticks": ""
                          }
                        },
                        "marker": {
                          "colorbar": {
                            "outlinewidth": 0,
                            "ticks": ""
                          }
                        },
                        "type": "scatter3d"
                      }
                    ],
                    "scattercarpet": [
                      {
                        "marker": {
                          "colorbar": {
                            "outlinewidth": 0,
                            "ticks": ""
                          }
                        },
                        "type": "scattercarpet"
                      }
                    ],
                    "scattergeo": [
                      {
                        "marker": {
                          "colorbar": {
                            "outlinewidth": 0,
                            "ticks": ""
                          }
                        },
                        "type": "scattergeo"
                      }
                    ],
                    "scattergl": [
                      {
                        "marker": {
                          "colorbar": {
                            "outlinewidth": 0,
                            "ticks": ""
                          }
                        },
                        "type": "scattergl"
                      }
                    ],
                    "scattermapbox": [
                      {
                        "marker": {
                          "colorbar": {
                            "outlinewidth": 0,
                            "ticks": ""
                          }
                        },
                        "type": "scattermapbox"
                      }
                    ],
                    "scatterpolar": [
                      {
                        "marker": {
                          "colorbar": {
                            "outlinewidth": 0,
                            "ticks": ""
                          }
                        },
                        "type": "scatterpolar"
                      }
                    ],
                    "scatterpolargl": [
                      {
                        "marker": {
                          "colorbar": {
                            "outlinewidth": 0,
                            "ticks": ""
                          }
                        },
                        "type": "scatterpolargl"
                      }
                    ],
                    "scatterternary": [
                      {
                        "marker": {
                          "colorbar": {
                            "outlinewidth": 0,
                            "ticks": ""
                          }
                        },
                        "type": "scatterternary"
                      }
                    ],
                    "surface": [
                      {
                        "colorbar": {
                          "outlinewidth": 0,
                          "ticks": ""
                        },
                        "colorscale": [
                          [
                            0,
                            "#0d0887"
                          ],
                          [
                            0.1111111111111111,
                            "#46039f"
                          ],
                          [
                            0.2222222222222222,
                            "#7201a8"
                          ],
                          [
                            0.3333333333333333,
                            "#9c179e"
                          ],
                          [
                            0.4444444444444444,
                            "#bd3786"
                          ],
                          [
                            0.5555555555555556,
                            "#d8576b"
                          ],
                          [
                            0.6666666666666666,
                            "#ed7953"
                          ],
                          [
                            0.7777777777777778,
                            "#fb9f3a"
                          ],
                          [
                            0.8888888888888888,
                            "#fdca26"
                          ],
                          [
                            1,
                            "#f0f921"
                          ]
                        ],
                        "type": "surface"
                      }
                    ],
                    "table": [
                      {
                        "cells": {
                          "fill": {
                            "color": "#EBF0F8"
                          },
                          "line": {
                            "color": "white"
                          }
                        },
                        "header": {
                          "fill": {
                            "color": "#C8D4E3"
                          },
                          "line": {
                            "color": "white"
                          }
                        },
                        "type": "table"
                      }
                    ]
                  },
                  "layout": {
                    "annotationdefaults": {
                      "arrowcolor": "#2a3f5f",
                      "arrowhead": 0,
                      "arrowwidth": 1
                    },
                    "autotypenumbers": "strict",
                    "coloraxis": {
                      "colorbar": {
                        "outlinewidth": 0,
                        "ticks": ""
                      }
                    },
                    "colorscale": {
                      "diverging": [
                        [
                          0,
                          "#8e0152"
                        ],
                        [
                          0.1,
                          "#c51b7d"
                        ],
                        [
                          0.2,
                          "#de77ae"
                        ],
                        [
                          0.3,
                          "#f1b6da"
                        ],
                        [
                          0.4,
                          "#fde0ef"
                        ],
                        [
                          0.5,
                          "#f7f7f7"
                        ],
                        [
                          0.6,
                          "#e6f5d0"
                        ],
                        [
                          0.7,
                          "#b8e186"
                        ],
                        [
                          0.8,
                          "#7fbc41"
                        ],
                        [
                          0.9,
                          "#4d9221"
                        ],
                        [
                          1,
                          "#276419"
                        ]
                      ],
                      "sequential": [
                        [
                          0,
                          "#0d0887"
                        ],
                        [
                          0.1111111111111111,
                          "#46039f"
                        ],
                        [
                          0.2222222222222222,
                          "#7201a8"
                        ],
                        [
                          0.3333333333333333,
                          "#9c179e"
                        ],
                        [
                          0.4444444444444444,
                          "#bd3786"
                        ],
                        [
                          0.5555555555555556,
                          "#d8576b"
                        ],
                        [
                          0.6666666666666666,
                          "#ed7953"
                        ],
                        [
                          0.7777777777777778,
                          "#fb9f3a"
                        ],
                        [
                          0.8888888888888888,
                          "#fdca26"
                        ],
                        [
                          1,
                          "#f0f921"
                        ]
                      ],
                      "sequentialminus": [
                        [
                          0,
                          "#0d0887"
                        ],
                        [
                          0.1111111111111111,
                          "#46039f"
                        ],
                        [
                          0.2222222222222222,
                          "#7201a8"
                        ],
                        [
                          0.3333333333333333,
                          "#9c179e"
                        ],
                        [
                          0.4444444444444444,
                          "#bd3786"
                        ],
                        [
                          0.5555555555555556,
                          "#d8576b"
                        ],
                        [
                          0.6666666666666666,
                          "#ed7953"
                        ],
                        [
                          0.7777777777777778,
                          "#fb9f3a"
                        ],
                        [
                          0.8888888888888888,
                          "#fdca26"
                        ],
                        [
                          1,
                          "#f0f921"
                        ]
                      ]
                    },
                    "colorway": [
                      "#636efa",
                      "#EF553B",
                      "#00cc96",
                      "#ab63fa",
                      "#FFA15A",
                      "#19d3f3",
                      "#FF6692",
                      "#B6E880",
                      "#FF97FF",
                      "#FECB52"
                    ],
                    "font": {
                      "color": "#2a3f5f"
                    },
                    "geo": {
                      "bgcolor": "white",
                      "lakecolor": "white",
                      "landcolor": "#E5ECF6",
                      "showlakes": true,
                      "showland": true,
                      "subunitcolor": "white"
                    },
                    "hoverlabel": {
                      "align": "left"
                    },
                    "hovermode": "closest",
                    "mapbox": {
                      "style": "light"
                    },
                    "paper_bgcolor": "white",
                    "plot_bgcolor": "#E5ECF6",
                    "polar": {
                      "angularaxis": {
                        "gridcolor": "white",
                        "linecolor": "white",
                        "ticks": ""
                      },
                      "bgcolor": "#E5ECF6",
                      "radialaxis": {
                        "gridcolor": "white",
                        "linecolor": "white",
                        "ticks": ""
                      }
                    },
                    "scene": {
                      "xaxis": {
                        "backgroundcolor": "#E5ECF6",
                        "gridcolor": "white",
                        "gridwidth": 2,
                        "linecolor": "white",
                        "showbackground": true,
                        "ticks": "",
                        "zerolinecolor": "white"
                      },
                      "yaxis": {
                        "backgroundcolor": "#E5ECF6",
                        "gridcolor": "white",
                        "gridwidth": 2,
                        "linecolor": "white",
                        "showbackground": true,
                        "ticks": "",
                        "zerolinecolor": "white"
                      },
                      "zaxis": {
                        "backgroundcolor": "#E5ECF6",
                        "gridcolor": "white",
                        "gridwidth": 2,
                        "linecolor": "white",
                        "showbackground": true,
                        "ticks": "",
                        "zerolinecolor": "white"
                      }
                    },
                    "shapedefaults": {
                      "line": {
                        "color": "#2a3f5f"
                      }
                    },
                    "ternary": {
                      "aaxis": {
                        "gridcolor": "white",
                        "linecolor": "white",
                        "ticks": ""
                      },
                      "baxis": {
                        "gridcolor": "white",
                        "linecolor": "white",
                        "ticks": ""
                      },
                      "bgcolor": "#E5ECF6",
                      "caxis": {
                        "gridcolor": "white",
                        "linecolor": "white",
                        "ticks": ""
                      }
                    },
                    "title": {
                      "x": 0.05
                    },
                    "xaxis": {
                      "automargin": true,
                      "gridcolor": "white",
                      "linecolor": "white",
                      "ticks": "",
                      "title": {
                        "standoff": 15
                      },
                      "zerolinecolor": "white",
                      "zerolinewidth": 2
                    },
                    "yaxis": {
                      "automargin": true,
                      "gridcolor": "white",
                      "linecolor": "white",
                      "ticks": "",
                      "title": {
                        "standoff": 15
                      },
                      "zerolinecolor": "white",
                      "zerolinewidth": 2
                    }
                  }
                },
                "title": {
                  "text": "In which month, the conent is added the most?"
                }
              }
            }
          },
          "metadata": {},
          "output_type": "display_data"
        }
      ],
      "source": [
        "col = 'month_added'\n",
        "vc1 = df[col].value_counts().reset_index()\n",
        "vc1 = vc1.rename(columns = {col : \"count\", \"index\" : col})\n",
        "vc1['percent'] = vc1['count'].apply(lambda x : 100*x/sum(vc1['count']))\n",
        "vc1 = vc1.sort_values(col)\n",
        "\n",
        "trace1 = go.Bar(x=vc1[col], y=vc1[\"count\"], name=\"TV Shows\", marker=dict(color=\"#a678de\"))\n",
        "data = [trace1]\n",
        "layout = go.Layout(title=\"In which month, the conent is added the most?\", legend=dict(x=0.1, y=1.1, orientation=\"h\"))\n",
        "fig = go.Figure(data, layout=layout)\n",
        "fig.show()"
      ]
    },
    {
      "cell_type": "code",
      "execution_count": 425,
      "metadata": {
        "colab": {
          "base_uri": "https://localhost:8080/",
          "height": 542
        },
        "id": "EAt7I5yg6jHv",
        "outputId": "985c38a8-7b08-4a39-aec9-6bd168f560b4"
      },
      "outputs": [
        {
          "data": {
            "application/vnd.plotly.v1+json": {
              "config": {
                "plotlyServerURL": "https://plot.ly"
              },
              "data": [
                {
                  "marker": {
                    "color": "#a678de"
                  },
                  "name": "TV Shows",
                  "type": "bar",
                  "x": [
                    "NR",
                    "R",
                    "TV-14",
                    "TV-G",
                    "TV-MA",
                    "TV-PG",
                    "TV-Y",
                    "TV-Y7",
                    "TV-Y7-FV"
                  ],
                  "y": [
                    4,
                    2,
                    730,
                    94,
                    1143,
                    321,
                    175,
                    194,
                    1
                  ]
                },
                {
                  "marker": {
                    "color": "#6ad49b"
                  },
                  "name": "Movies",
                  "type": "bar",
                  "x": [
                    "G",
                    "NC-17",
                    "NR",
                    "PG",
                    "PG-13",
                    "R",
                    "TV-14",
                    "TV-G",
                    "TV-MA",
                    "TV-PG",
                    "TV-Y",
                    "TV-Y7",
                    "TV-Y7-FV",
                    "UR"
                  ],
                  "y": [
                    41,
                    3,
                    75,
                    287,
                    490,
                    797,
                    1427,
                    126,
                    2062,
                    540,
                    131,
                    139,
                    5,
                    3
                  ]
                }
              ],
              "layout": {
                "legend": {
                  "orientation": "h",
                  "x": 0.1,
                  "y": 1.1
                },
                "template": {
                  "data": {
                    "bar": [
                      {
                        "error_x": {
                          "color": "#2a3f5f"
                        },
                        "error_y": {
                          "color": "#2a3f5f"
                        },
                        "marker": {
                          "line": {
                            "color": "#E5ECF6",
                            "width": 0.5
                          },
                          "pattern": {
                            "fillmode": "overlay",
                            "size": 10,
                            "solidity": 0.2
                          }
                        },
                        "type": "bar"
                      }
                    ],
                    "barpolar": [
                      {
                        "marker": {
                          "line": {
                            "color": "#E5ECF6",
                            "width": 0.5
                          },
                          "pattern": {
                            "fillmode": "overlay",
                            "size": 10,
                            "solidity": 0.2
                          }
                        },
                        "type": "barpolar"
                      }
                    ],
                    "carpet": [
                      {
                        "aaxis": {
                          "endlinecolor": "#2a3f5f",
                          "gridcolor": "white",
                          "linecolor": "white",
                          "minorgridcolor": "white",
                          "startlinecolor": "#2a3f5f"
                        },
                        "baxis": {
                          "endlinecolor": "#2a3f5f",
                          "gridcolor": "white",
                          "linecolor": "white",
                          "minorgridcolor": "white",
                          "startlinecolor": "#2a3f5f"
                        },
                        "type": "carpet"
                      }
                    ],
                    "choropleth": [
                      {
                        "colorbar": {
                          "outlinewidth": 0,
                          "ticks": ""
                        },
                        "type": "choropleth"
                      }
                    ],
                    "contour": [
                      {
                        "colorbar": {
                          "outlinewidth": 0,
                          "ticks": ""
                        },
                        "colorscale": [
                          [
                            0,
                            "#0d0887"
                          ],
                          [
                            0.1111111111111111,
                            "#46039f"
                          ],
                          [
                            0.2222222222222222,
                            "#7201a8"
                          ],
                          [
                            0.3333333333333333,
                            "#9c179e"
                          ],
                          [
                            0.4444444444444444,
                            "#bd3786"
                          ],
                          [
                            0.5555555555555556,
                            "#d8576b"
                          ],
                          [
                            0.6666666666666666,
                            "#ed7953"
                          ],
                          [
                            0.7777777777777778,
                            "#fb9f3a"
                          ],
                          [
                            0.8888888888888888,
                            "#fdca26"
                          ],
                          [
                            1,
                            "#f0f921"
                          ]
                        ],
                        "type": "contour"
                      }
                    ],
                    "contourcarpet": [
                      {
                        "colorbar": {
                          "outlinewidth": 0,
                          "ticks": ""
                        },
                        "type": "contourcarpet"
                      }
                    ],
                    "heatmap": [
                      {
                        "colorbar": {
                          "outlinewidth": 0,
                          "ticks": ""
                        },
                        "colorscale": [
                          [
                            0,
                            "#0d0887"
                          ],
                          [
                            0.1111111111111111,
                            "#46039f"
                          ],
                          [
                            0.2222222222222222,
                            "#7201a8"
                          ],
                          [
                            0.3333333333333333,
                            "#9c179e"
                          ],
                          [
                            0.4444444444444444,
                            "#bd3786"
                          ],
                          [
                            0.5555555555555556,
                            "#d8576b"
                          ],
                          [
                            0.6666666666666666,
                            "#ed7953"
                          ],
                          [
                            0.7777777777777778,
                            "#fb9f3a"
                          ],
                          [
                            0.8888888888888888,
                            "#fdca26"
                          ],
                          [
                            1,
                            "#f0f921"
                          ]
                        ],
                        "type": "heatmap"
                      }
                    ],
                    "heatmapgl": [
                      {
                        "colorbar": {
                          "outlinewidth": 0,
                          "ticks": ""
                        },
                        "colorscale": [
                          [
                            0,
                            "#0d0887"
                          ],
                          [
                            0.1111111111111111,
                            "#46039f"
                          ],
                          [
                            0.2222222222222222,
                            "#7201a8"
                          ],
                          [
                            0.3333333333333333,
                            "#9c179e"
                          ],
                          [
                            0.4444444444444444,
                            "#bd3786"
                          ],
                          [
                            0.5555555555555556,
                            "#d8576b"
                          ],
                          [
                            0.6666666666666666,
                            "#ed7953"
                          ],
                          [
                            0.7777777777777778,
                            "#fb9f3a"
                          ],
                          [
                            0.8888888888888888,
                            "#fdca26"
                          ],
                          [
                            1,
                            "#f0f921"
                          ]
                        ],
                        "type": "heatmapgl"
                      }
                    ],
                    "histogram": [
                      {
                        "marker": {
                          "pattern": {
                            "fillmode": "overlay",
                            "size": 10,
                            "solidity": 0.2
                          }
                        },
                        "type": "histogram"
                      }
                    ],
                    "histogram2d": [
                      {
                        "colorbar": {
                          "outlinewidth": 0,
                          "ticks": ""
                        },
                        "colorscale": [
                          [
                            0,
                            "#0d0887"
                          ],
                          [
                            0.1111111111111111,
                            "#46039f"
                          ],
                          [
                            0.2222222222222222,
                            "#7201a8"
                          ],
                          [
                            0.3333333333333333,
                            "#9c179e"
                          ],
                          [
                            0.4444444444444444,
                            "#bd3786"
                          ],
                          [
                            0.5555555555555556,
                            "#d8576b"
                          ],
                          [
                            0.6666666666666666,
                            "#ed7953"
                          ],
                          [
                            0.7777777777777778,
                            "#fb9f3a"
                          ],
                          [
                            0.8888888888888888,
                            "#fdca26"
                          ],
                          [
                            1,
                            "#f0f921"
                          ]
                        ],
                        "type": "histogram2d"
                      }
                    ],
                    "histogram2dcontour": [
                      {
                        "colorbar": {
                          "outlinewidth": 0,
                          "ticks": ""
                        },
                        "colorscale": [
                          [
                            0,
                            "#0d0887"
                          ],
                          [
                            0.1111111111111111,
                            "#46039f"
                          ],
                          [
                            0.2222222222222222,
                            "#7201a8"
                          ],
                          [
                            0.3333333333333333,
                            "#9c179e"
                          ],
                          [
                            0.4444444444444444,
                            "#bd3786"
                          ],
                          [
                            0.5555555555555556,
                            "#d8576b"
                          ],
                          [
                            0.6666666666666666,
                            "#ed7953"
                          ],
                          [
                            0.7777777777777778,
                            "#fb9f3a"
                          ],
                          [
                            0.8888888888888888,
                            "#fdca26"
                          ],
                          [
                            1,
                            "#f0f921"
                          ]
                        ],
                        "type": "histogram2dcontour"
                      }
                    ],
                    "mesh3d": [
                      {
                        "colorbar": {
                          "outlinewidth": 0,
                          "ticks": ""
                        },
                        "type": "mesh3d"
                      }
                    ],
                    "parcoords": [
                      {
                        "line": {
                          "colorbar": {
                            "outlinewidth": 0,
                            "ticks": ""
                          }
                        },
                        "type": "parcoords"
                      }
                    ],
                    "pie": [
                      {
                        "automargin": true,
                        "type": "pie"
                      }
                    ],
                    "scatter": [
                      {
                        "fillpattern": {
                          "fillmode": "overlay",
                          "size": 10,
                          "solidity": 0.2
                        },
                        "type": "scatter"
                      }
                    ],
                    "scatter3d": [
                      {
                        "line": {
                          "colorbar": {
                            "outlinewidth": 0,
                            "ticks": ""
                          }
                        },
                        "marker": {
                          "colorbar": {
                            "outlinewidth": 0,
                            "ticks": ""
                          }
                        },
                        "type": "scatter3d"
                      }
                    ],
                    "scattercarpet": [
                      {
                        "marker": {
                          "colorbar": {
                            "outlinewidth": 0,
                            "ticks": ""
                          }
                        },
                        "type": "scattercarpet"
                      }
                    ],
                    "scattergeo": [
                      {
                        "marker": {
                          "colorbar": {
                            "outlinewidth": 0,
                            "ticks": ""
                          }
                        },
                        "type": "scattergeo"
                      }
                    ],
                    "scattergl": [
                      {
                        "marker": {
                          "colorbar": {
                            "outlinewidth": 0,
                            "ticks": ""
                          }
                        },
                        "type": "scattergl"
                      }
                    ],
                    "scattermapbox": [
                      {
                        "marker": {
                          "colorbar": {
                            "outlinewidth": 0,
                            "ticks": ""
                          }
                        },
                        "type": "scattermapbox"
                      }
                    ],
                    "scatterpolar": [
                      {
                        "marker": {
                          "colorbar": {
                            "outlinewidth": 0,
                            "ticks": ""
                          }
                        },
                        "type": "scatterpolar"
                      }
                    ],
                    "scatterpolargl": [
                      {
                        "marker": {
                          "colorbar": {
                            "outlinewidth": 0,
                            "ticks": ""
                          }
                        },
                        "type": "scatterpolargl"
                      }
                    ],
                    "scatterternary": [
                      {
                        "marker": {
                          "colorbar": {
                            "outlinewidth": 0,
                            "ticks": ""
                          }
                        },
                        "type": "scatterternary"
                      }
                    ],
                    "surface": [
                      {
                        "colorbar": {
                          "outlinewidth": 0,
                          "ticks": ""
                        },
                        "colorscale": [
                          [
                            0,
                            "#0d0887"
                          ],
                          [
                            0.1111111111111111,
                            "#46039f"
                          ],
                          [
                            0.2222222222222222,
                            "#7201a8"
                          ],
                          [
                            0.3333333333333333,
                            "#9c179e"
                          ],
                          [
                            0.4444444444444444,
                            "#bd3786"
                          ],
                          [
                            0.5555555555555556,
                            "#d8576b"
                          ],
                          [
                            0.6666666666666666,
                            "#ed7953"
                          ],
                          [
                            0.7777777777777778,
                            "#fb9f3a"
                          ],
                          [
                            0.8888888888888888,
                            "#fdca26"
                          ],
                          [
                            1,
                            "#f0f921"
                          ]
                        ],
                        "type": "surface"
                      }
                    ],
                    "table": [
                      {
                        "cells": {
                          "fill": {
                            "color": "#EBF0F8"
                          },
                          "line": {
                            "color": "white"
                          }
                        },
                        "header": {
                          "fill": {
                            "color": "#C8D4E3"
                          },
                          "line": {
                            "color": "white"
                          }
                        },
                        "type": "table"
                      }
                    ]
                  },
                  "layout": {
                    "annotationdefaults": {
                      "arrowcolor": "#2a3f5f",
                      "arrowhead": 0,
                      "arrowwidth": 1
                    },
                    "autotypenumbers": "strict",
                    "coloraxis": {
                      "colorbar": {
                        "outlinewidth": 0,
                        "ticks": ""
                      }
                    },
                    "colorscale": {
                      "diverging": [
                        [
                          0,
                          "#8e0152"
                        ],
                        [
                          0.1,
                          "#c51b7d"
                        ],
                        [
                          0.2,
                          "#de77ae"
                        ],
                        [
                          0.3,
                          "#f1b6da"
                        ],
                        [
                          0.4,
                          "#fde0ef"
                        ],
                        [
                          0.5,
                          "#f7f7f7"
                        ],
                        [
                          0.6,
                          "#e6f5d0"
                        ],
                        [
                          0.7,
                          "#b8e186"
                        ],
                        [
                          0.8,
                          "#7fbc41"
                        ],
                        [
                          0.9,
                          "#4d9221"
                        ],
                        [
                          1,
                          "#276419"
                        ]
                      ],
                      "sequential": [
                        [
                          0,
                          "#0d0887"
                        ],
                        [
                          0.1111111111111111,
                          "#46039f"
                        ],
                        [
                          0.2222222222222222,
                          "#7201a8"
                        ],
                        [
                          0.3333333333333333,
                          "#9c179e"
                        ],
                        [
                          0.4444444444444444,
                          "#bd3786"
                        ],
                        [
                          0.5555555555555556,
                          "#d8576b"
                        ],
                        [
                          0.6666666666666666,
                          "#ed7953"
                        ],
                        [
                          0.7777777777777778,
                          "#fb9f3a"
                        ],
                        [
                          0.8888888888888888,
                          "#fdca26"
                        ],
                        [
                          1,
                          "#f0f921"
                        ]
                      ],
                      "sequentialminus": [
                        [
                          0,
                          "#0d0887"
                        ],
                        [
                          0.1111111111111111,
                          "#46039f"
                        ],
                        [
                          0.2222222222222222,
                          "#7201a8"
                        ],
                        [
                          0.3333333333333333,
                          "#9c179e"
                        ],
                        [
                          0.4444444444444444,
                          "#bd3786"
                        ],
                        [
                          0.5555555555555556,
                          "#d8576b"
                        ],
                        [
                          0.6666666666666666,
                          "#ed7953"
                        ],
                        [
                          0.7777777777777778,
                          "#fb9f3a"
                        ],
                        [
                          0.8888888888888888,
                          "#fdca26"
                        ],
                        [
                          1,
                          "#f0f921"
                        ]
                      ]
                    },
                    "colorway": [
                      "#636efa",
                      "#EF553B",
                      "#00cc96",
                      "#ab63fa",
                      "#FFA15A",
                      "#19d3f3",
                      "#FF6692",
                      "#B6E880",
                      "#FF97FF",
                      "#FECB52"
                    ],
                    "font": {
                      "color": "#2a3f5f"
                    },
                    "geo": {
                      "bgcolor": "white",
                      "lakecolor": "white",
                      "landcolor": "#E5ECF6",
                      "showlakes": true,
                      "showland": true,
                      "subunitcolor": "white"
                    },
                    "hoverlabel": {
                      "align": "left"
                    },
                    "hovermode": "closest",
                    "mapbox": {
                      "style": "light"
                    },
                    "paper_bgcolor": "white",
                    "plot_bgcolor": "#E5ECF6",
                    "polar": {
                      "angularaxis": {
                        "gridcolor": "white",
                        "linecolor": "white",
                        "ticks": ""
                      },
                      "bgcolor": "#E5ECF6",
                      "radialaxis": {
                        "gridcolor": "white",
                        "linecolor": "white",
                        "ticks": ""
                      }
                    },
                    "scene": {
                      "xaxis": {
                        "backgroundcolor": "#E5ECF6",
                        "gridcolor": "white",
                        "gridwidth": 2,
                        "linecolor": "white",
                        "showbackground": true,
                        "ticks": "",
                        "zerolinecolor": "white"
                      },
                      "yaxis": {
                        "backgroundcolor": "#E5ECF6",
                        "gridcolor": "white",
                        "gridwidth": 2,
                        "linecolor": "white",
                        "showbackground": true,
                        "ticks": "",
                        "zerolinecolor": "white"
                      },
                      "zaxis": {
                        "backgroundcolor": "#E5ECF6",
                        "gridcolor": "white",
                        "gridwidth": 2,
                        "linecolor": "white",
                        "showbackground": true,
                        "ticks": "",
                        "zerolinecolor": "white"
                      }
                    },
                    "shapedefaults": {
                      "line": {
                        "color": "#2a3f5f"
                      }
                    },
                    "ternary": {
                      "aaxis": {
                        "gridcolor": "white",
                        "linecolor": "white",
                        "ticks": ""
                      },
                      "baxis": {
                        "gridcolor": "white",
                        "linecolor": "white",
                        "ticks": ""
                      },
                      "bgcolor": "#E5ECF6",
                      "caxis": {
                        "gridcolor": "white",
                        "linecolor": "white",
                        "ticks": ""
                      }
                    },
                    "title": {
                      "x": 0.05
                    },
                    "xaxis": {
                      "automargin": true,
                      "gridcolor": "white",
                      "linecolor": "white",
                      "ticks": "",
                      "title": {
                        "standoff": 15
                      },
                      "zerolinecolor": "white",
                      "zerolinewidth": 2
                    },
                    "yaxis": {
                      "automargin": true,
                      "gridcolor": "white",
                      "linecolor": "white",
                      "ticks": "",
                      "title": {
                        "standoff": 15
                      },
                      "zerolinecolor": "white",
                      "zerolinewidth": 2
                    }
                  }
                },
                "title": {
                  "text": "Content added over the years"
                }
              }
            }
          },
          "metadata": {},
          "output_type": "display_data"
        }
      ],
      "source": [
        "# The ratings of the content\n",
        "col = \"rating\"\n",
        "vc1 = d1[col].value_counts().reset_index()\n",
        "vc1 = vc1.rename(columns = {col : \"count\", \"index\" : col})\n",
        "vc1['percent'] = vc1['count'].apply(lambda x : 100*x/sum(vc1['count']))\n",
        "vc1 = vc1.sort_values(col)\n",
        "\n",
        "vc2 = d2[col].value_counts().reset_index()\n",
        "vc2 = vc2.rename(columns = {col : \"count\", \"index\" : col})\n",
        "vc2['percent'] = vc2['count'].apply(lambda x : 100*x/sum(vc2['count']))\n",
        "vc2 = vc2.sort_values(col)\n",
        "\n",
        "trace1 = go.Bar(x=vc1[col], y=vc1[\"count\"], name=\"TV Shows\", marker=dict(color=\"#a678de\"))\n",
        "trace2 = go.Bar(x=vc2[col], y=vc2[\"count\"], name=\"Movies\", marker=dict(color=\"#6ad49b\"))\n",
        "data = [trace1, trace2]\n",
        "layout = go.Layout(title=\"Content added over the years\", legend=dict(x=0.1, y=1.1, orientation=\"h\"))\n",
        "fig = go.Figure(data, layout=layout)\n",
        "fig.show()"
      ]
    },
    {
      "cell_type": "code",
      "execution_count": 426,
      "metadata": {
        "colab": {
          "base_uri": "https://localhost:8080/",
          "height": 542
        },
        "id": "qeI_7oP_R6Yy",
        "outputId": "0eb20ad0-3987-4fa4-b3c6-57fe11297d79"
      },
      "outputs": [
        {
          "data": {
            "application/vnd.plotly.v1+json": {
              "config": {
                "plotlyServerURL": "https://plot.ly"
              },
              "data": [
                {
                  "marker": {
                    "color": "#a678de"
                  },
                  "name": "TV Shows",
                  "orientation": "h",
                  "type": "bar",
                  "x": [
                    53,
                    65,
                    71,
                    71,
                    102,
                    116,
                    219,
                    243,
                    343,
                    357,
                    375,
                    577,
                    616,
                    641,
                    756,
                    859,
                    869,
                    1674,
                    2426,
                    2752
                  ],
                  "y": [
                    "Movies",
                    "Faith & Spirituality",
                    "Cult Movies",
                    "Anime Features",
                    "LGBTQ Movies",
                    "Classic Movies",
                    "Sports Movies",
                    "Sci-Fi & Fantasy",
                    "Stand-Up Comedy",
                    "Horror Movies",
                    "Music & Musicals",
                    "Thrillers",
                    "Romantic Movies",
                    "Children & Family Movies",
                    "Independent Movies",
                    "Action & Adventure",
                    "Documentaries",
                    "Comedies",
                    "Dramas",
                    "International Movies"
                  ]
                }
              ],
              "layout": {
                "legend": {
                  "orientation": "h",
                  "x": 0.1,
                  "y": 1.1
                },
                "template": {
                  "data": {
                    "bar": [
                      {
                        "error_x": {
                          "color": "#2a3f5f"
                        },
                        "error_y": {
                          "color": "#2a3f5f"
                        },
                        "marker": {
                          "line": {
                            "color": "#E5ECF6",
                            "width": 0.5
                          },
                          "pattern": {
                            "fillmode": "overlay",
                            "size": 10,
                            "solidity": 0.2
                          }
                        },
                        "type": "bar"
                      }
                    ],
                    "barpolar": [
                      {
                        "marker": {
                          "line": {
                            "color": "#E5ECF6",
                            "width": 0.5
                          },
                          "pattern": {
                            "fillmode": "overlay",
                            "size": 10,
                            "solidity": 0.2
                          }
                        },
                        "type": "barpolar"
                      }
                    ],
                    "carpet": [
                      {
                        "aaxis": {
                          "endlinecolor": "#2a3f5f",
                          "gridcolor": "white",
                          "linecolor": "white",
                          "minorgridcolor": "white",
                          "startlinecolor": "#2a3f5f"
                        },
                        "baxis": {
                          "endlinecolor": "#2a3f5f",
                          "gridcolor": "white",
                          "linecolor": "white",
                          "minorgridcolor": "white",
                          "startlinecolor": "#2a3f5f"
                        },
                        "type": "carpet"
                      }
                    ],
                    "choropleth": [
                      {
                        "colorbar": {
                          "outlinewidth": 0,
                          "ticks": ""
                        },
                        "type": "choropleth"
                      }
                    ],
                    "contour": [
                      {
                        "colorbar": {
                          "outlinewidth": 0,
                          "ticks": ""
                        },
                        "colorscale": [
                          [
                            0,
                            "#0d0887"
                          ],
                          [
                            0.1111111111111111,
                            "#46039f"
                          ],
                          [
                            0.2222222222222222,
                            "#7201a8"
                          ],
                          [
                            0.3333333333333333,
                            "#9c179e"
                          ],
                          [
                            0.4444444444444444,
                            "#bd3786"
                          ],
                          [
                            0.5555555555555556,
                            "#d8576b"
                          ],
                          [
                            0.6666666666666666,
                            "#ed7953"
                          ],
                          [
                            0.7777777777777778,
                            "#fb9f3a"
                          ],
                          [
                            0.8888888888888888,
                            "#fdca26"
                          ],
                          [
                            1,
                            "#f0f921"
                          ]
                        ],
                        "type": "contour"
                      }
                    ],
                    "contourcarpet": [
                      {
                        "colorbar": {
                          "outlinewidth": 0,
                          "ticks": ""
                        },
                        "type": "contourcarpet"
                      }
                    ],
                    "heatmap": [
                      {
                        "colorbar": {
                          "outlinewidth": 0,
                          "ticks": ""
                        },
                        "colorscale": [
                          [
                            0,
                            "#0d0887"
                          ],
                          [
                            0.1111111111111111,
                            "#46039f"
                          ],
                          [
                            0.2222222222222222,
                            "#7201a8"
                          ],
                          [
                            0.3333333333333333,
                            "#9c179e"
                          ],
                          [
                            0.4444444444444444,
                            "#bd3786"
                          ],
                          [
                            0.5555555555555556,
                            "#d8576b"
                          ],
                          [
                            0.6666666666666666,
                            "#ed7953"
                          ],
                          [
                            0.7777777777777778,
                            "#fb9f3a"
                          ],
                          [
                            0.8888888888888888,
                            "#fdca26"
                          ],
                          [
                            1,
                            "#f0f921"
                          ]
                        ],
                        "type": "heatmap"
                      }
                    ],
                    "heatmapgl": [
                      {
                        "colorbar": {
                          "outlinewidth": 0,
                          "ticks": ""
                        },
                        "colorscale": [
                          [
                            0,
                            "#0d0887"
                          ],
                          [
                            0.1111111111111111,
                            "#46039f"
                          ],
                          [
                            0.2222222222222222,
                            "#7201a8"
                          ],
                          [
                            0.3333333333333333,
                            "#9c179e"
                          ],
                          [
                            0.4444444444444444,
                            "#bd3786"
                          ],
                          [
                            0.5555555555555556,
                            "#d8576b"
                          ],
                          [
                            0.6666666666666666,
                            "#ed7953"
                          ],
                          [
                            0.7777777777777778,
                            "#fb9f3a"
                          ],
                          [
                            0.8888888888888888,
                            "#fdca26"
                          ],
                          [
                            1,
                            "#f0f921"
                          ]
                        ],
                        "type": "heatmapgl"
                      }
                    ],
                    "histogram": [
                      {
                        "marker": {
                          "pattern": {
                            "fillmode": "overlay",
                            "size": 10,
                            "solidity": 0.2
                          }
                        },
                        "type": "histogram"
                      }
                    ],
                    "histogram2d": [
                      {
                        "colorbar": {
                          "outlinewidth": 0,
                          "ticks": ""
                        },
                        "colorscale": [
                          [
                            0,
                            "#0d0887"
                          ],
                          [
                            0.1111111111111111,
                            "#46039f"
                          ],
                          [
                            0.2222222222222222,
                            "#7201a8"
                          ],
                          [
                            0.3333333333333333,
                            "#9c179e"
                          ],
                          [
                            0.4444444444444444,
                            "#bd3786"
                          ],
                          [
                            0.5555555555555556,
                            "#d8576b"
                          ],
                          [
                            0.6666666666666666,
                            "#ed7953"
                          ],
                          [
                            0.7777777777777778,
                            "#fb9f3a"
                          ],
                          [
                            0.8888888888888888,
                            "#fdca26"
                          ],
                          [
                            1,
                            "#f0f921"
                          ]
                        ],
                        "type": "histogram2d"
                      }
                    ],
                    "histogram2dcontour": [
                      {
                        "colorbar": {
                          "outlinewidth": 0,
                          "ticks": ""
                        },
                        "colorscale": [
                          [
                            0,
                            "#0d0887"
                          ],
                          [
                            0.1111111111111111,
                            "#46039f"
                          ],
                          [
                            0.2222222222222222,
                            "#7201a8"
                          ],
                          [
                            0.3333333333333333,
                            "#9c179e"
                          ],
                          [
                            0.4444444444444444,
                            "#bd3786"
                          ],
                          [
                            0.5555555555555556,
                            "#d8576b"
                          ],
                          [
                            0.6666666666666666,
                            "#ed7953"
                          ],
                          [
                            0.7777777777777778,
                            "#fb9f3a"
                          ],
                          [
                            0.8888888888888888,
                            "#fdca26"
                          ],
                          [
                            1,
                            "#f0f921"
                          ]
                        ],
                        "type": "histogram2dcontour"
                      }
                    ],
                    "mesh3d": [
                      {
                        "colorbar": {
                          "outlinewidth": 0,
                          "ticks": ""
                        },
                        "type": "mesh3d"
                      }
                    ],
                    "parcoords": [
                      {
                        "line": {
                          "colorbar": {
                            "outlinewidth": 0,
                            "ticks": ""
                          }
                        },
                        "type": "parcoords"
                      }
                    ],
                    "pie": [
                      {
                        "automargin": true,
                        "type": "pie"
                      }
                    ],
                    "scatter": [
                      {
                        "fillpattern": {
                          "fillmode": "overlay",
                          "size": 10,
                          "solidity": 0.2
                        },
                        "type": "scatter"
                      }
                    ],
                    "scatter3d": [
                      {
                        "line": {
                          "colorbar": {
                            "outlinewidth": 0,
                            "ticks": ""
                          }
                        },
                        "marker": {
                          "colorbar": {
                            "outlinewidth": 0,
                            "ticks": ""
                          }
                        },
                        "type": "scatter3d"
                      }
                    ],
                    "scattercarpet": [
                      {
                        "marker": {
                          "colorbar": {
                            "outlinewidth": 0,
                            "ticks": ""
                          }
                        },
                        "type": "scattercarpet"
                      }
                    ],
                    "scattergeo": [
                      {
                        "marker": {
                          "colorbar": {
                            "outlinewidth": 0,
                            "ticks": ""
                          }
                        },
                        "type": "scattergeo"
                      }
                    ],
                    "scattergl": [
                      {
                        "marker": {
                          "colorbar": {
                            "outlinewidth": 0,
                            "ticks": ""
                          }
                        },
                        "type": "scattergl"
                      }
                    ],
                    "scattermapbox": [
                      {
                        "marker": {
                          "colorbar": {
                            "outlinewidth": 0,
                            "ticks": ""
                          }
                        },
                        "type": "scattermapbox"
                      }
                    ],
                    "scatterpolar": [
                      {
                        "marker": {
                          "colorbar": {
                            "outlinewidth": 0,
                            "ticks": ""
                          }
                        },
                        "type": "scatterpolar"
                      }
                    ],
                    "scatterpolargl": [
                      {
                        "marker": {
                          "colorbar": {
                            "outlinewidth": 0,
                            "ticks": ""
                          }
                        },
                        "type": "scatterpolargl"
                      }
                    ],
                    "scatterternary": [
                      {
                        "marker": {
                          "colorbar": {
                            "outlinewidth": 0,
                            "ticks": ""
                          }
                        },
                        "type": "scatterternary"
                      }
                    ],
                    "surface": [
                      {
                        "colorbar": {
                          "outlinewidth": 0,
                          "ticks": ""
                        },
                        "colorscale": [
                          [
                            0,
                            "#0d0887"
                          ],
                          [
                            0.1111111111111111,
                            "#46039f"
                          ],
                          [
                            0.2222222222222222,
                            "#7201a8"
                          ],
                          [
                            0.3333333333333333,
                            "#9c179e"
                          ],
                          [
                            0.4444444444444444,
                            "#bd3786"
                          ],
                          [
                            0.5555555555555556,
                            "#d8576b"
                          ],
                          [
                            0.6666666666666666,
                            "#ed7953"
                          ],
                          [
                            0.7777777777777778,
                            "#fb9f3a"
                          ],
                          [
                            0.8888888888888888,
                            "#fdca26"
                          ],
                          [
                            1,
                            "#f0f921"
                          ]
                        ],
                        "type": "surface"
                      }
                    ],
                    "table": [
                      {
                        "cells": {
                          "fill": {
                            "color": "#EBF0F8"
                          },
                          "line": {
                            "color": "white"
                          }
                        },
                        "header": {
                          "fill": {
                            "color": "#C8D4E3"
                          },
                          "line": {
                            "color": "white"
                          }
                        },
                        "type": "table"
                      }
                    ]
                  },
                  "layout": {
                    "annotationdefaults": {
                      "arrowcolor": "#2a3f5f",
                      "arrowhead": 0,
                      "arrowwidth": 1
                    },
                    "autotypenumbers": "strict",
                    "coloraxis": {
                      "colorbar": {
                        "outlinewidth": 0,
                        "ticks": ""
                      }
                    },
                    "colorscale": {
                      "diverging": [
                        [
                          0,
                          "#8e0152"
                        ],
                        [
                          0.1,
                          "#c51b7d"
                        ],
                        [
                          0.2,
                          "#de77ae"
                        ],
                        [
                          0.3,
                          "#f1b6da"
                        ],
                        [
                          0.4,
                          "#fde0ef"
                        ],
                        [
                          0.5,
                          "#f7f7f7"
                        ],
                        [
                          0.6,
                          "#e6f5d0"
                        ],
                        [
                          0.7,
                          "#b8e186"
                        ],
                        [
                          0.8,
                          "#7fbc41"
                        ],
                        [
                          0.9,
                          "#4d9221"
                        ],
                        [
                          1,
                          "#276419"
                        ]
                      ],
                      "sequential": [
                        [
                          0,
                          "#0d0887"
                        ],
                        [
                          0.1111111111111111,
                          "#46039f"
                        ],
                        [
                          0.2222222222222222,
                          "#7201a8"
                        ],
                        [
                          0.3333333333333333,
                          "#9c179e"
                        ],
                        [
                          0.4444444444444444,
                          "#bd3786"
                        ],
                        [
                          0.5555555555555556,
                          "#d8576b"
                        ],
                        [
                          0.6666666666666666,
                          "#ed7953"
                        ],
                        [
                          0.7777777777777778,
                          "#fb9f3a"
                        ],
                        [
                          0.8888888888888888,
                          "#fdca26"
                        ],
                        [
                          1,
                          "#f0f921"
                        ]
                      ],
                      "sequentialminus": [
                        [
                          0,
                          "#0d0887"
                        ],
                        [
                          0.1111111111111111,
                          "#46039f"
                        ],
                        [
                          0.2222222222222222,
                          "#7201a8"
                        ],
                        [
                          0.3333333333333333,
                          "#9c179e"
                        ],
                        [
                          0.4444444444444444,
                          "#bd3786"
                        ],
                        [
                          0.5555555555555556,
                          "#d8576b"
                        ],
                        [
                          0.6666666666666666,
                          "#ed7953"
                        ],
                        [
                          0.7777777777777778,
                          "#fb9f3a"
                        ],
                        [
                          0.8888888888888888,
                          "#fdca26"
                        ],
                        [
                          1,
                          "#f0f921"
                        ]
                      ]
                    },
                    "colorway": [
                      "#636efa",
                      "#EF553B",
                      "#00cc96",
                      "#ab63fa",
                      "#FFA15A",
                      "#19d3f3",
                      "#FF6692",
                      "#B6E880",
                      "#FF97FF",
                      "#FECB52"
                    ],
                    "font": {
                      "color": "#2a3f5f"
                    },
                    "geo": {
                      "bgcolor": "white",
                      "lakecolor": "white",
                      "landcolor": "#E5ECF6",
                      "showlakes": true,
                      "showland": true,
                      "subunitcolor": "white"
                    },
                    "hoverlabel": {
                      "align": "left"
                    },
                    "hovermode": "closest",
                    "mapbox": {
                      "style": "light"
                    },
                    "paper_bgcolor": "white",
                    "plot_bgcolor": "#E5ECF6",
                    "polar": {
                      "angularaxis": {
                        "gridcolor": "white",
                        "linecolor": "white",
                        "ticks": ""
                      },
                      "bgcolor": "#E5ECF6",
                      "radialaxis": {
                        "gridcolor": "white",
                        "linecolor": "white",
                        "ticks": ""
                      }
                    },
                    "scene": {
                      "xaxis": {
                        "backgroundcolor": "#E5ECF6",
                        "gridcolor": "white",
                        "gridwidth": 2,
                        "linecolor": "white",
                        "showbackground": true,
                        "ticks": "",
                        "zerolinecolor": "white"
                      },
                      "yaxis": {
                        "backgroundcolor": "#E5ECF6",
                        "gridcolor": "white",
                        "gridwidth": 2,
                        "linecolor": "white",
                        "showbackground": true,
                        "ticks": "",
                        "zerolinecolor": "white"
                      },
                      "zaxis": {
                        "backgroundcolor": "#E5ECF6",
                        "gridcolor": "white",
                        "gridwidth": 2,
                        "linecolor": "white",
                        "showbackground": true,
                        "ticks": "",
                        "zerolinecolor": "white"
                      }
                    },
                    "shapedefaults": {
                      "line": {
                        "color": "#2a3f5f"
                      }
                    },
                    "ternary": {
                      "aaxis": {
                        "gridcolor": "white",
                        "linecolor": "white",
                        "ticks": ""
                      },
                      "baxis": {
                        "gridcolor": "white",
                        "linecolor": "white",
                        "ticks": ""
                      },
                      "bgcolor": "#E5ECF6",
                      "caxis": {
                        "gridcolor": "white",
                        "linecolor": "white",
                        "ticks": ""
                      }
                    },
                    "title": {
                      "x": 0.05
                    },
                    "xaxis": {
                      "automargin": true,
                      "gridcolor": "white",
                      "linecolor": "white",
                      "ticks": "",
                      "title": {
                        "standoff": 15
                      },
                      "zerolinecolor": "white",
                      "zerolinewidth": 2
                    },
                    "yaxis": {
                      "automargin": true,
                      "gridcolor": "white",
                      "linecolor": "white",
                      "ticks": "",
                      "title": {
                        "standoff": 15
                      },
                      "zerolinecolor": "white",
                      "zerolinewidth": 2
                    }
                  }
                },
                "title": {
                  "text": "Content added over the years"
                }
              }
            }
          },
          "metadata": {},
          "output_type": "display_data"
        }
      ],
      "source": [
        "# What are the top Categories?\n",
        "from collections import Counter\n",
        "col = \"listed_in\"\n",
        "categories = \", \".join(d2['listed_in']).split(\", \")\n",
        "counter_list = Counter(categories).most_common(50)\n",
        "labels = [_[0] for _ in counter_list][::-1]\n",
        "values = [_[1] for _ in counter_list][::-1]\n",
        "trace1 = go.Bar(y=labels, x=values, orientation=\"h\", name=\"TV Shows\", marker=dict(color=\"#a678de\"))\n",
        "\n",
        "data = [trace1]\n",
        "layout = go.Layout(title=\"Content added over the years\", legend=dict(x=0.1, y=1.1, orientation=\"h\"))\n",
        "content_added = go.Figure(data, layout=layout)\n",
        "content_added.show()"
      ]
    },
    {
      "cell_type": "code",
      "execution_count": 427,
      "metadata": {
        "colab": {
          "base_uri": "https://localhost:8080/",
          "height": 542
        },
        "id": "-No6PhJvSQ3V",
        "outputId": "68253437-19f6-493e-98db-6766ba9b981e"
      },
      "outputs": [
        {
          "data": {
            "application/vnd.plotly.v1+json": {
              "config": {
                "plotlyServerURL": "https://plot.ly"
              },
              "data": [
                {
                  "name": "TV Shows",
                  "orientation": "h",
                  "type": "bar",
                  "x": [
                    6,
                    6,
                    7,
                    7,
                    7,
                    8,
                    8,
                    9,
                    12,
                    14,
                    15,
                    58
                  ],
                  "y": [
                    "Steve Brill",
                    "Steven Spielberg",
                    "Ryan Polito",
                    "Lance Bangs",
                    "Leslie Small",
                    "Martin Scorsese",
                    "Troy Miller",
                    "Shannon Hartman",
                    "Jay Chapman",
                    "Marcus Raboy",
                    "Jay Karas",
                    "Unknown"
                  ]
                }
              ],
              "layout": {
                "legend": {
                  "orientation": "h",
                  "x": 0.1,
                  "y": 1.1
                },
                "template": {
                  "data": {
                    "bar": [
                      {
                        "error_x": {
                          "color": "#2a3f5f"
                        },
                        "error_y": {
                          "color": "#2a3f5f"
                        },
                        "marker": {
                          "line": {
                            "color": "#E5ECF6",
                            "width": 0.5
                          },
                          "pattern": {
                            "fillmode": "overlay",
                            "size": 10,
                            "solidity": 0.2
                          }
                        },
                        "type": "bar"
                      }
                    ],
                    "barpolar": [
                      {
                        "marker": {
                          "line": {
                            "color": "#E5ECF6",
                            "width": 0.5
                          },
                          "pattern": {
                            "fillmode": "overlay",
                            "size": 10,
                            "solidity": 0.2
                          }
                        },
                        "type": "barpolar"
                      }
                    ],
                    "carpet": [
                      {
                        "aaxis": {
                          "endlinecolor": "#2a3f5f",
                          "gridcolor": "white",
                          "linecolor": "white",
                          "minorgridcolor": "white",
                          "startlinecolor": "#2a3f5f"
                        },
                        "baxis": {
                          "endlinecolor": "#2a3f5f",
                          "gridcolor": "white",
                          "linecolor": "white",
                          "minorgridcolor": "white",
                          "startlinecolor": "#2a3f5f"
                        },
                        "type": "carpet"
                      }
                    ],
                    "choropleth": [
                      {
                        "colorbar": {
                          "outlinewidth": 0,
                          "ticks": ""
                        },
                        "type": "choropleth"
                      }
                    ],
                    "contour": [
                      {
                        "colorbar": {
                          "outlinewidth": 0,
                          "ticks": ""
                        },
                        "colorscale": [
                          [
                            0,
                            "#0d0887"
                          ],
                          [
                            0.1111111111111111,
                            "#46039f"
                          ],
                          [
                            0.2222222222222222,
                            "#7201a8"
                          ],
                          [
                            0.3333333333333333,
                            "#9c179e"
                          ],
                          [
                            0.4444444444444444,
                            "#bd3786"
                          ],
                          [
                            0.5555555555555556,
                            "#d8576b"
                          ],
                          [
                            0.6666666666666666,
                            "#ed7953"
                          ],
                          [
                            0.7777777777777778,
                            "#fb9f3a"
                          ],
                          [
                            0.8888888888888888,
                            "#fdca26"
                          ],
                          [
                            1,
                            "#f0f921"
                          ]
                        ],
                        "type": "contour"
                      }
                    ],
                    "contourcarpet": [
                      {
                        "colorbar": {
                          "outlinewidth": 0,
                          "ticks": ""
                        },
                        "type": "contourcarpet"
                      }
                    ],
                    "heatmap": [
                      {
                        "colorbar": {
                          "outlinewidth": 0,
                          "ticks": ""
                        },
                        "colorscale": [
                          [
                            0,
                            "#0d0887"
                          ],
                          [
                            0.1111111111111111,
                            "#46039f"
                          ],
                          [
                            0.2222222222222222,
                            "#7201a8"
                          ],
                          [
                            0.3333333333333333,
                            "#9c179e"
                          ],
                          [
                            0.4444444444444444,
                            "#bd3786"
                          ],
                          [
                            0.5555555555555556,
                            "#d8576b"
                          ],
                          [
                            0.6666666666666666,
                            "#ed7953"
                          ],
                          [
                            0.7777777777777778,
                            "#fb9f3a"
                          ],
                          [
                            0.8888888888888888,
                            "#fdca26"
                          ],
                          [
                            1,
                            "#f0f921"
                          ]
                        ],
                        "type": "heatmap"
                      }
                    ],
                    "heatmapgl": [
                      {
                        "colorbar": {
                          "outlinewidth": 0,
                          "ticks": ""
                        },
                        "colorscale": [
                          [
                            0,
                            "#0d0887"
                          ],
                          [
                            0.1111111111111111,
                            "#46039f"
                          ],
                          [
                            0.2222222222222222,
                            "#7201a8"
                          ],
                          [
                            0.3333333333333333,
                            "#9c179e"
                          ],
                          [
                            0.4444444444444444,
                            "#bd3786"
                          ],
                          [
                            0.5555555555555556,
                            "#d8576b"
                          ],
                          [
                            0.6666666666666666,
                            "#ed7953"
                          ],
                          [
                            0.7777777777777778,
                            "#fb9f3a"
                          ],
                          [
                            0.8888888888888888,
                            "#fdca26"
                          ],
                          [
                            1,
                            "#f0f921"
                          ]
                        ],
                        "type": "heatmapgl"
                      }
                    ],
                    "histogram": [
                      {
                        "marker": {
                          "pattern": {
                            "fillmode": "overlay",
                            "size": 10,
                            "solidity": 0.2
                          }
                        },
                        "type": "histogram"
                      }
                    ],
                    "histogram2d": [
                      {
                        "colorbar": {
                          "outlinewidth": 0,
                          "ticks": ""
                        },
                        "colorscale": [
                          [
                            0,
                            "#0d0887"
                          ],
                          [
                            0.1111111111111111,
                            "#46039f"
                          ],
                          [
                            0.2222222222222222,
                            "#7201a8"
                          ],
                          [
                            0.3333333333333333,
                            "#9c179e"
                          ],
                          [
                            0.4444444444444444,
                            "#bd3786"
                          ],
                          [
                            0.5555555555555556,
                            "#d8576b"
                          ],
                          [
                            0.6666666666666666,
                            "#ed7953"
                          ],
                          [
                            0.7777777777777778,
                            "#fb9f3a"
                          ],
                          [
                            0.8888888888888888,
                            "#fdca26"
                          ],
                          [
                            1,
                            "#f0f921"
                          ]
                        ],
                        "type": "histogram2d"
                      }
                    ],
                    "histogram2dcontour": [
                      {
                        "colorbar": {
                          "outlinewidth": 0,
                          "ticks": ""
                        },
                        "colorscale": [
                          [
                            0,
                            "#0d0887"
                          ],
                          [
                            0.1111111111111111,
                            "#46039f"
                          ],
                          [
                            0.2222222222222222,
                            "#7201a8"
                          ],
                          [
                            0.3333333333333333,
                            "#9c179e"
                          ],
                          [
                            0.4444444444444444,
                            "#bd3786"
                          ],
                          [
                            0.5555555555555556,
                            "#d8576b"
                          ],
                          [
                            0.6666666666666666,
                            "#ed7953"
                          ],
                          [
                            0.7777777777777778,
                            "#fb9f3a"
                          ],
                          [
                            0.8888888888888888,
                            "#fdca26"
                          ],
                          [
                            1,
                            "#f0f921"
                          ]
                        ],
                        "type": "histogram2dcontour"
                      }
                    ],
                    "mesh3d": [
                      {
                        "colorbar": {
                          "outlinewidth": 0,
                          "ticks": ""
                        },
                        "type": "mesh3d"
                      }
                    ],
                    "parcoords": [
                      {
                        "line": {
                          "colorbar": {
                            "outlinewidth": 0,
                            "ticks": ""
                          }
                        },
                        "type": "parcoords"
                      }
                    ],
                    "pie": [
                      {
                        "automargin": true,
                        "type": "pie"
                      }
                    ],
                    "scatter": [
                      {
                        "fillpattern": {
                          "fillmode": "overlay",
                          "size": 10,
                          "solidity": 0.2
                        },
                        "type": "scatter"
                      }
                    ],
                    "scatter3d": [
                      {
                        "line": {
                          "colorbar": {
                            "outlinewidth": 0,
                            "ticks": ""
                          }
                        },
                        "marker": {
                          "colorbar": {
                            "outlinewidth": 0,
                            "ticks": ""
                          }
                        },
                        "type": "scatter3d"
                      }
                    ],
                    "scattercarpet": [
                      {
                        "marker": {
                          "colorbar": {
                            "outlinewidth": 0,
                            "ticks": ""
                          }
                        },
                        "type": "scattercarpet"
                      }
                    ],
                    "scattergeo": [
                      {
                        "marker": {
                          "colorbar": {
                            "outlinewidth": 0,
                            "ticks": ""
                          }
                        },
                        "type": "scattergeo"
                      }
                    ],
                    "scattergl": [
                      {
                        "marker": {
                          "colorbar": {
                            "outlinewidth": 0,
                            "ticks": ""
                          }
                        },
                        "type": "scattergl"
                      }
                    ],
                    "scattermapbox": [
                      {
                        "marker": {
                          "colorbar": {
                            "outlinewidth": 0,
                            "ticks": ""
                          }
                        },
                        "type": "scattermapbox"
                      }
                    ],
                    "scatterpolar": [
                      {
                        "marker": {
                          "colorbar": {
                            "outlinewidth": 0,
                            "ticks": ""
                          }
                        },
                        "type": "scatterpolar"
                      }
                    ],
                    "scatterpolargl": [
                      {
                        "marker": {
                          "colorbar": {
                            "outlinewidth": 0,
                            "ticks": ""
                          }
                        },
                        "type": "scatterpolargl"
                      }
                    ],
                    "scatterternary": [
                      {
                        "marker": {
                          "colorbar": {
                            "outlinewidth": 0,
                            "ticks": ""
                          }
                        },
                        "type": "scatterternary"
                      }
                    ],
                    "surface": [
                      {
                        "colorbar": {
                          "outlinewidth": 0,
                          "ticks": ""
                        },
                        "colorscale": [
                          [
                            0,
                            "#0d0887"
                          ],
                          [
                            0.1111111111111111,
                            "#46039f"
                          ],
                          [
                            0.2222222222222222,
                            "#7201a8"
                          ],
                          [
                            0.3333333333333333,
                            "#9c179e"
                          ],
                          [
                            0.4444444444444444,
                            "#bd3786"
                          ],
                          [
                            0.5555555555555556,
                            "#d8576b"
                          ],
                          [
                            0.6666666666666666,
                            "#ed7953"
                          ],
                          [
                            0.7777777777777778,
                            "#fb9f3a"
                          ],
                          [
                            0.8888888888888888,
                            "#fdca26"
                          ],
                          [
                            1,
                            "#f0f921"
                          ]
                        ],
                        "type": "surface"
                      }
                    ],
                    "table": [
                      {
                        "cells": {
                          "fill": {
                            "color": "#EBF0F8"
                          },
                          "line": {
                            "color": "white"
                          }
                        },
                        "header": {
                          "fill": {
                            "color": "#C8D4E3"
                          },
                          "line": {
                            "color": "white"
                          }
                        },
                        "type": "table"
                      }
                    ]
                  },
                  "layout": {
                    "annotationdefaults": {
                      "arrowcolor": "#2a3f5f",
                      "arrowhead": 0,
                      "arrowwidth": 1
                    },
                    "autotypenumbers": "strict",
                    "coloraxis": {
                      "colorbar": {
                        "outlinewidth": 0,
                        "ticks": ""
                      }
                    },
                    "colorscale": {
                      "diverging": [
                        [
                          0,
                          "#8e0152"
                        ],
                        [
                          0.1,
                          "#c51b7d"
                        ],
                        [
                          0.2,
                          "#de77ae"
                        ],
                        [
                          0.3,
                          "#f1b6da"
                        ],
                        [
                          0.4,
                          "#fde0ef"
                        ],
                        [
                          0.5,
                          "#f7f7f7"
                        ],
                        [
                          0.6,
                          "#e6f5d0"
                        ],
                        [
                          0.7,
                          "#b8e186"
                        ],
                        [
                          0.8,
                          "#7fbc41"
                        ],
                        [
                          0.9,
                          "#4d9221"
                        ],
                        [
                          1,
                          "#276419"
                        ]
                      ],
                      "sequential": [
                        [
                          0,
                          "#0d0887"
                        ],
                        [
                          0.1111111111111111,
                          "#46039f"
                        ],
                        [
                          0.2222222222222222,
                          "#7201a8"
                        ],
                        [
                          0.3333333333333333,
                          "#9c179e"
                        ],
                        [
                          0.4444444444444444,
                          "#bd3786"
                        ],
                        [
                          0.5555555555555556,
                          "#d8576b"
                        ],
                        [
                          0.6666666666666666,
                          "#ed7953"
                        ],
                        [
                          0.7777777777777778,
                          "#fb9f3a"
                        ],
                        [
                          0.8888888888888888,
                          "#fdca26"
                        ],
                        [
                          1,
                          "#f0f921"
                        ]
                      ],
                      "sequentialminus": [
                        [
                          0,
                          "#0d0887"
                        ],
                        [
                          0.1111111111111111,
                          "#46039f"
                        ],
                        [
                          0.2222222222222222,
                          "#7201a8"
                        ],
                        [
                          0.3333333333333333,
                          "#9c179e"
                        ],
                        [
                          0.4444444444444444,
                          "#bd3786"
                        ],
                        [
                          0.5555555555555556,
                          "#d8576b"
                        ],
                        [
                          0.6666666666666666,
                          "#ed7953"
                        ],
                        [
                          0.7777777777777778,
                          "#fb9f3a"
                        ],
                        [
                          0.8888888888888888,
                          "#fdca26"
                        ],
                        [
                          1,
                          "#f0f921"
                        ]
                      ]
                    },
                    "colorway": [
                      "#636efa",
                      "#EF553B",
                      "#00cc96",
                      "#ab63fa",
                      "#FFA15A",
                      "#19d3f3",
                      "#FF6692",
                      "#B6E880",
                      "#FF97FF",
                      "#FECB52"
                    ],
                    "font": {
                      "color": "#2a3f5f"
                    },
                    "geo": {
                      "bgcolor": "white",
                      "lakecolor": "white",
                      "landcolor": "#E5ECF6",
                      "showlakes": true,
                      "showland": true,
                      "subunitcolor": "white"
                    },
                    "hoverlabel": {
                      "align": "left"
                    },
                    "hovermode": "closest",
                    "mapbox": {
                      "style": "light"
                    },
                    "paper_bgcolor": "white",
                    "plot_bgcolor": "#E5ECF6",
                    "polar": {
                      "angularaxis": {
                        "gridcolor": "white",
                        "linecolor": "white",
                        "ticks": ""
                      },
                      "bgcolor": "#E5ECF6",
                      "radialaxis": {
                        "gridcolor": "white",
                        "linecolor": "white",
                        "ticks": ""
                      }
                    },
                    "scene": {
                      "xaxis": {
                        "backgroundcolor": "#E5ECF6",
                        "gridcolor": "white",
                        "gridwidth": 2,
                        "linecolor": "white",
                        "showbackground": true,
                        "ticks": "",
                        "zerolinecolor": "white"
                      },
                      "yaxis": {
                        "backgroundcolor": "#E5ECF6",
                        "gridcolor": "white",
                        "gridwidth": 2,
                        "linecolor": "white",
                        "showbackground": true,
                        "ticks": "",
                        "zerolinecolor": "white"
                      },
                      "zaxis": {
                        "backgroundcolor": "#E5ECF6",
                        "gridcolor": "white",
                        "gridwidth": 2,
                        "linecolor": "white",
                        "showbackground": true,
                        "ticks": "",
                        "zerolinecolor": "white"
                      }
                    },
                    "shapedefaults": {
                      "line": {
                        "color": "#2a3f5f"
                      }
                    },
                    "ternary": {
                      "aaxis": {
                        "gridcolor": "white",
                        "linecolor": "white",
                        "ticks": ""
                      },
                      "baxis": {
                        "gridcolor": "white",
                        "linecolor": "white",
                        "ticks": ""
                      },
                      "bgcolor": "#E5ECF6",
                      "caxis": {
                        "gridcolor": "white",
                        "linecolor": "white",
                        "ticks": ""
                      }
                    },
                    "title": {
                      "x": 0.05
                    },
                    "xaxis": {
                      "automargin": true,
                      "gridcolor": "white",
                      "linecolor": "white",
                      "ticks": "",
                      "title": {
                        "standoff": 15
                      },
                      "zerolinecolor": "white",
                      "zerolinewidth": 2
                    },
                    "yaxis": {
                      "automargin": true,
                      "gridcolor": "white",
                      "linecolor": "white",
                      "ticks": "",
                      "title": {
                        "standoff": 15
                      },
                      "zerolinecolor": "white",
                      "zerolinewidth": 2
                    }
                  }
                },
                "title": {
                  "text": "Movie Directors from US with most content"
                }
              }
            }
          },
          "metadata": {},
          "output_type": "display_data"
        }
      ],
      "source": [
        "small = df[df[\"type\"] == \"Movie\"]\n",
        "small = small[small[\"country\"] == \"United States\"]\n",
        "\n",
        "col = \"director\"\n",
        "categories = \", \".join(small[col].fillna(\"\")).split(\", \")\n",
        "counter_list = Counter(categories).most_common(12)\n",
        "counter_list = [_ for _ in counter_list if _[0] != \"\"]\n",
        "labels = [_[0] for _ in counter_list][::-1]\n",
        "values = [_[1] for _ in counter_list][::-1]\n",
        "trace1 = go.Bar(y=labels, x=values, orientation=\"h\", name=\"TV Shows\")\n",
        "\n",
        "data = [trace1]\n",
        "layout = go.Layout(title=\"Movie Directors from US with most content\", legend=dict(x=0.1, y=1.1, orientation=\"h\"))\n",
        "movie_director = go.Figure(data, layout=layout)\n",
        "movie_director.show()"
      ]
    },
    {
      "cell_type": "code",
      "execution_count": null,
      "metadata": {},
      "outputs": [],
      "source": []
    }
  ],
  "metadata": {
    "colab": {
      "collapsed_sections": [],
      "name": "Netflix Project.ipynb",
      "provenance": []
    },
    "kernelspec": {
      "display_name": "Python 3.9.12 ('base')",
      "language": "python",
      "name": "python3"
    },
    "language_info": {
      "codemirror_mode": {
        "name": "ipython",
        "version": 3
      },
      "file_extension": ".py",
      "mimetype": "text/x-python",
      "name": "python",
      "nbconvert_exporter": "python",
      "pygments_lexer": "ipython3",
      "version": "3.9.12"
    },
    "vscode": {
      "interpreter": {
        "hash": "cf09db7c5a43ebc020488360be383d2a4c3a085f9fc26d5b11b1a561cf0ad7de"
      }
    }
  },
  "nbformat": 4,
  "nbformat_minor": 0
}
